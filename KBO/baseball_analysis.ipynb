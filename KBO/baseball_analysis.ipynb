{
 "cells": [
  {
   "cell_type": "code",
   "execution_count": 34,
   "metadata": {},
   "outputs": [],
   "source": [
    "import pandas as pd\n",
    "import requests\n",
    "from bs4 import BeautifulSoup as bs\n",
    "import plotly.graph_objects as go"
   ]
  },
  {
   "cell_type": "code",
   "execution_count": 27,
   "metadata": {},
   "outputs": [],
   "source": [
    "url_base = 'https://www.koreabaseball.com/Record/Player/'\n",
    "category_list = ['HitterBasic/Basic1.aspx', 'PitcherBasic/Basic1.aspx', 'Defense/Basic.aspx', 'Runner/Basic.aspx']\n",
    "data_list = []\n",
    "\n",
    "for category in category_list:\n",
    "    url = url_base + category\n",
    "    req = requests.get(url)\n",
    "    \n",
    "    html = req.text\n",
    "    soup = bs(html, 'html.parser')\n",
    "    temp_table = soup.find('div', {'class': 'record_result'})\n",
    "    \n",
    "    col_tag = temp_table.find_all('td')\n",
    "    col_list = ['Rank', 'Name', 'Team']\n",
    "    \n",
    "    for col in col_tag:\n",
    "        try:\n",
    "            temp_value = col.attrs['data-id']\n",
    "            \n",
    "            if temp_value not in col_list:\n",
    "                col_list.append(temp_value)\n",
    "            else:\n",
    "                break\n",
    "        except:\n",
    "            pass\n",
    "        \n",
    "    temp_data = pd.DataFrame(columns = col_list)\n",
    "    \n",
    "    i = 0\n",
    "    index = 0\n",
    "    col_len = len(col_list)\n",
    "    \n",
    "    while True:\n",
    "        try:\n",
    "            temp_data.loc[i] = [x.text for x in temp_table.find_all('td')[index: index + col_len]]\n",
    "            i += 1\n",
    "            index += col_len\n",
    "        except:\n",
    "            break\n",
    "            \n",
    "    data_list.append(temp_data)"
   ]
  },
  {
   "cell_type": "code",
   "execution_count": 52,
   "metadata": {},
   "outputs": [
    {
     "data": {
      "text/html": [
       "<div>\n",
       "<style scoped>\n",
       "    .dataframe tbody tr th:only-of-type {\n",
       "        vertical-align: middle;\n",
       "    }\n",
       "\n",
       "    .dataframe tbody tr th {\n",
       "        vertical-align: top;\n",
       "    }\n",
       "\n",
       "    .dataframe thead th {\n",
       "        text-align: right;\n",
       "    }\n",
       "</style>\n",
       "<table border=\"1\" class=\"dataframe\">\n",
       "  <thead>\n",
       "    <tr style=\"text-align: right;\">\n",
       "      <th></th>\n",
       "      <th>Rank</th>\n",
       "      <th>Name</th>\n",
       "      <th>Team</th>\n",
       "      <th>HRA_RT</th>\n",
       "      <th>GAME_CN</th>\n",
       "      <th>PA_CN</th>\n",
       "      <th>AB_CN</th>\n",
       "      <th>RUN_CN</th>\n",
       "      <th>HIT_CN</th>\n",
       "      <th>H2_CN</th>\n",
       "      <th>H3_CN</th>\n",
       "      <th>HR_CN</th>\n",
       "      <th>TB_CN</th>\n",
       "      <th>RBI_CN</th>\n",
       "      <th>SH_CN</th>\n",
       "      <th>SF_CN</th>\n",
       "    </tr>\n",
       "  </thead>\n",
       "  <tbody>\n",
       "    <tr>\n",
       "      <th>0</th>\n",
       "      <td>1</td>\n",
       "      <td>최형우</td>\n",
       "      <td>KIA</td>\n",
       "      <td>0.354</td>\n",
       "      <td>140</td>\n",
       "      <td>600</td>\n",
       "      <td>522</td>\n",
       "      <td>93</td>\n",
       "      <td>185</td>\n",
       "      <td>37</td>\n",
       "      <td>1</td>\n",
       "      <td>28</td>\n",
       "      <td>308</td>\n",
       "      <td>115</td>\n",
       "      <td>0</td>\n",
       "      <td>3</td>\n",
       "    </tr>\n",
       "    <tr>\n",
       "      <th>1</th>\n",
       "      <td>2</td>\n",
       "      <td>손아섭</td>\n",
       "      <td>롯데</td>\n",
       "      <td>0.352</td>\n",
       "      <td>141</td>\n",
       "      <td>611</td>\n",
       "      <td>540</td>\n",
       "      <td>98</td>\n",
       "      <td>190</td>\n",
       "      <td>43</td>\n",
       "      <td>0</td>\n",
       "      <td>11</td>\n",
       "      <td>266</td>\n",
       "      <td>85</td>\n",
       "      <td>1</td>\n",
       "      <td>7</td>\n",
       "    </tr>\n",
       "    <tr>\n",
       "      <th>2</th>\n",
       "      <td>3</td>\n",
       "      <td>로하스</td>\n",
       "      <td>KT</td>\n",
       "      <td>0.349</td>\n",
       "      <td>142</td>\n",
       "      <td>628</td>\n",
       "      <td>550</td>\n",
       "      <td>116</td>\n",
       "      <td>192</td>\n",
       "      <td>39</td>\n",
       "      <td>1</td>\n",
       "      <td>47</td>\n",
       "      <td>374</td>\n",
       "      <td>135</td>\n",
       "      <td>0</td>\n",
       "      <td>8</td>\n",
       "    </tr>\n",
       "    <tr>\n",
       "      <th>3</th>\n",
       "      <td>4</td>\n",
       "      <td>박민우</td>\n",
       "      <td>NC</td>\n",
       "      <td>0.345</td>\n",
       "      <td>126</td>\n",
       "      <td>530</td>\n",
       "      <td>467</td>\n",
       "      <td>82</td>\n",
       "      <td>161</td>\n",
       "      <td>27</td>\n",
       "      <td>5</td>\n",
       "      <td>8</td>\n",
       "      <td>222</td>\n",
       "      <td>63</td>\n",
       "      <td>2</td>\n",
       "      <td>10</td>\n",
       "    </tr>\n",
       "    <tr>\n",
       "      <th>4</th>\n",
       "      <td>5</td>\n",
       "      <td>페르난데스</td>\n",
       "      <td>두산</td>\n",
       "      <td>0.340</td>\n",
       "      <td>144</td>\n",
       "      <td>668</td>\n",
       "      <td>586</td>\n",
       "      <td>104</td>\n",
       "      <td>199</td>\n",
       "      <td>29</td>\n",
       "      <td>0</td>\n",
       "      <td>21</td>\n",
       "      <td>291</td>\n",
       "      <td>105</td>\n",
       "      <td>0</td>\n",
       "      <td>11</td>\n",
       "    </tr>\n",
       "    <tr>\n",
       "      <th>5</th>\n",
       "      <td>6</td>\n",
       "      <td>이정후</td>\n",
       "      <td>키움</td>\n",
       "      <td>0.333</td>\n",
       "      <td>140</td>\n",
       "      <td>617</td>\n",
       "      <td>544</td>\n",
       "      <td>85</td>\n",
       "      <td>181</td>\n",
       "      <td>49</td>\n",
       "      <td>5</td>\n",
       "      <td>15</td>\n",
       "      <td>285</td>\n",
       "      <td>101</td>\n",
       "      <td>2</td>\n",
       "      <td>8</td>\n",
       "    </tr>\n",
       "    <tr>\n",
       "      <th>6</th>\n",
       "      <td>7</td>\n",
       "      <td>허경민</td>\n",
       "      <td>두산</td>\n",
       "      <td>0.332</td>\n",
       "      <td>117</td>\n",
       "      <td>487</td>\n",
       "      <td>437</td>\n",
       "      <td>70</td>\n",
       "      <td>145</td>\n",
       "      <td>25</td>\n",
       "      <td>1</td>\n",
       "      <td>7</td>\n",
       "      <td>193</td>\n",
       "      <td>58</td>\n",
       "      <td>3</td>\n",
       "      <td>7</td>\n",
       "    </tr>\n",
       "    <tr>\n",
       "      <th>7</th>\n",
       "      <td>8</td>\n",
       "      <td>김현수</td>\n",
       "      <td>LG</td>\n",
       "      <td>0.331</td>\n",
       "      <td>142</td>\n",
       "      <td>619</td>\n",
       "      <td>547</td>\n",
       "      <td>98</td>\n",
       "      <td>181</td>\n",
       "      <td>35</td>\n",
       "      <td>2</td>\n",
       "      <td>22</td>\n",
       "      <td>286</td>\n",
       "      <td>119</td>\n",
       "      <td>0</td>\n",
       "      <td>7</td>\n",
       "    </tr>\n",
       "    <tr>\n",
       "      <th>8</th>\n",
       "      <td>9</td>\n",
       "      <td>강백호</td>\n",
       "      <td>KT</td>\n",
       "      <td>0.330</td>\n",
       "      <td>129</td>\n",
       "      <td>574</td>\n",
       "      <td>500</td>\n",
       "      <td>95</td>\n",
       "      <td>165</td>\n",
       "      <td>36</td>\n",
       "      <td>1</td>\n",
       "      <td>23</td>\n",
       "      <td>272</td>\n",
       "      <td>89</td>\n",
       "      <td>0</td>\n",
       "      <td>3</td>\n",
       "    </tr>\n",
       "    <tr>\n",
       "      <th>9</th>\n",
       "      <td>10</td>\n",
       "      <td>양의지</td>\n",
       "      <td>NC</td>\n",
       "      <td>0.328</td>\n",
       "      <td>130</td>\n",
       "      <td>528</td>\n",
       "      <td>461</td>\n",
       "      <td>86</td>\n",
       "      <td>151</td>\n",
       "      <td>26</td>\n",
       "      <td>1</td>\n",
       "      <td>33</td>\n",
       "      <td>278</td>\n",
       "      <td>124</td>\n",
       "      <td>1</td>\n",
       "      <td>6</td>\n",
       "    </tr>\n",
       "    <tr>\n",
       "      <th>10</th>\n",
       "      <td>11</td>\n",
       "      <td>나성범</td>\n",
       "      <td>NC</td>\n",
       "      <td>0.324</td>\n",
       "      <td>130</td>\n",
       "      <td>584</td>\n",
       "      <td>525</td>\n",
       "      <td>115</td>\n",
       "      <td>170</td>\n",
       "      <td>37</td>\n",
       "      <td>2</td>\n",
       "      <td>34</td>\n",
       "      <td>313</td>\n",
       "      <td>112</td>\n",
       "      <td>0</td>\n",
       "      <td>1</td>\n",
       "    </tr>\n",
       "    <tr>\n",
       "      <th>11</th>\n",
       "      <td>12</td>\n",
       "      <td>황재균</td>\n",
       "      <td>KT</td>\n",
       "      <td>0.312</td>\n",
       "      <td>134</td>\n",
       "      <td>600</td>\n",
       "      <td>541</td>\n",
       "      <td>108</td>\n",
       "      <td>169</td>\n",
       "      <td>35</td>\n",
       "      <td>5</td>\n",
       "      <td>21</td>\n",
       "      <td>277</td>\n",
       "      <td>97</td>\n",
       "      <td>3</td>\n",
       "      <td>4</td>\n",
       "    </tr>\n",
       "    <tr>\n",
       "      <th>12</th>\n",
       "      <td>13</td>\n",
       "      <td>김동엽</td>\n",
       "      <td>삼성</td>\n",
       "      <td>0.312</td>\n",
       "      <td>115</td>\n",
       "      <td>451</td>\n",
       "      <td>413</td>\n",
       "      <td>60</td>\n",
       "      <td>129</td>\n",
       "      <td>21</td>\n",
       "      <td>0</td>\n",
       "      <td>20</td>\n",
       "      <td>210</td>\n",
       "      <td>74</td>\n",
       "      <td>1</td>\n",
       "      <td>4</td>\n",
       "    </tr>\n",
       "    <tr>\n",
       "      <th>13</th>\n",
       "      <td>14</td>\n",
       "      <td>오재일</td>\n",
       "      <td>두산</td>\n",
       "      <td>0.312</td>\n",
       "      <td>127</td>\n",
       "      <td>534</td>\n",
       "      <td>471</td>\n",
       "      <td>62</td>\n",
       "      <td>147</td>\n",
       "      <td>32</td>\n",
       "      <td>0</td>\n",
       "      <td>16</td>\n",
       "      <td>227</td>\n",
       "      <td>89</td>\n",
       "      <td>0</td>\n",
       "      <td>2</td>\n",
       "    </tr>\n",
       "    <tr>\n",
       "      <th>14</th>\n",
       "      <td>15</td>\n",
       "      <td>구자욱</td>\n",
       "      <td>삼성</td>\n",
       "      <td>0.307</td>\n",
       "      <td>118</td>\n",
       "      <td>510</td>\n",
       "      <td>446</td>\n",
       "      <td>70</td>\n",
       "      <td>137</td>\n",
       "      <td>27</td>\n",
       "      <td>2</td>\n",
       "      <td>15</td>\n",
       "      <td>213</td>\n",
       "      <td>78</td>\n",
       "      <td>1</td>\n",
       "      <td>4</td>\n",
       "    </tr>\n",
       "    <tr>\n",
       "      <th>15</th>\n",
       "      <td>16</td>\n",
       "      <td>최주환</td>\n",
       "      <td>두산</td>\n",
       "      <td>0.306</td>\n",
       "      <td>140</td>\n",
       "      <td>574</td>\n",
       "      <td>509</td>\n",
       "      <td>63</td>\n",
       "      <td>156</td>\n",
       "      <td>29</td>\n",
       "      <td>4</td>\n",
       "      <td>16</td>\n",
       "      <td>241</td>\n",
       "      <td>88</td>\n",
       "      <td>1</td>\n",
       "      <td>10</td>\n",
       "    </tr>\n",
       "    <tr>\n",
       "      <th>16</th>\n",
       "      <td>17</td>\n",
       "      <td>터커</td>\n",
       "      <td>KIA</td>\n",
       "      <td>0.306</td>\n",
       "      <td>142</td>\n",
       "      <td>631</td>\n",
       "      <td>542</td>\n",
       "      <td>100</td>\n",
       "      <td>166</td>\n",
       "      <td>40</td>\n",
       "      <td>0</td>\n",
       "      <td>32</td>\n",
       "      <td>302</td>\n",
       "      <td>113</td>\n",
       "      <td>0</td>\n",
       "      <td>4</td>\n",
       "    </tr>\n",
       "    <tr>\n",
       "      <th>17</th>\n",
       "      <td>18</td>\n",
       "      <td>박석민</td>\n",
       "      <td>NC</td>\n",
       "      <td>0.306</td>\n",
       "      <td>123</td>\n",
       "      <td>448</td>\n",
       "      <td>356</td>\n",
       "      <td>58</td>\n",
       "      <td>109</td>\n",
       "      <td>15</td>\n",
       "      <td>0</td>\n",
       "      <td>14</td>\n",
       "      <td>166</td>\n",
       "      <td>63</td>\n",
       "      <td>2</td>\n",
       "      <td>4</td>\n",
       "    </tr>\n",
       "    <tr>\n",
       "      <th>18</th>\n",
       "      <td>19</td>\n",
       "      <td>이명기</td>\n",
       "      <td>NC</td>\n",
       "      <td>0.306</td>\n",
       "      <td>136</td>\n",
       "      <td>540</td>\n",
       "      <td>477</td>\n",
       "      <td>82</td>\n",
       "      <td>146</td>\n",
       "      <td>18</td>\n",
       "      <td>3</td>\n",
       "      <td>2</td>\n",
       "      <td>176</td>\n",
       "      <td>45</td>\n",
       "      <td>5</td>\n",
       "      <td>4</td>\n",
       "    </tr>\n",
       "    <tr>\n",
       "      <th>19</th>\n",
       "      <td>20</td>\n",
       "      <td>김하성</td>\n",
       "      <td>키움</td>\n",
       "      <td>0.306</td>\n",
       "      <td>138</td>\n",
       "      <td>622</td>\n",
       "      <td>533</td>\n",
       "      <td>111</td>\n",
       "      <td>163</td>\n",
       "      <td>24</td>\n",
       "      <td>1</td>\n",
       "      <td>30</td>\n",
       "      <td>279</td>\n",
       "      <td>109</td>\n",
       "      <td>3</td>\n",
       "      <td>3</td>\n",
       "    </tr>\n",
       "    <tr>\n",
       "      <th>20</th>\n",
       "      <td>21</td>\n",
       "      <td>김상수</td>\n",
       "      <td>삼성</td>\n",
       "      <td>0.304</td>\n",
       "      <td>120</td>\n",
       "      <td>471</td>\n",
       "      <td>404</td>\n",
       "      <td>71</td>\n",
       "      <td>123</td>\n",
       "      <td>18</td>\n",
       "      <td>3</td>\n",
       "      <td>5</td>\n",
       "      <td>162</td>\n",
       "      <td>47</td>\n",
       "      <td>2</td>\n",
       "      <td>2</td>\n",
       "    </tr>\n",
       "    <tr>\n",
       "      <th>21</th>\n",
       "      <td>22</td>\n",
       "      <td>박건우</td>\n",
       "      <td>두산</td>\n",
       "      <td>0.304</td>\n",
       "      <td>129</td>\n",
       "      <td>551</td>\n",
       "      <td>487</td>\n",
       "      <td>103</td>\n",
       "      <td>148</td>\n",
       "      <td>40</td>\n",
       "      <td>0</td>\n",
       "      <td>14</td>\n",
       "      <td>230</td>\n",
       "      <td>70</td>\n",
       "      <td>3</td>\n",
       "      <td>7</td>\n",
       "    </tr>\n",
       "    <tr>\n",
       "      <th>22</th>\n",
       "      <td>23</td>\n",
       "      <td>오지환</td>\n",
       "      <td>LG</td>\n",
       "      <td>0.300</td>\n",
       "      <td>141</td>\n",
       "      <td>591</td>\n",
       "      <td>527</td>\n",
       "      <td>95</td>\n",
       "      <td>158</td>\n",
       "      <td>41</td>\n",
       "      <td>7</td>\n",
       "      <td>10</td>\n",
       "      <td>243</td>\n",
       "      <td>71</td>\n",
       "      <td>5</td>\n",
       "      <td>5</td>\n",
       "    </tr>\n",
       "    <tr>\n",
       "      <th>23</th>\n",
       "      <td>24</td>\n",
       "      <td>정수빈</td>\n",
       "      <td>두산</td>\n",
       "      <td>0.298</td>\n",
       "      <td>141</td>\n",
       "      <td>559</td>\n",
       "      <td>490</td>\n",
       "      <td>84</td>\n",
       "      <td>146</td>\n",
       "      <td>17</td>\n",
       "      <td>8</td>\n",
       "      <td>5</td>\n",
       "      <td>194</td>\n",
       "      <td>59</td>\n",
       "      <td>7</td>\n",
       "      <td>5</td>\n",
       "    </tr>\n",
       "    <tr>\n",
       "      <th>24</th>\n",
       "      <td>25</td>\n",
       "      <td>조용호</td>\n",
       "      <td>KT</td>\n",
       "      <td>0.296</td>\n",
       "      <td>132</td>\n",
       "      <td>482</td>\n",
       "      <td>409</td>\n",
       "      <td>73</td>\n",
       "      <td>121</td>\n",
       "      <td>15</td>\n",
       "      <td>0</td>\n",
       "      <td>0</td>\n",
       "      <td>136</td>\n",
       "      <td>32</td>\n",
       "      <td>5</td>\n",
       "      <td>2</td>\n",
       "    </tr>\n",
       "    <tr>\n",
       "      <th>25</th>\n",
       "      <td>26</td>\n",
       "      <td>정훈</td>\n",
       "      <td>롯데</td>\n",
       "      <td>0.295</td>\n",
       "      <td>111</td>\n",
       "      <td>476</td>\n",
       "      <td>410</td>\n",
       "      <td>72</td>\n",
       "      <td>121</td>\n",
       "      <td>19</td>\n",
       "      <td>1</td>\n",
       "      <td>11</td>\n",
       "      <td>175</td>\n",
       "      <td>58</td>\n",
       "      <td>2</td>\n",
       "      <td>4</td>\n",
       "    </tr>\n",
       "    <tr>\n",
       "      <th>26</th>\n",
       "      <td>27</td>\n",
       "      <td>채은성</td>\n",
       "      <td>LG</td>\n",
       "      <td>0.293</td>\n",
       "      <td>109</td>\n",
       "      <td>464</td>\n",
       "      <td>416</td>\n",
       "      <td>59</td>\n",
       "      <td>122</td>\n",
       "      <td>17</td>\n",
       "      <td>2</td>\n",
       "      <td>15</td>\n",
       "      <td>188</td>\n",
       "      <td>88</td>\n",
       "      <td>0</td>\n",
       "      <td>7</td>\n",
       "    </tr>\n",
       "    <tr>\n",
       "      <th>27</th>\n",
       "      <td>28</td>\n",
       "      <td>이대호</td>\n",
       "      <td>롯데</td>\n",
       "      <td>0.292</td>\n",
       "      <td>144</td>\n",
       "      <td>611</td>\n",
       "      <td>542</td>\n",
       "      <td>67</td>\n",
       "      <td>158</td>\n",
       "      <td>27</td>\n",
       "      <td>0</td>\n",
       "      <td>20</td>\n",
       "      <td>245</td>\n",
       "      <td>110</td>\n",
       "      <td>0</td>\n",
       "      <td>11</td>\n",
       "    </tr>\n",
       "    <tr>\n",
       "      <th>28</th>\n",
       "      <td>29</td>\n",
       "      <td>나지완</td>\n",
       "      <td>KIA</td>\n",
       "      <td>0.291</td>\n",
       "      <td>137</td>\n",
       "      <td>556</td>\n",
       "      <td>468</td>\n",
       "      <td>73</td>\n",
       "      <td>136</td>\n",
       "      <td>19</td>\n",
       "      <td>1</td>\n",
       "      <td>17</td>\n",
       "      <td>208</td>\n",
       "      <td>92</td>\n",
       "      <td>0</td>\n",
       "      <td>6</td>\n",
       "    </tr>\n",
       "    <tr>\n",
       "      <th>29</th>\n",
       "      <td>30</td>\n",
       "      <td>박해민</td>\n",
       "      <td>삼성</td>\n",
       "      <td>0.290</td>\n",
       "      <td>132</td>\n",
       "      <td>541</td>\n",
       "      <td>489</td>\n",
       "      <td>84</td>\n",
       "      <td>142</td>\n",
       "      <td>18</td>\n",
       "      <td>5</td>\n",
       "      <td>11</td>\n",
       "      <td>203</td>\n",
       "      <td>55</td>\n",
       "      <td>7</td>\n",
       "      <td>3</td>\n",
       "    </tr>\n",
       "  </tbody>\n",
       "</table>\n",
       "</div>"
      ],
      "text/plain": [
       "   Rank   Name Team HRA_RT GAME_CN PA_CN AB_CN RUN_CN HIT_CN H2_CN H3_CN  \\\n",
       "0     1    최형우  KIA  0.354     140   600   522     93    185    37     1   \n",
       "1     2    손아섭   롯데  0.352     141   611   540     98    190    43     0   \n",
       "2     3    로하스   KT  0.349     142   628   550    116    192    39     1   \n",
       "3     4    박민우   NC  0.345     126   530   467     82    161    27     5   \n",
       "4     5  페르난데스   두산  0.340     144   668   586    104    199    29     0   \n",
       "5     6    이정후   키움  0.333     140   617   544     85    181    49     5   \n",
       "6     7    허경민   두산  0.332     117   487   437     70    145    25     1   \n",
       "7     8    김현수   LG  0.331     142   619   547     98    181    35     2   \n",
       "8     9    강백호   KT  0.330     129   574   500     95    165    36     1   \n",
       "9    10    양의지   NC  0.328     130   528   461     86    151    26     1   \n",
       "10   11    나성범   NC  0.324     130   584   525    115    170    37     2   \n",
       "11   12    황재균   KT  0.312     134   600   541    108    169    35     5   \n",
       "12   13    김동엽   삼성  0.312     115   451   413     60    129    21     0   \n",
       "13   14    오재일   두산  0.312     127   534   471     62    147    32     0   \n",
       "14   15    구자욱   삼성  0.307     118   510   446     70    137    27     2   \n",
       "15   16    최주환   두산  0.306     140   574   509     63    156    29     4   \n",
       "16   17     터커  KIA  0.306     142   631   542    100    166    40     0   \n",
       "17   18    박석민   NC  0.306     123   448   356     58    109    15     0   \n",
       "18   19    이명기   NC  0.306     136   540   477     82    146    18     3   \n",
       "19   20    김하성   키움  0.306     138   622   533    111    163    24     1   \n",
       "20   21    김상수   삼성  0.304     120   471   404     71    123    18     3   \n",
       "21   22    박건우   두산  0.304     129   551   487    103    148    40     0   \n",
       "22   23    오지환   LG  0.300     141   591   527     95    158    41     7   \n",
       "23   24    정수빈   두산  0.298     141   559   490     84    146    17     8   \n",
       "24   25    조용호   KT  0.296     132   482   409     73    121    15     0   \n",
       "25   26     정훈   롯데  0.295     111   476   410     72    121    19     1   \n",
       "26   27    채은성   LG  0.293     109   464   416     59    122    17     2   \n",
       "27   28    이대호   롯데  0.292     144   611   542     67    158    27     0   \n",
       "28   29    나지완  KIA  0.291     137   556   468     73    136    19     1   \n",
       "29   30    박해민   삼성  0.290     132   541   489     84    142    18     5   \n",
       "\n",
       "   HR_CN TB_CN RBI_CN SH_CN SF_CN  \n",
       "0     28   308    115     0     3  \n",
       "1     11   266     85     1     7  \n",
       "2     47   374    135     0     8  \n",
       "3      8   222     63     2    10  \n",
       "4     21   291    105     0    11  \n",
       "5     15   285    101     2     8  \n",
       "6      7   193     58     3     7  \n",
       "7     22   286    119     0     7  \n",
       "8     23   272     89     0     3  \n",
       "9     33   278    124     1     6  \n",
       "10    34   313    112     0     1  \n",
       "11    21   277     97     3     4  \n",
       "12    20   210     74     1     4  \n",
       "13    16   227     89     0     2  \n",
       "14    15   213     78     1     4  \n",
       "15    16   241     88     1    10  \n",
       "16    32   302    113     0     4  \n",
       "17    14   166     63     2     4  \n",
       "18     2   176     45     5     4  \n",
       "19    30   279    109     3     3  \n",
       "20     5   162     47     2     2  \n",
       "21    14   230     70     3     7  \n",
       "22    10   243     71     5     5  \n",
       "23     5   194     59     7     5  \n",
       "24     0   136     32     5     2  \n",
       "25    11   175     58     2     4  \n",
       "26    15   188     88     0     7  \n",
       "27    20   245    110     0    11  \n",
       "28    17   208     92     0     6  \n",
       "29    11   203     55     7     3  "
      ]
     },
     "execution_count": 52,
     "metadata": {},
     "output_type": "execute_result"
    }
   ],
   "source": [
    "hitter_df = data_list[0]\n",
    "hitter_df"
   ]
  },
  {
   "cell_type": "code",
   "execution_count": 53,
   "metadata": {},
   "outputs": [
    {
     "name": "stdout",
     "output_type": "stream",
     "text": [
      "평균 타율:  0.3151333333333334\n"
     ]
    },
    {
     "data": {
      "application/vnd.plotly.v1+json": {
       "config": {
        "plotlyServerURL": "https://plot.ly"
       },
       "data": [
        {
         "type": "bar",
         "x": [
          "1",
          "2",
          "3",
          "4",
          "5",
          "6",
          "7",
          "8",
          "9",
          "10",
          "11",
          "12",
          "13",
          "14",
          "15",
          "16"
         ],
         "y": [
          0.354,
          0.352,
          0.349,
          0.345,
          0.34,
          0.333,
          0.332,
          0.331,
          0.33,
          0.328,
          0.324,
          0.312,
          0.312,
          0.312,
          0.307,
          0.306
         ]
        }
       ],
       "layout": {
        "shapes": [
         {
          "type": "line",
          "x0": 0,
          "x1": 1,
          "xref": "x domain",
          "y0": 0.3151333333333334,
          "y1": 0.3151333333333334,
          "yref": "y"
         }
        ],
        "template": {
         "data": {
          "bar": [
           {
            "error_x": {
             "color": "#2a3f5f"
            },
            "error_y": {
             "color": "#2a3f5f"
            },
            "marker": {
             "line": {
              "color": "#E5ECF6",
              "width": 0.5
             }
            },
            "type": "bar"
           }
          ],
          "barpolar": [
           {
            "marker": {
             "line": {
              "color": "#E5ECF6",
              "width": 0.5
             }
            },
            "type": "barpolar"
           }
          ],
          "carpet": [
           {
            "aaxis": {
             "endlinecolor": "#2a3f5f",
             "gridcolor": "white",
             "linecolor": "white",
             "minorgridcolor": "white",
             "startlinecolor": "#2a3f5f"
            },
            "baxis": {
             "endlinecolor": "#2a3f5f",
             "gridcolor": "white",
             "linecolor": "white",
             "minorgridcolor": "white",
             "startlinecolor": "#2a3f5f"
            },
            "type": "carpet"
           }
          ],
          "choropleth": [
           {
            "colorbar": {
             "outlinewidth": 0,
             "ticks": ""
            },
            "type": "choropleth"
           }
          ],
          "contour": [
           {
            "colorbar": {
             "outlinewidth": 0,
             "ticks": ""
            },
            "colorscale": [
             [
              0,
              "#0d0887"
             ],
             [
              0.1111111111111111,
              "#46039f"
             ],
             [
              0.2222222222222222,
              "#7201a8"
             ],
             [
              0.3333333333333333,
              "#9c179e"
             ],
             [
              0.4444444444444444,
              "#bd3786"
             ],
             [
              0.5555555555555556,
              "#d8576b"
             ],
             [
              0.6666666666666666,
              "#ed7953"
             ],
             [
              0.7777777777777778,
              "#fb9f3a"
             ],
             [
              0.8888888888888888,
              "#fdca26"
             ],
             [
              1,
              "#f0f921"
             ]
            ],
            "type": "contour"
           }
          ],
          "contourcarpet": [
           {
            "colorbar": {
             "outlinewidth": 0,
             "ticks": ""
            },
            "type": "contourcarpet"
           }
          ],
          "heatmap": [
           {
            "colorbar": {
             "outlinewidth": 0,
             "ticks": ""
            },
            "colorscale": [
             [
              0,
              "#0d0887"
             ],
             [
              0.1111111111111111,
              "#46039f"
             ],
             [
              0.2222222222222222,
              "#7201a8"
             ],
             [
              0.3333333333333333,
              "#9c179e"
             ],
             [
              0.4444444444444444,
              "#bd3786"
             ],
             [
              0.5555555555555556,
              "#d8576b"
             ],
             [
              0.6666666666666666,
              "#ed7953"
             ],
             [
              0.7777777777777778,
              "#fb9f3a"
             ],
             [
              0.8888888888888888,
              "#fdca26"
             ],
             [
              1,
              "#f0f921"
             ]
            ],
            "type": "heatmap"
           }
          ],
          "heatmapgl": [
           {
            "colorbar": {
             "outlinewidth": 0,
             "ticks": ""
            },
            "colorscale": [
             [
              0,
              "#0d0887"
             ],
             [
              0.1111111111111111,
              "#46039f"
             ],
             [
              0.2222222222222222,
              "#7201a8"
             ],
             [
              0.3333333333333333,
              "#9c179e"
             ],
             [
              0.4444444444444444,
              "#bd3786"
             ],
             [
              0.5555555555555556,
              "#d8576b"
             ],
             [
              0.6666666666666666,
              "#ed7953"
             ],
             [
              0.7777777777777778,
              "#fb9f3a"
             ],
             [
              0.8888888888888888,
              "#fdca26"
             ],
             [
              1,
              "#f0f921"
             ]
            ],
            "type": "heatmapgl"
           }
          ],
          "histogram": [
           {
            "marker": {
             "colorbar": {
              "outlinewidth": 0,
              "ticks": ""
             }
            },
            "type": "histogram"
           }
          ],
          "histogram2d": [
           {
            "colorbar": {
             "outlinewidth": 0,
             "ticks": ""
            },
            "colorscale": [
             [
              0,
              "#0d0887"
             ],
             [
              0.1111111111111111,
              "#46039f"
             ],
             [
              0.2222222222222222,
              "#7201a8"
             ],
             [
              0.3333333333333333,
              "#9c179e"
             ],
             [
              0.4444444444444444,
              "#bd3786"
             ],
             [
              0.5555555555555556,
              "#d8576b"
             ],
             [
              0.6666666666666666,
              "#ed7953"
             ],
             [
              0.7777777777777778,
              "#fb9f3a"
             ],
             [
              0.8888888888888888,
              "#fdca26"
             ],
             [
              1,
              "#f0f921"
             ]
            ],
            "type": "histogram2d"
           }
          ],
          "histogram2dcontour": [
           {
            "colorbar": {
             "outlinewidth": 0,
             "ticks": ""
            },
            "colorscale": [
             [
              0,
              "#0d0887"
             ],
             [
              0.1111111111111111,
              "#46039f"
             ],
             [
              0.2222222222222222,
              "#7201a8"
             ],
             [
              0.3333333333333333,
              "#9c179e"
             ],
             [
              0.4444444444444444,
              "#bd3786"
             ],
             [
              0.5555555555555556,
              "#d8576b"
             ],
             [
              0.6666666666666666,
              "#ed7953"
             ],
             [
              0.7777777777777778,
              "#fb9f3a"
             ],
             [
              0.8888888888888888,
              "#fdca26"
             ],
             [
              1,
              "#f0f921"
             ]
            ],
            "type": "histogram2dcontour"
           }
          ],
          "mesh3d": [
           {
            "colorbar": {
             "outlinewidth": 0,
             "ticks": ""
            },
            "type": "mesh3d"
           }
          ],
          "parcoords": [
           {
            "line": {
             "colorbar": {
              "outlinewidth": 0,
              "ticks": ""
             }
            },
            "type": "parcoords"
           }
          ],
          "pie": [
           {
            "automargin": true,
            "type": "pie"
           }
          ],
          "scatter": [
           {
            "marker": {
             "colorbar": {
              "outlinewidth": 0,
              "ticks": ""
             }
            },
            "type": "scatter"
           }
          ],
          "scatter3d": [
           {
            "line": {
             "colorbar": {
              "outlinewidth": 0,
              "ticks": ""
             }
            },
            "marker": {
             "colorbar": {
              "outlinewidth": 0,
              "ticks": ""
             }
            },
            "type": "scatter3d"
           }
          ],
          "scattercarpet": [
           {
            "marker": {
             "colorbar": {
              "outlinewidth": 0,
              "ticks": ""
             }
            },
            "type": "scattercarpet"
           }
          ],
          "scattergeo": [
           {
            "marker": {
             "colorbar": {
              "outlinewidth": 0,
              "ticks": ""
             }
            },
            "type": "scattergeo"
           }
          ],
          "scattergl": [
           {
            "marker": {
             "colorbar": {
              "outlinewidth": 0,
              "ticks": ""
             }
            },
            "type": "scattergl"
           }
          ],
          "scattermapbox": [
           {
            "marker": {
             "colorbar": {
              "outlinewidth": 0,
              "ticks": ""
             }
            },
            "type": "scattermapbox"
           }
          ],
          "scatterpolar": [
           {
            "marker": {
             "colorbar": {
              "outlinewidth": 0,
              "ticks": ""
             }
            },
            "type": "scatterpolar"
           }
          ],
          "scatterpolargl": [
           {
            "marker": {
             "colorbar": {
              "outlinewidth": 0,
              "ticks": ""
             }
            },
            "type": "scatterpolargl"
           }
          ],
          "scatterternary": [
           {
            "marker": {
             "colorbar": {
              "outlinewidth": 0,
              "ticks": ""
             }
            },
            "type": "scatterternary"
           }
          ],
          "surface": [
           {
            "colorbar": {
             "outlinewidth": 0,
             "ticks": ""
            },
            "colorscale": [
             [
              0,
              "#0d0887"
             ],
             [
              0.1111111111111111,
              "#46039f"
             ],
             [
              0.2222222222222222,
              "#7201a8"
             ],
             [
              0.3333333333333333,
              "#9c179e"
             ],
             [
              0.4444444444444444,
              "#bd3786"
             ],
             [
              0.5555555555555556,
              "#d8576b"
             ],
             [
              0.6666666666666666,
              "#ed7953"
             ],
             [
              0.7777777777777778,
              "#fb9f3a"
             ],
             [
              0.8888888888888888,
              "#fdca26"
             ],
             [
              1,
              "#f0f921"
             ]
            ],
            "type": "surface"
           }
          ],
          "table": [
           {
            "cells": {
             "fill": {
              "color": "#EBF0F8"
             },
             "line": {
              "color": "white"
             }
            },
            "header": {
             "fill": {
              "color": "#C8D4E3"
             },
             "line": {
              "color": "white"
             }
            },
            "type": "table"
           }
          ]
         },
         "layout": {
          "annotationdefaults": {
           "arrowcolor": "#2a3f5f",
           "arrowhead": 0,
           "arrowwidth": 1
          },
          "autotypenumbers": "strict",
          "coloraxis": {
           "colorbar": {
            "outlinewidth": 0,
            "ticks": ""
           }
          },
          "colorscale": {
           "diverging": [
            [
             0,
             "#8e0152"
            ],
            [
             0.1,
             "#c51b7d"
            ],
            [
             0.2,
             "#de77ae"
            ],
            [
             0.3,
             "#f1b6da"
            ],
            [
             0.4,
             "#fde0ef"
            ],
            [
             0.5,
             "#f7f7f7"
            ],
            [
             0.6,
             "#e6f5d0"
            ],
            [
             0.7,
             "#b8e186"
            ],
            [
             0.8,
             "#7fbc41"
            ],
            [
             0.9,
             "#4d9221"
            ],
            [
             1,
             "#276419"
            ]
           ],
           "sequential": [
            [
             0,
             "#0d0887"
            ],
            [
             0.1111111111111111,
             "#46039f"
            ],
            [
             0.2222222222222222,
             "#7201a8"
            ],
            [
             0.3333333333333333,
             "#9c179e"
            ],
            [
             0.4444444444444444,
             "#bd3786"
            ],
            [
             0.5555555555555556,
             "#d8576b"
            ],
            [
             0.6666666666666666,
             "#ed7953"
            ],
            [
             0.7777777777777778,
             "#fb9f3a"
            ],
            [
             0.8888888888888888,
             "#fdca26"
            ],
            [
             1,
             "#f0f921"
            ]
           ],
           "sequentialminus": [
            [
             0,
             "#0d0887"
            ],
            [
             0.1111111111111111,
             "#46039f"
            ],
            [
             0.2222222222222222,
             "#7201a8"
            ],
            [
             0.3333333333333333,
             "#9c179e"
            ],
            [
             0.4444444444444444,
             "#bd3786"
            ],
            [
             0.5555555555555556,
             "#d8576b"
            ],
            [
             0.6666666666666666,
             "#ed7953"
            ],
            [
             0.7777777777777778,
             "#fb9f3a"
            ],
            [
             0.8888888888888888,
             "#fdca26"
            ],
            [
             1,
             "#f0f921"
            ]
           ]
          },
          "colorway": [
           "#636efa",
           "#EF553B",
           "#00cc96",
           "#ab63fa",
           "#FFA15A",
           "#19d3f3",
           "#FF6692",
           "#B6E880",
           "#FF97FF",
           "#FECB52"
          ],
          "font": {
           "color": "#2a3f5f"
          },
          "geo": {
           "bgcolor": "white",
           "lakecolor": "white",
           "landcolor": "#E5ECF6",
           "showlakes": true,
           "showland": true,
           "subunitcolor": "white"
          },
          "hoverlabel": {
           "align": "left"
          },
          "hovermode": "closest",
          "mapbox": {
           "style": "light"
          },
          "paper_bgcolor": "white",
          "plot_bgcolor": "#E5ECF6",
          "polar": {
           "angularaxis": {
            "gridcolor": "white",
            "linecolor": "white",
            "ticks": ""
           },
           "bgcolor": "#E5ECF6",
           "radialaxis": {
            "gridcolor": "white",
            "linecolor": "white",
            "ticks": ""
           }
          },
          "scene": {
           "xaxis": {
            "backgroundcolor": "#E5ECF6",
            "gridcolor": "white",
            "gridwidth": 2,
            "linecolor": "white",
            "showbackground": true,
            "ticks": "",
            "zerolinecolor": "white"
           },
           "yaxis": {
            "backgroundcolor": "#E5ECF6",
            "gridcolor": "white",
            "gridwidth": 2,
            "linecolor": "white",
            "showbackground": true,
            "ticks": "",
            "zerolinecolor": "white"
           },
           "zaxis": {
            "backgroundcolor": "#E5ECF6",
            "gridcolor": "white",
            "gridwidth": 2,
            "linecolor": "white",
            "showbackground": true,
            "ticks": "",
            "zerolinecolor": "white"
           }
          },
          "shapedefaults": {
           "line": {
            "color": "#2a3f5f"
           }
          },
          "ternary": {
           "aaxis": {
            "gridcolor": "white",
            "linecolor": "white",
            "ticks": ""
           },
           "baxis": {
            "gridcolor": "white",
            "linecolor": "white",
            "ticks": ""
           },
           "bgcolor": "#E5ECF6",
           "caxis": {
            "gridcolor": "white",
            "linecolor": "white",
            "ticks": ""
           }
          },
          "title": {
           "x": 0.05
          },
          "xaxis": {
           "automargin": true,
           "gridcolor": "white",
           "linecolor": "white",
           "ticks": "",
           "title": {
            "standoff": 15
           },
           "zerolinecolor": "white",
           "zerolinewidth": 2
          },
          "yaxis": {
           "automargin": true,
           "gridcolor": "white",
           "linecolor": "white",
           "ticks": "",
           "title": {
            "standoff": 15
           },
           "zerolinecolor": "white",
           "zerolinewidth": 2
          }
         }
        }
       }
      },
      "text/html": [
       "<div>                            <div id=\"0fc2d167-cd74-4375-ae4f-237c497dc9a5\" class=\"plotly-graph-div\" style=\"height:525px; width:100%;\"></div>            <script type=\"text/javascript\">                require([\"plotly\"], function(Plotly) {                    window.PLOTLYENV=window.PLOTLYENV || {};                                    if (document.getElementById(\"0fc2d167-cd74-4375-ae4f-237c497dc9a5\")) {                    Plotly.newPlot(                        \"0fc2d167-cd74-4375-ae4f-237c497dc9a5\",                        [{\"type\": \"bar\", \"x\": [\"1\", \"2\", \"3\", \"4\", \"5\", \"6\", \"7\", \"8\", \"9\", \"10\", \"11\", \"12\", \"13\", \"14\", \"15\", \"16\"], \"y\": [0.354, 0.352, 0.349, 0.345, 0.34, 0.333, 0.332, 0.331, 0.33, 0.328, 0.324, 0.312, 0.312, 0.312, 0.307, 0.306]}],                        {\"shapes\": [{\"type\": \"line\", \"x0\": 0, \"x1\": 1, \"xref\": \"x domain\", \"y0\": 0.3151333333333334, \"y1\": 0.3151333333333334, \"yref\": \"y\"}], \"template\": {\"data\": {\"bar\": [{\"error_x\": {\"color\": \"#2a3f5f\"}, \"error_y\": {\"color\": \"#2a3f5f\"}, \"marker\": {\"line\": {\"color\": \"#E5ECF6\", \"width\": 0.5}}, \"type\": \"bar\"}], \"barpolar\": [{\"marker\": {\"line\": {\"color\": \"#E5ECF6\", \"width\": 0.5}}, \"type\": \"barpolar\"}], \"carpet\": [{\"aaxis\": {\"endlinecolor\": \"#2a3f5f\", \"gridcolor\": \"white\", \"linecolor\": \"white\", \"minorgridcolor\": \"white\", \"startlinecolor\": \"#2a3f5f\"}, \"baxis\": {\"endlinecolor\": \"#2a3f5f\", \"gridcolor\": \"white\", \"linecolor\": \"white\", \"minorgridcolor\": \"white\", \"startlinecolor\": \"#2a3f5f\"}, \"type\": \"carpet\"}], \"choropleth\": [{\"colorbar\": {\"outlinewidth\": 0, \"ticks\": \"\"}, \"type\": \"choropleth\"}], \"contour\": [{\"colorbar\": {\"outlinewidth\": 0, \"ticks\": \"\"}, \"colorscale\": [[0.0, \"#0d0887\"], [0.1111111111111111, \"#46039f\"], [0.2222222222222222, \"#7201a8\"], [0.3333333333333333, \"#9c179e\"], [0.4444444444444444, \"#bd3786\"], [0.5555555555555556, \"#d8576b\"], [0.6666666666666666, \"#ed7953\"], [0.7777777777777778, \"#fb9f3a\"], [0.8888888888888888, \"#fdca26\"], [1.0, \"#f0f921\"]], \"type\": \"contour\"}], \"contourcarpet\": [{\"colorbar\": {\"outlinewidth\": 0, \"ticks\": \"\"}, \"type\": \"contourcarpet\"}], \"heatmap\": [{\"colorbar\": {\"outlinewidth\": 0, \"ticks\": \"\"}, \"colorscale\": [[0.0, \"#0d0887\"], [0.1111111111111111, \"#46039f\"], [0.2222222222222222, \"#7201a8\"], [0.3333333333333333, \"#9c179e\"], [0.4444444444444444, \"#bd3786\"], [0.5555555555555556, \"#d8576b\"], [0.6666666666666666, \"#ed7953\"], [0.7777777777777778, \"#fb9f3a\"], [0.8888888888888888, \"#fdca26\"], [1.0, \"#f0f921\"]], \"type\": \"heatmap\"}], \"heatmapgl\": [{\"colorbar\": {\"outlinewidth\": 0, \"ticks\": \"\"}, \"colorscale\": [[0.0, \"#0d0887\"], [0.1111111111111111, \"#46039f\"], [0.2222222222222222, \"#7201a8\"], [0.3333333333333333, \"#9c179e\"], [0.4444444444444444, \"#bd3786\"], [0.5555555555555556, \"#d8576b\"], [0.6666666666666666, \"#ed7953\"], [0.7777777777777778, \"#fb9f3a\"], [0.8888888888888888, \"#fdca26\"], [1.0, \"#f0f921\"]], \"type\": \"heatmapgl\"}], \"histogram\": [{\"marker\": {\"colorbar\": {\"outlinewidth\": 0, \"ticks\": \"\"}}, \"type\": \"histogram\"}], \"histogram2d\": [{\"colorbar\": {\"outlinewidth\": 0, \"ticks\": \"\"}, \"colorscale\": [[0.0, \"#0d0887\"], [0.1111111111111111, \"#46039f\"], [0.2222222222222222, \"#7201a8\"], [0.3333333333333333, \"#9c179e\"], [0.4444444444444444, \"#bd3786\"], [0.5555555555555556, \"#d8576b\"], [0.6666666666666666, \"#ed7953\"], [0.7777777777777778, \"#fb9f3a\"], [0.8888888888888888, \"#fdca26\"], [1.0, \"#f0f921\"]], \"type\": \"histogram2d\"}], \"histogram2dcontour\": [{\"colorbar\": {\"outlinewidth\": 0, \"ticks\": \"\"}, \"colorscale\": [[0.0, \"#0d0887\"], [0.1111111111111111, \"#46039f\"], [0.2222222222222222, \"#7201a8\"], [0.3333333333333333, \"#9c179e\"], [0.4444444444444444, \"#bd3786\"], [0.5555555555555556, \"#d8576b\"], [0.6666666666666666, \"#ed7953\"], [0.7777777777777778, \"#fb9f3a\"], [0.8888888888888888, \"#fdca26\"], [1.0, \"#f0f921\"]], \"type\": \"histogram2dcontour\"}], \"mesh3d\": [{\"colorbar\": {\"outlinewidth\": 0, \"ticks\": \"\"}, \"type\": \"mesh3d\"}], \"parcoords\": [{\"line\": {\"colorbar\": {\"outlinewidth\": 0, \"ticks\": \"\"}}, \"type\": \"parcoords\"}], \"pie\": [{\"automargin\": true, \"type\": \"pie\"}], \"scatter\": [{\"marker\": {\"colorbar\": {\"outlinewidth\": 0, \"ticks\": \"\"}}, \"type\": \"scatter\"}], \"scatter3d\": [{\"line\": {\"colorbar\": {\"outlinewidth\": 0, \"ticks\": \"\"}}, \"marker\": {\"colorbar\": {\"outlinewidth\": 0, \"ticks\": \"\"}}, \"type\": \"scatter3d\"}], \"scattercarpet\": [{\"marker\": {\"colorbar\": {\"outlinewidth\": 0, \"ticks\": \"\"}}, \"type\": \"scattercarpet\"}], \"scattergeo\": [{\"marker\": {\"colorbar\": {\"outlinewidth\": 0, \"ticks\": \"\"}}, \"type\": \"scattergeo\"}], \"scattergl\": [{\"marker\": {\"colorbar\": {\"outlinewidth\": 0, \"ticks\": \"\"}}, \"type\": \"scattergl\"}], \"scattermapbox\": [{\"marker\": {\"colorbar\": {\"outlinewidth\": 0, \"ticks\": \"\"}}, \"type\": \"scattermapbox\"}], \"scatterpolar\": [{\"marker\": {\"colorbar\": {\"outlinewidth\": 0, \"ticks\": \"\"}}, \"type\": \"scatterpolar\"}], \"scatterpolargl\": [{\"marker\": {\"colorbar\": {\"outlinewidth\": 0, \"ticks\": \"\"}}, \"type\": \"scatterpolargl\"}], \"scatterternary\": [{\"marker\": {\"colorbar\": {\"outlinewidth\": 0, \"ticks\": \"\"}}, \"type\": \"scatterternary\"}], \"surface\": [{\"colorbar\": {\"outlinewidth\": 0, \"ticks\": \"\"}, \"colorscale\": [[0.0, \"#0d0887\"], [0.1111111111111111, \"#46039f\"], [0.2222222222222222, \"#7201a8\"], [0.3333333333333333, \"#9c179e\"], [0.4444444444444444, \"#bd3786\"], [0.5555555555555556, \"#d8576b\"], [0.6666666666666666, \"#ed7953\"], [0.7777777777777778, \"#fb9f3a\"], [0.8888888888888888, \"#fdca26\"], [1.0, \"#f0f921\"]], \"type\": \"surface\"}], \"table\": [{\"cells\": {\"fill\": {\"color\": \"#EBF0F8\"}, \"line\": {\"color\": \"white\"}}, \"header\": {\"fill\": {\"color\": \"#C8D4E3\"}, \"line\": {\"color\": \"white\"}}, \"type\": \"table\"}]}, \"layout\": {\"annotationdefaults\": {\"arrowcolor\": \"#2a3f5f\", \"arrowhead\": 0, \"arrowwidth\": 1}, \"autotypenumbers\": \"strict\", \"coloraxis\": {\"colorbar\": {\"outlinewidth\": 0, \"ticks\": \"\"}}, \"colorscale\": {\"diverging\": [[0, \"#8e0152\"], [0.1, \"#c51b7d\"], [0.2, \"#de77ae\"], [0.3, \"#f1b6da\"], [0.4, \"#fde0ef\"], [0.5, \"#f7f7f7\"], [0.6, \"#e6f5d0\"], [0.7, \"#b8e186\"], [0.8, \"#7fbc41\"], [0.9, \"#4d9221\"], [1, \"#276419\"]], \"sequential\": [[0.0, \"#0d0887\"], [0.1111111111111111, \"#46039f\"], [0.2222222222222222, \"#7201a8\"], [0.3333333333333333, \"#9c179e\"], [0.4444444444444444, \"#bd3786\"], [0.5555555555555556, \"#d8576b\"], [0.6666666666666666, \"#ed7953\"], [0.7777777777777778, \"#fb9f3a\"], [0.8888888888888888, \"#fdca26\"], [1.0, \"#f0f921\"]], \"sequentialminus\": [[0.0, \"#0d0887\"], [0.1111111111111111, \"#46039f\"], [0.2222222222222222, \"#7201a8\"], [0.3333333333333333, \"#9c179e\"], [0.4444444444444444, \"#bd3786\"], [0.5555555555555556, \"#d8576b\"], [0.6666666666666666, \"#ed7953\"], [0.7777777777777778, \"#fb9f3a\"], [0.8888888888888888, \"#fdca26\"], [1.0, \"#f0f921\"]]}, \"colorway\": [\"#636efa\", \"#EF553B\", \"#00cc96\", \"#ab63fa\", \"#FFA15A\", \"#19d3f3\", \"#FF6692\", \"#B6E880\", \"#FF97FF\", \"#FECB52\"], \"font\": {\"color\": \"#2a3f5f\"}, \"geo\": {\"bgcolor\": \"white\", \"lakecolor\": \"white\", \"landcolor\": \"#E5ECF6\", \"showlakes\": true, \"showland\": true, \"subunitcolor\": \"white\"}, \"hoverlabel\": {\"align\": \"left\"}, \"hovermode\": \"closest\", \"mapbox\": {\"style\": \"light\"}, \"paper_bgcolor\": \"white\", \"plot_bgcolor\": \"#E5ECF6\", \"polar\": {\"angularaxis\": {\"gridcolor\": \"white\", \"linecolor\": \"white\", \"ticks\": \"\"}, \"bgcolor\": \"#E5ECF6\", \"radialaxis\": {\"gridcolor\": \"white\", \"linecolor\": \"white\", \"ticks\": \"\"}}, \"scene\": {\"xaxis\": {\"backgroundcolor\": \"#E5ECF6\", \"gridcolor\": \"white\", \"gridwidth\": 2, \"linecolor\": \"white\", \"showbackground\": true, \"ticks\": \"\", \"zerolinecolor\": \"white\"}, \"yaxis\": {\"backgroundcolor\": \"#E5ECF6\", \"gridcolor\": \"white\", \"gridwidth\": 2, \"linecolor\": \"white\", \"showbackground\": true, \"ticks\": \"\", \"zerolinecolor\": \"white\"}, \"zaxis\": {\"backgroundcolor\": \"#E5ECF6\", \"gridcolor\": \"white\", \"gridwidth\": 2, \"linecolor\": \"white\", \"showbackground\": true, \"ticks\": \"\", \"zerolinecolor\": \"white\"}}, \"shapedefaults\": {\"line\": {\"color\": \"#2a3f5f\"}}, \"ternary\": {\"aaxis\": {\"gridcolor\": \"white\", \"linecolor\": \"white\", \"ticks\": \"\"}, \"baxis\": {\"gridcolor\": \"white\", \"linecolor\": \"white\", \"ticks\": \"\"}, \"bgcolor\": \"#E5ECF6\", \"caxis\": {\"gridcolor\": \"white\", \"linecolor\": \"white\", \"ticks\": \"\"}}, \"title\": {\"x\": 0.05}, \"xaxis\": {\"automargin\": true, \"gridcolor\": \"white\", \"linecolor\": \"white\", \"ticks\": \"\", \"title\": {\"standoff\": 15}, \"zerolinecolor\": \"white\", \"zerolinewidth\": 2}, \"yaxis\": {\"automargin\": true, \"gridcolor\": \"white\", \"linecolor\": \"white\", \"ticks\": \"\", \"title\": {\"standoff\": 15}, \"zerolinecolor\": \"white\", \"zerolinewidth\": 2}}}},                        {\"responsive\": true}                    ).then(function(){\n",
       "                            \n",
       "var gd = document.getElementById('0fc2d167-cd74-4375-ae4f-237c497dc9a5');\n",
       "var x = new MutationObserver(function (mutations, observer) {{\n",
       "        var display = window.getComputedStyle(gd).display;\n",
       "        if (!display || display === 'none') {{\n",
       "            console.log([gd, 'removed!']);\n",
       "            Plotly.purge(gd);\n",
       "            observer.disconnect();\n",
       "        }}\n",
       "}});\n",
       "\n",
       "// Listen for the removal of the full notebook cells\n",
       "var notebookContainer = gd.closest('#notebook-container');\n",
       "if (notebookContainer) {{\n",
       "    x.observe(notebookContainer, {childList: true});\n",
       "}}\n",
       "\n",
       "// Listen for the clearing of the current output cell\n",
       "var outputEl = gd.closest('.output');\n",
       "if (outputEl) {{\n",
       "    x.observe(outputEl, {childList: true});\n",
       "}}\n",
       "\n",
       "                        })                };                });            </script>        </div>"
      ]
     },
     "metadata": {},
     "output_type": "display_data"
    }
   ],
   "source": [
    "fig = go.Figure()\n",
    "\n",
    "fig.add_trace(go.Bar(x=hitter_df.loc[:15]['Rank'],\n",
    "                    y=hitter_df.loc[:15]['HRA_RT'].astype(float)))\n",
    "\n",
    "fig.add_hline(y=hitter_df['HRA_RT'].astype(float).mean())\n",
    "print(\"평균 타율: \", hitter_df['HRA_RT'].astype(float).mean())\n",
    "fig.show()"
   ]
  },
  {
   "cell_type": "code",
   "execution_count": null,
   "metadata": {},
   "outputs": [],
   "source": []
  }
 ],
 "metadata": {
  "hide_input": false,
  "kernelspec": {
   "display_name": "Python 3",
   "language": "python",
   "name": "python3"
  },
  "language_info": {
   "codemirror_mode": {
    "name": "ipython",
    "version": 3
   },
   "file_extension": ".py",
   "mimetype": "text/x-python",
   "name": "python",
   "nbconvert_exporter": "python",
   "pygments_lexer": "ipython3",
   "version": "3.8.5"
  },
  "toc": {
   "base_numbering": 1,
   "nav_menu": {},
   "number_sections": true,
   "sideBar": true,
   "skip_h1_title": false,
   "title_cell": "Table of Contents",
   "title_sidebar": "Contents",
   "toc_cell": false,
   "toc_position": {},
   "toc_section_display": true,
   "toc_window_display": false
  },
  "varInspector": {
   "cols": {
    "lenName": 16,
    "lenType": 16,
    "lenVar": 40
   },
   "kernels_config": {
    "python": {
     "delete_cmd_postfix": "",
     "delete_cmd_prefix": "del ",
     "library": "var_list.py",
     "varRefreshCmd": "print(var_dic_list())"
    },
    "r": {
     "delete_cmd_postfix": ") ",
     "delete_cmd_prefix": "rm(",
     "library": "var_list.r",
     "varRefreshCmd": "cat(var_dic_list()) "
    }
   },
   "types_to_exclude": [
    "module",
    "function",
    "builtin_function_or_method",
    "instance",
    "_Feature"
   ],
   "window_display": false
  }
 },
 "nbformat": 4,
 "nbformat_minor": 4
}
