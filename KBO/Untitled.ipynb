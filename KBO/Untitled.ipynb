{
 "cells": [
  {
   "cell_type": "code",
   "execution_count": null,
   "metadata": {},
   "outputs": [],
   "source": [
    "import re\n",
    "base_url = 'https://www.koreabaseball.com'\n",
    "player_info_url = []\n",
    "\n",
    "for idx, player_name in enumerate(korean_majorleaguer_df.loc[:]['Name'].to_list()):\n",
    "    url = 'https://www.koreabaseball.com/Player/Search.aspx'\n",
    "    _headers = {'User-Agent': 'Mozilla/5.0 (Macintosh; Intel Mac OS X 11_1_0) AppleWebKit/537.36 (KHTML, like Gecko) Chrome/88.0.4324.96 Safari/537.36'}\n",
    "    _data = {'Content-Type': 'application/x-www-form-urlencoded; charset=UTF-8',\n",
    "            'ctl00$ctl00$ctl00$cphContents$cphContents$ScriptManager1': 'ctl00$ctl00$ctl00$cphContents$cphContents$cphContents$udpRecord|ctl00$ctl00$ctl00$cphContents$cphContents$cphContents$btnSearch',\n",
    "    '__VIEWSTATE': '/wEPDwUJMTMxNzk5NDM2D2QWAmYPZBYCZg9kFgJmD2QWAgIBD2QWAmYPZBYCAgEPZBYCAgUPZBYCAgEPZBYCZg9kFghmDxAPFgYeDURhdGFUZXh0RmllbGQFCEZJUlNUX05NHg5EYXRhVmFsdWVGaWVsZAUEVF9JRB4LXyFEYXRhQm91bmRnZBAVCwrtjIAg7ISg7YOdAk5DBuuRkOyCsAJLVAJMRwbtgqTsm4ADS0lBBuuhr+uNsAbsgrzshLECU0sG7ZWc7ZmUFQsAAk5DAk9CAktUAkxHAldPAkhUAkxUAlNTAlNLAkhIFCsDC2dnZ2dnZ2dnZ2dnFgFmZAIBDxBkZBYBZmQCAg8PZBYCHgpvbmtleXByZXNzBXlpZihldmVudC5rZXlDb2RlID09IDEzKXtfX2RvUG9zdEJhY2soJ2N0bDAwJGN0bDAwJGN0bDAwJGNwaENvbnRlbnRzJGNwaENvbnRlbnRzJGNwaENvbnRlbnRzJGJ0blNlYXJjaCcsJycpO3JldHVybiBmYWxzZTt9ZAIFDw8WBh4JUGFnZUluZGV4BQExHghQYWdlU2l6ZQUCMjAeDVRvdGFsUm93Q291bnRmZBYcAgEPDxYCHgdWaXNpYmxlaGRkAgMPDxYCHwdoZGQCBQ8PFgYeBFRleHQFATEeCENzc0NsYXNzBQJvbh4EXyFTQgICZGQCBw8PFggfCAUBMh8JZR8KAgIfB2hkZAIJDw8WCB8IBQEzHwllHwoCAh8HaGRkAgsPDxYIHwgFATQfCWUfCgICHwdoZGQCDQ8PFggfCAUBNR8JZR8KAgIfB2hkZAIPDw8WBh8JZR8KAgIfB2hkZAIRDw8WBh8JZR8KAgIfB2hkZAITDw8WBh8JZR8KAgIfB2hkZAIVDw8WBh8JZR8KAgIfB2hkZAIXDw8WBh8JZR8KAgIfB2hkZAIZDw8WAh8HaGRkAhsPDxYCHwdoZGRk1A6xuCh0ccetMvmoHty6C+iZPJRR4TUTclPN2WV25KM=',\n",
    "    '__VIEWSTATEGENERATOR': '6942A5F7',\n",
    "    '__EVENTVALIDATION': '/wEdABV25zroy0y+ySxAb8qg0Lh+qUK6+mRsdxhnNCA+WG212kNgeBSbNKLKcKTg82HGZ5MBG/Pf3I75C3rKX8xVtEwo+kQ8AqPLE4RrhO6ZFCqeBK7PzKYNHJn1ix41G9IhOQuJXHqRUXRUZklBZmuFWpsNdCA+bt9lrvQ7Bnt3sOnVYKuMptg8kI77SbU4++55lNksVPJEqMmnsPvHB9dIJGpf5hXVFrJQTuW7aWcjKnYReCWPyJkVhvXuOBYs5qqOoClVZUXxd/uiJhLNEa+9XxmnYsasFt+7FfwAs6g8a36bapjfFDeu2NDc13pCkdcMGuGM1LdB1BdIShiN9H1skvV4F1JgdjTRh5oeAN6Yg5M8ELpmrE3ZItDca36f0/kynHQIcBFwjnAKA7Co0KA6ls0JuuwNcLXb9Hf3j9q4Bnx0xSIEsp38v5tQJGTakYgKU9EJBIfUBLFxAijQLbL4FCib7tDqjkD5YMtH7xvNaxZaMg==',\n",
    "    'ctl00$ctl00$ctl00$cphContents$cphContents$cphContents$hfPage': 1,\n",
    "    'ctl00$ctl00$ctl00$cphContents$cphContents$cphContents$txtSearchPlayerName': '{0}'.format(player_name),\n",
    "    '__ASYNCPOST': 'true',\n",
    "    'ctl00$ctl00$ctl00$cphContents$cphContents$cphContents$btnSearch': '검색'}\n",
    "\n",
    "    html = requests.post(url, data=_data, headers=_headers)\n",
    "    soup = bs(html.text, 'html.parser')\n",
    "\n",
    "    html_ls = []\n",
    "    url_ls = []\n",
    "\n",
    "    for td in soup.find_all('td'):\n",
    "        # string between <td>(head) and </td>(tail)\n",
    "        html_ls.append(str(td)[4:-5])\n",
    "        if str(td)[4:8] == korean_majorleaguer_df.loc[idx]['Birth_year']:\n",
    "            url_ls.append(base_url + re.findall(r'\\\"(.+?)\\\"', html_ls[-4])[0])\n",
    "\n",
    "    player_info_url.append(url_ls)\n",
    "    \n",
    "korean_majorleaguer_df['info_url'] = player_info_url"
   ]
  },
  {
   "cell_type": "code",
   "execution_count": null,
   "metadata": {},
   "outputs": [],
   "source": [
    "korean_majorleaguer_dict = {}\n",
    "\n",
    "for idx, url in enumerate(korean_majorleaguer_df.loc[:]['info_url']):\n",
    "    check_retired = True\n",
    "    print(url, idx)\n",
    "    \n",
    "    # if there's an url\n",
    "    if url:\n",
    "        if ('HitterDetail' in url) or ('PitcherDetail' in url):\n",
    "            url = url.replace('Basic', 'Total')\n",
    "            check_retired = False\n",
    "            \n",
    "        req = requests.get(url)\n",
    "        html = req.text\n",
    "        soup = bs(html, 'html.parser')\n",
    "\n",
    "        # gather annual data without career data\n",
    "        player_temp_table = soup.find('table', {'class': 'tData01 tt mb5'}) if check_retired else soup.find('table', {'class': 'tbl tt mb5'})\n",
    "        player_column_list = ['연도', '팀명']\n",
    "        \n",
    "        try:\n",
    "            player_column_list_tag = player_temp_table.find_all('th')\n",
    "        except:\n",
    "            player_temp_table = soup.find('table', {'class': 'tbl tt mgb5'})\n",
    "            player_column_list_tag = player_temp_table.find_all('th')\n",
    "\n",
    "        for col in player_column_list_tag:\n",
    "            player_a_tag = col.find_all('a')\n",
    "            for a in player_a_tag:\n",
    "                player_column_list.append(a.get('title'))\n",
    "\n",
    "        temp_data = pd.DataFrame(columns=player_column_list)\n",
    "\n",
    "        i = 0\n",
    "        index = 0\n",
    "        col_len = len(player_column_list)\n",
    "\n",
    "        while True:\n",
    "            try:\n",
    "                temp_data.loc[i] = [x.text for x in player_temp_table.find_all('td')[index : index + col_len]]\n",
    "                i += 1\n",
    "                index += col_len\n",
    "            except:\n",
    "                break\n",
    "\n",
    "        # gather only career data\n",
    "        player_temp_table = soup.find('tfoot', {'class': 'play_record'})\n",
    "        player_column_tag = player_temp_table.find_all('th')\n",
    "\n",
    "        career = [x.text for x in player_column_tag]\n",
    "        career.insert(0, '통산')\n",
    "        temp_data.loc[i] = career\n",
    "\n",
    "        korean_majorleaguer_dict[korean_majorleaguer_df.loc[idx]['Name']] = temp_data\n",
    "        \n",
    "    # if there's no valid url\n",
    "    else:\n",
    "        korean_majorleaguer_dict[korean_majorleaguer_df.loc[idx]['Name']] = ''"
   ]
  }
 ],
 "metadata": {
  "hide_input": false,
  "kernelspec": {
   "display_name": "Python 3",
   "language": "python",
   "name": "python3"
  },
  "language_info": {
   "codemirror_mode": {
    "name": "ipython",
    "version": 3
   },
   "file_extension": ".py",
   "mimetype": "text/x-python",
   "name": "python",
   "nbconvert_exporter": "python",
   "pygments_lexer": "ipython3",
   "version": "3.8.5"
  },
  "toc": {
   "base_numbering": 1,
   "nav_menu": {},
   "number_sections": true,
   "sideBar": true,
   "skip_h1_title": false,
   "title_cell": "Table of Contents",
   "title_sidebar": "Contents",
   "toc_cell": false,
   "toc_position": {},
   "toc_section_display": true,
   "toc_window_display": false
  },
  "varInspector": {
   "cols": {
    "lenName": 16,
    "lenType": 16,
    "lenVar": 40
   },
   "kernels_config": {
    "python": {
     "delete_cmd_postfix": "",
     "delete_cmd_prefix": "del ",
     "library": "var_list.py",
     "varRefreshCmd": "print(var_dic_list())"
    },
    "r": {
     "delete_cmd_postfix": ") ",
     "delete_cmd_prefix": "rm(",
     "library": "var_list.r",
     "varRefreshCmd": "cat(var_dic_list()) "
    }
   },
   "types_to_exclude": [
    "module",
    "function",
    "builtin_function_or_method",
    "instance",
    "_Feature"
   ],
   "window_display": false
  }
 },
 "nbformat": 4,
 "nbformat_minor": 4
}
