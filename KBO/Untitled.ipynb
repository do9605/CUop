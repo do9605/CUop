{
 "cells": [
  {
   "cell_type": "code",
   "execution_count": null,
   "metadata": {},
   "outputs": [],
   "source": [
    "url_base = 'https://www.koreabaseball.com/Record/Player/'\n",
    "category_list = ['HitterBasic/Basic1.aspx', 'PitcherBasic/Basic1.aspx', 'Defense/Basic.aspx', 'Runner/Basic.aspx']\n",
    "data_list = []\n",
    "\n",
    "for category in category_list:\n",
    "    url = url_base + category\n",
    "    req = requests.get(url)\n",
    "    \n",
    "    html = req.text\n",
    "    soup = bs(html, 'html.parser')\n",
    "    temp_table = soup.find('div', {'class': 'record_result'})\n",
    "    \n",
    "    col_tag = temp_table.find_all('td')\n",
    "    col_list = ['Rank', 'Name', 'Team']\n",
    "    \n",
    "    for col in col_tag:\n",
    "        try:\n",
    "            temp_value = col.attrs['data-id']\n",
    "            \n",
    "            if temp_value not in col_list:\n",
    "                col_list.append(temp_value)\n",
    "            else:\n",
    "                break\n",
    "        except:\n",
    "            pass\n",
    "        \n",
    "    temp_data = pd.DataFrame(columns = col_list)\n",
    "    \n",
    "    i = 0\n",
    "    index = 0\n",
    "    col_len = len(col_list)\n",
    "    \n",
    "    while True:\n",
    "        try:\n",
    "            temp_data.loc[i] = [x.text for x in temp_table.find_all('td')[index: index + col_len]]\n",
    "            i += 1\n",
    "            index += col_len\n",
    "        except:\n",
    "            break\n",
    "            \n",
    "    data_list.append(temp_data)"
   ]
  }
 ],
 "metadata": {
  "hide_input": false,
  "kernelspec": {
   "display_name": "Python 3",
   "language": "python",
   "name": "python3"
  },
  "language_info": {
   "codemirror_mode": {
    "name": "ipython",
    "version": 3
   },
   "file_extension": ".py",
   "mimetype": "text/x-python",
   "name": "python",
   "nbconvert_exporter": "python",
   "pygments_lexer": "ipython3",
   "version": "3.8.5"
  },
  "toc": {
   "base_numbering": 1,
   "nav_menu": {},
   "number_sections": true,
   "sideBar": true,
   "skip_h1_title": false,
   "title_cell": "Table of Contents",
   "title_sidebar": "Contents",
   "toc_cell": false,
   "toc_position": {},
   "toc_section_display": true,
   "toc_window_display": false
  },
  "varInspector": {
   "cols": {
    "lenName": 16,
    "lenType": 16,
    "lenVar": 40
   },
   "kernels_config": {
    "python": {
     "delete_cmd_postfix": "",
     "delete_cmd_prefix": "del ",
     "library": "var_list.py",
     "varRefreshCmd": "print(var_dic_list())"
    },
    "r": {
     "delete_cmd_postfix": ") ",
     "delete_cmd_prefix": "rm(",
     "library": "var_list.r",
     "varRefreshCmd": "cat(var_dic_list()) "
    }
   },
   "types_to_exclude": [
    "module",
    "function",
    "builtin_function_or_method",
    "instance",
    "_Feature"
   ],
   "window_display": false
  }
 },
 "nbformat": 4,
 "nbformat_minor": 4
}
