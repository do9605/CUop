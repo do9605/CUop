{
 "cells": [
  {
   "cell_type": "code",
   "execution_count": 4,
   "metadata": {},
   "outputs": [
    {
     "name": "stdout",
     "output_type": "stream",
     "text": [
      "Collecting import_ipynb\n",
      "  Downloading import-ipynb-0.1.3.tar.gz (4.0 kB)\n",
      "Building wheels for collected packages: import-ipynb\n",
      "  Building wheel for import-ipynb (setup.py) ... \u001b[?25ldone\n",
      "\u001b[?25h  Created wheel for import-ipynb: filename=import_ipynb-0.1.3-py3-none-any.whl size=2976 sha256=a816dc0ca76d8416f2995d1279532b85439e6d89ec1bc36e31a9a6431306bddd\n",
      "  Stored in directory: /Users/dohee/Library/Caches/pip/wheels/06/7e/ad/1cb03e935234186825cefc7e2c8f3451b4f654b5bc72232a7b\n",
      "Successfully built import-ipynb\n",
      "Installing collected packages: import-ipynb\n",
      "Successfully installed import-ipynb-0.1.3\n"
     ]
    }
   ],
   "source": [
    "# install import_ipynb for using KBO에서 메이저리그로 진출할 선수 찾아보기(크롤링편) ipynb file.\n",
    "# !pip install import_ipynb"
   ]
  },
  {
   "cell_type": "code",
   "execution_count": 6,
   "metadata": {},
   "outputs": [
    {
     "name": "stdout",
     "output_type": "stream",
     "text": [
      "importing Jupyter notebook from baseball_crawling.ipynb\n"
     ]
    },
    {
     "data": {
      "text/html": [
       "<style>.container {width:1260px !important;}</style>"
      ],
      "text/plain": [
       "<IPython.core.display.HTML object>"
      ]
     },
     "metadata": {},
     "output_type": "display_data"
    },
    {
     "name": "stderr",
     "output_type": "stream",
     "text": [
      "<string>:3: SettingWithCopyWarning: \n",
      "A value is trying to be set on a copy of a slice from a DataFrame\n",
      "\n",
      "See the caveats in the documentation: https://pandas.pydata.org/pandas-docs/stable/user_guide/indexing.html#returning-a-view-versus-a-copy\n"
     ]
    }
   ],
   "source": [
    "# import import_ipynb\n",
    "# import baseball_crawling"
   ]
  },
  {
   "cell_type": "code",
   "execution_count": 22,
   "metadata": {},
   "outputs": [],
   "source": [
    "import numpy as np\n",
    "import plotly.express as px\n",
    "from plotly.subplots import make_subplots\n",
    "import plotly.graph_objects as go"
   ]
  },
  {
   "cell_type": "code",
   "execution_count": 23,
   "metadata": {},
   "outputs": [],
   "source": [
    "korean_majorleaguer_df = baseball_crawling.korean_majorleaguer_df\n",
    "korean_majorleaguer_dict = baseball_crawling.korean_majorleaguer_dict\n",
    "\n",
    "top10_hitter_url_df = baseball_crawling.top10_hitter_url_df\n",
    "top10_hitter_dict = baseball_crawling.top10_hitter_dict"
   ]
  },
  {
   "cell_type": "code",
   "execution_count": 24,
   "metadata": {},
   "outputs": [
    {
     "data": {
      "text/html": [
       "<div>\n",
       "<style scoped>\n",
       "    .dataframe tbody tr th:only-of-type {\n",
       "        vertical-align: middle;\n",
       "    }\n",
       "\n",
       "    .dataframe tbody tr th {\n",
       "        vertical-align: top;\n",
       "    }\n",
       "\n",
       "    .dataframe thead th {\n",
       "        text-align: right;\n",
       "    }\n",
       "</style>\n",
       "<table border=\"1\" class=\"dataframe\">\n",
       "  <thead>\n",
       "    <tr style=\"text-align: right;\">\n",
       "      <th></th>\n",
       "      <th>Name</th>\n",
       "      <th>Birth_year</th>\n",
       "      <th>Position</th>\n",
       "      <th>info_url</th>\n",
       "    </tr>\n",
       "  </thead>\n",
       "  <tbody>\n",
       "    <tr>\n",
       "      <th>0</th>\n",
       "      <td>강정호</td>\n",
       "      <td>1987</td>\n",
       "      <td>내야수</td>\n",
       "      <td>https://www.koreabaseball.com/Record/Retire/Hitter.aspx?playerId=76325</td>\n",
       "    </tr>\n",
       "    <tr>\n",
       "      <th>1</th>\n",
       "      <td>김하성</td>\n",
       "      <td>1995</td>\n",
       "      <td>내야수</td>\n",
       "      <td>https://www.koreabaseball.com/Record/Retire/Hitter.aspx?playerId=64300</td>\n",
       "    </tr>\n",
       "    <tr>\n",
       "      <th>2</th>\n",
       "      <td>김현수</td>\n",
       "      <td>1988</td>\n",
       "      <td>외야수</td>\n",
       "      <td>https://www.koreabaseball.com/Record/Player/HitterDetail/Basic.aspx?playerId=76290</td>\n",
       "    </tr>\n",
       "    <tr>\n",
       "      <th>3</th>\n",
       "      <td>박병호</td>\n",
       "      <td>1986</td>\n",
       "      <td>내야수</td>\n",
       "      <td>https://www.koreabaseball.com/Record/Player/HitterDetail/Basic.aspx?playerId=75125</td>\n",
       "    </tr>\n",
       "    <tr>\n",
       "      <th>4</th>\n",
       "      <td>이대호</td>\n",
       "      <td>1982</td>\n",
       "      <td>내야수</td>\n",
       "      <td>https://www.koreabaseball.com/Record/Player/HitterDetail/Basic.aspx?playerId=71564</td>\n",
       "    </tr>\n",
       "    <tr>\n",
       "      <th>5</th>\n",
       "      <td>최희섭</td>\n",
       "      <td>1979</td>\n",
       "      <td>내야수</td>\n",
       "      <td>https://www.koreabaseball.com/Record/Retire/Hitter.aspx?playerId=77623</td>\n",
       "    </tr>\n",
       "    <tr>\n",
       "      <th>6</th>\n",
       "      <td>황재균</td>\n",
       "      <td>1987</td>\n",
       "      <td>내야수</td>\n",
       "      <td>https://www.koreabaseball.com/Record/Player/HitterDetail/Basic.aspx?playerId=76313</td>\n",
       "    </tr>\n",
       "  </tbody>\n",
       "</table>\n",
       "</div>"
      ],
      "text/plain": [
       "  Name Birth_year Position  \\\n",
       "0  강정호       1987      내야수   \n",
       "1  김하성       1995      내야수   \n",
       "2  김현수       1988      외야수   \n",
       "3  박병호       1986      내야수   \n",
       "4  이대호       1982      내야수   \n",
       "5  최희섭       1979      내야수   \n",
       "6  황재균       1987      내야수   \n",
       "\n",
       "                                                                             info_url  \n",
       "0              https://www.koreabaseball.com/Record/Retire/Hitter.aspx?playerId=76325  \n",
       "1              https://www.koreabaseball.com/Record/Retire/Hitter.aspx?playerId=64300  \n",
       "2  https://www.koreabaseball.com/Record/Player/HitterDetail/Basic.aspx?playerId=76290  \n",
       "3  https://www.koreabaseball.com/Record/Player/HitterDetail/Basic.aspx?playerId=75125  \n",
       "4  https://www.koreabaseball.com/Record/Player/HitterDetail/Basic.aspx?playerId=71564  \n",
       "5              https://www.koreabaseball.com/Record/Retire/Hitter.aspx?playerId=77623  \n",
       "6  https://www.koreabaseball.com/Record/Player/HitterDetail/Basic.aspx?playerId=76313  "
      ]
     },
     "execution_count": 24,
     "metadata": {},
     "output_type": "execute_result"
    }
   ],
   "source": [
    "hitter_majorleaguer = korean_majorleaguer_df[korean_majorleaguer_df['Position'] != '투수']\n",
    "hitter_majorleaguer = hitter_majorleaguer[hitter_majorleaguer['info_url'] != ''].reset_index(drop=True)\n",
    "hitter_majorleaguer"
   ]
  },
  {
   "cell_type": "code",
   "execution_count": 32,
   "metadata": {},
   "outputs": [
    {
     "name": "stdout",
     "output_type": "stream",
     "text": [
      "[0.58, 1.04, 0.19, 0.01, 0.16, 1.75, 0.65, 0.07, 0.03, 0.46, 0.06, 0.66, 0.09, 0.08]\n",
      "[0.64, 1.18, 0.22, 0.02, 0.12, 1.79, 0.59, 0.08, 0.03, 0.41, 0.06, 0.54, 0.08, 0.04]\n",
      "['득점', '안타', '2루타', '3루타', '홈런', '루타', '타점', '도루', '도루실패', '볼넷', '사구', '삼진', '병살타', '실책']\n"
     ]
    },
    {
     "data": {
      "application/vnd.plotly.v1+json": {
       "config": {
        "plotlyServerURL": "https://plot.ly"
       },
       "data": [
        {
         "marker": {
          "color": "blue"
         },
         "name": "한국인 메이저리거의 KBO시절 평균",
         "r": [
          0.58,
          1.04,
          0.19,
          0.01,
          0.16,
          1.75,
          0.65,
          0.07,
          0.03,
          0.46,
          0.06,
          0.66,
          0.09,
          0.08
         ],
         "theta": [
          "득점",
          "안타",
          "2루타",
          "3루타",
          "홈런",
          "루타",
          "타점",
          "도루",
          "도루실패",
          "볼넷",
          "사구",
          "삼진",
          "병살타",
          "실책"
         ],
         "type": "scatterpolar"
        },
        {
         "marker": {
          "color": "crimson"
         },
         "name": "2020년 KBO 상위10명의 타자 통산평균",
         "r": [
          0.64,
          1.18,
          0.22,
          0.02,
          0.12,
          1.79,
          0.59,
          0.08,
          0.03,
          0.41,
          0.06,
          0.54,
          0.08,
          0.04
         ],
         "theta": [
          "득점",
          "안타",
          "2루타",
          "3루타",
          "홈런",
          "루타",
          "타점",
          "도루",
          "도루실패",
          "볼넷",
          "사구",
          "삼진",
          "병살타",
          "실책"
         ],
         "type": "scatterpolar"
        }
       ],
       "layout": {
        "paper_bgcolor": "rgb(245, 245, 245)",
        "polar": {
         "angularaxis": {
          "linecolor": "black",
          "linewidth": 1,
          "showline": true,
          "ticks": ""
         },
         "radialaxis": {
          "linecolor": "Black",
          "linewidth": 1,
          "ticks": "",
          "visible": true
         }
        },
        "template": {},
        "title": {
         "text": "총 경기 수로 나눠진 데이터"
        }
       }
      },
      "text/html": [
       "<div>                            <div id=\"4ab1d172-59d2-47cc-8a81-cf6bca6afced\" class=\"plotly-graph-div\" style=\"height:525px; width:100%;\"></div>            <script type=\"text/javascript\">                require([\"plotly\"], function(Plotly) {                    window.PLOTLYENV=window.PLOTLYENV || {};                                    if (document.getElementById(\"4ab1d172-59d2-47cc-8a81-cf6bca6afced\")) {                    Plotly.newPlot(                        \"4ab1d172-59d2-47cc-8a81-cf6bca6afced\",                        [{\"marker\": {\"color\": \"blue\"}, \"name\": \"\\ud55c\\uad6d\\uc778 \\uba54\\uc774\\uc800\\ub9ac\\uac70\\uc758 KBO\\uc2dc\\uc808 \\ud3c9\\uade0\", \"r\": [0.58, 1.04, 0.19, 0.01, 0.16, 1.75, 0.65, 0.07, 0.03, 0.46, 0.06, 0.66, 0.09, 0.08], \"theta\": [\"\\ub4dd\\uc810\", \"\\uc548\\ud0c0\", \"2\\ub8e8\\ud0c0\", \"3\\ub8e8\\ud0c0\", \"\\ud648\\ub7f0\", \"\\ub8e8\\ud0c0\", \"\\ud0c0\\uc810\", \"\\ub3c4\\ub8e8\", \"\\ub3c4\\ub8e8\\uc2e4\\ud328\", \"\\ubcfc\\ub137\", \"\\uc0ac\\uad6c\", \"\\uc0bc\\uc9c4\", \"\\ubcd1\\uc0b4\\ud0c0\", \"\\uc2e4\\ucc45\"], \"type\": \"scatterpolar\"}, {\"marker\": {\"color\": \"crimson\"}, \"name\": \"2020\\ub144 KBO \\uc0c1\\uc70410\\uba85\\uc758 \\ud0c0\\uc790 \\ud1b5\\uc0b0\\ud3c9\\uade0\", \"r\": [0.64, 1.18, 0.22, 0.02, 0.12, 1.79, 0.59, 0.08, 0.03, 0.41, 0.06, 0.54, 0.08, 0.04], \"theta\": [\"\\ub4dd\\uc810\", \"\\uc548\\ud0c0\", \"2\\ub8e8\\ud0c0\", \"3\\ub8e8\\ud0c0\", \"\\ud648\\ub7f0\", \"\\ub8e8\\ud0c0\", \"\\ud0c0\\uc810\", \"\\ub3c4\\ub8e8\", \"\\ub3c4\\ub8e8\\uc2e4\\ud328\", \"\\ubcfc\\ub137\", \"\\uc0ac\\uad6c\", \"\\uc0bc\\uc9c4\", \"\\ubcd1\\uc0b4\\ud0c0\", \"\\uc2e4\\ucc45\"], \"type\": \"scatterpolar\"}],                        {\"paper_bgcolor\": \"rgb(245, 245, 245)\", \"polar\": {\"angularaxis\": {\"linecolor\": \"black\", \"linewidth\": 1, \"showline\": true, \"ticks\": \"\"}, \"radialaxis\": {\"linecolor\": \"Black\", \"linewidth\": 1, \"ticks\": \"\", \"visible\": true}}, \"template\": {}, \"title\": {\"text\": \"\\ucd1d \\uacbd\\uae30 \\uc218\\ub85c \\ub098\\ub220\\uc9c4 \\ub370\\uc774\\ud130\"}},                        {\"responsive\": true}                    ).then(function(){\n",
       "                            \n",
       "var gd = document.getElementById('4ab1d172-59d2-47cc-8a81-cf6bca6afced');\n",
       "var x = new MutationObserver(function (mutations, observer) {{\n",
       "        var display = window.getComputedStyle(gd).display;\n",
       "        if (!display || display === 'none') {{\n",
       "            console.log([gd, 'removed!']);\n",
       "            Plotly.purge(gd);\n",
       "            observer.disconnect();\n",
       "        }}\n",
       "}});\n",
       "\n",
       "// Listen for the removal of the full notebook cells\n",
       "var notebookContainer = gd.closest('#notebook-container');\n",
       "if (notebookContainer) {{\n",
       "    x.observe(notebookContainer, {childList: true});\n",
       "}}\n",
       "\n",
       "// Listen for the clearing of the current output cell\n",
       "var outputEl = gd.closest('.output');\n",
       "if (outputEl) {{\n",
       "    x.observe(outputEl, {childList: true});\n",
       "}}\n",
       "\n",
       "                        })                };                });            </script>        </div>"
      ]
     },
     "metadata": {},
     "output_type": "display_data"
    }
   ],
   "source": [
    "majorleaguer_avg = []\n",
    "top10_hitter_avg = []\n",
    "\n",
    "for col in korean_majorleaguer_dict[list(korean_majorleaguer_dict.keys())[0]].columns[2:]:\n",
    "    if col != '타율':\n",
    "        temp_majorleaguer_ls = [float(korean_majorleaguer_dict[name].iloc[korean_majorleaguer_dict[name].shape[0]-1][col])/float(korean_majorleaguer_dict[name].iloc[korean_majorleaguer_dict[name].shape[0]-1]['경기']) for name in hitter_majorleaguer['Name']]\n",
    "        temp_majorleaguer_np = np.array(temp_majorleaguer_ls)\n",
    "        majorleaguer_avg.append(round(temp_majorleaguer_np.mean(), 2))\n",
    "    else:\n",
    "        temp_majorleaguer_ls = [float(korean_majorleaguer_dict[name].iloc[korean_majorleaguer_dict[name].shape[0]-1][col]) for name in hitter_majorleaguer['Name']]\n",
    "        temp_majorleaguer_np = np.array(temp_majorleaguer_ls)\n",
    "        majorleaguer_avg.append(round(temp_majorleaguer_np.mean(), 2))\n",
    "    \n",
    "for col in top10_hitter_dict[list(top10_hitter_dict.keys())[0]].columns[2:]:\n",
    "    if col != '타율':\n",
    "        temp_top10_hitter_ls = [float(top10_hitter_dict[name].iloc[top10_hitter_dict[name].shape[0]-1][col])/float(top10_hitter_dict[name].iloc[top10_hitter_dict[name].shape[0]-1]['경기']) for name in top10_hitter_url_df['Name']]\n",
    "        temp_top10_hitter_np = np.array(temp_top10_hitter_ls)\n",
    "        top10_hitter_avg.append(round(temp_top10_hitter_np.mean(), 2))\n",
    "    else:\n",
    "        temp_top10_hitter_ls = [float(top10_hitter_dict[name].iloc[top10_hitter_dict[name].shape[0]-1][col]) for name in top10_hitter_url_df['Name']]\n",
    "        temp_top10_hitter_np = np.array(temp_top10_hitter_ls)\n",
    "        top10_hitter_avg.append(round(temp_top10_hitter_np.mean(), 2))\n",
    "\n",
    "\n",
    "theta_ = top10_hitter_dict[list(top10_hitter_dict.keys())[0]].columns[6:-3].to_list() # 득점 ~ 병살타 index\n",
    "theta_.insert(len(theta_), top10_hitter_dict[list(top10_hitter_dict.keys())[0]].columns[-1]) # 실책 index 추가\n",
    "r_ = top10_hitter_avg[4:-3] # 득점 ~ 병살타 값들(전체 경기 수로 나눠진)\n",
    "r_.insert(len(r_), top10_hitter_avg[-1]) # 실책값 추가(전체 경기 수로 나눠진)\n",
    "\n",
    "fig = go.Figure()\n",
    "fig.add_trace(go.Scatterpolar(r=majorleaguer_avg[3:],\n",
    "                              theta=korean_majorleaguer_dict['강정호'].columns[5:],\n",
    "                              name='한국인 메이저리거의 KBO시절 평균',\n",
    "                              marker_color='blue'))\n",
    "fig.add_trace(go.Scatterpolar(r=r_,\n",
    "                             theta=theta_,\n",
    "                             name='2020년 KBO 상위10명의 타자 통산평균',\n",
    "                             marker_color='crimson'))\n",
    "\n",
    "fig.update_layout(template=None,\n",
    "                  paper_bgcolor='rgb(245, 245, 245)',\n",
    "                  polar=dict(radialaxis=dict(visible=True, linewidth=1, linecolor='Black', ticks=''),\n",
    "                            angularaxis=dict(showline=True, linewidth=1, linecolor='black', ticks='')),\n",
    "                 title='총 경기 수로 나눠진 데이터')\n",
    "\n",
    "print(majorleaguer_avg[3:])\n",
    "print(r_)\n",
    "print(theta_)\n",
    "fig.show()"
   ]
  },
  {
   "cell_type": "code",
   "execution_count": 37,
   "metadata": {},
   "outputs": [
    {
     "ename": "AttributeError",
     "evalue": "'DataFrame' object has no attribute 'profile_report'",
     "output_type": "error",
     "traceback": [
      "\u001b[0;31m---------------------------------------------------------------------------\u001b[0m",
      "\u001b[0;31mAttributeError\u001b[0m                            Traceback (most recent call last)",
      "\u001b[0;32m<ipython-input-37-f209c89f8939>\u001b[0m in \u001b[0;36m<module>\u001b[0;34m\u001b[0m\n\u001b[0;32m----> 1\u001b[0;31m \u001b[0mpr\u001b[0m \u001b[0;34m=\u001b[0m \u001b[0mkorean_majorleaguer_dict\u001b[0m\u001b[0;34m[\u001b[0m\u001b[0;34m'강정호'\u001b[0m\u001b[0;34m]\u001b[0m\u001b[0;34m.\u001b[0m\u001b[0mprofile_report\u001b[0m\u001b[0;34m(\u001b[0m\u001b[0;34m)\u001b[0m\u001b[0;34m\u001b[0m\u001b[0;34m\u001b[0m\u001b[0m\n\u001b[0m",
      "\u001b[0;32m~/opt/anaconda3/lib/python3.8/site-packages/pandas/core/generic.py\u001b[0m in \u001b[0;36m__getattr__\u001b[0;34m(self, name)\u001b[0m\n\u001b[1;32m   5137\u001b[0m             \u001b[0;32mif\u001b[0m \u001b[0mself\u001b[0m\u001b[0;34m.\u001b[0m\u001b[0m_info_axis\u001b[0m\u001b[0;34m.\u001b[0m\u001b[0m_can_hold_identifiers_and_holds_name\u001b[0m\u001b[0;34m(\u001b[0m\u001b[0mname\u001b[0m\u001b[0;34m)\u001b[0m\u001b[0;34m:\u001b[0m\u001b[0;34m\u001b[0m\u001b[0;34m\u001b[0m\u001b[0m\n\u001b[1;32m   5138\u001b[0m                 \u001b[0;32mreturn\u001b[0m \u001b[0mself\u001b[0m\u001b[0;34m[\u001b[0m\u001b[0mname\u001b[0m\u001b[0;34m]\u001b[0m\u001b[0;34m\u001b[0m\u001b[0;34m\u001b[0m\u001b[0m\n\u001b[0;32m-> 5139\u001b[0;31m             \u001b[0;32mreturn\u001b[0m \u001b[0mobject\u001b[0m\u001b[0;34m.\u001b[0m\u001b[0m__getattribute__\u001b[0m\u001b[0;34m(\u001b[0m\u001b[0mself\u001b[0m\u001b[0;34m,\u001b[0m \u001b[0mname\u001b[0m\u001b[0;34m)\u001b[0m\u001b[0;34m\u001b[0m\u001b[0;34m\u001b[0m\u001b[0m\n\u001b[0m\u001b[1;32m   5140\u001b[0m \u001b[0;34m\u001b[0m\u001b[0m\n\u001b[1;32m   5141\u001b[0m     \u001b[0;32mdef\u001b[0m \u001b[0m__setattr__\u001b[0m\u001b[0;34m(\u001b[0m\u001b[0mself\u001b[0m\u001b[0;34m,\u001b[0m \u001b[0mname\u001b[0m\u001b[0;34m:\u001b[0m \u001b[0mstr\u001b[0m\u001b[0;34m,\u001b[0m \u001b[0mvalue\u001b[0m\u001b[0;34m)\u001b[0m \u001b[0;34m->\u001b[0m \u001b[0;32mNone\u001b[0m\u001b[0;34m:\u001b[0m\u001b[0;34m\u001b[0m\u001b[0;34m\u001b[0m\u001b[0m\n",
      "\u001b[0;31mAttributeError\u001b[0m: 'DataFrame' object has no attribute 'profile_report'"
     ]
    }
   ],
   "source": [
    "pr = korean_majorleaguer_dict['강정호'].profile_report()"
   ]
  },
  {
   "cell_type": "code",
   "execution_count": null,
   "metadata": {},
   "outputs": [],
   "source": []
  }
 ],
 "metadata": {
  "hide_input": false,
  "kernelspec": {
   "display_name": "Python 3",
   "language": "python",
   "name": "python3"
  },
  "language_info": {
   "codemirror_mode": {
    "name": "ipython",
    "version": 3
   },
   "file_extension": ".py",
   "mimetype": "text/x-python",
   "name": "python",
   "nbconvert_exporter": "python",
   "pygments_lexer": "ipython3",
   "version": "3.8.5"
  },
  "toc": {
   "base_numbering": 1,
   "nav_menu": {},
   "number_sections": false,
   "sideBar": true,
   "skip_h1_title": false,
   "title_cell": "Table of Contents",
   "title_sidebar": "Contents",
   "toc_cell": false,
   "toc_position": {},
   "toc_section_display": true,
   "toc_window_display": false
  },
  "varInspector": {
   "cols": {
    "lenName": 16,
    "lenType": 16,
    "lenVar": 40
   },
   "kernels_config": {
    "python": {
     "delete_cmd_postfix": "",
     "delete_cmd_prefix": "del ",
     "library": "var_list.py",
     "varRefreshCmd": "print(var_dic_list())"
    },
    "r": {
     "delete_cmd_postfix": ") ",
     "delete_cmd_prefix": "rm(",
     "library": "var_list.r",
     "varRefreshCmd": "cat(var_dic_list()) "
    }
   },
   "types_to_exclude": [
    "module",
    "function",
    "builtin_function_or_method",
    "instance",
    "_Feature"
   ],
   "window_display": false
  }
 },
 "nbformat": 4,
 "nbformat_minor": 4
}
