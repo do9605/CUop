{
 "cells": [
  {
   "cell_type": "markdown",
   "metadata": {},
   "source": [
    "<h1>KBO에서 메이저리그로 진출할 선수 찾아보기(타자편)</h1>\n",
    "<h3>2020년 기준 KBO 상위 10명의 선수와 한국인 메이저리거 선수들 기록 분석을 통해 메이저리그로 갈만한 선수 찾아보기</h3>\n",
    "\n",
    "---"
   ]
  },
  {
   "cell_type": "markdown",
   "metadata": {},
   "source": [
    "<h2>1. 시작하기 전 필요한 모듈 설치 및 한국인 메이저리거 중 타자 데이터 전처리</h2>\n",
    "<font size=4><br>KBO에서 메이저리그로 진출할 선수 찾아보기(크롤링편)의 ipynb 파일을 가져와서 만들어놓은 dataframe을 가져오자</font>"
   ]
  },
  {
   "cell_type": "markdown",
   "metadata": {},
   "source": [
    "```Python\n",
    "!pip install import_ipynb\n",
    "```\n",
    "<font size=4><br>위의 명령어를 통해 ipynb 파일을 불러올 수 있다.</font>"
   ]
  },
  {
   "cell_type": "markdown",
   "metadata": {},
   "source": [
    "```Python\n",
    "import import_ipynb\n",
    "import baseball_crawling\n",
    "\n",
    "import numpy as np\n",
    "import pandas as pd\n",
    "import pandas_profiling\n",
    "import plotly.express as px\n",
    "from plotly.subplots import make_subplots\n",
    "import plotly.graph_objects as go\n",
    "```\n",
    "\n",
    "```Python\n",
    "korean_majorleaguer_df = baseball_crawling.korean_majorleaguer_df\n",
    "korean_majorleaguer_dict = baseball_crawling.korean_majorleaguer_dict\n",
    "top10_hitter_url_df = baseball_crawling.top10_hitter_url_df\n",
    "top10_hitter_dict = baseball_crawling.top10_hitter_dict\n",
    "```\n",
    "\n",
    "\n",
    "<font size=4><br>설치한 import_ipynb 모듈을 불러온 후, KBO에서 메이저리그로 진출할 선수 찾아보기(크롤링편)의 ipynb파일인 baseball_crawling을 불러온다.<br><br>그밖의 데이터 전처리 및 시각화에 필요한 모듈(pandas, plotly 등 등)도 가져온다.</font>\n",
    "\n",
    "---"
   ]
  },
  {
   "cell_type": "code",
   "execution_count": 179,
   "metadata": {},
   "outputs": [],
   "source": [
    "import import_ipynb\n",
    "import baseball_crawling\n",
    "\n",
    "import numpy as np\n",
    "import pandas_profiling\n",
    "import plotly.express as px\n",
    "from plotly.subplots import make_subplots\n",
    "import plotly.graph_objects as go"
   ]
  },
  {
   "cell_type": "code",
   "execution_count": 180,
   "metadata": {},
   "outputs": [],
   "source": [
    "korean_majorleaguer_df = baseball_crawling.korean_majorleaguer_df\n",
    "korean_majorleaguer_dict = baseball_crawling.korean_majorleaguer_dict\n",
    "top10_hitter_url_df = baseball_crawling.top10_hitter_url_df\n",
    "top10_hitter_dict = baseball_crawling.top10_hitter_dict"
   ]
  },
  {
   "cell_type": "markdown",
   "metadata": {},
   "source": [
    "```Python\n",
    "# get hitter dataframe from majorleaguer dataframe\n",
    "hitter_majorleaguer = korean_majorleaguer_df[korean_majorleaguer_df['Position'] != '투수']\n",
    "hitter_majorleaguer = hitter_majorleaguer[hitter_majorleaguer['info_url'] != ''].reset_index(drop=True)\n",
    "hitter_majorleaguer\n",
    "```"
   ]
  },
  {
   "cell_type": "code",
   "execution_count": 182,
   "metadata": {},
   "outputs": [
    {
     "data": {
      "text/html": [
       "<div>\n",
       "<style scoped>\n",
       "    .dataframe tbody tr th:only-of-type {\n",
       "        vertical-align: middle;\n",
       "    }\n",
       "\n",
       "    .dataframe tbody tr th {\n",
       "        vertical-align: top;\n",
       "    }\n",
       "\n",
       "    .dataframe thead th {\n",
       "        text-align: right;\n",
       "    }\n",
       "</style>\n",
       "<table border=\"1\" class=\"dataframe\">\n",
       "  <thead>\n",
       "    <tr style=\"text-align: right;\">\n",
       "      <th></th>\n",
       "      <th>Name</th>\n",
       "      <th>Birth_year</th>\n",
       "      <th>Position</th>\n",
       "      <th>info_url</th>\n",
       "    </tr>\n",
       "  </thead>\n",
       "  <tbody>\n",
       "    <tr>\n",
       "      <th>0</th>\n",
       "      <td>강정호</td>\n",
       "      <td>1987</td>\n",
       "      <td>내야수</td>\n",
       "      <td>https://www.koreabaseball.com/Record/Retire/Hitter.aspx?playerId=76325</td>\n",
       "    </tr>\n",
       "    <tr>\n",
       "      <th>1</th>\n",
       "      <td>김하성</td>\n",
       "      <td>1995</td>\n",
       "      <td>내야수</td>\n",
       "      <td>https://www.koreabaseball.com/Record/Retire/Hitter.aspx?playerId=64300</td>\n",
       "    </tr>\n",
       "    <tr>\n",
       "      <th>2</th>\n",
       "      <td>김현수</td>\n",
       "      <td>1988</td>\n",
       "      <td>외야수</td>\n",
       "      <td>https://www.koreabaseball.com/Record/Player/HitterDetail/Basic.aspx?playerId=76290</td>\n",
       "    </tr>\n",
       "    <tr>\n",
       "      <th>3</th>\n",
       "      <td>박병호</td>\n",
       "      <td>1986</td>\n",
       "      <td>내야수</td>\n",
       "      <td>https://www.koreabaseball.com/Record/Player/HitterDetail/Basic.aspx?playerId=75125</td>\n",
       "    </tr>\n",
       "    <tr>\n",
       "      <th>4</th>\n",
       "      <td>이대호</td>\n",
       "      <td>1982</td>\n",
       "      <td>내야수</td>\n",
       "      <td>https://www.koreabaseball.com/Record/Player/HitterDetail/Basic.aspx?playerId=71564</td>\n",
       "    </tr>\n",
       "    <tr>\n",
       "      <th>5</th>\n",
       "      <td>최희섭</td>\n",
       "      <td>1979</td>\n",
       "      <td>내야수</td>\n",
       "      <td>https://www.koreabaseball.com/Record/Retire/Hitter.aspx?playerId=77623</td>\n",
       "    </tr>\n",
       "    <tr>\n",
       "      <th>6</th>\n",
       "      <td>황재균</td>\n",
       "      <td>1987</td>\n",
       "      <td>내야수</td>\n",
       "      <td>https://www.koreabaseball.com/Record/Player/HitterDetail/Basic.aspx?playerId=76313</td>\n",
       "    </tr>\n",
       "  </tbody>\n",
       "</table>\n",
       "</div>"
      ],
      "text/plain": [
       "  Name Birth_year Position  \\\n",
       "0  강정호       1987      내야수   \n",
       "1  김하성       1995      내야수   \n",
       "2  김현수       1988      외야수   \n",
       "3  박병호       1986      내야수   \n",
       "4  이대호       1982      내야수   \n",
       "5  최희섭       1979      내야수   \n",
       "6  황재균       1987      내야수   \n",
       "\n",
       "                                                                             info_url  \n",
       "0              https://www.koreabaseball.com/Record/Retire/Hitter.aspx?playerId=76325  \n",
       "1              https://www.koreabaseball.com/Record/Retire/Hitter.aspx?playerId=64300  \n",
       "2  https://www.koreabaseball.com/Record/Player/HitterDetail/Basic.aspx?playerId=76290  \n",
       "3  https://www.koreabaseball.com/Record/Player/HitterDetail/Basic.aspx?playerId=75125  \n",
       "4  https://www.koreabaseball.com/Record/Player/HitterDetail/Basic.aspx?playerId=71564  \n",
       "5              https://www.koreabaseball.com/Record/Retire/Hitter.aspx?playerId=77623  \n",
       "6  https://www.koreabaseball.com/Record/Player/HitterDetail/Basic.aspx?playerId=76313  "
      ]
     },
     "execution_count": 182,
     "metadata": {},
     "output_type": "execute_result"
    }
   ],
   "source": [
    "# get hitter dataframe from majorleaguer dataframe\n",
    "hitter_majorleaguer = korean_majorleaguer_df[korean_majorleaguer_df['Position'] != '투수']\n",
    "hitter_majorleaguer = hitter_majorleaguer[hitter_majorleaguer['info_url'] != ''].reset_index(drop=True)\n",
    "hitter_majorleaguer"
   ]
  },
  {
   "cell_type": "markdown",
   "metadata": {},
   "source": [
    "<font size=4>한국인 메이저리거 선수들 중 '타자' 선수들의 데이터만 뽑아왔다.<br><br>위에서 가져온 타자 선수들의 이름으로 통산기록을 가져와보자</font>"
   ]
  },
  {
   "cell_type": "markdown",
   "metadata": {},
   "source": [
    "```Python\n",
    "korean_majorleaguer_dict['강정호']\n",
    "```"
   ]
  },
  {
   "cell_type": "code",
   "execution_count": 276,
   "metadata": {},
   "outputs": [
    {
     "data": {
      "text/html": [
       "<div>\n",
       "<style scoped>\n",
       "    .dataframe tbody tr th:only-of-type {\n",
       "        vertical-align: middle;\n",
       "    }\n",
       "\n",
       "    .dataframe tbody tr th {\n",
       "        vertical-align: top;\n",
       "    }\n",
       "\n",
       "    .dataframe thead th {\n",
       "        text-align: right;\n",
       "    }\n",
       "</style>\n",
       "<table border=\"1\" class=\"dataframe\">\n",
       "  <thead>\n",
       "    <tr style=\"text-align: right;\">\n",
       "      <th></th>\n",
       "      <th>연도</th>\n",
       "      <th>팀명</th>\n",
       "      <th>타율</th>\n",
       "      <th>경기</th>\n",
       "      <th>타수</th>\n",
       "      <th>득점</th>\n",
       "      <th>안타</th>\n",
       "      <th>2루타</th>\n",
       "      <th>3루타</th>\n",
       "      <th>홈런</th>\n",
       "      <th>루타</th>\n",
       "      <th>타점</th>\n",
       "      <th>도루</th>\n",
       "      <th>도루실패</th>\n",
       "      <th>볼넷</th>\n",
       "      <th>사구</th>\n",
       "      <th>삼진</th>\n",
       "      <th>병살타</th>\n",
       "      <th>실책</th>\n",
       "    </tr>\n",
       "  </thead>\n",
       "  <tbody>\n",
       "    <tr>\n",
       "      <th>0</th>\n",
       "      <td>2006</td>\n",
       "      <td>현대</td>\n",
       "      <td>0.150</td>\n",
       "      <td>10</td>\n",
       "      <td>20</td>\n",
       "      <td>1</td>\n",
       "      <td>3</td>\n",
       "      <td>1</td>\n",
       "      <td>0</td>\n",
       "      <td>0</td>\n",
       "      <td>4</td>\n",
       "      <td>1</td>\n",
       "      <td>0</td>\n",
       "      <td>1</td>\n",
       "      <td>0</td>\n",
       "      <td>0</td>\n",
       "      <td>8</td>\n",
       "      <td>1</td>\n",
       "      <td>3</td>\n",
       "    </tr>\n",
       "    <tr>\n",
       "      <th>1</th>\n",
       "      <td>2007</td>\n",
       "      <td>현대</td>\n",
       "      <td>0.133</td>\n",
       "      <td>20</td>\n",
       "      <td>15</td>\n",
       "      <td>0</td>\n",
       "      <td>2</td>\n",
       "      <td>0</td>\n",
       "      <td>0</td>\n",
       "      <td>0</td>\n",
       "      <td>2</td>\n",
       "      <td>0</td>\n",
       "      <td>0</td>\n",
       "      <td>0</td>\n",
       "      <td>0</td>\n",
       "      <td>0</td>\n",
       "      <td>5</td>\n",
       "      <td>1</td>\n",
       "      <td>0</td>\n",
       "    </tr>\n",
       "    <tr>\n",
       "      <th>2</th>\n",
       "      <td>2008</td>\n",
       "      <td>우리</td>\n",
       "      <td>0.271</td>\n",
       "      <td>116</td>\n",
       "      <td>362</td>\n",
       "      <td>36</td>\n",
       "      <td>98</td>\n",
       "      <td>18</td>\n",
       "      <td>1</td>\n",
       "      <td>8</td>\n",
       "      <td>142</td>\n",
       "      <td>47</td>\n",
       "      <td>3</td>\n",
       "      <td>1</td>\n",
       "      <td>31</td>\n",
       "      <td>5</td>\n",
       "      <td>65</td>\n",
       "      <td>12</td>\n",
       "      <td>13</td>\n",
       "    </tr>\n",
       "    <tr>\n",
       "      <th>3</th>\n",
       "      <td>2009</td>\n",
       "      <td>히어로즈</td>\n",
       "      <td>0.286</td>\n",
       "      <td>133</td>\n",
       "      <td>476</td>\n",
       "      <td>73</td>\n",
       "      <td>136</td>\n",
       "      <td>33</td>\n",
       "      <td>2</td>\n",
       "      <td>23</td>\n",
       "      <td>242</td>\n",
       "      <td>81</td>\n",
       "      <td>3</td>\n",
       "      <td>2</td>\n",
       "      <td>45</td>\n",
       "      <td>4</td>\n",
       "      <td>81</td>\n",
       "      <td>18</td>\n",
       "      <td>15</td>\n",
       "    </tr>\n",
       "    <tr>\n",
       "      <th>4</th>\n",
       "      <td>2010</td>\n",
       "      <td>넥센</td>\n",
       "      <td>0.301</td>\n",
       "      <td>133</td>\n",
       "      <td>449</td>\n",
       "      <td>60</td>\n",
       "      <td>135</td>\n",
       "      <td>30</td>\n",
       "      <td>2</td>\n",
       "      <td>12</td>\n",
       "      <td>205</td>\n",
       "      <td>58</td>\n",
       "      <td>2</td>\n",
       "      <td>2</td>\n",
       "      <td>61</td>\n",
       "      <td>7</td>\n",
       "      <td>87</td>\n",
       "      <td>14</td>\n",
       "      <td>23</td>\n",
       "    </tr>\n",
       "    <tr>\n",
       "      <th>5</th>\n",
       "      <td>2011</td>\n",
       "      <td>넥센</td>\n",
       "      <td>0.282</td>\n",
       "      <td>123</td>\n",
       "      <td>444</td>\n",
       "      <td>53</td>\n",
       "      <td>125</td>\n",
       "      <td>22</td>\n",
       "      <td>2</td>\n",
       "      <td>9</td>\n",
       "      <td>178</td>\n",
       "      <td>63</td>\n",
       "      <td>4</td>\n",
       "      <td>6</td>\n",
       "      <td>43</td>\n",
       "      <td>9</td>\n",
       "      <td>62</td>\n",
       "      <td>12</td>\n",
       "      <td>13</td>\n",
       "    </tr>\n",
       "    <tr>\n",
       "      <th>6</th>\n",
       "      <td>2012</td>\n",
       "      <td>넥센</td>\n",
       "      <td>0.314</td>\n",
       "      <td>124</td>\n",
       "      <td>436</td>\n",
       "      <td>77</td>\n",
       "      <td>137</td>\n",
       "      <td>32</td>\n",
       "      <td>0</td>\n",
       "      <td>25</td>\n",
       "      <td>244</td>\n",
       "      <td>82</td>\n",
       "      <td>21</td>\n",
       "      <td>5</td>\n",
       "      <td>71</td>\n",
       "      <td>6</td>\n",
       "      <td>78</td>\n",
       "      <td>16</td>\n",
       "      <td>12</td>\n",
       "    </tr>\n",
       "    <tr>\n",
       "      <th>7</th>\n",
       "      <td>2013</td>\n",
       "      <td>넥센</td>\n",
       "      <td>0.291</td>\n",
       "      <td>126</td>\n",
       "      <td>450</td>\n",
       "      <td>67</td>\n",
       "      <td>131</td>\n",
       "      <td>21</td>\n",
       "      <td>1</td>\n",
       "      <td>22</td>\n",
       "      <td>220</td>\n",
       "      <td>96</td>\n",
       "      <td>15</td>\n",
       "      <td>8</td>\n",
       "      <td>68</td>\n",
       "      <td>6</td>\n",
       "      <td>109</td>\n",
       "      <td>18</td>\n",
       "      <td>15</td>\n",
       "    </tr>\n",
       "    <tr>\n",
       "      <th>8</th>\n",
       "      <td>2014</td>\n",
       "      <td>넥센</td>\n",
       "      <td>0.356</td>\n",
       "      <td>117</td>\n",
       "      <td>418</td>\n",
       "      <td>103</td>\n",
       "      <td>149</td>\n",
       "      <td>36</td>\n",
       "      <td>2</td>\n",
       "      <td>40</td>\n",
       "      <td>309</td>\n",
       "      <td>117</td>\n",
       "      <td>3</td>\n",
       "      <td>3</td>\n",
       "      <td>68</td>\n",
       "      <td>13</td>\n",
       "      <td>106</td>\n",
       "      <td>8</td>\n",
       "      <td>9</td>\n",
       "    </tr>\n",
       "    <tr>\n",
       "      <th>9</th>\n",
       "      <td>통산</td>\n",
       "      <td>통산</td>\n",
       "      <td>0.298</td>\n",
       "      <td>902</td>\n",
       "      <td>3070</td>\n",
       "      <td>470</td>\n",
       "      <td>916</td>\n",
       "      <td>193</td>\n",
       "      <td>10</td>\n",
       "      <td>139</td>\n",
       "      <td>1546</td>\n",
       "      <td>545</td>\n",
       "      <td>51</td>\n",
       "      <td>28</td>\n",
       "      <td>387</td>\n",
       "      <td>50</td>\n",
       "      <td>601</td>\n",
       "      <td>100</td>\n",
       "      <td>103</td>\n",
       "    </tr>\n",
       "  </tbody>\n",
       "</table>\n",
       "</div>"
      ],
      "text/plain": [
       "     연도    팀명     타율   경기    타수   득점   안타  2루타 3루타   홈런    루타   타점  도루 도루실패  \\\n",
       "0  2006    현대  0.150   10    20    1    3    1   0    0     4    1   0    1   \n",
       "1  2007    현대  0.133   20    15    0    2    0   0    0     2    0   0    0   \n",
       "2  2008    우리  0.271  116   362   36   98   18   1    8   142   47   3    1   \n",
       "3  2009  히어로즈  0.286  133   476   73  136   33   2   23   242   81   3    2   \n",
       "4  2010    넥센  0.301  133   449   60  135   30   2   12   205   58   2    2   \n",
       "5  2011    넥센  0.282  123   444   53  125   22   2    9   178   63   4    6   \n",
       "6  2012    넥센  0.314  124   436   77  137   32   0   25   244   82  21    5   \n",
       "7  2013    넥센  0.291  126   450   67  131   21   1   22   220   96  15    8   \n",
       "8  2014    넥센  0.356  117   418  103  149   36   2   40   309  117   3    3   \n",
       "9    통산    통산  0.298  902  3070  470  916  193  10  139  1546  545  51   28   \n",
       "\n",
       "    볼넷  사구   삼진  병살타   실책  \n",
       "0    0   0    8    1    3  \n",
       "1    0   0    5    1    0  \n",
       "2   31   5   65   12   13  \n",
       "3   45   4   81   18   15  \n",
       "4   61   7   87   14   23  \n",
       "5   43   9   62   12   13  \n",
       "6   71   6   78   16   12  \n",
       "7   68   6  109   18   15  \n",
       "8   68  13  106    8    9  \n",
       "9  387  50  601  100  103  "
      ]
     },
     "execution_count": 276,
     "metadata": {},
     "output_type": "execute_result"
    }
   ],
   "source": [
    "korean_majorleaguer_dict['강정호']"
   ]
  },
  {
   "cell_type": "markdown",
   "metadata": {},
   "source": [
    "```Python\n",
    "korean_majorleaguer_dict['김현수']\n",
    "```"
   ]
  },
  {
   "cell_type": "code",
   "execution_count": 277,
   "metadata": {},
   "outputs": [
    {
     "data": {
      "text/html": [
       "<div>\n",
       "<style scoped>\n",
       "    .dataframe tbody tr th:only-of-type {\n",
       "        vertical-align: middle;\n",
       "    }\n",
       "\n",
       "    .dataframe tbody tr th {\n",
       "        vertical-align: top;\n",
       "    }\n",
       "\n",
       "    .dataframe thead th {\n",
       "        text-align: right;\n",
       "    }\n",
       "</style>\n",
       "<table border=\"1\" class=\"dataframe\">\n",
       "  <thead>\n",
       "    <tr style=\"text-align: right;\">\n",
       "      <th></th>\n",
       "      <th>연도</th>\n",
       "      <th>팀명</th>\n",
       "      <th>타율</th>\n",
       "      <th>경기</th>\n",
       "      <th>타석</th>\n",
       "      <th>타수</th>\n",
       "      <th>득점</th>\n",
       "      <th>안타</th>\n",
       "      <th>2루타</th>\n",
       "      <th>3루타</th>\n",
       "      <th>...</th>\n",
       "      <th>타점</th>\n",
       "      <th>도루</th>\n",
       "      <th>도루실패</th>\n",
       "      <th>볼넷</th>\n",
       "      <th>사구</th>\n",
       "      <th>삼진</th>\n",
       "      <th>병살타</th>\n",
       "      <th>장타율</th>\n",
       "      <th>출루율</th>\n",
       "      <th>실책</th>\n",
       "    </tr>\n",
       "  </thead>\n",
       "  <tbody>\n",
       "    <tr>\n",
       "      <th>0</th>\n",
       "      <td>2006</td>\n",
       "      <td>두산</td>\n",
       "      <td>0.000</td>\n",
       "      <td>1</td>\n",
       "      <td>1</td>\n",
       "      <td>1</td>\n",
       "      <td>0</td>\n",
       "      <td>0</td>\n",
       "      <td>0</td>\n",
       "      <td>0</td>\n",
       "      <td>...</td>\n",
       "      <td>0</td>\n",
       "      <td>0</td>\n",
       "      <td>0</td>\n",
       "      <td>0</td>\n",
       "      <td>0</td>\n",
       "      <td>0</td>\n",
       "      <td>0</td>\n",
       "      <td>0.000</td>\n",
       "      <td>0.000</td>\n",
       "      <td>0</td>\n",
       "    </tr>\n",
       "    <tr>\n",
       "      <th>1</th>\n",
       "      <td>2007</td>\n",
       "      <td>두산</td>\n",
       "      <td>0.273</td>\n",
       "      <td>99</td>\n",
       "      <td>353</td>\n",
       "      <td>319</td>\n",
       "      <td>33</td>\n",
       "      <td>87</td>\n",
       "      <td>19</td>\n",
       "      <td>3</td>\n",
       "      <td>...</td>\n",
       "      <td>32</td>\n",
       "      <td>5</td>\n",
       "      <td>2</td>\n",
       "      <td>26</td>\n",
       "      <td>5</td>\n",
       "      <td>46</td>\n",
       "      <td>12</td>\n",
       "      <td>0.398</td>\n",
       "      <td>0.335</td>\n",
       "      <td>3</td>\n",
       "    </tr>\n",
       "    <tr>\n",
       "      <th>2</th>\n",
       "      <td>2008</td>\n",
       "      <td>두산</td>\n",
       "      <td>0.357</td>\n",
       "      <td>126</td>\n",
       "      <td>558</td>\n",
       "      <td>470</td>\n",
       "      <td>83</td>\n",
       "      <td>168</td>\n",
       "      <td>34</td>\n",
       "      <td>5</td>\n",
       "      <td>...</td>\n",
       "      <td>89</td>\n",
       "      <td>13</td>\n",
       "      <td>8</td>\n",
       "      <td>80</td>\n",
       "      <td>5</td>\n",
       "      <td>40</td>\n",
       "      <td>12</td>\n",
       "      <td>0.509</td>\n",
       "      <td>0.454</td>\n",
       "      <td>1</td>\n",
       "    </tr>\n",
       "    <tr>\n",
       "      <th>3</th>\n",
       "      <td>2009</td>\n",
       "      <td>두산</td>\n",
       "      <td>0.357</td>\n",
       "      <td>133</td>\n",
       "      <td>572</td>\n",
       "      <td>482</td>\n",
       "      <td>97</td>\n",
       "      <td>172</td>\n",
       "      <td>31</td>\n",
       "      <td>6</td>\n",
       "      <td>...</td>\n",
       "      <td>104</td>\n",
       "      <td>6</td>\n",
       "      <td>6</td>\n",
       "      <td>80</td>\n",
       "      <td>4</td>\n",
       "      <td>59</td>\n",
       "      <td>7</td>\n",
       "      <td>0.589</td>\n",
       "      <td>0.448</td>\n",
       "      <td>3</td>\n",
       "    </tr>\n",
       "    <tr>\n",
       "      <th>4</th>\n",
       "      <td>2010</td>\n",
       "      <td>두산</td>\n",
       "      <td>0.317</td>\n",
       "      <td>132</td>\n",
       "      <td>565</td>\n",
       "      <td>473</td>\n",
       "      <td>88</td>\n",
       "      <td>150</td>\n",
       "      <td>29</td>\n",
       "      <td>0</td>\n",
       "      <td>...</td>\n",
       "      <td>89</td>\n",
       "      <td>4</td>\n",
       "      <td>8</td>\n",
       "      <td>78</td>\n",
       "      <td>6</td>\n",
       "      <td>64</td>\n",
       "      <td>9</td>\n",
       "      <td>0.531</td>\n",
       "      <td>0.414</td>\n",
       "      <td>3</td>\n",
       "    </tr>\n",
       "    <tr>\n",
       "      <th>5</th>\n",
       "      <td>2011</td>\n",
       "      <td>두산</td>\n",
       "      <td>0.301</td>\n",
       "      <td>130</td>\n",
       "      <td>561</td>\n",
       "      <td>475</td>\n",
       "      <td>71</td>\n",
       "      <td>143</td>\n",
       "      <td>25</td>\n",
       "      <td>2</td>\n",
       "      <td>...</td>\n",
       "      <td>91</td>\n",
       "      <td>5</td>\n",
       "      <td>3</td>\n",
       "      <td>71</td>\n",
       "      <td>6</td>\n",
       "      <td>63</td>\n",
       "      <td>15</td>\n",
       "      <td>0.444</td>\n",
       "      <td>0.392</td>\n",
       "      <td>7</td>\n",
       "    </tr>\n",
       "    <tr>\n",
       "      <th>6</th>\n",
       "      <td>2012</td>\n",
       "      <td>두산</td>\n",
       "      <td>0.291</td>\n",
       "      <td>122</td>\n",
       "      <td>491</td>\n",
       "      <td>437</td>\n",
       "      <td>47</td>\n",
       "      <td>127</td>\n",
       "      <td>17</td>\n",
       "      <td>1</td>\n",
       "      <td>...</td>\n",
       "      <td>65</td>\n",
       "      <td>6</td>\n",
       "      <td>3</td>\n",
       "      <td>46</td>\n",
       "      <td>3</td>\n",
       "      <td>50</td>\n",
       "      <td>9</td>\n",
       "      <td>0.382</td>\n",
       "      <td>0.358</td>\n",
       "      <td>4</td>\n",
       "    </tr>\n",
       "    <tr>\n",
       "      <th>7</th>\n",
       "      <td>2013</td>\n",
       "      <td>두산</td>\n",
       "      <td>0.302</td>\n",
       "      <td>122</td>\n",
       "      <td>510</td>\n",
       "      <td>434</td>\n",
       "      <td>63</td>\n",
       "      <td>131</td>\n",
       "      <td>23</td>\n",
       "      <td>1</td>\n",
       "      <td>...</td>\n",
       "      <td>90</td>\n",
       "      <td>2</td>\n",
       "      <td>4</td>\n",
       "      <td>62</td>\n",
       "      <td>2</td>\n",
       "      <td>71</td>\n",
       "      <td>6</td>\n",
       "      <td>0.470</td>\n",
       "      <td>0.382</td>\n",
       "      <td>2</td>\n",
       "    </tr>\n",
       "    <tr>\n",
       "      <th>8</th>\n",
       "      <td>2014</td>\n",
       "      <td>두산</td>\n",
       "      <td>0.322</td>\n",
       "      <td>125</td>\n",
       "      <td>528</td>\n",
       "      <td>463</td>\n",
       "      <td>75</td>\n",
       "      <td>149</td>\n",
       "      <td>26</td>\n",
       "      <td>0</td>\n",
       "      <td>...</td>\n",
       "      <td>90</td>\n",
       "      <td>2</td>\n",
       "      <td>0</td>\n",
       "      <td>53</td>\n",
       "      <td>7</td>\n",
       "      <td>45</td>\n",
       "      <td>10</td>\n",
       "      <td>0.488</td>\n",
       "      <td>0.396</td>\n",
       "      <td>1</td>\n",
       "    </tr>\n",
       "    <tr>\n",
       "      <th>9</th>\n",
       "      <td>2015</td>\n",
       "      <td>두산</td>\n",
       "      <td>0.326</td>\n",
       "      <td>141</td>\n",
       "      <td>630</td>\n",
       "      <td>512</td>\n",
       "      <td>103</td>\n",
       "      <td>167</td>\n",
       "      <td>26</td>\n",
       "      <td>0</td>\n",
       "      <td>...</td>\n",
       "      <td>121</td>\n",
       "      <td>11</td>\n",
       "      <td>5</td>\n",
       "      <td>101</td>\n",
       "      <td>8</td>\n",
       "      <td>63</td>\n",
       "      <td>13</td>\n",
       "      <td>0.541</td>\n",
       "      <td>0.438</td>\n",
       "      <td>1</td>\n",
       "    </tr>\n",
       "    <tr>\n",
       "      <th>10</th>\n",
       "      <td>2018</td>\n",
       "      <td>LG</td>\n",
       "      <td>0.362</td>\n",
       "      <td>117</td>\n",
       "      <td>511</td>\n",
       "      <td>453</td>\n",
       "      <td>95</td>\n",
       "      <td>164</td>\n",
       "      <td>39</td>\n",
       "      <td>2</td>\n",
       "      <td>...</td>\n",
       "      <td>101</td>\n",
       "      <td>1</td>\n",
       "      <td>3</td>\n",
       "      <td>47</td>\n",
       "      <td>1</td>\n",
       "      <td>61</td>\n",
       "      <td>9</td>\n",
       "      <td>0.589</td>\n",
       "      <td>0.415</td>\n",
       "      <td>5</td>\n",
       "    </tr>\n",
       "    <tr>\n",
       "      <th>11</th>\n",
       "      <td>2019</td>\n",
       "      <td>LG</td>\n",
       "      <td>0.304</td>\n",
       "      <td>140</td>\n",
       "      <td>595</td>\n",
       "      <td>526</td>\n",
       "      <td>75</td>\n",
       "      <td>160</td>\n",
       "      <td>37</td>\n",
       "      <td>0</td>\n",
       "      <td>...</td>\n",
       "      <td>82</td>\n",
       "      <td>3</td>\n",
       "      <td>1</td>\n",
       "      <td>54</td>\n",
       "      <td>6</td>\n",
       "      <td>52</td>\n",
       "      <td>11</td>\n",
       "      <td>0.437</td>\n",
       "      <td>0.370</td>\n",
       "      <td>1</td>\n",
       "    </tr>\n",
       "    <tr>\n",
       "      <th>12</th>\n",
       "      <td>2020</td>\n",
       "      <td>LG</td>\n",
       "      <td>0.331</td>\n",
       "      <td>142</td>\n",
       "      <td>619</td>\n",
       "      <td>547</td>\n",
       "      <td>98</td>\n",
       "      <td>181</td>\n",
       "      <td>35</td>\n",
       "      <td>2</td>\n",
       "      <td>...</td>\n",
       "      <td>119</td>\n",
       "      <td>0</td>\n",
       "      <td>2</td>\n",
       "      <td>63</td>\n",
       "      <td>2</td>\n",
       "      <td>53</td>\n",
       "      <td>9</td>\n",
       "      <td>0.523</td>\n",
       "      <td>0.397</td>\n",
       "      <td>1</td>\n",
       "    </tr>\n",
       "    <tr>\n",
       "      <th>13</th>\n",
       "      <td>통산</td>\n",
       "      <td>통산</td>\n",
       "      <td>0.322</td>\n",
       "      <td>1530</td>\n",
       "      <td>6494</td>\n",
       "      <td>5592</td>\n",
       "      <td>928</td>\n",
       "      <td>1799</td>\n",
       "      <td>341</td>\n",
       "      <td>22</td>\n",
       "      <td>...</td>\n",
       "      <td>1073</td>\n",
       "      <td>58</td>\n",
       "      <td>45</td>\n",
       "      <td>761</td>\n",
       "      <td>55</td>\n",
       "      <td>667</td>\n",
       "      <td>122</td>\n",
       "      <td>0.495</td>\n",
       "      <td>0.403</td>\n",
       "      <td>32</td>\n",
       "    </tr>\n",
       "  </tbody>\n",
       "</table>\n",
       "<p>14 rows × 22 columns</p>\n",
       "</div>"
      ],
      "text/plain": [
       "      연도  팀명     타율    경기    타석    타수   득점    안타  2루타 3루타  ...    타점  도루 도루실패  \\\n",
       "0   2006  두산  0.000     1     1     1    0     0    0   0  ...     0   0    0   \n",
       "1   2007  두산  0.273    99   353   319   33    87   19   3  ...    32   5    2   \n",
       "2   2008  두산  0.357   126   558   470   83   168   34   5  ...    89  13    8   \n",
       "3   2009  두산  0.357   133   572   482   97   172   31   6  ...   104   6    6   \n",
       "4   2010  두산  0.317   132   565   473   88   150   29   0  ...    89   4    8   \n",
       "5   2011  두산  0.301   130   561   475   71   143   25   2  ...    91   5    3   \n",
       "6   2012  두산  0.291   122   491   437   47   127   17   1  ...    65   6    3   \n",
       "7   2013  두산  0.302   122   510   434   63   131   23   1  ...    90   2    4   \n",
       "8   2014  두산  0.322   125   528   463   75   149   26   0  ...    90   2    0   \n",
       "9   2015  두산  0.326   141   630   512  103   167   26   0  ...   121  11    5   \n",
       "10  2018  LG  0.362   117   511   453   95   164   39   2  ...   101   1    3   \n",
       "11  2019  LG  0.304   140   595   526   75   160   37   0  ...    82   3    1   \n",
       "12  2020  LG  0.331   142   619   547   98   181   35   2  ...   119   0    2   \n",
       "13    통산  통산  0.322  1530  6494  5592  928  1799  341  22  ...  1073  58   45   \n",
       "\n",
       "     볼넷  사구   삼진  병살타    장타율    출루율  실책  \n",
       "0     0   0    0    0  0.000  0.000   0  \n",
       "1    26   5   46   12  0.398  0.335   3  \n",
       "2    80   5   40   12  0.509  0.454   1  \n",
       "3    80   4   59    7  0.589  0.448   3  \n",
       "4    78   6   64    9  0.531  0.414   3  \n",
       "5    71   6   63   15  0.444  0.392   7  \n",
       "6    46   3   50    9  0.382  0.358   4  \n",
       "7    62   2   71    6  0.470  0.382   2  \n",
       "8    53   7   45   10  0.488  0.396   1  \n",
       "9   101   8   63   13  0.541  0.438   1  \n",
       "10   47   1   61    9  0.589  0.415   5  \n",
       "11   54   6   52   11  0.437  0.370   1  \n",
       "12   63   2   53    9  0.523  0.397   1  \n",
       "13  761  55  667  122  0.495  0.403  32  \n",
       "\n",
       "[14 rows x 22 columns]"
      ]
     },
     "execution_count": 277,
     "metadata": {},
     "output_type": "execute_result"
    }
   ],
   "source": [
    "korean_majorleaguer_dict['김현수']"
   ]
  },
  {
   "cell_type": "markdown",
   "metadata": {},
   "source": [
    "<font size=4>korean_majorleaguer_dict에 타자 이름을 검색해보니 은퇴한 선수와 은퇴하지 않은 선수들의 column값이 다른 것을 확인 할 있었다.<br><br>은퇴한 선수들의 column값을 은퇴하지 않은 선수들의 column이 다 포함하고 있기 때문에 은퇴한 선수들의 column값으로 통산기록에 관한 dataframe을 만들어보자</font>"
   ]
  },
  {
   "cell_type": "markdown",
   "metadata": {},
   "source": [
    "```Python\n",
    "# columns of retired and unretired players are not same, so set columns as retired player's column\n",
    "standard_column = []\n",
    "\n",
    "for idx, url in enumerate(korean_majorleaguer_df['info_url'].to_list()):\n",
    "    if 'Retire' in url:\n",
    "        standard_column = korean_majorleaguer_dict[korean_majorleaguer_df.loc[idx]['Name']].columns.to_list()\n",
    "        break\n",
    "else:\n",
    "    # if there's no retired player, then set column as unretired player's column\n",
    "    standard_column = korean_majorleaguer_dict[korean_majorleaguer_df.loc[0]['Name']].columns.to_list()\n",
    "    print(\"There's no retired player!\")\n",
    "```\n",
    "\n",
    "<font size=4><br>column값을 통일 시키기 위한 코드</font>"
   ]
  },
  {
   "cell_type": "code",
   "execution_count": 280,
   "metadata": {},
   "outputs": [],
   "source": [
    "# columns of retired and unretired players are not same, so set columns as retired player\n",
    "standard_column = []\n",
    "\n",
    "for idx, url in enumerate(korean_majorleaguer_df['info_url'].to_list()):\n",
    "    if 'Retire' in url:\n",
    "        standard_column = korean_majorleaguer_dict[korean_majorleaguer_df.loc[idx]['Name']].columns.to_list()\n",
    "        break\n",
    "else:\n",
    "    # if there's no retired player, then set column as unretired player's column\n",
    "    standard_column = korean_majorleaguer_dict[korean_majorleaguer_df.loc[0]['Name']].columns.to_list()\n",
    "    print(\"There's no retired player!\")"
   ]
  },
  {
   "cell_type": "markdown",
   "metadata": {},
   "source": [
    "```Python\n",
    "column = ['이름'] + standard_column[2:]\n",
    "hitter_majorleaguer_career_df_raw = pd.DataFrame(columns=column)\n",
    "\n",
    "for idx, name in enumerate(hitter_majorleaguer['Name'].to_list()):\n",
    "    hitter_majorleaguer_career_df_raw.loc[idx] = korean_majorleaguer_dict[name].iloc[-1][2:]\n",
    "    hitter_majorleaguer_career_df_raw['이름'][idx] = name\n",
    "hitter_majorleaguer_career_df_raw\n",
    "```"
   ]
  },
  {
   "cell_type": "code",
   "execution_count": 395,
   "metadata": {},
   "outputs": [
    {
     "data": {
      "text/html": [
       "<div>\n",
       "<style scoped>\n",
       "    .dataframe tbody tr th:only-of-type {\n",
       "        vertical-align: middle;\n",
       "    }\n",
       "\n",
       "    .dataframe tbody tr th {\n",
       "        vertical-align: top;\n",
       "    }\n",
       "\n",
       "    .dataframe thead th {\n",
       "        text-align: right;\n",
       "    }\n",
       "</style>\n",
       "<table border=\"1\" class=\"dataframe\">\n",
       "  <thead>\n",
       "    <tr style=\"text-align: right;\">\n",
       "      <th></th>\n",
       "      <th>이름</th>\n",
       "      <th>타율</th>\n",
       "      <th>경기</th>\n",
       "      <th>타수</th>\n",
       "      <th>득점</th>\n",
       "      <th>안타</th>\n",
       "      <th>2루타</th>\n",
       "      <th>3루타</th>\n",
       "      <th>홈런</th>\n",
       "      <th>루타</th>\n",
       "      <th>타점</th>\n",
       "      <th>도루</th>\n",
       "      <th>도루실패</th>\n",
       "      <th>볼넷</th>\n",
       "      <th>사구</th>\n",
       "      <th>삼진</th>\n",
       "      <th>병살타</th>\n",
       "      <th>실책</th>\n",
       "    </tr>\n",
       "  </thead>\n",
       "  <tbody>\n",
       "    <tr>\n",
       "      <th>0</th>\n",
       "      <td>강정호</td>\n",
       "      <td>0.298</td>\n",
       "      <td>902</td>\n",
       "      <td>3070</td>\n",
       "      <td>470</td>\n",
       "      <td>916</td>\n",
       "      <td>193</td>\n",
       "      <td>10</td>\n",
       "      <td>139</td>\n",
       "      <td>1546</td>\n",
       "      <td>545</td>\n",
       "      <td>51</td>\n",
       "      <td>28</td>\n",
       "      <td>387</td>\n",
       "      <td>50</td>\n",
       "      <td>601</td>\n",
       "      <td>100</td>\n",
       "      <td>103</td>\n",
       "    </tr>\n",
       "    <tr>\n",
       "      <th>1</th>\n",
       "      <td>김하성</td>\n",
       "      <td>0.294</td>\n",
       "      <td>891</td>\n",
       "      <td>3195</td>\n",
       "      <td>606</td>\n",
       "      <td>940</td>\n",
       "      <td>191</td>\n",
       "      <td>23</td>\n",
       "      <td>133</td>\n",
       "      <td>1576</td>\n",
       "      <td>575</td>\n",
       "      <td>134</td>\n",
       "      <td>38</td>\n",
       "      <td>381</td>\n",
       "      <td>39</td>\n",
       "      <td>502</td>\n",
       "      <td>67</td>\n",
       "      <td>114</td>\n",
       "    </tr>\n",
       "    <tr>\n",
       "      <th>2</th>\n",
       "      <td>김현수</td>\n",
       "      <td>0.322</td>\n",
       "      <td>1530</td>\n",
       "      <td>5592</td>\n",
       "      <td>928</td>\n",
       "      <td>1799</td>\n",
       "      <td>341</td>\n",
       "      <td>22</td>\n",
       "      <td>195</td>\n",
       "      <td>2769</td>\n",
       "      <td>1073</td>\n",
       "      <td>58</td>\n",
       "      <td>45</td>\n",
       "      <td>761</td>\n",
       "      <td>55</td>\n",
       "      <td>667</td>\n",
       "      <td>122</td>\n",
       "      <td>32</td>\n",
       "    </tr>\n",
       "    <tr>\n",
       "      <th>3</th>\n",
       "      <td>박병호</td>\n",
       "      <td>0.283</td>\n",
       "      <td>1196</td>\n",
       "      <td>3889</td>\n",
       "      <td>771</td>\n",
       "      <td>1101</td>\n",
       "      <td>186</td>\n",
       "      <td>5</td>\n",
       "      <td>307</td>\n",
       "      <td>2218</td>\n",
       "      <td>880</td>\n",
       "      <td>59</td>\n",
       "      <td>24</td>\n",
       "      <td>635</td>\n",
       "      <td>98</td>\n",
       "      <td>1146</td>\n",
       "      <td>80</td>\n",
       "      <td>63</td>\n",
       "    </tr>\n",
       "    <tr>\n",
       "      <th>4</th>\n",
       "      <td>이대호</td>\n",
       "      <td>0.309</td>\n",
       "      <td>1715</td>\n",
       "      <td>6158</td>\n",
       "      <td>880</td>\n",
       "      <td>1900</td>\n",
       "      <td>297</td>\n",
       "      <td>6</td>\n",
       "      <td>332</td>\n",
       "      <td>3205</td>\n",
       "      <td>1243</td>\n",
       "      <td>11</td>\n",
       "      <td>11</td>\n",
       "      <td>668</td>\n",
       "      <td>173</td>\n",
       "      <td>919</td>\n",
       "      <td>201</td>\n",
       "      <td>105</td>\n",
       "    </tr>\n",
       "    <tr>\n",
       "      <th>5</th>\n",
       "      <td>최희섭</td>\n",
       "      <td>0.281</td>\n",
       "      <td>634</td>\n",
       "      <td>2131</td>\n",
       "      <td>327</td>\n",
       "      <td>598</td>\n",
       "      <td>115</td>\n",
       "      <td>4</td>\n",
       "      <td>100</td>\n",
       "      <td>1021</td>\n",
       "      <td>393</td>\n",
       "      <td>16</td>\n",
       "      <td>14</td>\n",
       "      <td>365</td>\n",
       "      <td>24</td>\n",
       "      <td>515</td>\n",
       "      <td>67</td>\n",
       "      <td>30</td>\n",
       "    </tr>\n",
       "    <tr>\n",
       "      <th>6</th>\n",
       "      <td>황재균</td>\n",
       "      <td>0.289</td>\n",
       "      <td>1584</td>\n",
       "      <td>5680</td>\n",
       "      <td>867</td>\n",
       "      <td>1644</td>\n",
       "      <td>315</td>\n",
       "      <td>38</td>\n",
       "      <td>181</td>\n",
       "      <td>2578</td>\n",
       "      <td>846</td>\n",
       "      <td>208</td>\n",
       "      <td>106</td>\n",
       "      <td>533</td>\n",
       "      <td>56</td>\n",
       "      <td>1062</td>\n",
       "      <td>122</td>\n",
       "      <td>186</td>\n",
       "    </tr>\n",
       "  </tbody>\n",
       "</table>\n",
       "</div>"
      ],
      "text/plain": [
       "    이름     타율    경기    타수   득점    안타  2루타 3루타   홈런    루타    타점   도루 도루실패   볼넷  \\\n",
       "0  강정호  0.298   902  3070  470   916  193  10  139  1546   545   51   28  387   \n",
       "1  김하성  0.294   891  3195  606   940  191  23  133  1576   575  134   38  381   \n",
       "2  김현수  0.322  1530  5592  928  1799  341  22  195  2769  1073   58   45  761   \n",
       "3  박병호  0.283  1196  3889  771  1101  186   5  307  2218   880   59   24  635   \n",
       "4  이대호  0.309  1715  6158  880  1900  297   6  332  3205  1243   11   11  668   \n",
       "5  최희섭  0.281   634  2131  327   598  115   4  100  1021   393   16   14  365   \n",
       "6  황재균  0.289  1584  5680  867  1644  315  38  181  2578   846  208  106  533   \n",
       "\n",
       "    사구    삼진  병살타   실책  \n",
       "0   50   601  100  103  \n",
       "1   39   502   67  114  \n",
       "2   55   667  122   32  \n",
       "3   98  1146   80   63  \n",
       "4  173   919  201  105  \n",
       "5   24   515   67   30  \n",
       "6   56  1062  122  186  "
      ]
     },
     "execution_count": 395,
     "metadata": {},
     "output_type": "execute_result"
    }
   ],
   "source": [
    "column = ['이름'] + standard_column[2:]\n",
    "hitter_majorleaguer_career_df_raw = pd.DataFrame(columns=column)\n",
    "\n",
    "for idx, name in enumerate(hitter_majorleaguer['Name'].to_list()):\n",
    "    hitter_majorleaguer_career_df_raw.loc[idx] = korean_majorleaguer_dict[name].iloc[-1][2:]\n",
    "    hitter_majorleaguer_career_df_raw['이름'][idx] = name\n",
    "hitter_majorleaguer_career_df_raw"
   ]
  },
  {
   "cell_type": "markdown",
   "metadata": {},
   "source": [
    "<font size=4><br>한국인 메이저리거 중에서 타자 선수들의 통산기록을 가져와 dataframe만들었다.<br><br>하지만 각 선수마다 경기 수가 달라 득점, 안타, 홈런 등의 지표들이 신뢰성이 떨어지기 때문에 모든 지표들을 경기 수로 나눠 한 경기당 지표수로 나타내려고 한다.</font>"
   ]
  },
  {
   "cell_type": "markdown",
   "metadata": {},
   "source": [
    "```Python\n",
    "hitter_majorleaguer_career_df = hitter_majorleaguer_career_df_raw.copy()\n",
    "\n",
    "for idx in range(len(hitter_majorleaguer_career_df_raw.index)):\n",
    "    for col in hitter_majorleaguer_career_df_raw.columns[3:]:\n",
    "        hitter_majorleaguer_career_df.loc[idx][col] = float(hitter_majorleaguer_career_df_raw[col][idx]) / float(hitter_majorleaguer_career_df_raw['경기'][idx])\n",
    "\n",
    "hitter_majorleaguer_career_df\n",
    "```"
   ]
  },
  {
   "cell_type": "code",
   "execution_count": 396,
   "metadata": {},
   "outputs": [
    {
     "data": {
      "text/html": [
       "<div>\n",
       "<style scoped>\n",
       "    .dataframe tbody tr th:only-of-type {\n",
       "        vertical-align: middle;\n",
       "    }\n",
       "\n",
       "    .dataframe tbody tr th {\n",
       "        vertical-align: top;\n",
       "    }\n",
       "\n",
       "    .dataframe thead th {\n",
       "        text-align: right;\n",
       "    }\n",
       "</style>\n",
       "<table border=\"1\" class=\"dataframe\">\n",
       "  <thead>\n",
       "    <tr style=\"text-align: right;\">\n",
       "      <th></th>\n",
       "      <th>이름</th>\n",
       "      <th>타율</th>\n",
       "      <th>경기</th>\n",
       "      <th>타수</th>\n",
       "      <th>득점</th>\n",
       "      <th>안타</th>\n",
       "      <th>2루타</th>\n",
       "      <th>3루타</th>\n",
       "      <th>홈런</th>\n",
       "      <th>루타</th>\n",
       "      <th>타점</th>\n",
       "      <th>도루</th>\n",
       "      <th>도루실패</th>\n",
       "      <th>볼넷</th>\n",
       "      <th>사구</th>\n",
       "      <th>삼진</th>\n",
       "      <th>병살타</th>\n",
       "      <th>실책</th>\n",
       "    </tr>\n",
       "  </thead>\n",
       "  <tbody>\n",
       "    <tr>\n",
       "      <th>0</th>\n",
       "      <td>강정호</td>\n",
       "      <td>0.298</td>\n",
       "      <td>902</td>\n",
       "      <td>3070</td>\n",
       "      <td>470</td>\n",
       "      <td>916</td>\n",
       "      <td>193</td>\n",
       "      <td>10</td>\n",
       "      <td>139</td>\n",
       "      <td>1546</td>\n",
       "      <td>545</td>\n",
       "      <td>51</td>\n",
       "      <td>28</td>\n",
       "      <td>387</td>\n",
       "      <td>50</td>\n",
       "      <td>601</td>\n",
       "      <td>100</td>\n",
       "      <td>103</td>\n",
       "    </tr>\n",
       "    <tr>\n",
       "      <th>1</th>\n",
       "      <td>김하성</td>\n",
       "      <td>0.294</td>\n",
       "      <td>891</td>\n",
       "      <td>3195</td>\n",
       "      <td>606</td>\n",
       "      <td>940</td>\n",
       "      <td>191</td>\n",
       "      <td>23</td>\n",
       "      <td>133</td>\n",
       "      <td>1576</td>\n",
       "      <td>575</td>\n",
       "      <td>134</td>\n",
       "      <td>38</td>\n",
       "      <td>381</td>\n",
       "      <td>39</td>\n",
       "      <td>502</td>\n",
       "      <td>67</td>\n",
       "      <td>114</td>\n",
       "    </tr>\n",
       "    <tr>\n",
       "      <th>2</th>\n",
       "      <td>김현수</td>\n",
       "      <td>0.322</td>\n",
       "      <td>1530</td>\n",
       "      <td>5592</td>\n",
       "      <td>928</td>\n",
       "      <td>1799</td>\n",
       "      <td>341</td>\n",
       "      <td>22</td>\n",
       "      <td>195</td>\n",
       "      <td>2769</td>\n",
       "      <td>1073</td>\n",
       "      <td>58</td>\n",
       "      <td>45</td>\n",
       "      <td>761</td>\n",
       "      <td>55</td>\n",
       "      <td>667</td>\n",
       "      <td>122</td>\n",
       "      <td>32</td>\n",
       "    </tr>\n",
       "    <tr>\n",
       "      <th>3</th>\n",
       "      <td>박병호</td>\n",
       "      <td>0.283</td>\n",
       "      <td>1196</td>\n",
       "      <td>3889</td>\n",
       "      <td>771</td>\n",
       "      <td>1101</td>\n",
       "      <td>186</td>\n",
       "      <td>5</td>\n",
       "      <td>307</td>\n",
       "      <td>2218</td>\n",
       "      <td>880</td>\n",
       "      <td>59</td>\n",
       "      <td>24</td>\n",
       "      <td>635</td>\n",
       "      <td>98</td>\n",
       "      <td>1146</td>\n",
       "      <td>80</td>\n",
       "      <td>63</td>\n",
       "    </tr>\n",
       "    <tr>\n",
       "      <th>4</th>\n",
       "      <td>이대호</td>\n",
       "      <td>0.309</td>\n",
       "      <td>1715</td>\n",
       "      <td>6158</td>\n",
       "      <td>880</td>\n",
       "      <td>1900</td>\n",
       "      <td>297</td>\n",
       "      <td>6</td>\n",
       "      <td>332</td>\n",
       "      <td>3205</td>\n",
       "      <td>1243</td>\n",
       "      <td>11</td>\n",
       "      <td>11</td>\n",
       "      <td>668</td>\n",
       "      <td>173</td>\n",
       "      <td>919</td>\n",
       "      <td>201</td>\n",
       "      <td>105</td>\n",
       "    </tr>\n",
       "    <tr>\n",
       "      <th>5</th>\n",
       "      <td>최희섭</td>\n",
       "      <td>0.281</td>\n",
       "      <td>634</td>\n",
       "      <td>2131</td>\n",
       "      <td>327</td>\n",
       "      <td>598</td>\n",
       "      <td>115</td>\n",
       "      <td>4</td>\n",
       "      <td>100</td>\n",
       "      <td>1021</td>\n",
       "      <td>393</td>\n",
       "      <td>16</td>\n",
       "      <td>14</td>\n",
       "      <td>365</td>\n",
       "      <td>24</td>\n",
       "      <td>515</td>\n",
       "      <td>67</td>\n",
       "      <td>30</td>\n",
       "    </tr>\n",
       "    <tr>\n",
       "      <th>6</th>\n",
       "      <td>황재균</td>\n",
       "      <td>0.289</td>\n",
       "      <td>1584</td>\n",
       "      <td>5680</td>\n",
       "      <td>867</td>\n",
       "      <td>1644</td>\n",
       "      <td>315</td>\n",
       "      <td>38</td>\n",
       "      <td>181</td>\n",
       "      <td>2578</td>\n",
       "      <td>846</td>\n",
       "      <td>208</td>\n",
       "      <td>106</td>\n",
       "      <td>533</td>\n",
       "      <td>56</td>\n",
       "      <td>1062</td>\n",
       "      <td>122</td>\n",
       "      <td>186</td>\n",
       "    </tr>\n",
       "  </tbody>\n",
       "</table>\n",
       "</div>"
      ],
      "text/plain": [
       "    이름     타율    경기    타수   득점    안타  2루타 3루타   홈런    루타    타점   도루 도루실패   볼넷  \\\n",
       "0  강정호  0.298   902  3070  470   916  193  10  139  1546   545   51   28  387   \n",
       "1  김하성  0.294   891  3195  606   940  191  23  133  1576   575  134   38  381   \n",
       "2  김현수  0.322  1530  5592  928  1799  341  22  195  2769  1073   58   45  761   \n",
       "3  박병호  0.283  1196  3889  771  1101  186   5  307  2218   880   59   24  635   \n",
       "4  이대호  0.309  1715  6158  880  1900  297   6  332  3205  1243   11   11  668   \n",
       "5  최희섭  0.281   634  2131  327   598  115   4  100  1021   393   16   14  365   \n",
       "6  황재균  0.289  1584  5680  867  1644  315  38  181  2578   846  208  106  533   \n",
       "\n",
       "    사구    삼진  병살타   실책  \n",
       "0   50   601  100  103  \n",
       "1   39   502   67  114  \n",
       "2   55   667  122   32  \n",
       "3   98  1146   80   63  \n",
       "4  173   919  201  105  \n",
       "5   24   515   67   30  \n",
       "6   56  1062  122  186  "
      ]
     },
     "execution_count": 396,
     "metadata": {},
     "output_type": "execute_result"
    }
   ],
   "source": [
    "hitter_majorleaguer_career_df = hitter_majorleaguer_career_df_raw.copy()\n",
    "\n",
    "for idx in range(len(hitter_majorleaguer_career_df_raw.index)):\n",
    "    for col in hitter_majorleaguer_career_df_raw.columns[3:]:\n",
    "        hitter_majorleaguer_career_df.loc[idx][col] = float(hitter_majorleaguer_career_df_raw[col][idx]) / float(hitter_majorleaguer_career_df_raw['경기'][idx])\n",
    "\n",
    "hitter_majorleaguer_career_df"
   ]
  },
  {
   "cell_type": "markdown",
   "metadata": {},
   "source": [
    "<font size=4>모든 지표들을 전체 경기로 나눠 한 경기당 해당 지표를 구할 수 있다.</font>\n",
    "\n",
    "---"
   ]
  },
  {
   "cell_type": "markdown",
   "metadata": {},
   "source": [
    "<h2>2. pandas_profiling 모듈을 이용한 간단한 EDA를 통한 데이터 파악</h2>"
   ]
  },
  {
   "cell_type": "code",
   "execution_count": 387,
   "metadata": {},
   "outputs": [],
   "source": [
    "#hitter_majorleaguer_career_df.profile_report()"
   ]
  },
  {
   "cell_type": "markdown",
   "metadata": {},
   "source": [
    "<font size=4>pandas_profiling을 통해 간단한 EDA를 할 수 있다.</font>\n",
    "\n",
    "---"
   ]
  },
  {
   "cell_type": "markdown",
   "metadata": {},
   "source": [
    "<h2>3. 2020년 타율 순으로 상위 10명의 선수들의 데이터 전처리</h2>"
   ]
  },
  {
   "cell_type": "markdown",
   "metadata": {},
   "source": [
    "<font size=4>한국인 메이저리그 선수들과 column값이 다르기 때문에 수정이 필요하다.<br><br>메이저리그 선수들의 column값으로 통일하려한다.</font>"
   ]
  },
  {
   "cell_type": "markdown",
   "metadata": {},
   "source": [
    "```Python\n",
    "column = ['이름'] + standard_column[2:]\n",
    "hitter_KBO_career_df_raw = pd.DataFrame(columns=column)\n",
    "\n",
    "for idx, name in enumerate(top10_hitter_url_df['Name'].to_list()):\n",
    "    hitter_KBO_career_df_raw.loc[idx] = top10_hitter_dict[name].iloc[-1][2:]\n",
    "    hitter_KBO_career_df_raw['이름'][idx] = name\n",
    "hitter_KBO_career_df_raw\n",
    "```"
   ]
  },
  {
   "cell_type": "code",
   "execution_count": 397,
   "metadata": {},
   "outputs": [
    {
     "data": {
      "text/html": [
       "<div>\n",
       "<style scoped>\n",
       "    .dataframe tbody tr th:only-of-type {\n",
       "        vertical-align: middle;\n",
       "    }\n",
       "\n",
       "    .dataframe tbody tr th {\n",
       "        vertical-align: top;\n",
       "    }\n",
       "\n",
       "    .dataframe thead th {\n",
       "        text-align: right;\n",
       "    }\n",
       "</style>\n",
       "<table border=\"1\" class=\"dataframe\">\n",
       "  <thead>\n",
       "    <tr style=\"text-align: right;\">\n",
       "      <th></th>\n",
       "      <th>이름</th>\n",
       "      <th>타율</th>\n",
       "      <th>경기</th>\n",
       "      <th>타수</th>\n",
       "      <th>득점</th>\n",
       "      <th>안타</th>\n",
       "      <th>2루타</th>\n",
       "      <th>3루타</th>\n",
       "      <th>홈런</th>\n",
       "      <th>루타</th>\n",
       "      <th>타점</th>\n",
       "      <th>도루</th>\n",
       "      <th>도루실패</th>\n",
       "      <th>볼넷</th>\n",
       "      <th>사구</th>\n",
       "      <th>삼진</th>\n",
       "      <th>병살타</th>\n",
       "      <th>실책</th>\n",
       "    </tr>\n",
       "  </thead>\n",
       "  <tbody>\n",
       "    <tr>\n",
       "      <th>0</th>\n",
       "      <td>최형우</td>\n",
       "      <td>0.321</td>\n",
       "      <td>1708</td>\n",
       "      <td>6194</td>\n",
       "      <td>1053</td>\n",
       "      <td>1986</td>\n",
       "      <td>421</td>\n",
       "      <td>14</td>\n",
       "      <td>330</td>\n",
       "      <td>3425</td>\n",
       "      <td>1335</td>\n",
       "      <td>27</td>\n",
       "      <td>18</td>\n",
       "      <td>873</td>\n",
       "      <td>95</td>\n",
       "      <td>1076</td>\n",
       "      <td>157</td>\n",
       "      <td>27</td>\n",
       "    </tr>\n",
       "    <tr>\n",
       "      <th>1</th>\n",
       "      <td>손아섭</td>\n",
       "      <td>0.325</td>\n",
       "      <td>1557</td>\n",
       "      <td>5859</td>\n",
       "      <td>1059</td>\n",
       "      <td>1904</td>\n",
       "      <td>331</td>\n",
       "      <td>25</td>\n",
       "      <td>162</td>\n",
       "      <td>2771</td>\n",
       "      <td>815</td>\n",
       "      <td>194</td>\n",
       "      <td>54</td>\n",
       "      <td>739</td>\n",
       "      <td>32</td>\n",
       "      <td>1002</td>\n",
       "      <td>85</td>\n",
       "      <td>50</td>\n",
       "    </tr>\n",
       "    <tr>\n",
       "      <th>2</th>\n",
       "      <td>박민우</td>\n",
       "      <td>0.330</td>\n",
       "      <td>884</td>\n",
       "      <td>3146</td>\n",
       "      <td>615</td>\n",
       "      <td>1038</td>\n",
       "      <td>166</td>\n",
       "      <td>43</td>\n",
       "      <td>24</td>\n",
       "      <td>1362</td>\n",
       "      <td>336</td>\n",
       "      <td>184</td>\n",
       "      <td>53</td>\n",
       "      <td>344</td>\n",
       "      <td>78</td>\n",
       "      <td>463</td>\n",
       "      <td>55</td>\n",
       "      <td>72</td>\n",
       "    </tr>\n",
       "    <tr>\n",
       "      <th>3</th>\n",
       "      <td>페르난데스</td>\n",
       "      <td>0.342</td>\n",
       "      <td>288</td>\n",
       "      <td>1158</td>\n",
       "      <td>191</td>\n",
       "      <td>396</td>\n",
       "      <td>63</td>\n",
       "      <td>0</td>\n",
       "      <td>36</td>\n",
       "      <td>567</td>\n",
       "      <td>193</td>\n",
       "      <td>1</td>\n",
       "      <td>3</td>\n",
       "      <td>119</td>\n",
       "      <td>19</td>\n",
       "      <td>96</td>\n",
       "      <td>42</td>\n",
       "      <td>4</td>\n",
       "    </tr>\n",
       "    <tr>\n",
       "      <th>4</th>\n",
       "      <td>이정후</td>\n",
       "      <td>0.336</td>\n",
       "      <td>533</td>\n",
       "      <td>2129</td>\n",
       "      <td>368</td>\n",
       "      <td>716</td>\n",
       "      <td>143</td>\n",
       "      <td>25</td>\n",
       "      <td>29</td>\n",
       "      <td>996</td>\n",
       "      <td>273</td>\n",
       "      <td>48</td>\n",
       "      <td>17</td>\n",
       "      <td>206</td>\n",
       "      <td>22</td>\n",
       "      <td>212</td>\n",
       "      <td>45</td>\n",
       "      <td>13</td>\n",
       "    </tr>\n",
       "    <tr>\n",
       "      <th>5</th>\n",
       "      <td>허경민</td>\n",
       "      <td>0.296</td>\n",
       "      <td>1046</td>\n",
       "      <td>3319</td>\n",
       "      <td>532</td>\n",
       "      <td>984</td>\n",
       "      <td>171</td>\n",
       "      <td>16</td>\n",
       "      <td>33</td>\n",
       "      <td>1286</td>\n",
       "      <td>408</td>\n",
       "      <td>96</td>\n",
       "      <td>44</td>\n",
       "      <td>265</td>\n",
       "      <td>89</td>\n",
       "      <td>316</td>\n",
       "      <td>102</td>\n",
       "      <td>65</td>\n",
       "    </tr>\n",
       "    <tr>\n",
       "      <th>6</th>\n",
       "      <td>김현수</td>\n",
       "      <td>0.322</td>\n",
       "      <td>1530</td>\n",
       "      <td>5592</td>\n",
       "      <td>928</td>\n",
       "      <td>1799</td>\n",
       "      <td>341</td>\n",
       "      <td>22</td>\n",
       "      <td>195</td>\n",
       "      <td>2769</td>\n",
       "      <td>1073</td>\n",
       "      <td>58</td>\n",
       "      <td>45</td>\n",
       "      <td>761</td>\n",
       "      <td>55</td>\n",
       "      <td>667</td>\n",
       "      <td>122</td>\n",
       "      <td>32</td>\n",
       "    </tr>\n",
       "    <tr>\n",
       "      <th>7</th>\n",
       "      <td>강백호</td>\n",
       "      <td>0.317</td>\n",
       "      <td>383</td>\n",
       "      <td>1465</td>\n",
       "      <td>275</td>\n",
       "      <td>465</td>\n",
       "      <td>97</td>\n",
       "      <td>4</td>\n",
       "      <td>65</td>\n",
       "      <td>765</td>\n",
       "      <td>238</td>\n",
       "      <td>19</td>\n",
       "      <td>12</td>\n",
       "      <td>179</td>\n",
       "      <td>10</td>\n",
       "      <td>304</td>\n",
       "      <td>22</td>\n",
       "      <td>19</td>\n",
       "    </tr>\n",
       "    <tr>\n",
       "      <th>8</th>\n",
       "      <td>양의지</td>\n",
       "      <td>0.307</td>\n",
       "      <td>1314</td>\n",
       "      <td>4128</td>\n",
       "      <td>621</td>\n",
       "      <td>1269</td>\n",
       "      <td>232</td>\n",
       "      <td>8</td>\n",
       "      <td>178</td>\n",
       "      <td>2051</td>\n",
       "      <td>739</td>\n",
       "      <td>41</td>\n",
       "      <td>20</td>\n",
       "      <td>442</td>\n",
       "      <td>128</td>\n",
       "      <td>537</td>\n",
       "      <td>141</td>\n",
       "      <td>60</td>\n",
       "    </tr>\n",
       "    <tr>\n",
       "      <th>9</th>\n",
       "      <td>나성범</td>\n",
       "      <td>0.317</td>\n",
       "      <td>937</td>\n",
       "      <td>3689</td>\n",
       "      <td>718</td>\n",
       "      <td>1170</td>\n",
       "      <td>244</td>\n",
       "      <td>25</td>\n",
       "      <td>179</td>\n",
       "      <td>2001</td>\n",
       "      <td>729</td>\n",
       "      <td>93</td>\n",
       "      <td>26</td>\n",
       "      <td>327</td>\n",
       "      <td>91</td>\n",
       "      <td>907</td>\n",
       "      <td>51</td>\n",
       "      <td>31</td>\n",
       "    </tr>\n",
       "  </tbody>\n",
       "</table>\n",
       "</div>"
      ],
      "text/plain": [
       "      이름     타율    경기    타수    득점    안타  2루타 3루타   홈런    루타    타점   도루 도루실패  \\\n",
       "0    최형우  0.321  1708  6194  1053  1986  421  14  330  3425  1335   27   18   \n",
       "1    손아섭  0.325  1557  5859  1059  1904  331  25  162  2771   815  194   54   \n",
       "2    박민우  0.330   884  3146   615  1038  166  43   24  1362   336  184   53   \n",
       "3  페르난데스  0.342   288  1158   191   396   63   0   36   567   193    1    3   \n",
       "4    이정후  0.336   533  2129   368   716  143  25   29   996   273   48   17   \n",
       "5    허경민  0.296  1046  3319   532   984  171  16   33  1286   408   96   44   \n",
       "6    김현수  0.322  1530  5592   928  1799  341  22  195  2769  1073   58   45   \n",
       "7    강백호  0.317   383  1465   275   465   97   4   65   765   238   19   12   \n",
       "8    양의지  0.307  1314  4128   621  1269  232   8  178  2051   739   41   20   \n",
       "9    나성범  0.317   937  3689   718  1170  244  25  179  2001   729   93   26   \n",
       "\n",
       "    볼넷   사구    삼진  병살타  실책  \n",
       "0  873   95  1076  157  27  \n",
       "1  739   32  1002   85  50  \n",
       "2  344   78   463   55  72  \n",
       "3  119   19    96   42   4  \n",
       "4  206   22   212   45  13  \n",
       "5  265   89   316  102  65  \n",
       "6  761   55   667  122  32  \n",
       "7  179   10   304   22  19  \n",
       "8  442  128   537  141  60  \n",
       "9  327   91   907   51  31  "
      ]
     },
     "execution_count": 397,
     "metadata": {},
     "output_type": "execute_result"
    }
   ],
   "source": [
    "column = ['이름'] + standard_column[2:]\n",
    "hitter_KBO_career_df_raw = pd.DataFrame(columns=column)\n",
    "\n",
    "for idx, name in enumerate(top10_hitter_url_df['Name'].to_list()):\n",
    "    hitter_KBO_career_df_raw.loc[idx] = top10_hitter_dict[name].iloc[-1][2:]\n",
    "    hitter_KBO_career_df_raw['이름'][idx] = name\n",
    "hitter_KBO_career_df_raw"
   ]
  },
  {
   "cell_type": "markdown",
   "metadata": {},
   "source": [
    "<font size=4>위이 데이터 또한 각 지표들을 경기수로 나누어 신뢰성을 높인다.</font>"
   ]
  },
  {
   "cell_type": "markdown",
   "metadata": {},
   "source": [
    "```Python\n",
    "hitter_KBO_career_df = hitter_KBO_career_df_raw.copy()\n",
    "\n",
    "for idx in range(len(hitter_KBO_career_df_raw.index)):\n",
    "    for col in hitter_KBO_career_df_raw.columns[3:]:\n",
    "        hitter_KBO_career_df.loc[idx][col] = float(hitter_KBO_career_df_raw[col][idx]) / float(hitter_KBO_career_df_raw['경기'][idx])\n",
    "hitter_KBO_career_df\n",
    "```"
   ]
  },
  {
   "cell_type": "code",
   "execution_count": 398,
   "metadata": {},
   "outputs": [
    {
     "data": {
      "text/html": [
       "<div>\n",
       "<style scoped>\n",
       "    .dataframe tbody tr th:only-of-type {\n",
       "        vertical-align: middle;\n",
       "    }\n",
       "\n",
       "    .dataframe tbody tr th {\n",
       "        vertical-align: top;\n",
       "    }\n",
       "\n",
       "    .dataframe thead th {\n",
       "        text-align: right;\n",
       "    }\n",
       "</style>\n",
       "<table border=\"1\" class=\"dataframe\">\n",
       "  <thead>\n",
       "    <tr style=\"text-align: right;\">\n",
       "      <th></th>\n",
       "      <th>이름</th>\n",
       "      <th>타율</th>\n",
       "      <th>경기</th>\n",
       "      <th>타수</th>\n",
       "      <th>득점</th>\n",
       "      <th>안타</th>\n",
       "      <th>2루타</th>\n",
       "      <th>3루타</th>\n",
       "      <th>홈런</th>\n",
       "      <th>루타</th>\n",
       "      <th>타점</th>\n",
       "      <th>도루</th>\n",
       "      <th>도루실패</th>\n",
       "      <th>볼넷</th>\n",
       "      <th>사구</th>\n",
       "      <th>삼진</th>\n",
       "      <th>병살타</th>\n",
       "      <th>실책</th>\n",
       "    </tr>\n",
       "  </thead>\n",
       "  <tbody>\n",
       "    <tr>\n",
       "      <th>0</th>\n",
       "      <td>최형우</td>\n",
       "      <td>0.321</td>\n",
       "      <td>1708</td>\n",
       "      <td>3.62646</td>\n",
       "      <td>0.616511</td>\n",
       "      <td>1.16276</td>\n",
       "      <td>0.246487</td>\n",
       "      <td>0.00819672</td>\n",
       "      <td>0.193208</td>\n",
       "      <td>2.00527</td>\n",
       "      <td>0.781616</td>\n",
       "      <td>0.015808</td>\n",
       "      <td>0.0105386</td>\n",
       "      <td>0.511124</td>\n",
       "      <td>0.0556206</td>\n",
       "      <td>0.629977</td>\n",
       "      <td>0.0919204</td>\n",
       "      <td>0.015808</td>\n",
       "    </tr>\n",
       "    <tr>\n",
       "      <th>1</th>\n",
       "      <td>손아섭</td>\n",
       "      <td>0.325</td>\n",
       "      <td>1557</td>\n",
       "      <td>3.76301</td>\n",
       "      <td>0.680154</td>\n",
       "      <td>1.22286</td>\n",
       "      <td>0.212588</td>\n",
       "      <td>0.0160565</td>\n",
       "      <td>0.104046</td>\n",
       "      <td>1.7797</td>\n",
       "      <td>0.523443</td>\n",
       "      <td>0.124599</td>\n",
       "      <td>0.0346821</td>\n",
       "      <td>0.474631</td>\n",
       "      <td>0.0205523</td>\n",
       "      <td>0.643545</td>\n",
       "      <td>0.0545922</td>\n",
       "      <td>0.032113</td>\n",
       "    </tr>\n",
       "    <tr>\n",
       "      <th>2</th>\n",
       "      <td>박민우</td>\n",
       "      <td>0.330</td>\n",
       "      <td>884</td>\n",
       "      <td>3.55882</td>\n",
       "      <td>0.695701</td>\n",
       "      <td>1.17421</td>\n",
       "      <td>0.187783</td>\n",
       "      <td>0.0486425</td>\n",
       "      <td>0.0271493</td>\n",
       "      <td>1.54072</td>\n",
       "      <td>0.38009</td>\n",
       "      <td>0.208145</td>\n",
       "      <td>0.0599548</td>\n",
       "      <td>0.38914</td>\n",
       "      <td>0.0882353</td>\n",
       "      <td>0.523756</td>\n",
       "      <td>0.0622172</td>\n",
       "      <td>0.081448</td>\n",
       "    </tr>\n",
       "    <tr>\n",
       "      <th>3</th>\n",
       "      <td>페르난데스</td>\n",
       "      <td>0.342</td>\n",
       "      <td>288</td>\n",
       "      <td>4.02083</td>\n",
       "      <td>0.663194</td>\n",
       "      <td>1.375</td>\n",
       "      <td>0.21875</td>\n",
       "      <td>0</td>\n",
       "      <td>0.125</td>\n",
       "      <td>1.96875</td>\n",
       "      <td>0.670139</td>\n",
       "      <td>0.00347222</td>\n",
       "      <td>0.0104167</td>\n",
       "      <td>0.413194</td>\n",
       "      <td>0.0659722</td>\n",
       "      <td>0.333333</td>\n",
       "      <td>0.145833</td>\n",
       "      <td>0.0138889</td>\n",
       "    </tr>\n",
       "    <tr>\n",
       "      <th>4</th>\n",
       "      <td>이정후</td>\n",
       "      <td>0.336</td>\n",
       "      <td>533</td>\n",
       "      <td>3.99437</td>\n",
       "      <td>0.690432</td>\n",
       "      <td>1.34334</td>\n",
       "      <td>0.268293</td>\n",
       "      <td>0.0469043</td>\n",
       "      <td>0.054409</td>\n",
       "      <td>1.86867</td>\n",
       "      <td>0.512195</td>\n",
       "      <td>0.0900563</td>\n",
       "      <td>0.0318949</td>\n",
       "      <td>0.386492</td>\n",
       "      <td>0.0412758</td>\n",
       "      <td>0.397749</td>\n",
       "      <td>0.0844278</td>\n",
       "      <td>0.0243902</td>\n",
       "    </tr>\n",
       "    <tr>\n",
       "      <th>5</th>\n",
       "      <td>허경민</td>\n",
       "      <td>0.296</td>\n",
       "      <td>1046</td>\n",
       "      <td>3.17304</td>\n",
       "      <td>0.508604</td>\n",
       "      <td>0.940727</td>\n",
       "      <td>0.16348</td>\n",
       "      <td>0.0152964</td>\n",
       "      <td>0.0315488</td>\n",
       "      <td>1.22945</td>\n",
       "      <td>0.390057</td>\n",
       "      <td>0.0917782</td>\n",
       "      <td>0.042065</td>\n",
       "      <td>0.253346</td>\n",
       "      <td>0.085086</td>\n",
       "      <td>0.302103</td>\n",
       "      <td>0.0975143</td>\n",
       "      <td>0.0621415</td>\n",
       "    </tr>\n",
       "    <tr>\n",
       "      <th>6</th>\n",
       "      <td>김현수</td>\n",
       "      <td>0.322</td>\n",
       "      <td>1530</td>\n",
       "      <td>3.6549</td>\n",
       "      <td>0.606536</td>\n",
       "      <td>1.17582</td>\n",
       "      <td>0.222876</td>\n",
       "      <td>0.0143791</td>\n",
       "      <td>0.127451</td>\n",
       "      <td>1.8098</td>\n",
       "      <td>0.701307</td>\n",
       "      <td>0.0379085</td>\n",
       "      <td>0.0294118</td>\n",
       "      <td>0.497386</td>\n",
       "      <td>0.0359477</td>\n",
       "      <td>0.435948</td>\n",
       "      <td>0.0797386</td>\n",
       "      <td>0.020915</td>\n",
       "    </tr>\n",
       "    <tr>\n",
       "      <th>7</th>\n",
       "      <td>강백호</td>\n",
       "      <td>0.317</td>\n",
       "      <td>383</td>\n",
       "      <td>3.82507</td>\n",
       "      <td>0.718016</td>\n",
       "      <td>1.2141</td>\n",
       "      <td>0.253264</td>\n",
       "      <td>0.0104439</td>\n",
       "      <td>0.169713</td>\n",
       "      <td>1.99739</td>\n",
       "      <td>0.62141</td>\n",
       "      <td>0.0496084</td>\n",
       "      <td>0.0313316</td>\n",
       "      <td>0.467363</td>\n",
       "      <td>0.0261097</td>\n",
       "      <td>0.793734</td>\n",
       "      <td>0.0574413</td>\n",
       "      <td>0.0496084</td>\n",
       "    </tr>\n",
       "    <tr>\n",
       "      <th>8</th>\n",
       "      <td>양의지</td>\n",
       "      <td>0.307</td>\n",
       "      <td>1314</td>\n",
       "      <td>3.14155</td>\n",
       "      <td>0.472603</td>\n",
       "      <td>0.965753</td>\n",
       "      <td>0.17656</td>\n",
       "      <td>0.00608828</td>\n",
       "      <td>0.135464</td>\n",
       "      <td>1.56088</td>\n",
       "      <td>0.562405</td>\n",
       "      <td>0.0312024</td>\n",
       "      <td>0.0152207</td>\n",
       "      <td>0.336377</td>\n",
       "      <td>0.0974125</td>\n",
       "      <td>0.408676</td>\n",
       "      <td>0.107306</td>\n",
       "      <td>0.0456621</td>\n",
       "    </tr>\n",
       "    <tr>\n",
       "      <th>9</th>\n",
       "      <td>나성범</td>\n",
       "      <td>0.317</td>\n",
       "      <td>937</td>\n",
       "      <td>3.93703</td>\n",
       "      <td>0.766275</td>\n",
       "      <td>1.24867</td>\n",
       "      <td>0.260406</td>\n",
       "      <td>0.0266809</td>\n",
       "      <td>0.191035</td>\n",
       "      <td>2.13554</td>\n",
       "      <td>0.778015</td>\n",
       "      <td>0.0992529</td>\n",
       "      <td>0.0277481</td>\n",
       "      <td>0.348986</td>\n",
       "      <td>0.0971185</td>\n",
       "      <td>0.967983</td>\n",
       "      <td>0.054429</td>\n",
       "      <td>0.0330843</td>\n",
       "    </tr>\n",
       "  </tbody>\n",
       "</table>\n",
       "</div>"
      ],
      "text/plain": [
       "      이름     타율    경기       타수        득점        안타       2루타         3루타  \\\n",
       "0    최형우  0.321  1708  3.62646  0.616511   1.16276  0.246487  0.00819672   \n",
       "1    손아섭  0.325  1557  3.76301  0.680154   1.22286  0.212588   0.0160565   \n",
       "2    박민우  0.330   884  3.55882  0.695701   1.17421  0.187783   0.0486425   \n",
       "3  페르난데스  0.342   288  4.02083  0.663194     1.375   0.21875           0   \n",
       "4    이정후  0.336   533  3.99437  0.690432   1.34334  0.268293   0.0469043   \n",
       "5    허경민  0.296  1046  3.17304  0.508604  0.940727   0.16348   0.0152964   \n",
       "6    김현수  0.322  1530   3.6549  0.606536   1.17582  0.222876   0.0143791   \n",
       "7    강백호  0.317   383  3.82507  0.718016    1.2141  0.253264   0.0104439   \n",
       "8    양의지  0.307  1314  3.14155  0.472603  0.965753   0.17656  0.00608828   \n",
       "9    나성범  0.317   937  3.93703  0.766275   1.24867  0.260406   0.0266809   \n",
       "\n",
       "          홈런       루타        타점          도루       도루실패        볼넷         사구  \\\n",
       "0   0.193208  2.00527  0.781616    0.015808  0.0105386  0.511124  0.0556206   \n",
       "1   0.104046   1.7797  0.523443    0.124599  0.0346821  0.474631  0.0205523   \n",
       "2  0.0271493  1.54072   0.38009    0.208145  0.0599548   0.38914  0.0882353   \n",
       "3      0.125  1.96875  0.670139  0.00347222  0.0104167  0.413194  0.0659722   \n",
       "4   0.054409  1.86867  0.512195   0.0900563  0.0318949  0.386492  0.0412758   \n",
       "5  0.0315488  1.22945  0.390057   0.0917782   0.042065  0.253346   0.085086   \n",
       "6   0.127451   1.8098  0.701307   0.0379085  0.0294118  0.497386  0.0359477   \n",
       "7   0.169713  1.99739   0.62141   0.0496084  0.0313316  0.467363  0.0261097   \n",
       "8   0.135464  1.56088  0.562405   0.0312024  0.0152207  0.336377  0.0974125   \n",
       "9   0.191035  2.13554  0.778015   0.0992529  0.0277481  0.348986  0.0971185   \n",
       "\n",
       "         삼진        병살타         실책  \n",
       "0  0.629977  0.0919204   0.015808  \n",
       "1  0.643545  0.0545922   0.032113  \n",
       "2  0.523756  0.0622172   0.081448  \n",
       "3  0.333333   0.145833  0.0138889  \n",
       "4  0.397749  0.0844278  0.0243902  \n",
       "5  0.302103  0.0975143  0.0621415  \n",
       "6  0.435948  0.0797386   0.020915  \n",
       "7  0.793734  0.0574413  0.0496084  \n",
       "8  0.408676   0.107306  0.0456621  \n",
       "9  0.967983   0.054429  0.0330843  "
      ]
     },
     "execution_count": 398,
     "metadata": {},
     "output_type": "execute_result"
    }
   ],
   "source": [
    "hitter_KBO_career_df = hitter_KBO_career_df_raw.copy()\n",
    "\n",
    "for idx in range(len(hitter_KBO_career_df_raw.index)):\n",
    "    for col in hitter_KBO_career_df_raw.columns[3:]:\n",
    "        hitter_KBO_career_df.loc[idx][col] = float(hitter_KBO_career_df_raw[col][idx]) / float(hitter_KBO_career_df_raw['경기'][idx])\n",
    "hitter_KBO_career_df"
   ]
  },
  {
   "cell_type": "markdown",
   "metadata": {},
   "source": [
    "<font size=4>한국인 메이저리그 타자 데이터와 KBO 상위 10명의 타자 데이터가 모두 준비되었다.</font>\n",
    "\n",
    "---"
   ]
  },
  {
   "cell_type": "markdown",
   "metadata": {},
   "source": [
    "<h2>4. pandas_profiling 모듈을 이용한 간단한 EDA를 통한 데이터 파악</h2>"
   ]
  },
  {
   "cell_type": "code",
   "execution_count": 390,
   "metadata": {},
   "outputs": [],
   "source": [
    "#hitter_KBO_career_df.profile_report()"
   ]
  },
  {
   "cell_type": "markdown",
   "metadata": {},
   "source": [
    "<font size=4>간단한 EDA까지 마쳤으니, 이제 본격적으로 KBO에서 메이저리그로 진출할 가능성이 높은 선수를 분석해보자</font>\n",
    "\n",
    "---"
   ]
  },
  {
   "cell_type": "code",
   "execution_count": null,
   "metadata": {},
   "outputs": [],
   "source": [
    "hitter_KBO_career_df[ㅏ]"
   ]
  },
  {
   "cell_type": "markdown",
   "metadata": {},
   "source": [
    "<h2>5. 한국인 메이저리그 타자 선수들과 2020년 KBO 상위(타율순) 10명의 선수를 비교분석하여 어떤 선수가 메이저리그로 향할 가능성이 가장 높은지 알아보자!</h2>"
   ]
  },
  {
   "cell_type": "code",
   "execution_count": 358,
   "metadata": {},
   "outputs": [],
   "source": [
    "hitter_KBO_career_df['타율'] = hitter_KBO_career_df['타율'].astype(float)\n",
    "hitter_majorleaguer_career_df['타율'] = hitter_majorleaguer_career_df['타율'].astype(float)"
   ]
  },
  {
   "cell_type": "code",
   "execution_count": 359,
   "metadata": {},
   "outputs": [],
   "source": [
    "majorleage_ls = []\n",
    "kbo_ls = []\n",
    "columns_except_game = hitter_KBO_career_df.columns.to_list()[1:]\n",
    "columns_except_game.remove('경기')\n",
    "\n",
    "for category in hitter_majorleaguer_career_df.columns.to_list()[1:]:\n",
    "    if category != '경기':\n",
    "        majorleage_ls.append(hitter_majorleaguer_career_df[category].astype(float).mean())\n",
    "        kbo_ls.append(hitter_KBO_career_df[category].mean())"
   ]
  },
  {
   "cell_type": "code",
   "execution_count": 364,
   "metadata": {},
   "outputs": [
    {
     "data": {
      "application/vnd.plotly.v1+json": {
       "config": {
        "plotlyServerURL": "https://plot.ly"
       },
       "data": [
        {
         "name": "한국인 메이저리거",
         "type": "bar",
         "x": [
          "타율",
          "타수",
          "득점",
          "안타",
          "2루타",
          "3루타",
          "홈런",
          "루타",
          "타점",
          "도루",
          "도루실패",
          "볼넷",
          "사구",
          "삼진",
          "병살타",
          "실책"
         ],
         "y": [
          0.2965714285714286,
          3.4905297624643885,
          0.5755178068384693,
          1.036552740225255,
          0.1943083631562527,
          0.012751063354916102,
          0.16472783014218165,
          1.7505467205178848,
          0.6521991974675175,
          0.06530530799546545,
          0.031226385324600352,
          0.45524030255920217,
          0.05588199836256359,
          0.6632097356419392,
          0.09036984991125727,
          0.07738496821130128
         ]
        },
        {
         "name": "2020년 KBO 상위 10명의 타자",
         "type": "bar",
         "x": [
          "타율",
          "타수",
          "득점",
          "안타",
          "2루타",
          "3루타",
          "홈런",
          "루타",
          "타점",
          "도루",
          "도루실패",
          "볼넷",
          "사구",
          "삼진",
          "병살타",
          "실책"
         ],
         "y": [
          0.32130000000000003,
          3.6695090809129054,
          0.6418025909421294,
          1.1823237848506372,
          0.2210486038124338,
          0.019268858224071792,
          0.11590249820174052,
          1.7896175997164363,
          0.5920677235814635,
          0.07518302780470669,
          0.029326427418774566,
          0.40780393198055576,
          0.06133306260765017,
          0.5436802810163623,
          0.08354199549718862,
          0.037905938827129934
         ]
        }
       ],
       "layout": {
        "polar": {
         "radialaxis": {
          "range": [
           0,
           1.5
          ]
         }
        },
        "template": {
         "data": {
          "bar": [
           {
            "error_x": {
             "color": "#2a3f5f"
            },
            "error_y": {
             "color": "#2a3f5f"
            },
            "marker": {
             "line": {
              "color": "#E5ECF6",
              "width": 0.5
             }
            },
            "type": "bar"
           }
          ],
          "barpolar": [
           {
            "marker": {
             "line": {
              "color": "#E5ECF6",
              "width": 0.5
             }
            },
            "type": "barpolar"
           }
          ],
          "carpet": [
           {
            "aaxis": {
             "endlinecolor": "#2a3f5f",
             "gridcolor": "white",
             "linecolor": "white",
             "minorgridcolor": "white",
             "startlinecolor": "#2a3f5f"
            },
            "baxis": {
             "endlinecolor": "#2a3f5f",
             "gridcolor": "white",
             "linecolor": "white",
             "minorgridcolor": "white",
             "startlinecolor": "#2a3f5f"
            },
            "type": "carpet"
           }
          ],
          "choropleth": [
           {
            "colorbar": {
             "outlinewidth": 0,
             "ticks": ""
            },
            "type": "choropleth"
           }
          ],
          "contour": [
           {
            "colorbar": {
             "outlinewidth": 0,
             "ticks": ""
            },
            "colorscale": [
             [
              0,
              "#0d0887"
             ],
             [
              0.1111111111111111,
              "#46039f"
             ],
             [
              0.2222222222222222,
              "#7201a8"
             ],
             [
              0.3333333333333333,
              "#9c179e"
             ],
             [
              0.4444444444444444,
              "#bd3786"
             ],
             [
              0.5555555555555556,
              "#d8576b"
             ],
             [
              0.6666666666666666,
              "#ed7953"
             ],
             [
              0.7777777777777778,
              "#fb9f3a"
             ],
             [
              0.8888888888888888,
              "#fdca26"
             ],
             [
              1,
              "#f0f921"
             ]
            ],
            "type": "contour"
           }
          ],
          "contourcarpet": [
           {
            "colorbar": {
             "outlinewidth": 0,
             "ticks": ""
            },
            "type": "contourcarpet"
           }
          ],
          "heatmap": [
           {
            "colorbar": {
             "outlinewidth": 0,
             "ticks": ""
            },
            "colorscale": [
             [
              0,
              "#0d0887"
             ],
             [
              0.1111111111111111,
              "#46039f"
             ],
             [
              0.2222222222222222,
              "#7201a8"
             ],
             [
              0.3333333333333333,
              "#9c179e"
             ],
             [
              0.4444444444444444,
              "#bd3786"
             ],
             [
              0.5555555555555556,
              "#d8576b"
             ],
             [
              0.6666666666666666,
              "#ed7953"
             ],
             [
              0.7777777777777778,
              "#fb9f3a"
             ],
             [
              0.8888888888888888,
              "#fdca26"
             ],
             [
              1,
              "#f0f921"
             ]
            ],
            "type": "heatmap"
           }
          ],
          "heatmapgl": [
           {
            "colorbar": {
             "outlinewidth": 0,
             "ticks": ""
            },
            "colorscale": [
             [
              0,
              "#0d0887"
             ],
             [
              0.1111111111111111,
              "#46039f"
             ],
             [
              0.2222222222222222,
              "#7201a8"
             ],
             [
              0.3333333333333333,
              "#9c179e"
             ],
             [
              0.4444444444444444,
              "#bd3786"
             ],
             [
              0.5555555555555556,
              "#d8576b"
             ],
             [
              0.6666666666666666,
              "#ed7953"
             ],
             [
              0.7777777777777778,
              "#fb9f3a"
             ],
             [
              0.8888888888888888,
              "#fdca26"
             ],
             [
              1,
              "#f0f921"
             ]
            ],
            "type": "heatmapgl"
           }
          ],
          "histogram": [
           {
            "marker": {
             "colorbar": {
              "outlinewidth": 0,
              "ticks": ""
             }
            },
            "type": "histogram"
           }
          ],
          "histogram2d": [
           {
            "colorbar": {
             "outlinewidth": 0,
             "ticks": ""
            },
            "colorscale": [
             [
              0,
              "#0d0887"
             ],
             [
              0.1111111111111111,
              "#46039f"
             ],
             [
              0.2222222222222222,
              "#7201a8"
             ],
             [
              0.3333333333333333,
              "#9c179e"
             ],
             [
              0.4444444444444444,
              "#bd3786"
             ],
             [
              0.5555555555555556,
              "#d8576b"
             ],
             [
              0.6666666666666666,
              "#ed7953"
             ],
             [
              0.7777777777777778,
              "#fb9f3a"
             ],
             [
              0.8888888888888888,
              "#fdca26"
             ],
             [
              1,
              "#f0f921"
             ]
            ],
            "type": "histogram2d"
           }
          ],
          "histogram2dcontour": [
           {
            "colorbar": {
             "outlinewidth": 0,
             "ticks": ""
            },
            "colorscale": [
             [
              0,
              "#0d0887"
             ],
             [
              0.1111111111111111,
              "#46039f"
             ],
             [
              0.2222222222222222,
              "#7201a8"
             ],
             [
              0.3333333333333333,
              "#9c179e"
             ],
             [
              0.4444444444444444,
              "#bd3786"
             ],
             [
              0.5555555555555556,
              "#d8576b"
             ],
             [
              0.6666666666666666,
              "#ed7953"
             ],
             [
              0.7777777777777778,
              "#fb9f3a"
             ],
             [
              0.8888888888888888,
              "#fdca26"
             ],
             [
              1,
              "#f0f921"
             ]
            ],
            "type": "histogram2dcontour"
           }
          ],
          "mesh3d": [
           {
            "colorbar": {
             "outlinewidth": 0,
             "ticks": ""
            },
            "type": "mesh3d"
           }
          ],
          "parcoords": [
           {
            "line": {
             "colorbar": {
              "outlinewidth": 0,
              "ticks": ""
             }
            },
            "type": "parcoords"
           }
          ],
          "pie": [
           {
            "automargin": true,
            "type": "pie"
           }
          ],
          "scatter": [
           {
            "marker": {
             "colorbar": {
              "outlinewidth": 0,
              "ticks": ""
             }
            },
            "type": "scatter"
           }
          ],
          "scatter3d": [
           {
            "line": {
             "colorbar": {
              "outlinewidth": 0,
              "ticks": ""
             }
            },
            "marker": {
             "colorbar": {
              "outlinewidth": 0,
              "ticks": ""
             }
            },
            "type": "scatter3d"
           }
          ],
          "scattercarpet": [
           {
            "marker": {
             "colorbar": {
              "outlinewidth": 0,
              "ticks": ""
             }
            },
            "type": "scattercarpet"
           }
          ],
          "scattergeo": [
           {
            "marker": {
             "colorbar": {
              "outlinewidth": 0,
              "ticks": ""
             }
            },
            "type": "scattergeo"
           }
          ],
          "scattergl": [
           {
            "marker": {
             "colorbar": {
              "outlinewidth": 0,
              "ticks": ""
             }
            },
            "type": "scattergl"
           }
          ],
          "scattermapbox": [
           {
            "marker": {
             "colorbar": {
              "outlinewidth": 0,
              "ticks": ""
             }
            },
            "type": "scattermapbox"
           }
          ],
          "scatterpolar": [
           {
            "marker": {
             "colorbar": {
              "outlinewidth": 0,
              "ticks": ""
             }
            },
            "type": "scatterpolar"
           }
          ],
          "scatterpolargl": [
           {
            "marker": {
             "colorbar": {
              "outlinewidth": 0,
              "ticks": ""
             }
            },
            "type": "scatterpolargl"
           }
          ],
          "scatterternary": [
           {
            "marker": {
             "colorbar": {
              "outlinewidth": 0,
              "ticks": ""
             }
            },
            "type": "scatterternary"
           }
          ],
          "surface": [
           {
            "colorbar": {
             "outlinewidth": 0,
             "ticks": ""
            },
            "colorscale": [
             [
              0,
              "#0d0887"
             ],
             [
              0.1111111111111111,
              "#46039f"
             ],
             [
              0.2222222222222222,
              "#7201a8"
             ],
             [
              0.3333333333333333,
              "#9c179e"
             ],
             [
              0.4444444444444444,
              "#bd3786"
             ],
             [
              0.5555555555555556,
              "#d8576b"
             ],
             [
              0.6666666666666666,
              "#ed7953"
             ],
             [
              0.7777777777777778,
              "#fb9f3a"
             ],
             [
              0.8888888888888888,
              "#fdca26"
             ],
             [
              1,
              "#f0f921"
             ]
            ],
            "type": "surface"
           }
          ],
          "table": [
           {
            "cells": {
             "fill": {
              "color": "#EBF0F8"
             },
             "line": {
              "color": "white"
             }
            },
            "header": {
             "fill": {
              "color": "#C8D4E3"
             },
             "line": {
              "color": "white"
             }
            },
            "type": "table"
           }
          ]
         },
         "layout": {
          "annotationdefaults": {
           "arrowcolor": "#2a3f5f",
           "arrowhead": 0,
           "arrowwidth": 1
          },
          "autotypenumbers": "strict",
          "coloraxis": {
           "colorbar": {
            "outlinewidth": 0,
            "ticks": ""
           }
          },
          "colorscale": {
           "diverging": [
            [
             0,
             "#8e0152"
            ],
            [
             0.1,
             "#c51b7d"
            ],
            [
             0.2,
             "#de77ae"
            ],
            [
             0.3,
             "#f1b6da"
            ],
            [
             0.4,
             "#fde0ef"
            ],
            [
             0.5,
             "#f7f7f7"
            ],
            [
             0.6,
             "#e6f5d0"
            ],
            [
             0.7,
             "#b8e186"
            ],
            [
             0.8,
             "#7fbc41"
            ],
            [
             0.9,
             "#4d9221"
            ],
            [
             1,
             "#276419"
            ]
           ],
           "sequential": [
            [
             0,
             "#0d0887"
            ],
            [
             0.1111111111111111,
             "#46039f"
            ],
            [
             0.2222222222222222,
             "#7201a8"
            ],
            [
             0.3333333333333333,
             "#9c179e"
            ],
            [
             0.4444444444444444,
             "#bd3786"
            ],
            [
             0.5555555555555556,
             "#d8576b"
            ],
            [
             0.6666666666666666,
             "#ed7953"
            ],
            [
             0.7777777777777778,
             "#fb9f3a"
            ],
            [
             0.8888888888888888,
             "#fdca26"
            ],
            [
             1,
             "#f0f921"
            ]
           ],
           "sequentialminus": [
            [
             0,
             "#0d0887"
            ],
            [
             0.1111111111111111,
             "#46039f"
            ],
            [
             0.2222222222222222,
             "#7201a8"
            ],
            [
             0.3333333333333333,
             "#9c179e"
            ],
            [
             0.4444444444444444,
             "#bd3786"
            ],
            [
             0.5555555555555556,
             "#d8576b"
            ],
            [
             0.6666666666666666,
             "#ed7953"
            ],
            [
             0.7777777777777778,
             "#fb9f3a"
            ],
            [
             0.8888888888888888,
             "#fdca26"
            ],
            [
             1,
             "#f0f921"
            ]
           ]
          },
          "colorway": [
           "#636efa",
           "#EF553B",
           "#00cc96",
           "#ab63fa",
           "#FFA15A",
           "#19d3f3",
           "#FF6692",
           "#B6E880",
           "#FF97FF",
           "#FECB52"
          ],
          "font": {
           "color": "#2a3f5f"
          },
          "geo": {
           "bgcolor": "white",
           "lakecolor": "white",
           "landcolor": "#E5ECF6",
           "showlakes": true,
           "showland": true,
           "subunitcolor": "white"
          },
          "hoverlabel": {
           "align": "left"
          },
          "hovermode": "closest",
          "mapbox": {
           "style": "light"
          },
          "paper_bgcolor": "white",
          "plot_bgcolor": "#E5ECF6",
          "polar": {
           "angularaxis": {
            "gridcolor": "white",
            "linecolor": "white",
            "ticks": ""
           },
           "bgcolor": "#E5ECF6",
           "radialaxis": {
            "gridcolor": "white",
            "linecolor": "white",
            "ticks": ""
           }
          },
          "scene": {
           "xaxis": {
            "backgroundcolor": "#E5ECF6",
            "gridcolor": "white",
            "gridwidth": 2,
            "linecolor": "white",
            "showbackground": true,
            "ticks": "",
            "zerolinecolor": "white"
           },
           "yaxis": {
            "backgroundcolor": "#E5ECF6",
            "gridcolor": "white",
            "gridwidth": 2,
            "linecolor": "white",
            "showbackground": true,
            "ticks": "",
            "zerolinecolor": "white"
           },
           "zaxis": {
            "backgroundcolor": "#E5ECF6",
            "gridcolor": "white",
            "gridwidth": 2,
            "linecolor": "white",
            "showbackground": true,
            "ticks": "",
            "zerolinecolor": "white"
           }
          },
          "shapedefaults": {
           "line": {
            "color": "#2a3f5f"
           }
          },
          "ternary": {
           "aaxis": {
            "gridcolor": "white",
            "linecolor": "white",
            "ticks": ""
           },
           "baxis": {
            "gridcolor": "white",
            "linecolor": "white",
            "ticks": ""
           },
           "bgcolor": "#E5ECF6",
           "caxis": {
            "gridcolor": "white",
            "linecolor": "white",
            "ticks": ""
           }
          },
          "title": {
           "x": 0.05
          },
          "xaxis": {
           "automargin": true,
           "gridcolor": "white",
           "linecolor": "white",
           "ticks": "",
           "title": {
            "standoff": 15
           },
           "zerolinecolor": "white",
           "zerolinewidth": 2
          },
          "yaxis": {
           "automargin": true,
           "gridcolor": "white",
           "linecolor": "white",
           "ticks": "",
           "title": {
            "standoff": 15
           },
           "zerolinecolor": "white",
           "zerolinewidth": 2
          }
         }
        }
       }
      },
      "text/html": [
       "<div>                            <div id=\"8508988d-2de6-41b9-8bb7-4f402d343d96\" class=\"plotly-graph-div\" style=\"height:525px; width:100%;\"></div>            <script type=\"text/javascript\">                require([\"plotly\"], function(Plotly) {                    window.PLOTLYENV=window.PLOTLYENV || {};                                    if (document.getElementById(\"8508988d-2de6-41b9-8bb7-4f402d343d96\")) {                    Plotly.newPlot(                        \"8508988d-2de6-41b9-8bb7-4f402d343d96\",                        [{\"name\": \"\\ud55c\\uad6d\\uc778 \\uba54\\uc774\\uc800\\ub9ac\\uac70\", \"type\": \"bar\", \"x\": [\"\\ud0c0\\uc728\", \"\\ud0c0\\uc218\", \"\\ub4dd\\uc810\", \"\\uc548\\ud0c0\", \"2\\ub8e8\\ud0c0\", \"3\\ub8e8\\ud0c0\", \"\\ud648\\ub7f0\", \"\\ub8e8\\ud0c0\", \"\\ud0c0\\uc810\", \"\\ub3c4\\ub8e8\", \"\\ub3c4\\ub8e8\\uc2e4\\ud328\", \"\\ubcfc\\ub137\", \"\\uc0ac\\uad6c\", \"\\uc0bc\\uc9c4\", \"\\ubcd1\\uc0b4\\ud0c0\", \"\\uc2e4\\ucc45\"], \"y\": [0.2965714285714286, 3.4905297624643885, 0.5755178068384693, 1.036552740225255, 0.1943083631562527, 0.012751063354916102, 0.16472783014218165, 1.7505467205178848, 0.6521991974675175, 0.06530530799546545, 0.031226385324600352, 0.45524030255920217, 0.05588199836256359, 0.6632097356419392, 0.09036984991125727, 0.07738496821130128]}, {\"name\": \"2020\\ub144 KBO \\uc0c1\\uc704 10\\uba85\\uc758 \\ud0c0\\uc790\", \"type\": \"bar\", \"x\": [\"\\ud0c0\\uc728\", \"\\ud0c0\\uc218\", \"\\ub4dd\\uc810\", \"\\uc548\\ud0c0\", \"2\\ub8e8\\ud0c0\", \"3\\ub8e8\\ud0c0\", \"\\ud648\\ub7f0\", \"\\ub8e8\\ud0c0\", \"\\ud0c0\\uc810\", \"\\ub3c4\\ub8e8\", \"\\ub3c4\\ub8e8\\uc2e4\\ud328\", \"\\ubcfc\\ub137\", \"\\uc0ac\\uad6c\", \"\\uc0bc\\uc9c4\", \"\\ubcd1\\uc0b4\\ud0c0\", \"\\uc2e4\\ucc45\"], \"y\": [0.32130000000000003, 3.6695090809129054, 0.6418025909421294, 1.1823237848506372, 0.2210486038124338, 0.019268858224071792, 0.11590249820174052, 1.7896175997164363, 0.5920677235814635, 0.07518302780470669, 0.029326427418774566, 0.40780393198055576, 0.06133306260765017, 0.5436802810163623, 0.08354199549718862, 0.037905938827129934]}],                        {\"polar\": {\"radialaxis\": {\"range\": [0, 1.5]}}, \"template\": {\"data\": {\"bar\": [{\"error_x\": {\"color\": \"#2a3f5f\"}, \"error_y\": {\"color\": \"#2a3f5f\"}, \"marker\": {\"line\": {\"color\": \"#E5ECF6\", \"width\": 0.5}}, \"type\": \"bar\"}], \"barpolar\": [{\"marker\": {\"line\": {\"color\": \"#E5ECF6\", \"width\": 0.5}}, \"type\": \"barpolar\"}], \"carpet\": [{\"aaxis\": {\"endlinecolor\": \"#2a3f5f\", \"gridcolor\": \"white\", \"linecolor\": \"white\", \"minorgridcolor\": \"white\", \"startlinecolor\": \"#2a3f5f\"}, \"baxis\": {\"endlinecolor\": \"#2a3f5f\", \"gridcolor\": \"white\", \"linecolor\": \"white\", \"minorgridcolor\": \"white\", \"startlinecolor\": \"#2a3f5f\"}, \"type\": \"carpet\"}], \"choropleth\": [{\"colorbar\": {\"outlinewidth\": 0, \"ticks\": \"\"}, \"type\": \"choropleth\"}], \"contour\": [{\"colorbar\": {\"outlinewidth\": 0, \"ticks\": \"\"}, \"colorscale\": [[0.0, \"#0d0887\"], [0.1111111111111111, \"#46039f\"], [0.2222222222222222, \"#7201a8\"], [0.3333333333333333, \"#9c179e\"], [0.4444444444444444, \"#bd3786\"], [0.5555555555555556, \"#d8576b\"], [0.6666666666666666, \"#ed7953\"], [0.7777777777777778, \"#fb9f3a\"], [0.8888888888888888, \"#fdca26\"], [1.0, \"#f0f921\"]], \"type\": \"contour\"}], \"contourcarpet\": [{\"colorbar\": {\"outlinewidth\": 0, \"ticks\": \"\"}, \"type\": \"contourcarpet\"}], \"heatmap\": [{\"colorbar\": {\"outlinewidth\": 0, \"ticks\": \"\"}, \"colorscale\": [[0.0, \"#0d0887\"], [0.1111111111111111, \"#46039f\"], [0.2222222222222222, \"#7201a8\"], [0.3333333333333333, \"#9c179e\"], [0.4444444444444444, \"#bd3786\"], [0.5555555555555556, \"#d8576b\"], [0.6666666666666666, \"#ed7953\"], [0.7777777777777778, \"#fb9f3a\"], [0.8888888888888888, \"#fdca26\"], [1.0, \"#f0f921\"]], \"type\": \"heatmap\"}], \"heatmapgl\": [{\"colorbar\": {\"outlinewidth\": 0, \"ticks\": \"\"}, \"colorscale\": [[0.0, \"#0d0887\"], [0.1111111111111111, \"#46039f\"], [0.2222222222222222, \"#7201a8\"], [0.3333333333333333, \"#9c179e\"], [0.4444444444444444, \"#bd3786\"], [0.5555555555555556, \"#d8576b\"], [0.6666666666666666, \"#ed7953\"], [0.7777777777777778, \"#fb9f3a\"], [0.8888888888888888, \"#fdca26\"], [1.0, \"#f0f921\"]], \"type\": \"heatmapgl\"}], \"histogram\": [{\"marker\": {\"colorbar\": {\"outlinewidth\": 0, \"ticks\": \"\"}}, \"type\": \"histogram\"}], \"histogram2d\": [{\"colorbar\": {\"outlinewidth\": 0, \"ticks\": \"\"}, \"colorscale\": [[0.0, \"#0d0887\"], [0.1111111111111111, \"#46039f\"], [0.2222222222222222, \"#7201a8\"], [0.3333333333333333, \"#9c179e\"], [0.4444444444444444, \"#bd3786\"], [0.5555555555555556, \"#d8576b\"], [0.6666666666666666, \"#ed7953\"], [0.7777777777777778, \"#fb9f3a\"], [0.8888888888888888, \"#fdca26\"], [1.0, \"#f0f921\"]], \"type\": \"histogram2d\"}], \"histogram2dcontour\": [{\"colorbar\": {\"outlinewidth\": 0, \"ticks\": \"\"}, \"colorscale\": [[0.0, \"#0d0887\"], [0.1111111111111111, \"#46039f\"], [0.2222222222222222, \"#7201a8\"], [0.3333333333333333, \"#9c179e\"], [0.4444444444444444, \"#bd3786\"], [0.5555555555555556, \"#d8576b\"], [0.6666666666666666, \"#ed7953\"], [0.7777777777777778, \"#fb9f3a\"], [0.8888888888888888, \"#fdca26\"], [1.0, \"#f0f921\"]], \"type\": \"histogram2dcontour\"}], \"mesh3d\": [{\"colorbar\": {\"outlinewidth\": 0, \"ticks\": \"\"}, \"type\": \"mesh3d\"}], \"parcoords\": [{\"line\": {\"colorbar\": {\"outlinewidth\": 0, \"ticks\": \"\"}}, \"type\": \"parcoords\"}], \"pie\": [{\"automargin\": true, \"type\": \"pie\"}], \"scatter\": [{\"marker\": {\"colorbar\": {\"outlinewidth\": 0, \"ticks\": \"\"}}, \"type\": \"scatter\"}], \"scatter3d\": [{\"line\": {\"colorbar\": {\"outlinewidth\": 0, \"ticks\": \"\"}}, \"marker\": {\"colorbar\": {\"outlinewidth\": 0, \"ticks\": \"\"}}, \"type\": \"scatter3d\"}], \"scattercarpet\": [{\"marker\": {\"colorbar\": {\"outlinewidth\": 0, \"ticks\": \"\"}}, \"type\": \"scattercarpet\"}], \"scattergeo\": [{\"marker\": {\"colorbar\": {\"outlinewidth\": 0, \"ticks\": \"\"}}, \"type\": \"scattergeo\"}], \"scattergl\": [{\"marker\": {\"colorbar\": {\"outlinewidth\": 0, \"ticks\": \"\"}}, \"type\": \"scattergl\"}], \"scattermapbox\": [{\"marker\": {\"colorbar\": {\"outlinewidth\": 0, \"ticks\": \"\"}}, \"type\": \"scattermapbox\"}], \"scatterpolar\": [{\"marker\": {\"colorbar\": {\"outlinewidth\": 0, \"ticks\": \"\"}}, \"type\": \"scatterpolar\"}], \"scatterpolargl\": [{\"marker\": {\"colorbar\": {\"outlinewidth\": 0, \"ticks\": \"\"}}, \"type\": \"scatterpolargl\"}], \"scatterternary\": [{\"marker\": {\"colorbar\": {\"outlinewidth\": 0, \"ticks\": \"\"}}, \"type\": \"scatterternary\"}], \"surface\": [{\"colorbar\": {\"outlinewidth\": 0, \"ticks\": \"\"}, \"colorscale\": [[0.0, \"#0d0887\"], [0.1111111111111111, \"#46039f\"], [0.2222222222222222, \"#7201a8\"], [0.3333333333333333, \"#9c179e\"], [0.4444444444444444, \"#bd3786\"], [0.5555555555555556, \"#d8576b\"], [0.6666666666666666, \"#ed7953\"], [0.7777777777777778, \"#fb9f3a\"], [0.8888888888888888, \"#fdca26\"], [1.0, \"#f0f921\"]], \"type\": \"surface\"}], \"table\": [{\"cells\": {\"fill\": {\"color\": \"#EBF0F8\"}, \"line\": {\"color\": \"white\"}}, \"header\": {\"fill\": {\"color\": \"#C8D4E3\"}, \"line\": {\"color\": \"white\"}}, \"type\": \"table\"}]}, \"layout\": {\"annotationdefaults\": {\"arrowcolor\": \"#2a3f5f\", \"arrowhead\": 0, \"arrowwidth\": 1}, \"autotypenumbers\": \"strict\", \"coloraxis\": {\"colorbar\": {\"outlinewidth\": 0, \"ticks\": \"\"}}, \"colorscale\": {\"diverging\": [[0, \"#8e0152\"], [0.1, \"#c51b7d\"], [0.2, \"#de77ae\"], [0.3, \"#f1b6da\"], [0.4, \"#fde0ef\"], [0.5, \"#f7f7f7\"], [0.6, \"#e6f5d0\"], [0.7, \"#b8e186\"], [0.8, \"#7fbc41\"], [0.9, \"#4d9221\"], [1, \"#276419\"]], \"sequential\": [[0.0, \"#0d0887\"], [0.1111111111111111, \"#46039f\"], [0.2222222222222222, \"#7201a8\"], [0.3333333333333333, \"#9c179e\"], [0.4444444444444444, \"#bd3786\"], [0.5555555555555556, \"#d8576b\"], [0.6666666666666666, \"#ed7953\"], [0.7777777777777778, \"#fb9f3a\"], [0.8888888888888888, \"#fdca26\"], [1.0, \"#f0f921\"]], \"sequentialminus\": [[0.0, \"#0d0887\"], [0.1111111111111111, \"#46039f\"], [0.2222222222222222, \"#7201a8\"], [0.3333333333333333, \"#9c179e\"], [0.4444444444444444, \"#bd3786\"], [0.5555555555555556, \"#d8576b\"], [0.6666666666666666, \"#ed7953\"], [0.7777777777777778, \"#fb9f3a\"], [0.8888888888888888, \"#fdca26\"], [1.0, \"#f0f921\"]]}, \"colorway\": [\"#636efa\", \"#EF553B\", \"#00cc96\", \"#ab63fa\", \"#FFA15A\", \"#19d3f3\", \"#FF6692\", \"#B6E880\", \"#FF97FF\", \"#FECB52\"], \"font\": {\"color\": \"#2a3f5f\"}, \"geo\": {\"bgcolor\": \"white\", \"lakecolor\": \"white\", \"landcolor\": \"#E5ECF6\", \"showlakes\": true, \"showland\": true, \"subunitcolor\": \"white\"}, \"hoverlabel\": {\"align\": \"left\"}, \"hovermode\": \"closest\", \"mapbox\": {\"style\": \"light\"}, \"paper_bgcolor\": \"white\", \"plot_bgcolor\": \"#E5ECF6\", \"polar\": {\"angularaxis\": {\"gridcolor\": \"white\", \"linecolor\": \"white\", \"ticks\": \"\"}, \"bgcolor\": \"#E5ECF6\", \"radialaxis\": {\"gridcolor\": \"white\", \"linecolor\": \"white\", \"ticks\": \"\"}}, \"scene\": {\"xaxis\": {\"backgroundcolor\": \"#E5ECF6\", \"gridcolor\": \"white\", \"gridwidth\": 2, \"linecolor\": \"white\", \"showbackground\": true, \"ticks\": \"\", \"zerolinecolor\": \"white\"}, \"yaxis\": {\"backgroundcolor\": \"#E5ECF6\", \"gridcolor\": \"white\", \"gridwidth\": 2, \"linecolor\": \"white\", \"showbackground\": true, \"ticks\": \"\", \"zerolinecolor\": \"white\"}, \"zaxis\": {\"backgroundcolor\": \"#E5ECF6\", \"gridcolor\": \"white\", \"gridwidth\": 2, \"linecolor\": \"white\", \"showbackground\": true, \"ticks\": \"\", \"zerolinecolor\": \"white\"}}, \"shapedefaults\": {\"line\": {\"color\": \"#2a3f5f\"}}, \"ternary\": {\"aaxis\": {\"gridcolor\": \"white\", \"linecolor\": \"white\", \"ticks\": \"\"}, \"baxis\": {\"gridcolor\": \"white\", \"linecolor\": \"white\", \"ticks\": \"\"}, \"bgcolor\": \"#E5ECF6\", \"caxis\": {\"gridcolor\": \"white\", \"linecolor\": \"white\", \"ticks\": \"\"}}, \"title\": {\"x\": 0.05}, \"xaxis\": {\"automargin\": true, \"gridcolor\": \"white\", \"linecolor\": \"white\", \"ticks\": \"\", \"title\": {\"standoff\": 15}, \"zerolinecolor\": \"white\", \"zerolinewidth\": 2}, \"yaxis\": {\"automargin\": true, \"gridcolor\": \"white\", \"linecolor\": \"white\", \"ticks\": \"\", \"title\": {\"standoff\": 15}, \"zerolinecolor\": \"white\", \"zerolinewidth\": 2}}}},                        {\"responsive\": true}                    ).then(function(){\n",
       "                            \n",
       "var gd = document.getElementById('8508988d-2de6-41b9-8bb7-4f402d343d96');\n",
       "var x = new MutationObserver(function (mutations, observer) {{\n",
       "        var display = window.getComputedStyle(gd).display;\n",
       "        if (!display || display === 'none') {{\n",
       "            console.log([gd, 'removed!']);\n",
       "            Plotly.purge(gd);\n",
       "            observer.disconnect();\n",
       "        }}\n",
       "}});\n",
       "\n",
       "// Listen for the removal of the full notebook cells\n",
       "var notebookContainer = gd.closest('#notebook-container');\n",
       "if (notebookContainer) {{\n",
       "    x.observe(notebookContainer, {childList: true});\n",
       "}}\n",
       "\n",
       "// Listen for the clearing of the current output cell\n",
       "var outputEl = gd.closest('.output');\n",
       "if (outputEl) {{\n",
       "    x.observe(outputEl, {childList: true});\n",
       "}}\n",
       "\n",
       "                        })                };                });            </script>        </div>"
      ]
     },
     "metadata": {},
     "output_type": "display_data"
    }
   ],
   "source": [
    "fig = go.Figure()\n",
    "\n",
    "fig.add_trace(go.Bar(x=columns_except_game,\n",
    "                     y=majorleage_ls,\n",
    "                     name='한국인 메이저리거'))\n",
    "fig.add_trace(go.Bar(x=columns_except_game,\n",
    "                     y=kbo_ls,\n",
    "                     name='2020년 KBO 상위 10명의 타자'))\n",
    "\n",
    "fig.update_layout(polar=dict(radialaxis=dict(range=[0, 1.5])))"
   ]
  },
  {
   "cell_type": "markdown",
   "metadata": {},
   "source": [
    "<font size=4>\n",
    "<Blockquote>\n",
    "타수 = 타자가 정규로 타격을 완료한 횟수 (볼넷, 사구, 희생타, 타격방해 등이 이루어진 타석은 타수에서 제외)<br><br>\n",
    "안타 = 단타, 장타 모두 포함<br><br>\n",
    "루타 = 1루타 + 2 * 2루타 + 3 * 3루타 + 4 * 홈런<br><br>\n",
    "타점 = 타자가 타석에서의 어떠한 플레이로 주자가 득점이 이루어지면 타자의 타점으로 기록<br><br>\n",
    "병살타 = 타자가 타격 후 2개의 아웃을 동시에 당하는 것</Blockquote><br><br>\n",
    "\n",
    "KBO 사이트에 나온 지표들을 단순히 그래프화 해보았더니 홈런, 타점, 볼넷, 삼진 등은 메이저리거 선수들이 더 높았지만, 타율, 타수, 안타, 2루타, 홈런 등은 kbo 상위 10명의 선수들이 더 높았다.<br><br>타자의 기본적인 공격 지표인 '타율'이 메이저리거 선수들보다 kbo선수들이 더 높다는 것이 의아했고, 나열된 지표들이 과연 타자를 분석하는데 충분할지 라는 의문이 생겼다.<br><br>'스마트 배이스볼'이라는 책에서 타율이 잘못된 지표로 심각한 결함을 가지고 있다고 하였는데 그 이유가 19세기에 타율이라는 용어가 만들어졌는데 그 당시 타자는 자신이 원하는 위치에 공을 던져달라고 요구할 수 있었고, 볼넷이 볼 네 개, 그리고 삼진이 스트라이크 세 개가 아니었던적도(1887년에는 스트라이크 네 개를 잡아야 아웃이었고, 1889년 이전까지는 볼 8~9개를 골라야 걸어나갈 수 있었다) 있었다고 한다. 즉, 그 당시 타자들은 홈런 보다는 볼을 맞추는 데 집중하였고 그에 따라 타율이 타자의 기량을 나타나는 데 충분했다. 그러나 현대 야구에서는 '출루율', '장타율' 등이 더 의미있는 지표라 할 수 있다.<br><br>출루율과 장타율 외에도 OPS(출루율+장타율)을 통해 '타격' 부분을 상세히 지표화 해보고 비교 분석해보고자 한다. <br><br>\n",
    "</font>\n",
    "\n",
    "---"
   ]
  },
  {
   "cell_type": "markdown",
   "metadata": {},
   "source": [
    "<h2>5-1. 출루율(OBP), 장타율(SLG), OPS(출루율+장타율)구하기</h2>"
   ]
  },
  {
   "cell_type": "markdown",
   "metadata": {},
   "source": [
    "<Blockquote><font size=4.5>$출루율(OBP) = \\large\\frac{안타 + 볼넷 + 몸에맞는볼}{타수 + 볼넷 + 몸에맞는볼 + 희생플라이}$ (<font color=red>희생플라이 값이 없어 제외시키고 구함</font>)<br><br>$장타율(SLG) = \\large\\frac{루타}{타수}$<br><br>$OPS = 출루율(OBP) + 장타율(SLG)$</font></Blockquote>\n",
    "\n",
    "<font size=4><br><br>출루율이 타율보다 중요시 되는 이유는 개인보단 팀의 입장에서 중요하기 때문이다. 야구는 주자를 불러들여 상대보다 높은 점수를 얻어야 승리하는 게임인데 결국 출루를 해야 득점을 할 수 있다. 안타 뿐만 아니라 볼넷, 몸에맞는 볼 등도 출루를 할 수 있는 요인이 되므로 단순히 안타수/타수를 나타내는 타율보다 더 팀에 기여하는 지표라 볼 수 있다.<br><br>장타율은 안타 중에서 장타를 칠 확률이 아니라 '출루를 기대할 수 있는 수치'를 의미한다. 장타율 식을 보면 분자에 루타가 들어가 있는데 이 루타는 1루타 + 2 * 2루타 + 3 * 3루타 + 4 * 홈런으로 표현되기 때문에 장타율은 장타를 칠 확률이 아니라는 것을 알 수 있습니다. 예를 들어, 어떤 선수가 친 홈런은 적지만 단타나 2루타 등이 월등히 높으면 장타율이 높다고 말 할 수 있습니다.(아래 그림참조)<br><br>출루율과 장타율을 더한 OPS 팀 득점과의 관계가 90%정도 나오는데 이 말은 OPS를 이용해 팀 득점의 90%정도를 설명할 수 있다는 뜻입니다.</font>"
   ]
  },
  {
   "cell_type": "code",
   "execution_count": 463,
   "metadata": {},
   "outputs": [
    {
     "data": {
      "image/png": "[encoded data removed]",
      "text/plain": [
       "<IPython.core.display.Image object>"
      ]
     },
     "execution_count": 463,
     "metadata": {
      "image/png": {
       "height": 300,
       "width": 800
      }
     },
     "output_type": "execute_result"
    }
   ],
   "source": [
    "from IPython.display import Image\n",
    "Image('./장타율_예시.png', width=800, height=300)\n",
    "\n",
    "# 출처: https://m.blog.naver.com/PostView.nhn?blogId=0323lena&logNo=220351558741&proxyReferer=https:%2F%2Fwww.google.com%2F"
   ]
  },
  {
   "cell_type": "code",
   "execution_count": 404,
   "metadata": {},
   "outputs": [
    {
     "data": {
      "text/html": [
       "<div>\n",
       "<style scoped>\n",
       "    .dataframe tbody tr th:only-of-type {\n",
       "        vertical-align: middle;\n",
       "    }\n",
       "\n",
       "    .dataframe tbody tr th {\n",
       "        vertical-align: top;\n",
       "    }\n",
       "\n",
       "    .dataframe thead th {\n",
       "        text-align: right;\n",
       "    }\n",
       "</style>\n",
       "<table border=\"1\" class=\"dataframe\">\n",
       "  <thead>\n",
       "    <tr style=\"text-align: right;\">\n",
       "      <th></th>\n",
       "      <th>이름</th>\n",
       "      <th>타율</th>\n",
       "      <th>경기</th>\n",
       "      <th>타수</th>\n",
       "      <th>득점</th>\n",
       "      <th>안타</th>\n",
       "      <th>2루타</th>\n",
       "      <th>3루타</th>\n",
       "      <th>홈런</th>\n",
       "      <th>루타</th>\n",
       "      <th>타점</th>\n",
       "      <th>도루</th>\n",
       "      <th>도루실패</th>\n",
       "      <th>볼넷</th>\n",
       "      <th>사구</th>\n",
       "      <th>삼진</th>\n",
       "      <th>병살타</th>\n",
       "      <th>실책</th>\n",
       "    </tr>\n",
       "  </thead>\n",
       "  <tbody>\n",
       "    <tr>\n",
       "      <th>0</th>\n",
       "      <td>강정호</td>\n",
       "      <td>0.298</td>\n",
       "      <td>902</td>\n",
       "      <td>3070</td>\n",
       "      <td>470</td>\n",
       "      <td>916</td>\n",
       "      <td>193</td>\n",
       "      <td>10</td>\n",
       "      <td>139</td>\n",
       "      <td>1546</td>\n",
       "      <td>545</td>\n",
       "      <td>51</td>\n",
       "      <td>28</td>\n",
       "      <td>387</td>\n",
       "      <td>50</td>\n",
       "      <td>601</td>\n",
       "      <td>100</td>\n",
       "      <td>103</td>\n",
       "    </tr>\n",
       "    <tr>\n",
       "      <th>1</th>\n",
       "      <td>김하성</td>\n",
       "      <td>0.294</td>\n",
       "      <td>891</td>\n",
       "      <td>3195</td>\n",
       "      <td>606</td>\n",
       "      <td>940</td>\n",
       "      <td>191</td>\n",
       "      <td>23</td>\n",
       "      <td>133</td>\n",
       "      <td>1576</td>\n",
       "      <td>575</td>\n",
       "      <td>134</td>\n",
       "      <td>38</td>\n",
       "      <td>381</td>\n",
       "      <td>39</td>\n",
       "      <td>502</td>\n",
       "      <td>67</td>\n",
       "      <td>114</td>\n",
       "    </tr>\n",
       "    <tr>\n",
       "      <th>2</th>\n",
       "      <td>김현수</td>\n",
       "      <td>0.322</td>\n",
       "      <td>1530</td>\n",
       "      <td>5592</td>\n",
       "      <td>928</td>\n",
       "      <td>1799</td>\n",
       "      <td>341</td>\n",
       "      <td>22</td>\n",
       "      <td>195</td>\n",
       "      <td>2769</td>\n",
       "      <td>1073</td>\n",
       "      <td>58</td>\n",
       "      <td>45</td>\n",
       "      <td>761</td>\n",
       "      <td>55</td>\n",
       "      <td>667</td>\n",
       "      <td>122</td>\n",
       "      <td>32</td>\n",
       "    </tr>\n",
       "    <tr>\n",
       "      <th>3</th>\n",
       "      <td>박병호</td>\n",
       "      <td>0.283</td>\n",
       "      <td>1196</td>\n",
       "      <td>3889</td>\n",
       "      <td>771</td>\n",
       "      <td>1101</td>\n",
       "      <td>186</td>\n",
       "      <td>5</td>\n",
       "      <td>307</td>\n",
       "      <td>2218</td>\n",
       "      <td>880</td>\n",
       "      <td>59</td>\n",
       "      <td>24</td>\n",
       "      <td>635</td>\n",
       "      <td>98</td>\n",
       "      <td>1146</td>\n",
       "      <td>80</td>\n",
       "      <td>63</td>\n",
       "    </tr>\n",
       "    <tr>\n",
       "      <th>4</th>\n",
       "      <td>이대호</td>\n",
       "      <td>0.309</td>\n",
       "      <td>1715</td>\n",
       "      <td>6158</td>\n",
       "      <td>880</td>\n",
       "      <td>1900</td>\n",
       "      <td>297</td>\n",
       "      <td>6</td>\n",
       "      <td>332</td>\n",
       "      <td>3205</td>\n",
       "      <td>1243</td>\n",
       "      <td>11</td>\n",
       "      <td>11</td>\n",
       "      <td>668</td>\n",
       "      <td>173</td>\n",
       "      <td>919</td>\n",
       "      <td>201</td>\n",
       "      <td>105</td>\n",
       "    </tr>\n",
       "    <tr>\n",
       "      <th>5</th>\n",
       "      <td>최희섭</td>\n",
       "      <td>0.281</td>\n",
       "      <td>634</td>\n",
       "      <td>2131</td>\n",
       "      <td>327</td>\n",
       "      <td>598</td>\n",
       "      <td>115</td>\n",
       "      <td>4</td>\n",
       "      <td>100</td>\n",
       "      <td>1021</td>\n",
       "      <td>393</td>\n",
       "      <td>16</td>\n",
       "      <td>14</td>\n",
       "      <td>365</td>\n",
       "      <td>24</td>\n",
       "      <td>515</td>\n",
       "      <td>67</td>\n",
       "      <td>30</td>\n",
       "    </tr>\n",
       "    <tr>\n",
       "      <th>6</th>\n",
       "      <td>황재균</td>\n",
       "      <td>0.289</td>\n",
       "      <td>1584</td>\n",
       "      <td>5680</td>\n",
       "      <td>867</td>\n",
       "      <td>1644</td>\n",
       "      <td>315</td>\n",
       "      <td>38</td>\n",
       "      <td>181</td>\n",
       "      <td>2578</td>\n",
       "      <td>846</td>\n",
       "      <td>208</td>\n",
       "      <td>106</td>\n",
       "      <td>533</td>\n",
       "      <td>56</td>\n",
       "      <td>1062</td>\n",
       "      <td>122</td>\n",
       "      <td>186</td>\n",
       "    </tr>\n",
       "  </tbody>\n",
       "</table>\n",
       "</div>"
      ],
      "text/plain": [
       "    이름     타율    경기    타수   득점    안타  2루타 3루타   홈런    루타    타점   도루 도루실패   볼넷  \\\n",
       "0  강정호  0.298   902  3070  470   916  193  10  139  1546   545   51   28  387   \n",
       "1  김하성  0.294   891  3195  606   940  191  23  133  1576   575  134   38  381   \n",
       "2  김현수  0.322  1530  5592  928  1799  341  22  195  2769  1073   58   45  761   \n",
       "3  박병호  0.283  1196  3889  771  1101  186   5  307  2218   880   59   24  635   \n",
       "4  이대호  0.309  1715  6158  880  1900  297   6  332  3205  1243   11   11  668   \n",
       "5  최희섭  0.281   634  2131  327   598  115   4  100  1021   393   16   14  365   \n",
       "6  황재균  0.289  1584  5680  867  1644  315  38  181  2578   846  208  106  533   \n",
       "\n",
       "    사구    삼진  병살타   실책  \n",
       "0   50   601  100  103  \n",
       "1   39   502   67  114  \n",
       "2   55   667  122   32  \n",
       "3   98  1146   80   63  \n",
       "4  173   919  201  105  \n",
       "5   24   515   67   30  \n",
       "6   56  1062  122  186  "
      ]
     },
     "execution_count": 404,
     "metadata": {},
     "output_type": "execute_result"
    }
   ],
   "source": [
    "hitter_majorleaguer_career_df_raw"
   ]
  },
  {
   "cell_type": "code",
   "execution_count": 408,
   "metadata": {},
   "outputs": [],
   "source": [
    "def df_loc_func(df, index, column):\n",
    "    return float(df.loc[index][column])"
   ]
  },
  {
   "cell_type": "code",
   "execution_count": 425,
   "metadata": {},
   "outputs": [
    {
     "name": "stdout",
     "output_type": "stream",
     "text": [
      "[0.3857998289136014, 0.37621023513139695, 0.40808364544319603, 0.39679792297706623, 0.39162737533933417, 0.39166666666666666, 0.3561971606316797]\n",
      "[0.5529544720697449, 0.47294760197986, 0.43293070565797837, 0.4896373056994819, 0.4678252700798497, 0.38746610424826755, 0.4951716738197425]\n",
      "[0.9387543009833463, 0.8491578371112569, 0.8410143511011744, 0.8864352286765481, 0.8594526454191839, 0.7791327709149343, 0.8513688344514222]\n"
     ]
    }
   ],
   "source": [
    "# calculate OBP, SLG, OPS of majorleaguer\n",
    "\n",
    "OBP_major_ls = []\n",
    "SLG_major_ls = []\n",
    "OPS_major_ls = []\n",
    "\n",
    "for idx in range(len(hitter_majorleaguer_career_df_raw.index)):\n",
    "    OBP_val = (df_loc_func(hitter_majorleaguer_career_df_raw, idx, '안타') + df_loc_func(hitter_majorleaguer_career_df_raw, idx, '볼넷') + df_loc_func(hitter_majorleaguer_career_df_raw, idx, '사구')) / (df_loc_func(hitter_majorleaguer_career_df_raw, idx, '타수') + df_loc_func(hitter_majorleaguer_career_df_raw, idx, '볼넷') + df_loc_func(hitter_majorleaguer_career_df_raw, idx, '사구'))\n",
    "    SLG_val = df_loc_func(hitter_KBO_career_df_raw, idx, '루타') / df_loc_func(hitter_KBO_career_df_raw, idx, '타수')\n",
    "    OBP_major_ls.append(OBP_val)\n",
    "    SLG_major_ls.append(SLG_val)\n",
    "    OPS_major_ls.append(OBP_val + SLG_val)\n",
    "    \n",
    "print(OBP_major_ls)\n",
    "print(SLG_major_ls)\n",
    "print(OPS_major_ls)"
   ]
  },
  {
   "cell_type": "code",
   "execution_count": 428,
   "metadata": {},
   "outputs": [
    {
     "data": {
      "text/html": [
       "<div>\n",
       "<style scoped>\n",
       "    .dataframe tbody tr th:only-of-type {\n",
       "        vertical-align: middle;\n",
       "    }\n",
       "\n",
       "    .dataframe tbody tr th {\n",
       "        vertical-align: top;\n",
       "    }\n",
       "\n",
       "    .dataframe thead th {\n",
       "        text-align: right;\n",
       "    }\n",
       "</style>\n",
       "<table border=\"1\" class=\"dataframe\">\n",
       "  <thead>\n",
       "    <tr style=\"text-align: right;\">\n",
       "      <th></th>\n",
       "      <th>이름</th>\n",
       "      <th>타율</th>\n",
       "      <th>경기</th>\n",
       "      <th>타수</th>\n",
       "      <th>득점</th>\n",
       "      <th>안타</th>\n",
       "      <th>2루타</th>\n",
       "      <th>3루타</th>\n",
       "      <th>홈런</th>\n",
       "      <th>루타</th>\n",
       "      <th>...</th>\n",
       "      <th>도루</th>\n",
       "      <th>도루실패</th>\n",
       "      <th>볼넷</th>\n",
       "      <th>사구</th>\n",
       "      <th>삼진</th>\n",
       "      <th>병살타</th>\n",
       "      <th>실책</th>\n",
       "      <th>OBP</th>\n",
       "      <th>SLG</th>\n",
       "      <th>OPS</th>\n",
       "    </tr>\n",
       "  </thead>\n",
       "  <tbody>\n",
       "    <tr>\n",
       "      <th>0</th>\n",
       "      <td>강정호</td>\n",
       "      <td>0.298</td>\n",
       "      <td>902</td>\n",
       "      <td>3070</td>\n",
       "      <td>470</td>\n",
       "      <td>916</td>\n",
       "      <td>193</td>\n",
       "      <td>10</td>\n",
       "      <td>139</td>\n",
       "      <td>1546</td>\n",
       "      <td>...</td>\n",
       "      <td>51</td>\n",
       "      <td>28</td>\n",
       "      <td>387</td>\n",
       "      <td>50</td>\n",
       "      <td>601</td>\n",
       "      <td>100</td>\n",
       "      <td>103</td>\n",
       "      <td>0.385800</td>\n",
       "      <td>0.552954</td>\n",
       "      <td>0.938754</td>\n",
       "    </tr>\n",
       "    <tr>\n",
       "      <th>1</th>\n",
       "      <td>김하성</td>\n",
       "      <td>0.294</td>\n",
       "      <td>891</td>\n",
       "      <td>3195</td>\n",
       "      <td>606</td>\n",
       "      <td>940</td>\n",
       "      <td>191</td>\n",
       "      <td>23</td>\n",
       "      <td>133</td>\n",
       "      <td>1576</td>\n",
       "      <td>...</td>\n",
       "      <td>134</td>\n",
       "      <td>38</td>\n",
       "      <td>381</td>\n",
       "      <td>39</td>\n",
       "      <td>502</td>\n",
       "      <td>67</td>\n",
       "      <td>114</td>\n",
       "      <td>0.376210</td>\n",
       "      <td>0.472948</td>\n",
       "      <td>0.849158</td>\n",
       "    </tr>\n",
       "    <tr>\n",
       "      <th>2</th>\n",
       "      <td>김현수</td>\n",
       "      <td>0.322</td>\n",
       "      <td>1530</td>\n",
       "      <td>5592</td>\n",
       "      <td>928</td>\n",
       "      <td>1799</td>\n",
       "      <td>341</td>\n",
       "      <td>22</td>\n",
       "      <td>195</td>\n",
       "      <td>2769</td>\n",
       "      <td>...</td>\n",
       "      <td>58</td>\n",
       "      <td>45</td>\n",
       "      <td>761</td>\n",
       "      <td>55</td>\n",
       "      <td>667</td>\n",
       "      <td>122</td>\n",
       "      <td>32</td>\n",
       "      <td>0.408084</td>\n",
       "      <td>0.432931</td>\n",
       "      <td>0.841014</td>\n",
       "    </tr>\n",
       "    <tr>\n",
       "      <th>3</th>\n",
       "      <td>박병호</td>\n",
       "      <td>0.283</td>\n",
       "      <td>1196</td>\n",
       "      <td>3889</td>\n",
       "      <td>771</td>\n",
       "      <td>1101</td>\n",
       "      <td>186</td>\n",
       "      <td>5</td>\n",
       "      <td>307</td>\n",
       "      <td>2218</td>\n",
       "      <td>...</td>\n",
       "      <td>59</td>\n",
       "      <td>24</td>\n",
       "      <td>635</td>\n",
       "      <td>98</td>\n",
       "      <td>1146</td>\n",
       "      <td>80</td>\n",
       "      <td>63</td>\n",
       "      <td>0.396798</td>\n",
       "      <td>0.489637</td>\n",
       "      <td>0.886435</td>\n",
       "    </tr>\n",
       "    <tr>\n",
       "      <th>4</th>\n",
       "      <td>이대호</td>\n",
       "      <td>0.309</td>\n",
       "      <td>1715</td>\n",
       "      <td>6158</td>\n",
       "      <td>880</td>\n",
       "      <td>1900</td>\n",
       "      <td>297</td>\n",
       "      <td>6</td>\n",
       "      <td>332</td>\n",
       "      <td>3205</td>\n",
       "      <td>...</td>\n",
       "      <td>11</td>\n",
       "      <td>11</td>\n",
       "      <td>668</td>\n",
       "      <td>173</td>\n",
       "      <td>919</td>\n",
       "      <td>201</td>\n",
       "      <td>105</td>\n",
       "      <td>0.391627</td>\n",
       "      <td>0.467825</td>\n",
       "      <td>0.859453</td>\n",
       "    </tr>\n",
       "    <tr>\n",
       "      <th>5</th>\n",
       "      <td>최희섭</td>\n",
       "      <td>0.281</td>\n",
       "      <td>634</td>\n",
       "      <td>2131</td>\n",
       "      <td>327</td>\n",
       "      <td>598</td>\n",
       "      <td>115</td>\n",
       "      <td>4</td>\n",
       "      <td>100</td>\n",
       "      <td>1021</td>\n",
       "      <td>...</td>\n",
       "      <td>16</td>\n",
       "      <td>14</td>\n",
       "      <td>365</td>\n",
       "      <td>24</td>\n",
       "      <td>515</td>\n",
       "      <td>67</td>\n",
       "      <td>30</td>\n",
       "      <td>0.391667</td>\n",
       "      <td>0.387466</td>\n",
       "      <td>0.779133</td>\n",
       "    </tr>\n",
       "    <tr>\n",
       "      <th>6</th>\n",
       "      <td>황재균</td>\n",
       "      <td>0.289</td>\n",
       "      <td>1584</td>\n",
       "      <td>5680</td>\n",
       "      <td>867</td>\n",
       "      <td>1644</td>\n",
       "      <td>315</td>\n",
       "      <td>38</td>\n",
       "      <td>181</td>\n",
       "      <td>2578</td>\n",
       "      <td>...</td>\n",
       "      <td>208</td>\n",
       "      <td>106</td>\n",
       "      <td>533</td>\n",
       "      <td>56</td>\n",
       "      <td>1062</td>\n",
       "      <td>122</td>\n",
       "      <td>186</td>\n",
       "      <td>0.356197</td>\n",
       "      <td>0.495172</td>\n",
       "      <td>0.851369</td>\n",
       "    </tr>\n",
       "  </tbody>\n",
       "</table>\n",
       "<p>7 rows × 21 columns</p>\n",
       "</div>"
      ],
      "text/plain": [
       "    이름     타율    경기    타수   득점    안타  2루타 3루타   홈런    루타  ...   도루 도루실패   볼넷  \\\n",
       "0  강정호  0.298   902  3070  470   916  193  10  139  1546  ...   51   28  387   \n",
       "1  김하성  0.294   891  3195  606   940  191  23  133  1576  ...  134   38  381   \n",
       "2  김현수  0.322  1530  5592  928  1799  341  22  195  2769  ...   58   45  761   \n",
       "3  박병호  0.283  1196  3889  771  1101  186   5  307  2218  ...   59   24  635   \n",
       "4  이대호  0.309  1715  6158  880  1900  297   6  332  3205  ...   11   11  668   \n",
       "5  최희섭  0.281   634  2131  327   598  115   4  100  1021  ...   16   14  365   \n",
       "6  황재균  0.289  1584  5680  867  1644  315  38  181  2578  ...  208  106  533   \n",
       "\n",
       "    사구    삼진  병살타   실책       OBP       SLG       OPS  \n",
       "0   50   601  100  103  0.385800  0.552954  0.938754  \n",
       "1   39   502   67  114  0.376210  0.472948  0.849158  \n",
       "2   55   667  122   32  0.408084  0.432931  0.841014  \n",
       "3   98  1146   80   63  0.396798  0.489637  0.886435  \n",
       "4  173   919  201  105  0.391627  0.467825  0.859453  \n",
       "5   24   515   67   30  0.391667  0.387466  0.779133  \n",
       "6   56  1062  122  186  0.356197  0.495172  0.851369  \n",
       "\n",
       "[7 rows x 21 columns]"
      ]
     },
     "execution_count": 428,
     "metadata": {},
     "output_type": "execute_result"
    }
   ],
   "source": [
    "hitter_majorleaguer_career_df_raw['OBP'] = OBP_major_ls\n",
    "hitter_majorleaguer_career_df_raw['SLG'] = SLG_major_ls\n",
    "hitter_majorleaguer_career_df_raw['OPS'] = OPS_major_ls\n",
    "\n",
    "hitter_majorleaguer_career_df_raw"
   ]
  },
  {
   "cell_type": "code",
   "execution_count": 422,
   "metadata": {},
   "outputs": [
    {
     "name": "stdout",
     "output_type": "stream",
     "text": [
      "[0.41245462161407426, 0.4034690799396682, 0.40919282511210764, 0.41203703703703703, 0.40050912176495546, 0.3642798802069153, 0.40808364544319603, 0.3954050785973398, 0.39144316730523626, 0.38665692719746775]\n",
      "[0.5529544720697449, 0.47294760197986, 0.43293070565797837, 0.4896373056994819, 0.4678252700798497, 0.38746610424826755, 0.4951716738197425, 0.5221843003412969, 0.49685077519379844, 0.5424234209812957]\n",
      "[0.9654090936838191, 0.8764166819195283, 0.8421235307700861, 0.9016743427365189, 0.8683343918448052, 0.7517459844551828, 0.9032553192629384, 0.9175893789386367, 0.8882939424990347, 0.9290803481787635]\n"
     ]
    }
   ],
   "source": [
    "# calculate OBP, SLG, OPS of KBO player\n",
    "\n",
    "OBP_KBO_ls = []\n",
    "SLG_KBO_ls = []\n",
    "OPS_KBO_ls = []\n",
    "\n",
    "for idx in range(len(hitter_KBO_career_df_raw.index)):\n",
    "    OBP_val = (df_loc_func(hitter_KBO_career_df_raw, idx, '안타') + df_loc_func(hitter_KBO_career_df_raw, idx, '볼넷') + df_loc_func(hitter_KBO_career_df_raw, idx, '사구')) / (df_loc_func(hitter_KBO_career_df_raw, idx, '타수') + df_loc_func(hitter_KBO_career_df_raw, idx, '볼넷') + df_loc_func(hitter_KBO_career_df_raw, idx, '사구'))\n",
    "    SLG_val = df_loc_func(hitter_KBO_career_df_raw, idx, '루타') / df_loc_func(hitter_KBO_career_df_raw, idx, '타수')\n",
    "    OBP_KBO_ls.append(OBP_val)\n",
    "    SLG_KBO_ls.append(SLG_val)\n",
    "    OPS_KBO_ls.append(OBP_val + SLG_val)\n",
    "    \n",
    "print(OBP_KBO_ls)\n",
    "print(SLG_KBO_ls)\n",
    "print(OPS_KBO_ls)"
   ]
  },
  {
   "cell_type": "code",
   "execution_count": 429,
   "metadata": {},
   "outputs": [
    {
     "data": {
      "text/html": [
       "<div>\n",
       "<style scoped>\n",
       "    .dataframe tbody tr th:only-of-type {\n",
       "        vertical-align: middle;\n",
       "    }\n",
       "\n",
       "    .dataframe tbody tr th {\n",
       "        vertical-align: top;\n",
       "    }\n",
       "\n",
       "    .dataframe thead th {\n",
       "        text-align: right;\n",
       "    }\n",
       "</style>\n",
       "<table border=\"1\" class=\"dataframe\">\n",
       "  <thead>\n",
       "    <tr style=\"text-align: right;\">\n",
       "      <th></th>\n",
       "      <th>이름</th>\n",
       "      <th>타율</th>\n",
       "      <th>경기</th>\n",
       "      <th>타수</th>\n",
       "      <th>득점</th>\n",
       "      <th>안타</th>\n",
       "      <th>2루타</th>\n",
       "      <th>3루타</th>\n",
       "      <th>홈런</th>\n",
       "      <th>루타</th>\n",
       "      <th>...</th>\n",
       "      <th>도루</th>\n",
       "      <th>도루실패</th>\n",
       "      <th>볼넷</th>\n",
       "      <th>사구</th>\n",
       "      <th>삼진</th>\n",
       "      <th>병살타</th>\n",
       "      <th>실책</th>\n",
       "      <th>OBP</th>\n",
       "      <th>SLG</th>\n",
       "      <th>OPS</th>\n",
       "    </tr>\n",
       "  </thead>\n",
       "  <tbody>\n",
       "    <tr>\n",
       "      <th>0</th>\n",
       "      <td>최형우</td>\n",
       "      <td>0.321</td>\n",
       "      <td>1708</td>\n",
       "      <td>6194</td>\n",
       "      <td>1053</td>\n",
       "      <td>1986</td>\n",
       "      <td>421</td>\n",
       "      <td>14</td>\n",
       "      <td>330</td>\n",
       "      <td>3425</td>\n",
       "      <td>...</td>\n",
       "      <td>27</td>\n",
       "      <td>18</td>\n",
       "      <td>873</td>\n",
       "      <td>95</td>\n",
       "      <td>1076</td>\n",
       "      <td>157</td>\n",
       "      <td>27</td>\n",
       "      <td>0.412455</td>\n",
       "      <td>0.552954</td>\n",
       "      <td>0.965409</td>\n",
       "    </tr>\n",
       "    <tr>\n",
       "      <th>1</th>\n",
       "      <td>손아섭</td>\n",
       "      <td>0.325</td>\n",
       "      <td>1557</td>\n",
       "      <td>5859</td>\n",
       "      <td>1059</td>\n",
       "      <td>1904</td>\n",
       "      <td>331</td>\n",
       "      <td>25</td>\n",
       "      <td>162</td>\n",
       "      <td>2771</td>\n",
       "      <td>...</td>\n",
       "      <td>194</td>\n",
       "      <td>54</td>\n",
       "      <td>739</td>\n",
       "      <td>32</td>\n",
       "      <td>1002</td>\n",
       "      <td>85</td>\n",
       "      <td>50</td>\n",
       "      <td>0.403469</td>\n",
       "      <td>0.472948</td>\n",
       "      <td>0.876417</td>\n",
       "    </tr>\n",
       "    <tr>\n",
       "      <th>2</th>\n",
       "      <td>박민우</td>\n",
       "      <td>0.330</td>\n",
       "      <td>884</td>\n",
       "      <td>3146</td>\n",
       "      <td>615</td>\n",
       "      <td>1038</td>\n",
       "      <td>166</td>\n",
       "      <td>43</td>\n",
       "      <td>24</td>\n",
       "      <td>1362</td>\n",
       "      <td>...</td>\n",
       "      <td>184</td>\n",
       "      <td>53</td>\n",
       "      <td>344</td>\n",
       "      <td>78</td>\n",
       "      <td>463</td>\n",
       "      <td>55</td>\n",
       "      <td>72</td>\n",
       "      <td>0.409193</td>\n",
       "      <td>0.432931</td>\n",
       "      <td>0.842124</td>\n",
       "    </tr>\n",
       "    <tr>\n",
       "      <th>3</th>\n",
       "      <td>페르난데스</td>\n",
       "      <td>0.342</td>\n",
       "      <td>288</td>\n",
       "      <td>1158</td>\n",
       "      <td>191</td>\n",
       "      <td>396</td>\n",
       "      <td>63</td>\n",
       "      <td>0</td>\n",
       "      <td>36</td>\n",
       "      <td>567</td>\n",
       "      <td>...</td>\n",
       "      <td>1</td>\n",
       "      <td>3</td>\n",
       "      <td>119</td>\n",
       "      <td>19</td>\n",
       "      <td>96</td>\n",
       "      <td>42</td>\n",
       "      <td>4</td>\n",
       "      <td>0.412037</td>\n",
       "      <td>0.489637</td>\n",
       "      <td>0.901674</td>\n",
       "    </tr>\n",
       "    <tr>\n",
       "      <th>4</th>\n",
       "      <td>이정후</td>\n",
       "      <td>0.336</td>\n",
       "      <td>533</td>\n",
       "      <td>2129</td>\n",
       "      <td>368</td>\n",
       "      <td>716</td>\n",
       "      <td>143</td>\n",
       "      <td>25</td>\n",
       "      <td>29</td>\n",
       "      <td>996</td>\n",
       "      <td>...</td>\n",
       "      <td>48</td>\n",
       "      <td>17</td>\n",
       "      <td>206</td>\n",
       "      <td>22</td>\n",
       "      <td>212</td>\n",
       "      <td>45</td>\n",
       "      <td>13</td>\n",
       "      <td>0.400509</td>\n",
       "      <td>0.467825</td>\n",
       "      <td>0.868334</td>\n",
       "    </tr>\n",
       "    <tr>\n",
       "      <th>5</th>\n",
       "      <td>허경민</td>\n",
       "      <td>0.296</td>\n",
       "      <td>1046</td>\n",
       "      <td>3319</td>\n",
       "      <td>532</td>\n",
       "      <td>984</td>\n",
       "      <td>171</td>\n",
       "      <td>16</td>\n",
       "      <td>33</td>\n",
       "      <td>1286</td>\n",
       "      <td>...</td>\n",
       "      <td>96</td>\n",
       "      <td>44</td>\n",
       "      <td>265</td>\n",
       "      <td>89</td>\n",
       "      <td>316</td>\n",
       "      <td>102</td>\n",
       "      <td>65</td>\n",
       "      <td>0.364280</td>\n",
       "      <td>0.387466</td>\n",
       "      <td>0.751746</td>\n",
       "    </tr>\n",
       "    <tr>\n",
       "      <th>6</th>\n",
       "      <td>김현수</td>\n",
       "      <td>0.322</td>\n",
       "      <td>1530</td>\n",
       "      <td>5592</td>\n",
       "      <td>928</td>\n",
       "      <td>1799</td>\n",
       "      <td>341</td>\n",
       "      <td>22</td>\n",
       "      <td>195</td>\n",
       "      <td>2769</td>\n",
       "      <td>...</td>\n",
       "      <td>58</td>\n",
       "      <td>45</td>\n",
       "      <td>761</td>\n",
       "      <td>55</td>\n",
       "      <td>667</td>\n",
       "      <td>122</td>\n",
       "      <td>32</td>\n",
       "      <td>0.408084</td>\n",
       "      <td>0.495172</td>\n",
       "      <td>0.903255</td>\n",
       "    </tr>\n",
       "    <tr>\n",
       "      <th>7</th>\n",
       "      <td>강백호</td>\n",
       "      <td>0.317</td>\n",
       "      <td>383</td>\n",
       "      <td>1465</td>\n",
       "      <td>275</td>\n",
       "      <td>465</td>\n",
       "      <td>97</td>\n",
       "      <td>4</td>\n",
       "      <td>65</td>\n",
       "      <td>765</td>\n",
       "      <td>...</td>\n",
       "      <td>19</td>\n",
       "      <td>12</td>\n",
       "      <td>179</td>\n",
       "      <td>10</td>\n",
       "      <td>304</td>\n",
       "      <td>22</td>\n",
       "      <td>19</td>\n",
       "      <td>0.395405</td>\n",
       "      <td>0.522184</td>\n",
       "      <td>0.917589</td>\n",
       "    </tr>\n",
       "    <tr>\n",
       "      <th>8</th>\n",
       "      <td>양의지</td>\n",
       "      <td>0.307</td>\n",
       "      <td>1314</td>\n",
       "      <td>4128</td>\n",
       "      <td>621</td>\n",
       "      <td>1269</td>\n",
       "      <td>232</td>\n",
       "      <td>8</td>\n",
       "      <td>178</td>\n",
       "      <td>2051</td>\n",
       "      <td>...</td>\n",
       "      <td>41</td>\n",
       "      <td>20</td>\n",
       "      <td>442</td>\n",
       "      <td>128</td>\n",
       "      <td>537</td>\n",
       "      <td>141</td>\n",
       "      <td>60</td>\n",
       "      <td>0.391443</td>\n",
       "      <td>0.496851</td>\n",
       "      <td>0.888294</td>\n",
       "    </tr>\n",
       "    <tr>\n",
       "      <th>9</th>\n",
       "      <td>나성범</td>\n",
       "      <td>0.317</td>\n",
       "      <td>937</td>\n",
       "      <td>3689</td>\n",
       "      <td>718</td>\n",
       "      <td>1170</td>\n",
       "      <td>244</td>\n",
       "      <td>25</td>\n",
       "      <td>179</td>\n",
       "      <td>2001</td>\n",
       "      <td>...</td>\n",
       "      <td>93</td>\n",
       "      <td>26</td>\n",
       "      <td>327</td>\n",
       "      <td>91</td>\n",
       "      <td>907</td>\n",
       "      <td>51</td>\n",
       "      <td>31</td>\n",
       "      <td>0.386657</td>\n",
       "      <td>0.542423</td>\n",
       "      <td>0.929080</td>\n",
       "    </tr>\n",
       "  </tbody>\n",
       "</table>\n",
       "<p>10 rows × 21 columns</p>\n",
       "</div>"
      ],
      "text/plain": [
       "      이름     타율    경기    타수    득점    안타  2루타 3루타   홈런    루타  ...   도루 도루실패  \\\n",
       "0    최형우  0.321  1708  6194  1053  1986  421  14  330  3425  ...   27   18   \n",
       "1    손아섭  0.325  1557  5859  1059  1904  331  25  162  2771  ...  194   54   \n",
       "2    박민우  0.330   884  3146   615  1038  166  43   24  1362  ...  184   53   \n",
       "3  페르난데스  0.342   288  1158   191   396   63   0   36   567  ...    1    3   \n",
       "4    이정후  0.336   533  2129   368   716  143  25   29   996  ...   48   17   \n",
       "5    허경민  0.296  1046  3319   532   984  171  16   33  1286  ...   96   44   \n",
       "6    김현수  0.322  1530  5592   928  1799  341  22  195  2769  ...   58   45   \n",
       "7    강백호  0.317   383  1465   275   465   97   4   65   765  ...   19   12   \n",
       "8    양의지  0.307  1314  4128   621  1269  232   8  178  2051  ...   41   20   \n",
       "9    나성범  0.317   937  3689   718  1170  244  25  179  2001  ...   93   26   \n",
       "\n",
       "    볼넷   사구    삼진  병살타  실책       OBP       SLG       OPS  \n",
       "0  873   95  1076  157  27  0.412455  0.552954  0.965409  \n",
       "1  739   32  1002   85  50  0.403469  0.472948  0.876417  \n",
       "2  344   78   463   55  72  0.409193  0.432931  0.842124  \n",
       "3  119   19    96   42   4  0.412037  0.489637  0.901674  \n",
       "4  206   22   212   45  13  0.400509  0.467825  0.868334  \n",
       "5  265   89   316  102  65  0.364280  0.387466  0.751746  \n",
       "6  761   55   667  122  32  0.408084  0.495172  0.903255  \n",
       "7  179   10   304   22  19  0.395405  0.522184  0.917589  \n",
       "8  442  128   537  141  60  0.391443  0.496851  0.888294  \n",
       "9  327   91   907   51  31  0.386657  0.542423  0.929080  \n",
       "\n",
       "[10 rows x 21 columns]"
      ]
     },
     "execution_count": 429,
     "metadata": {},
     "output_type": "execute_result"
    }
   ],
   "source": [
    "hitter_KBO_career_df_raw['OBP'] = OBP_KBO_ls\n",
    "hitter_KBO_career_df_raw['SLG'] = SLG_KBO_ls\n",
    "hitter_KBO_career_df_raw['OPS'] = OPS_KBO_ls\n",
    "\n",
    "hitter_KBO_career_df_raw"
   ]
  },
  {
   "cell_type": "code",
   "execution_count": 445,
   "metadata": {},
   "outputs": [
    {
     "data": {
      "text/plain": [
       "['0.298', 0.3857998289136014, 0.5529544720697449, 0.9387543009833463]"
      ]
     },
     "execution_count": 445,
     "metadata": {},
     "output_type": "execute_result"
    }
   ],
   "source": [
    "hitter_majorleaguer_career_df_raw[['타율', 'OBP', 'SLG', 'OPS']].loc[0][:].to_list()"
   ]
  },
  {
   "cell_type": "code",
   "execution_count": 460,
   "metadata": {},
   "outputs": [
    {
     "data": {
      "application/vnd.plotly.v1+json": {
       "config": {
        "plotlyServerURL": "https://plot.ly"
       },
       "data": [
        {
         "fill": "toself",
         "name": "강정호",
         "r": [
          "0.298",
          0.3857998289136014,
          0.5529544720697449,
          0.9387543009833463
         ],
         "theta": [
          "타율",
          "OBP",
          "SLG",
          "OPS"
         ],
         "type": "scatterpolar"
        },
        {
         "fill": "toself",
         "name": "최형우",
         "r": [
          "0.325",
          0.4034690799396682,
          0.47294760197986,
          0.8764166819195283
         ],
         "theta": [
          "타율",
          "OBP",
          "SLG",
          "OPS"
         ],
         "type": "scatterpolar"
        }
       ],
       "layout": {
        "polar": {
         "radialaxis": {
          "range": [
           0,
           1
          ]
         }
        },
        "template": {
         "data": {
          "bar": [
           {
            "error_x": {
             "color": "#2a3f5f"
            },
            "error_y": {
             "color": "#2a3f5f"
            },
            "marker": {
             "line": {
              "color": "#E5ECF6",
              "width": 0.5
             }
            },
            "type": "bar"
           }
          ],
          "barpolar": [
           {
            "marker": {
             "line": {
              "color": "#E5ECF6",
              "width": 0.5
             }
            },
            "type": "barpolar"
           }
          ],
          "carpet": [
           {
            "aaxis": {
             "endlinecolor": "#2a3f5f",
             "gridcolor": "white",
             "linecolor": "white",
             "minorgridcolor": "white",
             "startlinecolor": "#2a3f5f"
            },
            "baxis": {
             "endlinecolor": "#2a3f5f",
             "gridcolor": "white",
             "linecolor": "white",
             "minorgridcolor": "white",
             "startlinecolor": "#2a3f5f"
            },
            "type": "carpet"
           }
          ],
          "choropleth": [
           {
            "colorbar": {
             "outlinewidth": 0,
             "ticks": ""
            },
            "type": "choropleth"
           }
          ],
          "contour": [
           {
            "colorbar": {
             "outlinewidth": 0,
             "ticks": ""
            },
            "colorscale": [
             [
              0,
              "#0d0887"
             ],
             [
              0.1111111111111111,
              "#46039f"
             ],
             [
              0.2222222222222222,
              "#7201a8"
             ],
             [
              0.3333333333333333,
              "#9c179e"
             ],
             [
              0.4444444444444444,
              "#bd3786"
             ],
             [
              0.5555555555555556,
              "#d8576b"
             ],
             [
              0.6666666666666666,
              "#ed7953"
             ],
             [
              0.7777777777777778,
              "#fb9f3a"
             ],
             [
              0.8888888888888888,
              "#fdca26"
             ],
             [
              1,
              "#f0f921"
             ]
            ],
            "type": "contour"
           }
          ],
          "contourcarpet": [
           {
            "colorbar": {
             "outlinewidth": 0,
             "ticks": ""
            },
            "type": "contourcarpet"
           }
          ],
          "heatmap": [
           {
            "colorbar": {
             "outlinewidth": 0,
             "ticks": ""
            },
            "colorscale": [
             [
              0,
              "#0d0887"
             ],
             [
              0.1111111111111111,
              "#46039f"
             ],
             [
              0.2222222222222222,
              "#7201a8"
             ],
             [
              0.3333333333333333,
              "#9c179e"
             ],
             [
              0.4444444444444444,
              "#bd3786"
             ],
             [
              0.5555555555555556,
              "#d8576b"
             ],
             [
              0.6666666666666666,
              "#ed7953"
             ],
             [
              0.7777777777777778,
              "#fb9f3a"
             ],
             [
              0.8888888888888888,
              "#fdca26"
             ],
             [
              1,
              "#f0f921"
             ]
            ],
            "type": "heatmap"
           }
          ],
          "heatmapgl": [
           {
            "colorbar": {
             "outlinewidth": 0,
             "ticks": ""
            },
            "colorscale": [
             [
              0,
              "#0d0887"
             ],
             [
              0.1111111111111111,
              "#46039f"
             ],
             [
              0.2222222222222222,
              "#7201a8"
             ],
             [
              0.3333333333333333,
              "#9c179e"
             ],
             [
              0.4444444444444444,
              "#bd3786"
             ],
             [
              0.5555555555555556,
              "#d8576b"
             ],
             [
              0.6666666666666666,
              "#ed7953"
             ],
             [
              0.7777777777777778,
              "#fb9f3a"
             ],
             [
              0.8888888888888888,
              "#fdca26"
             ],
             [
              1,
              "#f0f921"
             ]
            ],
            "type": "heatmapgl"
           }
          ],
          "histogram": [
           {
            "marker": {
             "colorbar": {
              "outlinewidth": 0,
              "ticks": ""
             }
            },
            "type": "histogram"
           }
          ],
          "histogram2d": [
           {
            "colorbar": {
             "outlinewidth": 0,
             "ticks": ""
            },
            "colorscale": [
             [
              0,
              "#0d0887"
             ],
             [
              0.1111111111111111,
              "#46039f"
             ],
             [
              0.2222222222222222,
              "#7201a8"
             ],
             [
              0.3333333333333333,
              "#9c179e"
             ],
             [
              0.4444444444444444,
              "#bd3786"
             ],
             [
              0.5555555555555556,
              "#d8576b"
             ],
             [
              0.6666666666666666,
              "#ed7953"
             ],
             [
              0.7777777777777778,
              "#fb9f3a"
             ],
             [
              0.8888888888888888,
              "#fdca26"
             ],
             [
              1,
              "#f0f921"
             ]
            ],
            "type": "histogram2d"
           }
          ],
          "histogram2dcontour": [
           {
            "colorbar": {
             "outlinewidth": 0,
             "ticks": ""
            },
            "colorscale": [
             [
              0,
              "#0d0887"
             ],
             [
              0.1111111111111111,
              "#46039f"
             ],
             [
              0.2222222222222222,
              "#7201a8"
             ],
             [
              0.3333333333333333,
              "#9c179e"
             ],
             [
              0.4444444444444444,
              "#bd3786"
             ],
             [
              0.5555555555555556,
              "#d8576b"
             ],
             [
              0.6666666666666666,
              "#ed7953"
             ],
             [
              0.7777777777777778,
              "#fb9f3a"
             ],
             [
              0.8888888888888888,
              "#fdca26"
             ],
             [
              1,
              "#f0f921"
             ]
            ],
            "type": "histogram2dcontour"
           }
          ],
          "mesh3d": [
           {
            "colorbar": {
             "outlinewidth": 0,
             "ticks": ""
            },
            "type": "mesh3d"
           }
          ],
          "parcoords": [
           {
            "line": {
             "colorbar": {
              "outlinewidth": 0,
              "ticks": ""
             }
            },
            "type": "parcoords"
           }
          ],
          "pie": [
           {
            "automargin": true,
            "type": "pie"
           }
          ],
          "scatter": [
           {
            "marker": {
             "colorbar": {
              "outlinewidth": 0,
              "ticks": ""
             }
            },
            "type": "scatter"
           }
          ],
          "scatter3d": [
           {
            "line": {
             "colorbar": {
              "outlinewidth": 0,
              "ticks": ""
             }
            },
            "marker": {
             "colorbar": {
              "outlinewidth": 0,
              "ticks": ""
             }
            },
            "type": "scatter3d"
           }
          ],
          "scattercarpet": [
           {
            "marker": {
             "colorbar": {
              "outlinewidth": 0,
              "ticks": ""
             }
            },
            "type": "scattercarpet"
           }
          ],
          "scattergeo": [
           {
            "marker": {
             "colorbar": {
              "outlinewidth": 0,
              "ticks": ""
             }
            },
            "type": "scattergeo"
           }
          ],
          "scattergl": [
           {
            "marker": {
             "colorbar": {
              "outlinewidth": 0,
              "ticks": ""
             }
            },
            "type": "scattergl"
           }
          ],
          "scattermapbox": [
           {
            "marker": {
             "colorbar": {
              "outlinewidth": 0,
              "ticks": ""
             }
            },
            "type": "scattermapbox"
           }
          ],
          "scatterpolar": [
           {
            "marker": {
             "colorbar": {
              "outlinewidth": 0,
              "ticks": ""
             }
            },
            "type": "scatterpolar"
           }
          ],
          "scatterpolargl": [
           {
            "marker": {
             "colorbar": {
              "outlinewidth": 0,
              "ticks": ""
             }
            },
            "type": "scatterpolargl"
           }
          ],
          "scatterternary": [
           {
            "marker": {
             "colorbar": {
              "outlinewidth": 0,
              "ticks": ""
             }
            },
            "type": "scatterternary"
           }
          ],
          "surface": [
           {
            "colorbar": {
             "outlinewidth": 0,
             "ticks": ""
            },
            "colorscale": [
             [
              0,
              "#0d0887"
             ],
             [
              0.1111111111111111,
              "#46039f"
             ],
             [
              0.2222222222222222,
              "#7201a8"
             ],
             [
              0.3333333333333333,
              "#9c179e"
             ],
             [
              0.4444444444444444,
              "#bd3786"
             ],
             [
              0.5555555555555556,
              "#d8576b"
             ],
             [
              0.6666666666666666,
              "#ed7953"
             ],
             [
              0.7777777777777778,
              "#fb9f3a"
             ],
             [
              0.8888888888888888,
              "#fdca26"
             ],
             [
              1,
              "#f0f921"
             ]
            ],
            "type": "surface"
           }
          ],
          "table": [
           {
            "cells": {
             "fill": {
              "color": "#EBF0F8"
             },
             "line": {
              "color": "white"
             }
            },
            "header": {
             "fill": {
              "color": "#C8D4E3"
             },
             "line": {
              "color": "white"
             }
            },
            "type": "table"
           }
          ]
         },
         "layout": {
          "annotationdefaults": {
           "arrowcolor": "#2a3f5f",
           "arrowhead": 0,
           "arrowwidth": 1
          },
          "autotypenumbers": "strict",
          "coloraxis": {
           "colorbar": {
            "outlinewidth": 0,
            "ticks": ""
           }
          },
          "colorscale": {
           "diverging": [
            [
             0,
             "#8e0152"
            ],
            [
             0.1,
             "#c51b7d"
            ],
            [
             0.2,
             "#de77ae"
            ],
            [
             0.3,
             "#f1b6da"
            ],
            [
             0.4,
             "#fde0ef"
            ],
            [
             0.5,
             "#f7f7f7"
            ],
            [
             0.6,
             "#e6f5d0"
            ],
            [
             0.7,
             "#b8e186"
            ],
            [
             0.8,
             "#7fbc41"
            ],
            [
             0.9,
             "#4d9221"
            ],
            [
             1,
             "#276419"
            ]
           ],
           "sequential": [
            [
             0,
             "#0d0887"
            ],
            [
             0.1111111111111111,
             "#46039f"
            ],
            [
             0.2222222222222222,
             "#7201a8"
            ],
            [
             0.3333333333333333,
             "#9c179e"
            ],
            [
             0.4444444444444444,
             "#bd3786"
            ],
            [
             0.5555555555555556,
             "#d8576b"
            ],
            [
             0.6666666666666666,
             "#ed7953"
            ],
            [
             0.7777777777777778,
             "#fb9f3a"
            ],
            [
             0.8888888888888888,
             "#fdca26"
            ],
            [
             1,
             "#f0f921"
            ]
           ],
           "sequentialminus": [
            [
             0,
             "#0d0887"
            ],
            [
             0.1111111111111111,
             "#46039f"
            ],
            [
             0.2222222222222222,
             "#7201a8"
            ],
            [
             0.3333333333333333,
             "#9c179e"
            ],
            [
             0.4444444444444444,
             "#bd3786"
            ],
            [
             0.5555555555555556,
             "#d8576b"
            ],
            [
             0.6666666666666666,
             "#ed7953"
            ],
            [
             0.7777777777777778,
             "#fb9f3a"
            ],
            [
             0.8888888888888888,
             "#fdca26"
            ],
            [
             1,
             "#f0f921"
            ]
           ]
          },
          "colorway": [
           "#636efa",
           "#EF553B",
           "#00cc96",
           "#ab63fa",
           "#FFA15A",
           "#19d3f3",
           "#FF6692",
           "#B6E880",
           "#FF97FF",
           "#FECB52"
          ],
          "font": {
           "color": "#2a3f5f"
          },
          "geo": {
           "bgcolor": "white",
           "lakecolor": "white",
           "landcolor": "#E5ECF6",
           "showlakes": true,
           "showland": true,
           "subunitcolor": "white"
          },
          "hoverlabel": {
           "align": "left"
          },
          "hovermode": "closest",
          "mapbox": {
           "style": "light"
          },
          "paper_bgcolor": "white",
          "plot_bgcolor": "#E5ECF6",
          "polar": {
           "angularaxis": {
            "gridcolor": "white",
            "linecolor": "white",
            "ticks": ""
           },
           "bgcolor": "#E5ECF6",
           "radialaxis": {
            "gridcolor": "white",
            "linecolor": "white",
            "ticks": ""
           }
          },
          "scene": {
           "xaxis": {
            "backgroundcolor": "#E5ECF6",
            "gridcolor": "white",
            "gridwidth": 2,
            "linecolor": "white",
            "showbackground": true,
            "ticks": "",
            "zerolinecolor": "white"
           },
           "yaxis": {
            "backgroundcolor": "#E5ECF6",
            "gridcolor": "white",
            "gridwidth": 2,
            "linecolor": "white",
            "showbackground": true,
            "ticks": "",
            "zerolinecolor": "white"
           },
           "zaxis": {
            "backgroundcolor": "#E5ECF6",
            "gridcolor": "white",
            "gridwidth": 2,
            "linecolor": "white",
            "showbackground": true,
            "ticks": "",
            "zerolinecolor": "white"
           }
          },
          "shapedefaults": {
           "line": {
            "color": "#2a3f5f"
           }
          },
          "ternary": {
           "aaxis": {
            "gridcolor": "white",
            "linecolor": "white",
            "ticks": ""
           },
           "baxis": {
            "gridcolor": "white",
            "linecolor": "white",
            "ticks": ""
           },
           "bgcolor": "#E5ECF6",
           "caxis": {
            "gridcolor": "white",
            "linecolor": "white",
            "ticks": ""
           }
          },
          "title": {
           "x": 0.05
          },
          "xaxis": {
           "automargin": true,
           "gridcolor": "white",
           "linecolor": "white",
           "ticks": "",
           "title": {
            "standoff": 15
           },
           "zerolinecolor": "white",
           "zerolinewidth": 2
          },
          "yaxis": {
           "automargin": true,
           "gridcolor": "white",
           "linecolor": "white",
           "ticks": "",
           "title": {
            "standoff": 15
           },
           "zerolinecolor": "white",
           "zerolinewidth": 2
          }
         }
        }
       }
      },
      "text/html": [
       "<div>                            <div id=\"001ea5b4-9016-41d8-ae91-fc94779dbd96\" class=\"plotly-graph-div\" style=\"height:525px; width:100%;\"></div>            <script type=\"text/javascript\">                require([\"plotly\"], function(Plotly) {                    window.PLOTLYENV=window.PLOTLYENV || {};                                    if (document.getElementById(\"001ea5b4-9016-41d8-ae91-fc94779dbd96\")) {                    Plotly.newPlot(                        \"001ea5b4-9016-41d8-ae91-fc94779dbd96\",                        [{\"fill\": \"toself\", \"name\": \"\\uac15\\uc815\\ud638\", \"r\": [\"0.298\", 0.3857998289136014, 0.5529544720697449, 0.9387543009833463], \"theta\": [\"\\ud0c0\\uc728\", \"OBP\", \"SLG\", \"OPS\"], \"type\": \"scatterpolar\"}, {\"fill\": \"toself\", \"name\": \"\\ucd5c\\ud615\\uc6b0\", \"r\": [\"0.325\", 0.4034690799396682, 0.47294760197986, 0.8764166819195283], \"theta\": [\"\\ud0c0\\uc728\", \"OBP\", \"SLG\", \"OPS\"], \"type\": \"scatterpolar\"}],                        {\"polar\": {\"radialaxis\": {\"range\": [0, 1]}}, \"template\": {\"data\": {\"bar\": [{\"error_x\": {\"color\": \"#2a3f5f\"}, \"error_y\": {\"color\": \"#2a3f5f\"}, \"marker\": {\"line\": {\"color\": \"#E5ECF6\", \"width\": 0.5}}, \"type\": \"bar\"}], \"barpolar\": [{\"marker\": {\"line\": {\"color\": \"#E5ECF6\", \"width\": 0.5}}, \"type\": \"barpolar\"}], \"carpet\": [{\"aaxis\": {\"endlinecolor\": \"#2a3f5f\", \"gridcolor\": \"white\", \"linecolor\": \"white\", \"minorgridcolor\": \"white\", \"startlinecolor\": \"#2a3f5f\"}, \"baxis\": {\"endlinecolor\": \"#2a3f5f\", \"gridcolor\": \"white\", \"linecolor\": \"white\", \"minorgridcolor\": \"white\", \"startlinecolor\": \"#2a3f5f\"}, \"type\": \"carpet\"}], \"choropleth\": [{\"colorbar\": {\"outlinewidth\": 0, \"ticks\": \"\"}, \"type\": \"choropleth\"}], \"contour\": [{\"colorbar\": {\"outlinewidth\": 0, \"ticks\": \"\"}, \"colorscale\": [[0.0, \"#0d0887\"], [0.1111111111111111, \"#46039f\"], [0.2222222222222222, \"#7201a8\"], [0.3333333333333333, \"#9c179e\"], [0.4444444444444444, \"#bd3786\"], [0.5555555555555556, \"#d8576b\"], [0.6666666666666666, \"#ed7953\"], [0.7777777777777778, \"#fb9f3a\"], [0.8888888888888888, \"#fdca26\"], [1.0, \"#f0f921\"]], \"type\": \"contour\"}], \"contourcarpet\": [{\"colorbar\": {\"outlinewidth\": 0, \"ticks\": \"\"}, \"type\": \"contourcarpet\"}], \"heatmap\": [{\"colorbar\": {\"outlinewidth\": 0, \"ticks\": \"\"}, \"colorscale\": [[0.0, \"#0d0887\"], [0.1111111111111111, \"#46039f\"], [0.2222222222222222, \"#7201a8\"], [0.3333333333333333, \"#9c179e\"], [0.4444444444444444, \"#bd3786\"], [0.5555555555555556, \"#d8576b\"], [0.6666666666666666, \"#ed7953\"], [0.7777777777777778, \"#fb9f3a\"], [0.8888888888888888, \"#fdca26\"], [1.0, \"#f0f921\"]], \"type\": \"heatmap\"}], \"heatmapgl\": [{\"colorbar\": {\"outlinewidth\": 0, \"ticks\": \"\"}, \"colorscale\": [[0.0, \"#0d0887\"], [0.1111111111111111, \"#46039f\"], [0.2222222222222222, \"#7201a8\"], [0.3333333333333333, \"#9c179e\"], [0.4444444444444444, \"#bd3786\"], [0.5555555555555556, \"#d8576b\"], [0.6666666666666666, \"#ed7953\"], [0.7777777777777778, \"#fb9f3a\"], [0.8888888888888888, \"#fdca26\"], [1.0, \"#f0f921\"]], \"type\": \"heatmapgl\"}], \"histogram\": [{\"marker\": {\"colorbar\": {\"outlinewidth\": 0, \"ticks\": \"\"}}, \"type\": \"histogram\"}], \"histogram2d\": [{\"colorbar\": {\"outlinewidth\": 0, \"ticks\": \"\"}, \"colorscale\": [[0.0, \"#0d0887\"], [0.1111111111111111, \"#46039f\"], [0.2222222222222222, \"#7201a8\"], [0.3333333333333333, \"#9c179e\"], [0.4444444444444444, \"#bd3786\"], [0.5555555555555556, \"#d8576b\"], [0.6666666666666666, \"#ed7953\"], [0.7777777777777778, \"#fb9f3a\"], [0.8888888888888888, \"#fdca26\"], [1.0, \"#f0f921\"]], \"type\": \"histogram2d\"}], \"histogram2dcontour\": [{\"colorbar\": {\"outlinewidth\": 0, \"ticks\": \"\"}, \"colorscale\": [[0.0, \"#0d0887\"], [0.1111111111111111, \"#46039f\"], [0.2222222222222222, \"#7201a8\"], [0.3333333333333333, \"#9c179e\"], [0.4444444444444444, \"#bd3786\"], [0.5555555555555556, \"#d8576b\"], [0.6666666666666666, \"#ed7953\"], [0.7777777777777778, \"#fb9f3a\"], [0.8888888888888888, \"#fdca26\"], [1.0, \"#f0f921\"]], \"type\": \"histogram2dcontour\"}], \"mesh3d\": [{\"colorbar\": {\"outlinewidth\": 0, \"ticks\": \"\"}, \"type\": \"mesh3d\"}], \"parcoords\": [{\"line\": {\"colorbar\": {\"outlinewidth\": 0, \"ticks\": \"\"}}, \"type\": \"parcoords\"}], \"pie\": [{\"automargin\": true, \"type\": \"pie\"}], \"scatter\": [{\"marker\": {\"colorbar\": {\"outlinewidth\": 0, \"ticks\": \"\"}}, \"type\": \"scatter\"}], \"scatter3d\": [{\"line\": {\"colorbar\": {\"outlinewidth\": 0, \"ticks\": \"\"}}, \"marker\": {\"colorbar\": {\"outlinewidth\": 0, \"ticks\": \"\"}}, \"type\": \"scatter3d\"}], \"scattercarpet\": [{\"marker\": {\"colorbar\": {\"outlinewidth\": 0, \"ticks\": \"\"}}, \"type\": \"scattercarpet\"}], \"scattergeo\": [{\"marker\": {\"colorbar\": {\"outlinewidth\": 0, \"ticks\": \"\"}}, \"type\": \"scattergeo\"}], \"scattergl\": [{\"marker\": {\"colorbar\": {\"outlinewidth\": 0, \"ticks\": \"\"}}, \"type\": \"scattergl\"}], \"scattermapbox\": [{\"marker\": {\"colorbar\": {\"outlinewidth\": 0, \"ticks\": \"\"}}, \"type\": \"scattermapbox\"}], \"scatterpolar\": [{\"marker\": {\"colorbar\": {\"outlinewidth\": 0, \"ticks\": \"\"}}, \"type\": \"scatterpolar\"}], \"scatterpolargl\": [{\"marker\": {\"colorbar\": {\"outlinewidth\": 0, \"ticks\": \"\"}}, \"type\": \"scatterpolargl\"}], \"scatterternary\": [{\"marker\": {\"colorbar\": {\"outlinewidth\": 0, \"ticks\": \"\"}}, \"type\": \"scatterternary\"}], \"surface\": [{\"colorbar\": {\"outlinewidth\": 0, \"ticks\": \"\"}, \"colorscale\": [[0.0, \"#0d0887\"], [0.1111111111111111, \"#46039f\"], [0.2222222222222222, \"#7201a8\"], [0.3333333333333333, \"#9c179e\"], [0.4444444444444444, \"#bd3786\"], [0.5555555555555556, \"#d8576b\"], [0.6666666666666666, \"#ed7953\"], [0.7777777777777778, \"#fb9f3a\"], [0.8888888888888888, \"#fdca26\"], [1.0, \"#f0f921\"]], \"type\": \"surface\"}], \"table\": [{\"cells\": {\"fill\": {\"color\": \"#EBF0F8\"}, \"line\": {\"color\": \"white\"}}, \"header\": {\"fill\": {\"color\": \"#C8D4E3\"}, \"line\": {\"color\": \"white\"}}, \"type\": \"table\"}]}, \"layout\": {\"annotationdefaults\": {\"arrowcolor\": \"#2a3f5f\", \"arrowhead\": 0, \"arrowwidth\": 1}, \"autotypenumbers\": \"strict\", \"coloraxis\": {\"colorbar\": {\"outlinewidth\": 0, \"ticks\": \"\"}}, \"colorscale\": {\"diverging\": [[0, \"#8e0152\"], [0.1, \"#c51b7d\"], [0.2, \"#de77ae\"], [0.3, \"#f1b6da\"], [0.4, \"#fde0ef\"], [0.5, \"#f7f7f7\"], [0.6, \"#e6f5d0\"], [0.7, \"#b8e186\"], [0.8, \"#7fbc41\"], [0.9, \"#4d9221\"], [1, \"#276419\"]], \"sequential\": [[0.0, \"#0d0887\"], [0.1111111111111111, \"#46039f\"], [0.2222222222222222, \"#7201a8\"], [0.3333333333333333, \"#9c179e\"], [0.4444444444444444, \"#bd3786\"], [0.5555555555555556, \"#d8576b\"], [0.6666666666666666, \"#ed7953\"], [0.7777777777777778, \"#fb9f3a\"], [0.8888888888888888, \"#fdca26\"], [1.0, \"#f0f921\"]], \"sequentialminus\": [[0.0, \"#0d0887\"], [0.1111111111111111, \"#46039f\"], [0.2222222222222222, \"#7201a8\"], [0.3333333333333333, \"#9c179e\"], [0.4444444444444444, \"#bd3786\"], [0.5555555555555556, \"#d8576b\"], [0.6666666666666666, \"#ed7953\"], [0.7777777777777778, \"#fb9f3a\"], [0.8888888888888888, \"#fdca26\"], [1.0, \"#f0f921\"]]}, \"colorway\": [\"#636efa\", \"#EF553B\", \"#00cc96\", \"#ab63fa\", \"#FFA15A\", \"#19d3f3\", \"#FF6692\", \"#B6E880\", \"#FF97FF\", \"#FECB52\"], \"font\": {\"color\": \"#2a3f5f\"}, \"geo\": {\"bgcolor\": \"white\", \"lakecolor\": \"white\", \"landcolor\": \"#E5ECF6\", \"showlakes\": true, \"showland\": true, \"subunitcolor\": \"white\"}, \"hoverlabel\": {\"align\": \"left\"}, \"hovermode\": \"closest\", \"mapbox\": {\"style\": \"light\"}, \"paper_bgcolor\": \"white\", \"plot_bgcolor\": \"#E5ECF6\", \"polar\": {\"angularaxis\": {\"gridcolor\": \"white\", \"linecolor\": \"white\", \"ticks\": \"\"}, \"bgcolor\": \"#E5ECF6\", \"radialaxis\": {\"gridcolor\": \"white\", \"linecolor\": \"white\", \"ticks\": \"\"}}, \"scene\": {\"xaxis\": {\"backgroundcolor\": \"#E5ECF6\", \"gridcolor\": \"white\", \"gridwidth\": 2, \"linecolor\": \"white\", \"showbackground\": true, \"ticks\": \"\", \"zerolinecolor\": \"white\"}, \"yaxis\": {\"backgroundcolor\": \"#E5ECF6\", \"gridcolor\": \"white\", \"gridwidth\": 2, \"linecolor\": \"white\", \"showbackground\": true, \"ticks\": \"\", \"zerolinecolor\": \"white\"}, \"zaxis\": {\"backgroundcolor\": \"#E5ECF6\", \"gridcolor\": \"white\", \"gridwidth\": 2, \"linecolor\": \"white\", \"showbackground\": true, \"ticks\": \"\", \"zerolinecolor\": \"white\"}}, \"shapedefaults\": {\"line\": {\"color\": \"#2a3f5f\"}}, \"ternary\": {\"aaxis\": {\"gridcolor\": \"white\", \"linecolor\": \"white\", \"ticks\": \"\"}, \"baxis\": {\"gridcolor\": \"white\", \"linecolor\": \"white\", \"ticks\": \"\"}, \"bgcolor\": \"#E5ECF6\", \"caxis\": {\"gridcolor\": \"white\", \"linecolor\": \"white\", \"ticks\": \"\"}}, \"title\": {\"x\": 0.05}, \"xaxis\": {\"automargin\": true, \"gridcolor\": \"white\", \"linecolor\": \"white\", \"ticks\": \"\", \"title\": {\"standoff\": 15}, \"zerolinecolor\": \"white\", \"zerolinewidth\": 2}, \"yaxis\": {\"automargin\": true, \"gridcolor\": \"white\", \"linecolor\": \"white\", \"ticks\": \"\", \"title\": {\"standoff\": 15}, \"zerolinecolor\": \"white\", \"zerolinewidth\": 2}}}},                        {\"responsive\": true}                    ).then(function(){\n",
       "                            \n",
       "var gd = document.getElementById('001ea5b4-9016-41d8-ae91-fc94779dbd96');\n",
       "var x = new MutationObserver(function (mutations, observer) {{\n",
       "        var display = window.getComputedStyle(gd).display;\n",
       "        if (!display || display === 'none') {{\n",
       "            console.log([gd, 'removed!']);\n",
       "            Plotly.purge(gd);\n",
       "            observer.disconnect();\n",
       "        }}\n",
       "}});\n",
       "\n",
       "// Listen for the removal of the full notebook cells\n",
       "var notebookContainer = gd.closest('#notebook-container');\n",
       "if (notebookContainer) {{\n",
       "    x.observe(notebookContainer, {childList: true});\n",
       "}}\n",
       "\n",
       "// Listen for the clearing of the current output cell\n",
       "var outputEl = gd.closest('.output');\n",
       "if (outputEl) {{\n",
       "    x.observe(outputEl, {childList: true});\n",
       "}}\n",
       "\n",
       "                        })                };                });            </script>        </div>"
      ]
     },
     "metadata": {},
     "output_type": "display_data"
    }
   ],
   "source": [
    "hit_indicator = ['타율', 'OBP', 'SLG', 'OPS']\n",
    "fig1 = go.Figure()\n",
    "fig2 = go.Figure()\n",
    "\n",
    "fig1.add_trace(go.Scatterpolar(r=hitter_majorleaguer_career_df_raw[hit_indicator].loc[0][:],\n",
    "                             theta=hit_indicator,\n",
    "                             fill='toself',\n",
    "                             name=hitter_majorleaguer_career_df_raw.loc[0]['이름']))\n",
    "fig1.add_trace(go.Scatterpolar(r=hitter_KBO_career_df_raw[hit_indicator].loc[1][:],\n",
    "                             theta=hit_indicator,\n",
    "                             fill='toself',\n",
    "                             name=hitter_KBO_career_df_raw.loc[0]['이름']))\n",
    "\n",
    "fig1.update_layout(polar=dict(radialaxis=dict(range=[0, 1])))\n",
    "#fig1.update_layout(polar=dict(radialaxis=dict(range=[0, 1])))\n",
    "\n",
    "fig1.show()\n",
    "#fig2.show()"
   ]
  },
  {
   "cell_type": "markdown",
   "metadata": {},
   "source": [
    "---"
   ]
  },
  {
   "cell_type": "markdown",
   "metadata": {},
   "source": [
    "<h2>5-2. wOBA(타석별 평균 득점 생산력 = 가중출루율), wRAA(평균 타자 대비 득점 생산력) 구하기</h2>"
   ]
  },
  {
   "cell_type": "markdown",
   "metadata": {},
   "source": [
    "<Blockquote><font size=4>$wOBA = \\large\\frac{(0.72*볼넷)+(0.75*사구)+(0.90*1루타)+(0.92*실책출루)+\\\\(1.24*2루타)+(1.56*3루타)+(1.95*홈런)}{타석}$<br><br> $wRAA = 타석 * (\\frac{wOBA-리그평균wOBA}{wOBA스케일})\\quad{, wOBA스케일} = 1.15$</font></Blockquote>\n",
    "\n",
    "<font size=4><br><br>wOBA공식은 The book: playing the percentages in baseball 책에서 가져왔다.<br>wOBA 식에서 지표들의 앞에 붙은 0.72, 0.75, 0.90 같은 숫자들으 Run Value(득점 가치)라고 부르고 <br>RV = RE + 해당 이벤트로 인해 발생한 득점 + 이벤트 발생전 득점 기대값으로 구할 수 있다.<br>(RE = 24가지 상황(아웃카운트, 루상 주자) 별로 해당 이닝이 종료될 때까지 획득한 득점의 평균)<br><br>실책출루 지표가 없다......</font>\n",
    "\n"
   ]
  },
  {
   "cell_type": "code",
   "execution_count": null,
   "metadata": {},
   "outputs": [],
   "source": []
  }
 ],
 "metadata": {
  "hide_input": false,
  "kernelspec": {
   "display_name": "Python 3",
   "language": "python",
   "name": "python3"
  },
  "language_info": {
   "codemirror_mode": {
    "name": "ipython",
    "version": 3
   },
   "file_extension": ".py",
   "mimetype": "text/x-python",
   "name": "python",
   "nbconvert_exporter": "python",
   "pygments_lexer": "ipython3",
   "version": "3.8.5"
  },
  "toc": {
   "base_numbering": 1,
   "nav_menu": {},
   "number_sections": false,
   "sideBar": true,
   "skip_h1_title": false,
   "title_cell": "Table of Contents",
   "title_sidebar": "Contents",
   "toc_cell": false,
   "toc_position": {},
   "toc_section_display": true,
   "toc_window_display": false
  },
  "varInspector": {
   "cols": {
    "lenName": 16,
    "lenType": 16,
    "lenVar": 40
   },
   "kernels_config": {
    "python": {
     "delete_cmd_postfix": "",
     "delete_cmd_prefix": "del ",
     "library": "var_list.py",
     "varRefreshCmd": "print(var_dic_list())"
    },
    "r": {
     "delete_cmd_postfix": ") ",
     "delete_cmd_prefix": "rm(",
     "library": "var_list.r",
     "varRefreshCmd": "cat(var_dic_list()) "
    }
   },
   "types_to_exclude": [
    "module",
    "function",
    "builtin_function_or_method",
    "instance",
    "_Feature"
   ],
   "window_display": false
  }
 },
 "nbformat": 4,
 "nbformat_minor": 4
}
