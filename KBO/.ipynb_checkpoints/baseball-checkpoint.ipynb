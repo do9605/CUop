{
 "cells": [
  {
   "cell_type": "code",
   "execution_count": 110,
   "metadata": {},
   "outputs": [
    {
     "data": {
      "text/html": [
       "<style>.container {width:1260px !important;}</style>"
      ],
      "text/plain": [
       "<IPython.core.display.HTML object>"
      ]
     },
     "metadata": {},
     "output_type": "display_data"
    }
   ],
   "source": [
    "from IPython.core.display import display, HTML\n",
    "display(HTML('<style>.container {width:1260px !important;}</style>'))"
   ]
  },
  {
   "cell_type": "markdown",
   "metadata": {},
   "source": [
    "<h1>KBO 데이터 크롤링 및 메이저리그로 진출할만한 선수 찾아보기</h1>\n",
    "<h2>1. <a href='https://www.koreabaseball.com/Default.aspx'>KBO</a> 크롤링 및 데이터 전처리</h2>\n",
    "<h2>2. 2020년 기준 KBO 상위 10명의 선수와 한국인 메이저리거 선수들 기록 분석통해 메이저리그로 갈만한 선수 찾아보기</h2>\n",
    "\n",
    "---"
   ]
  },
  {
   "cell_type": "markdown",
   "metadata": {},
   "source": [
    "<h3>한국인 메이저리거 데이터</h3>"
   ]
  },
  {
   "cell_type": "code",
   "execution_count": 111,
   "metadata": {},
   "outputs": [],
   "source": [
    "import pandas as pd\n",
    "pd.set_option('display.max_colwidth', 1000)\n",
    "import requests\n",
    "from bs4 import BeautifulSoup as bs"
   ]
  },
  {
   "cell_type": "code",
   "execution_count": 112,
   "metadata": {},
   "outputs": [],
   "source": [
    "import plotly.express as px\n",
    "from plotly.subplots import make_subplots\n",
    "import plotly.graph_objects as go\n",
    "import numpy as np"
   ]
  },
  {
   "cell_type": "code",
   "execution_count": 113,
   "metadata": {},
   "outputs": [],
   "source": [
    "# get korean majorleaguer from namuwiki\n",
    "url = 'https://namu.wiki/w/%ED%95%9C%EA%B5%AD%EC%9D%B8%20%EB%A9%94%EC%9D%B4%EC%A0%80%EB%A6%AC%EA%B1%B0'\n",
    "req = requests.get(url)\n",
    "html = req.text\n",
    "soup = bs(html, 'html.parser')"
   ]
  },
  {
   "cell_type": "code",
   "execution_count": 114,
   "metadata": {},
   "outputs": [],
   "source": [
    "korean_majorleaguer = []\n",
    "\n",
    "for td in soup('td'):\n",
    "    for a in td('a'):\n",
    "        if ('class' in a.attrs\n",
    "            and 'wiki-link-internal' in a['class']\n",
    "            and len(a.get_text()) == 3\n",
    "            and a.get_text() not in korean_majorleaguer):\n",
    "            korean_majorleaguer.append(a.get_text())\n",
    "\n",
    "korean_majorleaguer = sorted(korean_majorleaguer)"
   ]
  },
  {
   "cell_type": "code",
   "execution_count": 115,
   "metadata": {},
   "outputs": [
    {
     "data": {
      "text/html": [
       "<div>\n",
       "<style scoped>\n",
       "    .dataframe tbody tr th:only-of-type {\n",
       "        vertical-align: middle;\n",
       "    }\n",
       "\n",
       "    .dataframe tbody tr th {\n",
       "        vertical-align: top;\n",
       "    }\n",
       "\n",
       "    .dataframe thead th {\n",
       "        text-align: right;\n",
       "    }\n",
       "</style>\n",
       "<table border=\"1\" class=\"dataframe\">\n",
       "  <thead>\n",
       "    <tr style=\"text-align: right;\">\n",
       "      <th></th>\n",
       "      <th>Name</th>\n",
       "      <th>Birth_year</th>\n",
       "      <th>Position</th>\n",
       "    </tr>\n",
       "  </thead>\n",
       "  <tbody>\n",
       "    <tr>\n",
       "      <th>0</th>\n",
       "      <td>강정호</td>\n",
       "      <td>1987</td>\n",
       "      <td>내야수</td>\n",
       "    </tr>\n",
       "    <tr>\n",
       "      <th>1</th>\n",
       "      <td>구대성</td>\n",
       "      <td>1969</td>\n",
       "      <td>투수</td>\n",
       "    </tr>\n",
       "    <tr>\n",
       "      <th>2</th>\n",
       "      <td>김광현</td>\n",
       "      <td>1988</td>\n",
       "      <td>투수</td>\n",
       "    </tr>\n",
       "    <tr>\n",
       "      <th>3</th>\n",
       "      <td>김병현</td>\n",
       "      <td>1979</td>\n",
       "      <td>투수</td>\n",
       "    </tr>\n",
       "    <tr>\n",
       "      <th>4</th>\n",
       "      <td>김선우</td>\n",
       "      <td>1977</td>\n",
       "      <td>투수</td>\n",
       "    </tr>\n",
       "    <tr>\n",
       "      <th>5</th>\n",
       "      <td>김하성</td>\n",
       "      <td>1995</td>\n",
       "      <td>내야수</td>\n",
       "    </tr>\n",
       "    <tr>\n",
       "      <th>6</th>\n",
       "      <td>김현수</td>\n",
       "      <td>1988</td>\n",
       "      <td>외야수</td>\n",
       "    </tr>\n",
       "    <tr>\n",
       "      <th>7</th>\n",
       "      <td>류제국</td>\n",
       "      <td>1983</td>\n",
       "      <td>투수</td>\n",
       "    </tr>\n",
       "    <tr>\n",
       "      <th>8</th>\n",
       "      <td>류현진</td>\n",
       "      <td>1987</td>\n",
       "      <td>투수</td>\n",
       "    </tr>\n",
       "    <tr>\n",
       "      <th>9</th>\n",
       "      <td>박병호</td>\n",
       "      <td>1986</td>\n",
       "      <td>내야수</td>\n",
       "    </tr>\n",
       "    <tr>\n",
       "      <th>10</th>\n",
       "      <td>박찬호</td>\n",
       "      <td>1973</td>\n",
       "      <td>투수</td>\n",
       "    </tr>\n",
       "    <tr>\n",
       "      <th>11</th>\n",
       "      <td>백차승</td>\n",
       "      <td>1980</td>\n",
       "      <td>투수</td>\n",
       "    </tr>\n",
       "    <tr>\n",
       "      <th>12</th>\n",
       "      <td>봉중근</td>\n",
       "      <td>1980</td>\n",
       "      <td>투수</td>\n",
       "    </tr>\n",
       "    <tr>\n",
       "      <th>13</th>\n",
       "      <td>서재응</td>\n",
       "      <td>1977</td>\n",
       "      <td>투수</td>\n",
       "    </tr>\n",
       "    <tr>\n",
       "      <th>14</th>\n",
       "      <td>오승환</td>\n",
       "      <td>1982</td>\n",
       "      <td>투수</td>\n",
       "    </tr>\n",
       "    <tr>\n",
       "      <th>15</th>\n",
       "      <td>이대호</td>\n",
       "      <td>1982</td>\n",
       "      <td>내야수</td>\n",
       "    </tr>\n",
       "    <tr>\n",
       "      <th>16</th>\n",
       "      <td>이상훈</td>\n",
       "      <td>1971</td>\n",
       "      <td>투수</td>\n",
       "    </tr>\n",
       "    <tr>\n",
       "      <th>17</th>\n",
       "      <td>임창용</td>\n",
       "      <td>1976</td>\n",
       "      <td>투수</td>\n",
       "    </tr>\n",
       "    <tr>\n",
       "      <th>18</th>\n",
       "      <td>조진호</td>\n",
       "      <td>1975</td>\n",
       "      <td>투수</td>\n",
       "    </tr>\n",
       "    <tr>\n",
       "      <th>19</th>\n",
       "      <td>최지만</td>\n",
       "      <td>1991</td>\n",
       "      <td>내야수</td>\n",
       "    </tr>\n",
       "    <tr>\n",
       "      <th>20</th>\n",
       "      <td>최희섭</td>\n",
       "      <td>1979</td>\n",
       "      <td>내야수</td>\n",
       "    </tr>\n",
       "    <tr>\n",
       "      <th>21</th>\n",
       "      <td>추신수</td>\n",
       "      <td>1982</td>\n",
       "      <td>외야수</td>\n",
       "    </tr>\n",
       "    <tr>\n",
       "      <th>22</th>\n",
       "      <td>황재균</td>\n",
       "      <td>1987</td>\n",
       "      <td>내야수</td>\n",
       "    </tr>\n",
       "  </tbody>\n",
       "</table>\n",
       "</div>"
      ],
      "text/plain": [
       "   Name Birth_year Position\n",
       "0   강정호       1987      내야수\n",
       "1   구대성       1969       투수\n",
       "2   김광현       1988       투수\n",
       "3   김병현       1979       투수\n",
       "4   김선우       1977       투수\n",
       "5   김하성       1995      내야수\n",
       "6   김현수       1988      외야수\n",
       "7   류제국       1983       투수\n",
       "8   류현진       1987       투수\n",
       "9   박병호       1986      내야수\n",
       "10  박찬호       1973       투수\n",
       "11  백차승       1980       투수\n",
       "12  봉중근       1980       투수\n",
       "13  서재응       1977       투수\n",
       "14  오승환       1982       투수\n",
       "15  이대호       1982      내야수\n",
       "16  이상훈       1971       투수\n",
       "17  임창용       1976       투수\n",
       "18  조진호       1975       투수\n",
       "19  최지만       1991      내야수\n",
       "20  최희섭       1979      내야수\n",
       "21  추신수       1982      외야수\n",
       "22  황재균       1987      내야수"
      ]
     },
     "execution_count": 115,
     "metadata": {},
     "output_type": "execute_result"
    }
   ],
   "source": [
    "player_position = ['내야수', '투수', '투수', '투수', '투수', '내야수', '외야수', '투수', \n",
    "                   '투수', '내야수', '투수', '투수', '투수', '투수', '투수', '내야수',\n",
    "                  '투수', '투수', '투수', '내야수', '내야수', '외야수', '내야수']\n",
    "player_birth_year = ['1987', '1969', '1988', '1979', '1977', '1995', '1988', '1983', '1987', '1986', '1973', '1980',\n",
    "                    '1980', '1977', '1982', '1982', '1971', '1976', '1975', '1991', '1979', '1982', '1987']\n",
    "korean_majorleaguer_df = pd.DataFrame(data={'Name': korean_majorleaguer, 'Birth_year': player_birth_year,\n",
    "                                            'Position': player_position})\n",
    "korean_majorleaguer_df"
   ]
  },
  {
   "cell_type": "markdown",
   "metadata": {},
   "source": [
    "---\n",
    "\n",
    "<h3>한국인 메이저리거 url data</h3>"
   ]
  },
  {
   "cell_type": "code",
   "execution_count": 116,
   "metadata": {},
   "outputs": [],
   "source": [
    "from selenium import webdriver\n",
    "import time"
   ]
  },
  {
   "cell_type": "code",
   "execution_count": 117,
   "metadata": {
    "scrolled": false
   },
   "outputs": [],
   "source": [
    "# crawling using selenium(too slow...)\n",
    "\n",
    "# player_info_url = []\n",
    "\n",
    "# # execute chrome web browser\n",
    "# path = '/Users/dohee/Downloads/chromedriver'\n",
    "\n",
    "# for player in korean_majorleaguer_df.loc[:]['Name'].to_list():\n",
    "#     driver = webdriver.Chrome(path)\n",
    "#     driver.get('https://www.koreabaseball.com/Player/Search.aspx')\n",
    "    \n",
    "#     # search player\n",
    "#     element = driver.find_element_by_id(\"cphContents_cphContents_cphContents_txtSearchPlayerName\")\n",
    "#     element.send_keys(player)\n",
    "\n",
    "#     # click the search button\n",
    "#     driver.find_element_by_xpath('//*[@id=\"cphContents_cphContents_cphContents_btnSearch\"]').click()\n",
    "#     time.sleep(2)\n",
    "\n",
    "#     # count number of person who has same name\n",
    "#     count_search_result = driver.find_element_by_xpath('//*[@id=\"cphContents_cphContents_cphContents_udpRecord\"]/div[2]/p/strong/span')\n",
    "    \n",
    "#     # if there's no information of the player\n",
    "#     if count_search_result.text == '0':\n",
    "#         player_info_url.append('NO_INFO_URL')\n",
    "#     # if there's only one information of the player\n",
    "#     elif count_search_result.text == '1':\n",
    "#         driver.find_element_by_xpath('//*[@id=\"cphContents_cphContents_cphContents_udpRecord\"]/div[2]/table/tbody/tr/td[2]/a').click()\n",
    "#         player_info_url.append(driver.current_url)\n",
    "#     # if there are multiple information of the player\n",
    "#     else:\n",
    "#         temp_ls = []\n",
    "#         for count in range(int(count_search_result.text)):\n",
    "#             driver.find_element_by_xpath('//*[@id=\"cphContents_cphContents_cphContents_udpRecord\"]/div[2]/table/tbody/tr[{0}]/td[2]/a'.format(count+1)).click()\n",
    "#             temp_ls.append(driver.current_url)\n",
    "#             time.sleep(2)\n",
    "#             driver.back()\n",
    "#             time.sleep(2)\n",
    "            \n",
    "#             # search player\n",
    "#             element = driver.find_element_by_id(\"cphContents_cphContents_cphContents_txtSearchPlayerName\")\n",
    "#             element.send_keys(player)\n",
    "\n",
    "#             # click the search button\n",
    "#             driver.find_element_by_xpath('//*[@id=\"cphContents_cphContents_cphContents_btnSearch\"]').click()\n",
    "#             time.sleep(2)\n",
    "            \n",
    "#         player_info_url.append(temp_ls)\n",
    "#     driver.close()\n",
    "    \n",
    "# # add to dataframe\n",
    "# korean_majorleaguer_df['info_url'] = player_info_url"
   ]
  },
  {
   "cell_type": "code",
   "execution_count": 118,
   "metadata": {},
   "outputs": [
    {
     "data": {
      "text/html": [
       "<div>\n",
       "<style scoped>\n",
       "    .dataframe tbody tr th:only-of-type {\n",
       "        vertical-align: middle;\n",
       "    }\n",
       "\n",
       "    .dataframe tbody tr th {\n",
       "        vertical-align: top;\n",
       "    }\n",
       "\n",
       "    .dataframe thead th {\n",
       "        text-align: right;\n",
       "    }\n",
       "</style>\n",
       "<table border=\"1\" class=\"dataframe\">\n",
       "  <thead>\n",
       "    <tr style=\"text-align: right;\">\n",
       "      <th></th>\n",
       "      <th>Name</th>\n",
       "      <th>Birth_year</th>\n",
       "      <th>Position</th>\n",
       "      <th>info_url</th>\n",
       "    </tr>\n",
       "  </thead>\n",
       "  <tbody>\n",
       "    <tr>\n",
       "      <th>0</th>\n",
       "      <td>강정호</td>\n",
       "      <td>1987</td>\n",
       "      <td>내야수</td>\n",
       "      <td>[https://www.koreabaseball.com/Record/Retire/Hitter.aspx?playerId=76325]</td>\n",
       "    </tr>\n",
       "    <tr>\n",
       "      <th>1</th>\n",
       "      <td>구대성</td>\n",
       "      <td>1969</td>\n",
       "      <td>투수</td>\n",
       "      <td>[https://www.koreabaseball.com/Record/Retire/Pitcher.aspx?playerId=93715]</td>\n",
       "    </tr>\n",
       "    <tr>\n",
       "      <th>2</th>\n",
       "      <td>김광현</td>\n",
       "      <td>1988</td>\n",
       "      <td>투수</td>\n",
       "      <td>[https://www.koreabaseball.com/Record/Retire/Pitcher.aspx?playerId=77829]</td>\n",
       "    </tr>\n",
       "    <tr>\n",
       "      <th>3</th>\n",
       "      <td>김병현</td>\n",
       "      <td>1979</td>\n",
       "      <td>투수</td>\n",
       "      <td>[https://www.koreabaseball.com/Record/Retire/Pitcher.aspx?playerId=62349]</td>\n",
       "    </tr>\n",
       "    <tr>\n",
       "      <th>4</th>\n",
       "      <td>김선우</td>\n",
       "      <td>1977</td>\n",
       "      <td>투수</td>\n",
       "      <td>[https://www.koreabaseball.com/Record/Retire/Pitcher.aspx?playerId=78232]</td>\n",
       "    </tr>\n",
       "    <tr>\n",
       "      <th>5</th>\n",
       "      <td>김하성</td>\n",
       "      <td>1995</td>\n",
       "      <td>내야수</td>\n",
       "      <td>[https://www.koreabaseball.com/Record/Retire/Hitter.aspx?playerId=64300]</td>\n",
       "    </tr>\n",
       "    <tr>\n",
       "      <th>6</th>\n",
       "      <td>김현수</td>\n",
       "      <td>1988</td>\n",
       "      <td>외야수</td>\n",
       "      <td>[https://www.koreabaseball.com/Record/Player/HitterDetail/Basic.aspx?playerId=76290]</td>\n",
       "    </tr>\n",
       "    <tr>\n",
       "      <th>7</th>\n",
       "      <td>류제국</td>\n",
       "      <td>1983</td>\n",
       "      <td>투수</td>\n",
       "      <td>[https://www.koreabaseball.com/Record/Retire/Pitcher.aspx?playerId=63111]</td>\n",
       "    </tr>\n",
       "    <tr>\n",
       "      <th>8</th>\n",
       "      <td>류현진</td>\n",
       "      <td>1987</td>\n",
       "      <td>투수</td>\n",
       "      <td>[https://www.koreabaseball.com/Record/Retire/Pitcher.aspx?playerId=76715]</td>\n",
       "    </tr>\n",
       "    <tr>\n",
       "      <th>9</th>\n",
       "      <td>박병호</td>\n",
       "      <td>1986</td>\n",
       "      <td>내야수</td>\n",
       "      <td>[https://www.koreabaseball.com/Record/Player/HitterDetail/Basic.aspx?playerId=75125]</td>\n",
       "    </tr>\n",
       "    <tr>\n",
       "      <th>10</th>\n",
       "      <td>박찬호</td>\n",
       "      <td>1973</td>\n",
       "      <td>투수</td>\n",
       "      <td>[https://www.koreabaseball.com/Record/Retire/Pitcher.aspx?playerId=62761]</td>\n",
       "    </tr>\n",
       "    <tr>\n",
       "      <th>11</th>\n",
       "      <td>백차승</td>\n",
       "      <td>1980</td>\n",
       "      <td>투수</td>\n",
       "      <td>[]</td>\n",
       "    </tr>\n",
       "    <tr>\n",
       "      <th>12</th>\n",
       "      <td>봉중근</td>\n",
       "      <td>1980</td>\n",
       "      <td>투수</td>\n",
       "      <td>[https://www.koreabaseball.com/Record/Retire/Pitcher.aspx?playerId=77147]</td>\n",
       "    </tr>\n",
       "    <tr>\n",
       "      <th>13</th>\n",
       "      <td>서재응</td>\n",
       "      <td>1977</td>\n",
       "      <td>투수</td>\n",
       "      <td>[https://www.koreabaseball.com/Record/Retire/Pitcher.aspx?playerId=78640]</td>\n",
       "    </tr>\n",
       "    <tr>\n",
       "      <th>14</th>\n",
       "      <td>오승환</td>\n",
       "      <td>1982</td>\n",
       "      <td>투수</td>\n",
       "      <td>[https://www.koreabaseball.com/Record/Player/PitcherDetail/Basic.aspx?playerId=75421]</td>\n",
       "    </tr>\n",
       "    <tr>\n",
       "      <th>15</th>\n",
       "      <td>이대호</td>\n",
       "      <td>1982</td>\n",
       "      <td>내야수</td>\n",
       "      <td>[https://www.koreabaseball.com/Record/Player/HitterDetail/Basic.aspx?playerId=71564]</td>\n",
       "    </tr>\n",
       "    <tr>\n",
       "      <th>16</th>\n",
       "      <td>이상훈</td>\n",
       "      <td>1971</td>\n",
       "      <td>투수</td>\n",
       "      <td>[https://www.koreabaseball.com/Record/Retire/Pitcher.aspx?playerId=90851, https://www.koreabaseball.com/Record/Retire/Pitcher.aspx?playerId=93147]</td>\n",
       "    </tr>\n",
       "    <tr>\n",
       "      <th>17</th>\n",
       "      <td>임창용</td>\n",
       "      <td>1976</td>\n",
       "      <td>투수</td>\n",
       "      <td>[https://www.koreabaseball.com/Record/Retire/Pitcher.aspx?playerId=95657]</td>\n",
       "    </tr>\n",
       "    <tr>\n",
       "      <th>18</th>\n",
       "      <td>조진호</td>\n",
       "      <td>1975</td>\n",
       "      <td>투수</td>\n",
       "      <td>[https://www.koreabaseball.com/Record/Retire/Pitcher.aspx?playerId=73830]</td>\n",
       "    </tr>\n",
       "    <tr>\n",
       "      <th>19</th>\n",
       "      <td>최지만</td>\n",
       "      <td>1991</td>\n",
       "      <td>내야수</td>\n",
       "      <td>[]</td>\n",
       "    </tr>\n",
       "    <tr>\n",
       "      <th>20</th>\n",
       "      <td>최희섭</td>\n",
       "      <td>1979</td>\n",
       "      <td>내야수</td>\n",
       "      <td>[https://www.koreabaseball.com/Record/Retire/Hitter.aspx?playerId=77623]</td>\n",
       "    </tr>\n",
       "    <tr>\n",
       "      <th>21</th>\n",
       "      <td>추신수</td>\n",
       "      <td>1982</td>\n",
       "      <td>외야수</td>\n",
       "      <td>[]</td>\n",
       "    </tr>\n",
       "    <tr>\n",
       "      <th>22</th>\n",
       "      <td>황재균</td>\n",
       "      <td>1987</td>\n",
       "      <td>내야수</td>\n",
       "      <td>[https://www.koreabaseball.com/Record/Player/HitterDetail/Basic.aspx?playerId=76313]</td>\n",
       "    </tr>\n",
       "  </tbody>\n",
       "</table>\n",
       "</div>"
      ],
      "text/plain": [
       "   Name Birth_year Position                                                                                                                                            info_url\n",
       "0   강정호       1987      내야수                                                                            [https://www.koreabaseball.com/Record/Retire/Hitter.aspx?playerId=76325]\n",
       "1   구대성       1969       투수                                                                           [https://www.koreabaseball.com/Record/Retire/Pitcher.aspx?playerId=93715]\n",
       "2   김광현       1988       투수                                                                           [https://www.koreabaseball.com/Record/Retire/Pitcher.aspx?playerId=77829]\n",
       "3   김병현       1979       투수                                                                           [https://www.koreabaseball.com/Record/Retire/Pitcher.aspx?playerId=62349]\n",
       "4   김선우       1977       투수                                                                           [https://www.koreabaseball.com/Record/Retire/Pitcher.aspx?playerId=78232]\n",
       "5   김하성       1995      내야수                                                                            [https://www.koreabaseball.com/Record/Retire/Hitter.aspx?playerId=64300]\n",
       "6   김현수       1988      외야수                                                                [https://www.koreabaseball.com/Record/Player/HitterDetail/Basic.aspx?playerId=76290]\n",
       "7   류제국       1983       투수                                                                           [https://www.koreabaseball.com/Record/Retire/Pitcher.aspx?playerId=63111]\n",
       "8   류현진       1987       투수                                                                           [https://www.koreabaseball.com/Record/Retire/Pitcher.aspx?playerId=76715]\n",
       "9   박병호       1986      내야수                                                                [https://www.koreabaseball.com/Record/Player/HitterDetail/Basic.aspx?playerId=75125]\n",
       "10  박찬호       1973       투수                                                                           [https://www.koreabaseball.com/Record/Retire/Pitcher.aspx?playerId=62761]\n",
       "11  백차승       1980       투수                                                                                                                                                  []\n",
       "12  봉중근       1980       투수                                                                           [https://www.koreabaseball.com/Record/Retire/Pitcher.aspx?playerId=77147]\n",
       "13  서재응       1977       투수                                                                           [https://www.koreabaseball.com/Record/Retire/Pitcher.aspx?playerId=78640]\n",
       "14  오승환       1982       투수                                                               [https://www.koreabaseball.com/Record/Player/PitcherDetail/Basic.aspx?playerId=75421]\n",
       "15  이대호       1982      내야수                                                                [https://www.koreabaseball.com/Record/Player/HitterDetail/Basic.aspx?playerId=71564]\n",
       "16  이상훈       1971       투수  [https://www.koreabaseball.com/Record/Retire/Pitcher.aspx?playerId=90851, https://www.koreabaseball.com/Record/Retire/Pitcher.aspx?playerId=93147]\n",
       "17  임창용       1976       투수                                                                           [https://www.koreabaseball.com/Record/Retire/Pitcher.aspx?playerId=95657]\n",
       "18  조진호       1975       투수                                                                           [https://www.koreabaseball.com/Record/Retire/Pitcher.aspx?playerId=73830]\n",
       "19  최지만       1991      내야수                                                                                                                                                  []\n",
       "20  최희섭       1979      내야수                                                                            [https://www.koreabaseball.com/Record/Retire/Hitter.aspx?playerId=77623]\n",
       "21  추신수       1982      외야수                                                                                                                                                  []\n",
       "22  황재균       1987      내야수                                                                [https://www.koreabaseball.com/Record/Player/HitterDetail/Basic.aspx?playerId=76313]"
      ]
     },
     "execution_count": 118,
     "metadata": {},
     "output_type": "execute_result"
    }
   ],
   "source": [
    "# crwaling using 'post' method (more faster than selenium)\n",
    "\n",
    "import re\n",
    "base_url = 'https://www.koreabaseball.com'\n",
    "player_info_url = []\n",
    "\n",
    "for idx, player_name in enumerate(korean_majorleaguer_df.loc[:]['Name'].to_list()):\n",
    "    url = 'https://www.koreabaseball.com/Player/Search.aspx'\n",
    "    _headers = {'User-Agent': 'Mozilla/5.0 (Macintosh; Intel Mac OS X 11_1_0) AppleWebKit/537.36 (KHTML, like Gecko) Chrome/88.0.4324.96 Safari/537.36'}\n",
    "    _data = {'Content-Type': 'application/x-www-form-urlencoded; charset=UTF-8',\n",
    "            'ctl00$ctl00$ctl00$cphContents$cphContents$ScriptManager1': 'ctl00$ctl00$ctl00$cphContents$cphContents$cphContents$udpRecord|ctl00$ctl00$ctl00$cphContents$cphContents$cphContents$btnSearch',\n",
    "    '__VIEWSTATE': '/wEPDwUJMTMxNzk5NDM2D2QWAmYPZBYCZg9kFgJmD2QWAgIBD2QWAmYPZBYCAgEPZBYCAgUPZBYCAgEPZBYCZg9kFghmDxAPFgYeDURhdGFUZXh0RmllbGQFCEZJUlNUX05NHg5EYXRhVmFsdWVGaWVsZAUEVF9JRB4LXyFEYXRhQm91bmRnZBAVCwrtjIAg7ISg7YOdAk5DBuuRkOyCsAJLVAJMRwbtgqTsm4ADS0lBBuuhr+uNsAbsgrzshLECU0sG7ZWc7ZmUFQsAAk5DAk9CAktUAkxHAldPAkhUAkxUAlNTAlNLAkhIFCsDC2dnZ2dnZ2dnZ2dnFgFmZAIBDxBkZBYBZmQCAg8PZBYCHgpvbmtleXByZXNzBXlpZihldmVudC5rZXlDb2RlID09IDEzKXtfX2RvUG9zdEJhY2soJ2N0bDAwJGN0bDAwJGN0bDAwJGNwaENvbnRlbnRzJGNwaENvbnRlbnRzJGNwaENvbnRlbnRzJGJ0blNlYXJjaCcsJycpO3JldHVybiBmYWxzZTt9ZAIFDw8WBh4JUGFnZUluZGV4BQExHghQYWdlU2l6ZQUCMjAeDVRvdGFsUm93Q291bnRmZBYcAgEPDxYCHgdWaXNpYmxlaGRkAgMPDxYCHwdoZGQCBQ8PFgYeBFRleHQFATEeCENzc0NsYXNzBQJvbh4EXyFTQgICZGQCBw8PFggfCAUBMh8JZR8KAgIfB2hkZAIJDw8WCB8IBQEzHwllHwoCAh8HaGRkAgsPDxYIHwgFATQfCWUfCgICHwdoZGQCDQ8PFggfCAUBNR8JZR8KAgIfB2hkZAIPDw8WBh8JZR8KAgIfB2hkZAIRDw8WBh8JZR8KAgIfB2hkZAITDw8WBh8JZR8KAgIfB2hkZAIVDw8WBh8JZR8KAgIfB2hkZAIXDw8WBh8JZR8KAgIfB2hkZAIZDw8WAh8HaGRkAhsPDxYCHwdoZGRk1A6xuCh0ccetMvmoHty6C+iZPJRR4TUTclPN2WV25KM=',\n",
    "    '__VIEWSTATEGENERATOR': '6942A5F7',\n",
    "    '__EVENTVALIDATION': '/wEdABV25zroy0y+ySxAb8qg0Lh+qUK6+mRsdxhnNCA+WG212kNgeBSbNKLKcKTg82HGZ5MBG/Pf3I75C3rKX8xVtEwo+kQ8AqPLE4RrhO6ZFCqeBK7PzKYNHJn1ix41G9IhOQuJXHqRUXRUZklBZmuFWpsNdCA+bt9lrvQ7Bnt3sOnVYKuMptg8kI77SbU4++55lNksVPJEqMmnsPvHB9dIJGpf5hXVFrJQTuW7aWcjKnYReCWPyJkVhvXuOBYs5qqOoClVZUXxd/uiJhLNEa+9XxmnYsasFt+7FfwAs6g8a36bapjfFDeu2NDc13pCkdcMGuGM1LdB1BdIShiN9H1skvV4F1JgdjTRh5oeAN6Yg5M8ELpmrE3ZItDca36f0/kynHQIcBFwjnAKA7Co0KA6ls0JuuwNcLXb9Hf3j9q4Bnx0xSIEsp38v5tQJGTakYgKU9EJBIfUBLFxAijQLbL4FCib7tDqjkD5YMtH7xvNaxZaMg==',\n",
    "    'ctl00$ctl00$ctl00$cphContents$cphContents$cphContents$hfPage': 1,\n",
    "    'ctl00$ctl00$ctl00$cphContents$cphContents$cphContents$txtSearchPlayerName': '{0}'.format(player_name),\n",
    "    '__ASYNCPOST': 'true',\n",
    "    'ctl00$ctl00$ctl00$cphContents$cphContents$cphContents$btnSearch': '검색'}\n",
    "\n",
    "    html = requests.post(url, data=_data, headers=_headers)\n",
    "    soup = bs(html.text, 'html.parser')\n",
    "\n",
    "    html_ls = []\n",
    "    url_ls = []\n",
    "\n",
    "    for td in soup.find_all('td'):\n",
    "        # string between <td>(head) and </td>(tail)\n",
    "        html_ls.append(str(td)[4:-5])\n",
    "        if str(td)[4:8] == korean_majorleaguer_df.loc[idx]['Birth_year']:\n",
    "            url_ls.append(base_url + re.findall(r'\\\"(.+?)\\\"', html_ls[-4])[0])\n",
    "\n",
    "    player_info_url.append(url_ls)\n",
    "    \n",
    "korean_majorleaguer_df['info_url'] = player_info_url\n",
    "korean_majorleaguer_df\n"
   ]
  },
  {
   "cell_type": "markdown",
   "metadata": {},
   "source": [
    "- <h3>url정보가 비어있는 이유는 KBO에서 경기를 치룬 적이 없어 데이터가 없기 때문이다.</h3>\n",
    "- <h3>동명이인 때문에 url이 여러개가 나온다.<br>-> 동명이인의 url데이터를 지워보자 </h3>"
   ]
  },
  {
   "cell_type": "code",
   "execution_count": 119,
   "metadata": {
    "scrolled": true
   },
   "outputs": [
    {
     "name": "stdout",
     "output_type": "stream",
     "text": [
      "url이 여러 개인 선수: 이상훈   index = 16\n",
      "['https://www.koreabaseball.com/Record/Retire/Pitcher.aspx?playerId=90851', 'https://www.koreabaseball.com/Record/Retire/Pitcher.aspx?playerId=93147']\n"
     ]
    }
   ],
   "source": [
    "# eliminate same name player\n",
    "for idx, name, url in zip(korean_majorleaguer_df.index,\n",
    "                          korean_majorleaguer_df.loc[:]['Name'].to_list(), \n",
    "                          korean_majorleaguer_df.loc[:]['info_url'].to_list()):\n",
    "    if len(url) >= 2:\n",
    "        print(\"url이 여러 개인 선수:\", name, ' ', 'index =', idx)\n",
    "        print(url)"
   ]
  },
  {
   "cell_type": "markdown",
   "metadata": {},
   "source": [
    "- <h3>확인결과 두 번째 url이 메이저리거 이상훈 선수의 데이터를 가지고 있다.</h3>"
   ]
  },
  {
   "cell_type": "code",
   "execution_count": 120,
   "metadata": {},
   "outputs": [
    {
     "data": {
      "text/html": [
       "<div>\n",
       "<style scoped>\n",
       "    .dataframe tbody tr th:only-of-type {\n",
       "        vertical-align: middle;\n",
       "    }\n",
       "\n",
       "    .dataframe tbody tr th {\n",
       "        vertical-align: top;\n",
       "    }\n",
       "\n",
       "    .dataframe thead th {\n",
       "        text-align: right;\n",
       "    }\n",
       "</style>\n",
       "<table border=\"1\" class=\"dataframe\">\n",
       "  <thead>\n",
       "    <tr style=\"text-align: right;\">\n",
       "      <th></th>\n",
       "      <th>Name</th>\n",
       "      <th>Birth_year</th>\n",
       "      <th>Position</th>\n",
       "      <th>info_url</th>\n",
       "    </tr>\n",
       "  </thead>\n",
       "  <tbody>\n",
       "    <tr>\n",
       "      <th>0</th>\n",
       "      <td>강정호</td>\n",
       "      <td>1987</td>\n",
       "      <td>내야수</td>\n",
       "      <td>https://www.koreabaseball.com/Record/Retire/Hitter.aspx?playerId=76325</td>\n",
       "    </tr>\n",
       "    <tr>\n",
       "      <th>1</th>\n",
       "      <td>구대성</td>\n",
       "      <td>1969</td>\n",
       "      <td>투수</td>\n",
       "      <td>https://www.koreabaseball.com/Record/Retire/Pitcher.aspx?playerId=93715</td>\n",
       "    </tr>\n",
       "    <tr>\n",
       "      <th>2</th>\n",
       "      <td>김광현</td>\n",
       "      <td>1988</td>\n",
       "      <td>투수</td>\n",
       "      <td>https://www.koreabaseball.com/Record/Retire/Pitcher.aspx?playerId=77829</td>\n",
       "    </tr>\n",
       "    <tr>\n",
       "      <th>3</th>\n",
       "      <td>김병현</td>\n",
       "      <td>1979</td>\n",
       "      <td>투수</td>\n",
       "      <td>https://www.koreabaseball.com/Record/Retire/Pitcher.aspx?playerId=62349</td>\n",
       "    </tr>\n",
       "    <tr>\n",
       "      <th>4</th>\n",
       "      <td>김선우</td>\n",
       "      <td>1977</td>\n",
       "      <td>투수</td>\n",
       "      <td>https://www.koreabaseball.com/Record/Retire/Pitcher.aspx?playerId=78232</td>\n",
       "    </tr>\n",
       "    <tr>\n",
       "      <th>5</th>\n",
       "      <td>김하성</td>\n",
       "      <td>1995</td>\n",
       "      <td>내야수</td>\n",
       "      <td>https://www.koreabaseball.com/Record/Retire/Hitter.aspx?playerId=64300</td>\n",
       "    </tr>\n",
       "    <tr>\n",
       "      <th>6</th>\n",
       "      <td>김현수</td>\n",
       "      <td>1988</td>\n",
       "      <td>외야수</td>\n",
       "      <td>https://www.koreabaseball.com/Record/Player/HitterDetail/Basic.aspx?playerId=76290</td>\n",
       "    </tr>\n",
       "    <tr>\n",
       "      <th>7</th>\n",
       "      <td>류제국</td>\n",
       "      <td>1983</td>\n",
       "      <td>투수</td>\n",
       "      <td>https://www.koreabaseball.com/Record/Retire/Pitcher.aspx?playerId=63111</td>\n",
       "    </tr>\n",
       "    <tr>\n",
       "      <th>8</th>\n",
       "      <td>류현진</td>\n",
       "      <td>1987</td>\n",
       "      <td>투수</td>\n",
       "      <td>https://www.koreabaseball.com/Record/Retire/Pitcher.aspx?playerId=76715</td>\n",
       "    </tr>\n",
       "    <tr>\n",
       "      <th>9</th>\n",
       "      <td>박병호</td>\n",
       "      <td>1986</td>\n",
       "      <td>내야수</td>\n",
       "      <td>https://www.koreabaseball.com/Record/Player/HitterDetail/Basic.aspx?playerId=75125</td>\n",
       "    </tr>\n",
       "    <tr>\n",
       "      <th>10</th>\n",
       "      <td>박찬호</td>\n",
       "      <td>1973</td>\n",
       "      <td>투수</td>\n",
       "      <td>https://www.koreabaseball.com/Record/Retire/Pitcher.aspx?playerId=62761</td>\n",
       "    </tr>\n",
       "    <tr>\n",
       "      <th>11</th>\n",
       "      <td>백차승</td>\n",
       "      <td>1980</td>\n",
       "      <td>투수</td>\n",
       "      <td></td>\n",
       "    </tr>\n",
       "    <tr>\n",
       "      <th>12</th>\n",
       "      <td>봉중근</td>\n",
       "      <td>1980</td>\n",
       "      <td>투수</td>\n",
       "      <td>https://www.koreabaseball.com/Record/Retire/Pitcher.aspx?playerId=77147</td>\n",
       "    </tr>\n",
       "    <tr>\n",
       "      <th>13</th>\n",
       "      <td>서재응</td>\n",
       "      <td>1977</td>\n",
       "      <td>투수</td>\n",
       "      <td>https://www.koreabaseball.com/Record/Retire/Pitcher.aspx?playerId=78640</td>\n",
       "    </tr>\n",
       "    <tr>\n",
       "      <th>14</th>\n",
       "      <td>오승환</td>\n",
       "      <td>1982</td>\n",
       "      <td>투수</td>\n",
       "      <td>https://www.koreabaseball.com/Record/Player/PitcherDetail/Basic.aspx?playerId=75421</td>\n",
       "    </tr>\n",
       "    <tr>\n",
       "      <th>15</th>\n",
       "      <td>이대호</td>\n",
       "      <td>1982</td>\n",
       "      <td>내야수</td>\n",
       "      <td>https://www.koreabaseball.com/Record/Player/HitterDetail/Basic.aspx?playerId=71564</td>\n",
       "    </tr>\n",
       "    <tr>\n",
       "      <th>16</th>\n",
       "      <td>이상훈</td>\n",
       "      <td>1971</td>\n",
       "      <td>투수</td>\n",
       "      <td>https://www.koreabaseball.com/Record/Retire/Pitcher.aspx?playerId=93147</td>\n",
       "    </tr>\n",
       "    <tr>\n",
       "      <th>17</th>\n",
       "      <td>임창용</td>\n",
       "      <td>1976</td>\n",
       "      <td>투수</td>\n",
       "      <td>https://www.koreabaseball.com/Record/Retire/Pitcher.aspx?playerId=95657</td>\n",
       "    </tr>\n",
       "    <tr>\n",
       "      <th>18</th>\n",
       "      <td>조진호</td>\n",
       "      <td>1975</td>\n",
       "      <td>투수</td>\n",
       "      <td>https://www.koreabaseball.com/Record/Retire/Pitcher.aspx?playerId=73830</td>\n",
       "    </tr>\n",
       "    <tr>\n",
       "      <th>19</th>\n",
       "      <td>최지만</td>\n",
       "      <td>1991</td>\n",
       "      <td>내야수</td>\n",
       "      <td></td>\n",
       "    </tr>\n",
       "    <tr>\n",
       "      <th>20</th>\n",
       "      <td>최희섭</td>\n",
       "      <td>1979</td>\n",
       "      <td>내야수</td>\n",
       "      <td>https://www.koreabaseball.com/Record/Retire/Hitter.aspx?playerId=77623</td>\n",
       "    </tr>\n",
       "    <tr>\n",
       "      <th>21</th>\n",
       "      <td>추신수</td>\n",
       "      <td>1982</td>\n",
       "      <td>외야수</td>\n",
       "      <td></td>\n",
       "    </tr>\n",
       "    <tr>\n",
       "      <th>22</th>\n",
       "      <td>황재균</td>\n",
       "      <td>1987</td>\n",
       "      <td>내야수</td>\n",
       "      <td>https://www.koreabaseball.com/Record/Player/HitterDetail/Basic.aspx?playerId=76313</td>\n",
       "    </tr>\n",
       "  </tbody>\n",
       "</table>\n",
       "</div>"
      ],
      "text/plain": [
       "   Name Birth_year Position                                                                             info_url\n",
       "0   강정호       1987      내야수               https://www.koreabaseball.com/Record/Retire/Hitter.aspx?playerId=76325\n",
       "1   구대성       1969       투수              https://www.koreabaseball.com/Record/Retire/Pitcher.aspx?playerId=93715\n",
       "2   김광현       1988       투수              https://www.koreabaseball.com/Record/Retire/Pitcher.aspx?playerId=77829\n",
       "3   김병현       1979       투수              https://www.koreabaseball.com/Record/Retire/Pitcher.aspx?playerId=62349\n",
       "4   김선우       1977       투수              https://www.koreabaseball.com/Record/Retire/Pitcher.aspx?playerId=78232\n",
       "5   김하성       1995      내야수               https://www.koreabaseball.com/Record/Retire/Hitter.aspx?playerId=64300\n",
       "6   김현수       1988      외야수   https://www.koreabaseball.com/Record/Player/HitterDetail/Basic.aspx?playerId=76290\n",
       "7   류제국       1983       투수              https://www.koreabaseball.com/Record/Retire/Pitcher.aspx?playerId=63111\n",
       "8   류현진       1987       투수              https://www.koreabaseball.com/Record/Retire/Pitcher.aspx?playerId=76715\n",
       "9   박병호       1986      내야수   https://www.koreabaseball.com/Record/Player/HitterDetail/Basic.aspx?playerId=75125\n",
       "10  박찬호       1973       투수              https://www.koreabaseball.com/Record/Retire/Pitcher.aspx?playerId=62761\n",
       "11  백차승       1980       투수                                                                                     \n",
       "12  봉중근       1980       투수              https://www.koreabaseball.com/Record/Retire/Pitcher.aspx?playerId=77147\n",
       "13  서재응       1977       투수              https://www.koreabaseball.com/Record/Retire/Pitcher.aspx?playerId=78640\n",
       "14  오승환       1982       투수  https://www.koreabaseball.com/Record/Player/PitcherDetail/Basic.aspx?playerId=75421\n",
       "15  이대호       1982      내야수   https://www.koreabaseball.com/Record/Player/HitterDetail/Basic.aspx?playerId=71564\n",
       "16  이상훈       1971       투수              https://www.koreabaseball.com/Record/Retire/Pitcher.aspx?playerId=93147\n",
       "17  임창용       1976       투수              https://www.koreabaseball.com/Record/Retire/Pitcher.aspx?playerId=95657\n",
       "18  조진호       1975       투수              https://www.koreabaseball.com/Record/Retire/Pitcher.aspx?playerId=73830\n",
       "19  최지만       1991      내야수                                                                                     \n",
       "20  최희섭       1979      내야수               https://www.koreabaseball.com/Record/Retire/Hitter.aspx?playerId=77623\n",
       "21  추신수       1982      외야수                                                                                     \n",
       "22  황재균       1987      내야수   https://www.koreabaseball.com/Record/Player/HitterDetail/Basic.aspx?playerId=76313"
      ]
     },
     "execution_count": 120,
     "metadata": {},
     "output_type": "execute_result"
    }
   ],
   "source": [
    "# print(korean_majorleaguer_df.loc[16]['info_url'][:])\n",
    "# 두 개의 url 확인 결과 두 번째 url이 메이저리거 이상훈 선수에 대한 데이터였다.\n",
    "\n",
    "korean_majorleaguer_df['info_url'][16] = [korean_majorleaguer_df.loc[16]['info_url'][1]]\n",
    "\n",
    "for index in korean_majorleaguer_df.index:\n",
    "    if korean_majorleaguer_df.loc[index]['info_url']:\n",
    "        korean_majorleaguer_df['info_url'][index] = korean_majorleaguer_df.loc[index]['info_url'][0]\n",
    "    else:\n",
    "        korean_majorleaguer_df['info_url'][index] = ''\n",
    "        \n",
    "korean_majorleaguer_df"
   ]
  },
  {
   "cell_type": "markdown",
   "metadata": {},
   "source": [
    "- <h3>중복 url 제거완료!</h3>\n",
    "\n",
    "---"
   ]
  },
  {
   "cell_type": "code",
   "execution_count": 121,
   "metadata": {},
   "outputs": [
    {
     "name": "stdout",
     "output_type": "stream",
     "text": [
      "강정호 https://www.koreabaseball.com/Record/Retire/Hitter.aspx?playerId=76325\n",
      "구대성 https://www.koreabaseball.com/Record/Retire/Pitcher.aspx?playerId=93715\n",
      "김광현 https://www.koreabaseball.com/Record/Retire/Pitcher.aspx?playerId=77829\n",
      "김병현 https://www.koreabaseball.com/Record/Retire/Pitcher.aspx?playerId=62349\n",
      "김선우 https://www.koreabaseball.com/Record/Retire/Pitcher.aspx?playerId=78232\n",
      "김하성 https://www.koreabaseball.com/Record/Retire/Hitter.aspx?playerId=64300\n",
      "김현수 https://www.koreabaseball.com/Record/Player/HitterDetail/Basic.aspx?playerId=76290\n",
      "류제국 https://www.koreabaseball.com/Record/Retire/Pitcher.aspx?playerId=63111\n",
      "류현진 https://www.koreabaseball.com/Record/Retire/Pitcher.aspx?playerId=76715\n",
      "박병호 https://www.koreabaseball.com/Record/Player/HitterDetail/Basic.aspx?playerId=75125\n",
      "박찬호 https://www.koreabaseball.com/Record/Retire/Pitcher.aspx?playerId=62761\n",
      "백차승 \n",
      "봉중근 https://www.koreabaseball.com/Record/Retire/Pitcher.aspx?playerId=77147\n",
      "서재응 https://www.koreabaseball.com/Record/Retire/Pitcher.aspx?playerId=78640\n",
      "오승환 https://www.koreabaseball.com/Record/Player/PitcherDetail/Basic.aspx?playerId=75421\n",
      "이대호 https://www.koreabaseball.com/Record/Player/HitterDetail/Basic.aspx?playerId=71564\n",
      "이상훈 https://www.koreabaseball.com/Record/Retire/Pitcher.aspx?playerId=93147\n",
      "임창용 https://www.koreabaseball.com/Record/Retire/Pitcher.aspx?playerId=95657\n",
      "조진호 https://www.koreabaseball.com/Record/Retire/Pitcher.aspx?playerId=73830\n",
      "최지만 \n",
      "최희섭 https://www.koreabaseball.com/Record/Retire/Hitter.aspx?playerId=77623\n",
      "추신수 \n",
      "황재균 https://www.koreabaseball.com/Record/Player/HitterDetail/Basic.aspx?playerId=76313\n"
     ]
    }
   ],
   "source": [
    "# 선수 url 검색해보기 위한 코드!! 나중에 지우기~\n",
    "\n",
    "for index in korean_majorleaguer_df.index:\n",
    "    print(korean_majorleaguer_df.loc[index]['Name'], korean_majorleaguer_df.loc[index]['info_url'])"
   ]
  },
  {
   "cell_type": "code",
   "execution_count": 122,
   "metadata": {},
   "outputs": [],
   "source": [
    "# get player information from each url\n",
    "\n",
    "korean_majorleaguer_dict = {}\n",
    "\n",
    "for idx, url in enumerate(korean_majorleaguer_df.loc[:]['info_url']):\n",
    "    # to distinguish whether the player is retired or not\n",
    "    check_retired = True\n",
    "    \n",
    "    # if there's an url\n",
    "    if url:\n",
    "        if ('HitterDetail' in url) or ('PitcherDetail' in url):\n",
    "            url = url.replace('Basic', 'Total')\n",
    "            check_retired = False\n",
    "            \n",
    "        req = requests.get(url)\n",
    "        html = req.text\n",
    "        soup = bs(html, 'html.parser')\n",
    "\n",
    "        # gather annual data without career data\n",
    "        player_temp_table = soup.find('table', {'class': 'tData01 tt mb5'}) if check_retired else soup.find('table', {'class': 'tbl tt mb5'})\n",
    "        player_column_list = ['연도', '팀명']\n",
    "        \n",
    "        try:\n",
    "            player_column_list_tag = player_temp_table.find_all('th')\n",
    "        except:\n",
    "            player_temp_table = soup.find('table', {'class': 'tbl tt mgb5'})\n",
    "            player_column_list_tag = player_temp_table.find_all('th')\n",
    "\n",
    "        for col in player_column_list_tag:\n",
    "            player_a_tag = col.find_all('a')\n",
    "            for a in player_a_tag:\n",
    "                player_column_list.append(a.get('title'))\n",
    "\n",
    "        temp_data = pd.DataFrame(columns=player_column_list)\n",
    "\n",
    "        i = 0\n",
    "        index = 0\n",
    "        col_len = len(player_column_list)\n",
    "\n",
    "        while True:\n",
    "            try:\n",
    "                temp_data.loc[i] = [x.text for x in player_temp_table.find_all('td')[index : index + col_len]]\n",
    "                i += 1\n",
    "                index += col_len\n",
    "            except:\n",
    "                break\n",
    "\n",
    "        # gather only career data\n",
    "        player_temp_table = soup.find('tfoot', {'class': 'play_record'})\n",
    "        player_column_tag = player_temp_table.find_all('th')\n",
    "\n",
    "        career = [x.text for x in player_column_tag]\n",
    "        career.insert(0, '통산')\n",
    "        temp_data.loc[i] = career\n",
    "\n",
    "        korean_majorleaguer_dict[korean_majorleaguer_df.loc[idx]['Name']] = temp_data\n",
    "        \n",
    "    # if there's no valid url\n",
    "    else:\n",
    "        korean_majorleaguer_dict[korean_majorleaguer_df.loc[idx]['Name']] = ''"
   ]
  },
  {
   "cell_type": "markdown",
   "metadata": {},
   "source": [
    "<h3>한국인 메이저리거 데이터 중 '타자' url 데이터 </h3>"
   ]
  },
  {
   "cell_type": "code",
   "execution_count": 123,
   "metadata": {},
   "outputs": [
    {
     "data": {
      "text/html": [
       "<div>\n",
       "<style scoped>\n",
       "    .dataframe tbody tr th:only-of-type {\n",
       "        vertical-align: middle;\n",
       "    }\n",
       "\n",
       "    .dataframe tbody tr th {\n",
       "        vertical-align: top;\n",
       "    }\n",
       "\n",
       "    .dataframe thead th {\n",
       "        text-align: right;\n",
       "    }\n",
       "</style>\n",
       "<table border=\"1\" class=\"dataframe\">\n",
       "  <thead>\n",
       "    <tr style=\"text-align: right;\">\n",
       "      <th></th>\n",
       "      <th>Name</th>\n",
       "      <th>Birth_year</th>\n",
       "      <th>Position</th>\n",
       "      <th>info_url</th>\n",
       "    </tr>\n",
       "  </thead>\n",
       "  <tbody>\n",
       "    <tr>\n",
       "      <th>0</th>\n",
       "      <td>강정호</td>\n",
       "      <td>1987</td>\n",
       "      <td>내야수</td>\n",
       "      <td>https://www.koreabaseball.com/Record/Retire/Hitter.aspx?playerId=76325</td>\n",
       "    </tr>\n",
       "    <tr>\n",
       "      <th>1</th>\n",
       "      <td>김하성</td>\n",
       "      <td>1995</td>\n",
       "      <td>내야수</td>\n",
       "      <td>https://www.koreabaseball.com/Record/Retire/Hitter.aspx?playerId=64300</td>\n",
       "    </tr>\n",
       "    <tr>\n",
       "      <th>2</th>\n",
       "      <td>김현수</td>\n",
       "      <td>1988</td>\n",
       "      <td>외야수</td>\n",
       "      <td>https://www.koreabaseball.com/Record/Player/HitterDetail/Basic.aspx?playerId=76290</td>\n",
       "    </tr>\n",
       "    <tr>\n",
       "      <th>3</th>\n",
       "      <td>박병호</td>\n",
       "      <td>1986</td>\n",
       "      <td>내야수</td>\n",
       "      <td>https://www.koreabaseball.com/Record/Player/HitterDetail/Basic.aspx?playerId=75125</td>\n",
       "    </tr>\n",
       "    <tr>\n",
       "      <th>4</th>\n",
       "      <td>이대호</td>\n",
       "      <td>1982</td>\n",
       "      <td>내야수</td>\n",
       "      <td>https://www.koreabaseball.com/Record/Player/HitterDetail/Basic.aspx?playerId=71564</td>\n",
       "    </tr>\n",
       "    <tr>\n",
       "      <th>5</th>\n",
       "      <td>최희섭</td>\n",
       "      <td>1979</td>\n",
       "      <td>내야수</td>\n",
       "      <td>https://www.koreabaseball.com/Record/Retire/Hitter.aspx?playerId=77623</td>\n",
       "    </tr>\n",
       "    <tr>\n",
       "      <th>6</th>\n",
       "      <td>황재균</td>\n",
       "      <td>1987</td>\n",
       "      <td>내야수</td>\n",
       "      <td>https://www.koreabaseball.com/Record/Player/HitterDetail/Basic.aspx?playerId=76313</td>\n",
       "    </tr>\n",
       "  </tbody>\n",
       "</table>\n",
       "</div>"
      ],
      "text/plain": [
       "  Name Birth_year Position                                                                            info_url\n",
       "0  강정호       1987      내야수              https://www.koreabaseball.com/Record/Retire/Hitter.aspx?playerId=76325\n",
       "1  김하성       1995      내야수              https://www.koreabaseball.com/Record/Retire/Hitter.aspx?playerId=64300\n",
       "2  김현수       1988      외야수  https://www.koreabaseball.com/Record/Player/HitterDetail/Basic.aspx?playerId=76290\n",
       "3  박병호       1986      내야수  https://www.koreabaseball.com/Record/Player/HitterDetail/Basic.aspx?playerId=75125\n",
       "4  이대호       1982      내야수  https://www.koreabaseball.com/Record/Player/HitterDetail/Basic.aspx?playerId=71564\n",
       "5  최희섭       1979      내야수              https://www.koreabaseball.com/Record/Retire/Hitter.aspx?playerId=77623\n",
       "6  황재균       1987      내야수  https://www.koreabaseball.com/Record/Player/HitterDetail/Basic.aspx?playerId=76313"
      ]
     },
     "execution_count": 123,
     "metadata": {},
     "output_type": "execute_result"
    }
   ],
   "source": [
    "hitter_majorleaguer = korean_majorleaguer_df[korean_majorleaguer_df['Position'] != '투수']\n",
    "hitter_majorleaguer = hitter_majorleaguer[hitter_majorleaguer['info_url'] != ''].reset_index(drop=True)\n",
    "hitter_majorleaguer"
   ]
  },
  {
   "cell_type": "markdown",
   "metadata": {},
   "source": [
    "<h3>2020년 KBO top10 타자 url 데이터</h3>"
   ]
  },
  {
   "cell_type": "code",
   "execution_count": 153,
   "metadata": {},
   "outputs": [
    {
     "data": {
      "text/html": [
       "<div>\n",
       "<style scoped>\n",
       "    .dataframe tbody tr th:only-of-type {\n",
       "        vertical-align: middle;\n",
       "    }\n",
       "\n",
       "    .dataframe tbody tr th {\n",
       "        vertical-align: top;\n",
       "    }\n",
       "\n",
       "    .dataframe thead th {\n",
       "        text-align: right;\n",
       "    }\n",
       "</style>\n",
       "<table border=\"1\" class=\"dataframe\">\n",
       "  <thead>\n",
       "    <tr style=\"text-align: right;\">\n",
       "      <th></th>\n",
       "      <th>Name</th>\n",
       "      <th>info_url</th>\n",
       "    </tr>\n",
       "  </thead>\n",
       "  <tbody>\n",
       "    <tr>\n",
       "      <th>0</th>\n",
       "      <td>최형우</td>\n",
       "      <td>https://www.koreabaseball.com/Record/Player/HitterDetail/Basic.aspx?playerId=72443</td>\n",
       "    </tr>\n",
       "    <tr>\n",
       "      <th>1</th>\n",
       "      <td>손아섭</td>\n",
       "      <td>https://www.koreabaseball.com/Record/Player/HitterDetail/Basic.aspx?playerId=77532</td>\n",
       "    </tr>\n",
       "    <tr>\n",
       "      <th>2</th>\n",
       "      <td>로하스</td>\n",
       "      <td>https://www.koreabaseball.com/Record/Retire/Hitter.aspx?playerId=67025</td>\n",
       "    </tr>\n",
       "    <tr>\n",
       "      <th>3</th>\n",
       "      <td>박민우</td>\n",
       "      <td>https://www.koreabaseball.com/Record/Player/HitterDetail/Basic.aspx?playerId=62907</td>\n",
       "    </tr>\n",
       "    <tr>\n",
       "      <th>4</th>\n",
       "      <td>페르난데스</td>\n",
       "      <td>https://www.koreabaseball.com/Record/Player/HitterDetail/Basic.aspx?playerId=69209</td>\n",
       "    </tr>\n",
       "    <tr>\n",
       "      <th>5</th>\n",
       "      <td>이정후</td>\n",
       "      <td>https://www.koreabaseball.com/Record/Player/HitterDetail/Basic.aspx?playerId=67341</td>\n",
       "    </tr>\n",
       "    <tr>\n",
       "      <th>6</th>\n",
       "      <td>허경민</td>\n",
       "      <td>https://www.koreabaseball.com/Record/Player/HitterDetail/Basic.aspx?playerId=79240</td>\n",
       "    </tr>\n",
       "    <tr>\n",
       "      <th>7</th>\n",
       "      <td>김현수</td>\n",
       "      <td>https://www.koreabaseball.com/Record/Player/HitterDetail/Basic.aspx?playerId=76290</td>\n",
       "    </tr>\n",
       "    <tr>\n",
       "      <th>8</th>\n",
       "      <td>강백호</td>\n",
       "      <td>https://www.koreabaseball.com/Record/Player/HitterDetail/Basic.aspx?playerId=68050</td>\n",
       "    </tr>\n",
       "    <tr>\n",
       "      <th>9</th>\n",
       "      <td>양의지</td>\n",
       "      <td>https://www.koreabaseball.com/Record/Player/HitterDetail/Basic.aspx?playerId=76232</td>\n",
       "    </tr>\n",
       "  </tbody>\n",
       "</table>\n",
       "</div>"
      ],
      "text/plain": [
       "    Name                                                                            info_url\n",
       "0    최형우  https://www.koreabaseball.com/Record/Player/HitterDetail/Basic.aspx?playerId=72443\n",
       "1    손아섭  https://www.koreabaseball.com/Record/Player/HitterDetail/Basic.aspx?playerId=77532\n",
       "2    로하스              https://www.koreabaseball.com/Record/Retire/Hitter.aspx?playerId=67025\n",
       "3    박민우  https://www.koreabaseball.com/Record/Player/HitterDetail/Basic.aspx?playerId=62907\n",
       "4  페르난데스  https://www.koreabaseball.com/Record/Player/HitterDetail/Basic.aspx?playerId=69209\n",
       "5    이정후  https://www.koreabaseball.com/Record/Player/HitterDetail/Basic.aspx?playerId=67341\n",
       "6    허경민  https://www.koreabaseball.com/Record/Player/HitterDetail/Basic.aspx?playerId=79240\n",
       "7    김현수  https://www.koreabaseball.com/Record/Player/HitterDetail/Basic.aspx?playerId=76290\n",
       "8    강백호  https://www.koreabaseball.com/Record/Player/HitterDetail/Basic.aspx?playerId=68050\n",
       "9    양의지  https://www.koreabaseball.com/Record/Player/HitterDetail/Basic.aspx?playerId=76232"
      ]
     },
     "execution_count": 153,
     "metadata": {},
     "output_type": "execute_result"
    }
   ],
   "source": [
    "# get 2020 top10 data of hitter in KBO\n",
    "\n",
    "base_url = 'https://www.koreabaseball.com/Record/Player/HitterBasic/Basic1.aspx'\n",
    "req = requests.get(base_url)\n",
    "html = req.text\n",
    "soup = bs(html, 'html.parser')\n",
    "top10_hitter_url_df = pd.DataFrame(columns=['Name', 'info_url'])\n",
    "count = 0\n",
    "\n",
    "top10_hitter_temp_table = soup.find('table', {'class': 'tData01 tt'})\n",
    "for url in top10_hitter_temp_table.find_all('a'):\n",
    "    temp_tag = url.get('href')\n",
    "    if 'playerId' in temp_tag and count < 10:\n",
    "        top10_hitter_url_df.loc[count] = [url.text, 'https://www.koreabaseball.com'+url.get('href')]\n",
    "        count += 1\n",
    "        \n",
    "top10_hitter_url_df"
   ]
  },
  {
   "cell_type": "code",
   "execution_count": 155,
   "metadata": {},
   "outputs": [
    {
     "data": {
      "text/plain": [
       "dict_keys(['최형우', '손아섭', '박민우', '페르난데스', '이정후', '허경민', '김현수', '강백호', '양의지'])"
      ]
     },
     "execution_count": 155,
     "metadata": {},
     "output_type": "execute_result"
    }
   ],
   "source": [
    "# 2020 KBO top10 hitter data crawling from info_url\n",
    "\n",
    "top10_hitter_dict = {}\n",
    "\n",
    "for idx, url in enumerate(top10_hitter_url_df.loc[:]['info_url']):\n",
    "    if 'Basic' in url:\n",
    "        url = url.replace('Basic', 'Total')\n",
    "        req = requests.get(url)\n",
    "        html = req.text\n",
    "        soup = bs(html, 'html.parser')\n",
    "\n",
    "        top10_hitter_table = soup.find('table', {'class': 'tbl tt mb5'})\n",
    "        top10_hitter_column_list = ['연도', '팀명']\n",
    "\n",
    "        for col in top10_hitter_table.find_all('th'):\n",
    "            for a in col.find_all('a'):\n",
    "                top10_hitter_column_list.append(a.get('title'))\n",
    "\n",
    "        temp_data = pd.DataFrame(columns=top10_hitter_column_list)\n",
    "\n",
    "        i = 0\n",
    "        index = 0\n",
    "\n",
    "        while True:\n",
    "            try:\n",
    "                temp_data.loc[i] = [x.text for x in top10_hitter_table.find_all('td')[index : index + len(top10_hitter_column_list)]]\n",
    "                i += 1\n",
    "                index += len(top10_hitter_column_list)\n",
    "            except:\n",
    "                break\n",
    "\n",
    "        top10_hitter_table = soup.find('tfoot', {'class': 'play_record'})\n",
    "\n",
    "        career = [x.text for x in top10_hitter_table.find_all('th')]\n",
    "        career.insert(0, '통산')\n",
    "        temp_data.loc[i] = career\n",
    "\n",
    "        top10_hitter_dict[top10_hitter_url_df.loc[idx]['Name']] = temp_data\n",
    "        \n",
    "    # exclude retired player because they have different index with unretired player...\n",
    "    else:\n",
    "        print(top10_hitter_url_df.loc[idx]['Name'], '선수는 은퇴함..... index값들이 현역과 달라서 제외')\n",
    "        top10_hitter_url_df.drop([idx], inplace=True)\n",
    "        top10_hitter_url_df = top10_hitter_url_df.reset_index()\n",
    "        \n",
    "        \n",
    "\n",
    "top10_hitter_dict.keys()"
   ]
  },
  {
   "cell_type": "code",
   "execution_count": 156,
   "metadata": {},
   "outputs": [
    {
     "data": {
      "text/html": [
       "<div>\n",
       "<style scoped>\n",
       "    .dataframe tbody tr th:only-of-type {\n",
       "        vertical-align: middle;\n",
       "    }\n",
       "\n",
       "    .dataframe tbody tr th {\n",
       "        vertical-align: top;\n",
       "    }\n",
       "\n",
       "    .dataframe thead th {\n",
       "        text-align: right;\n",
       "    }\n",
       "</style>\n",
       "<table border=\"1\" class=\"dataframe\">\n",
       "  <thead>\n",
       "    <tr style=\"text-align: right;\">\n",
       "      <th></th>\n",
       "      <th>index</th>\n",
       "      <th>Name</th>\n",
       "      <th>info_url</th>\n",
       "    </tr>\n",
       "  </thead>\n",
       "  <tbody>\n",
       "    <tr>\n",
       "      <th>0</th>\n",
       "      <td>0</td>\n",
       "      <td>최형우</td>\n",
       "      <td>https://www.koreabaseball.com/Record/Player/HitterDetail/Basic.aspx?playerId=72443</td>\n",
       "    </tr>\n",
       "    <tr>\n",
       "      <th>1</th>\n",
       "      <td>1</td>\n",
       "      <td>손아섭</td>\n",
       "      <td>https://www.koreabaseball.com/Record/Player/HitterDetail/Basic.aspx?playerId=77532</td>\n",
       "    </tr>\n",
       "    <tr>\n",
       "      <th>2</th>\n",
       "      <td>3</td>\n",
       "      <td>박민우</td>\n",
       "      <td>https://www.koreabaseball.com/Record/Player/HitterDetail/Basic.aspx?playerId=62907</td>\n",
       "    </tr>\n",
       "    <tr>\n",
       "      <th>3</th>\n",
       "      <td>4</td>\n",
       "      <td>페르난데스</td>\n",
       "      <td>https://www.koreabaseball.com/Record/Player/HitterDetail/Basic.aspx?playerId=69209</td>\n",
       "    </tr>\n",
       "    <tr>\n",
       "      <th>4</th>\n",
       "      <td>5</td>\n",
       "      <td>이정후</td>\n",
       "      <td>https://www.koreabaseball.com/Record/Player/HitterDetail/Basic.aspx?playerId=67341</td>\n",
       "    </tr>\n",
       "    <tr>\n",
       "      <th>5</th>\n",
       "      <td>6</td>\n",
       "      <td>허경민</td>\n",
       "      <td>https://www.koreabaseball.com/Record/Player/HitterDetail/Basic.aspx?playerId=79240</td>\n",
       "    </tr>\n",
       "    <tr>\n",
       "      <th>6</th>\n",
       "      <td>7</td>\n",
       "      <td>김현수</td>\n",
       "      <td>https://www.koreabaseball.com/Record/Player/HitterDetail/Basic.aspx?playerId=76290</td>\n",
       "    </tr>\n",
       "    <tr>\n",
       "      <th>7</th>\n",
       "      <td>8</td>\n",
       "      <td>강백호</td>\n",
       "      <td>https://www.koreabaseball.com/Record/Player/HitterDetail/Basic.aspx?playerId=68050</td>\n",
       "    </tr>\n",
       "    <tr>\n",
       "      <th>8</th>\n",
       "      <td>9</td>\n",
       "      <td>양의지</td>\n",
       "      <td>https://www.koreabaseball.com/Record/Player/HitterDetail/Basic.aspx?playerId=76232</td>\n",
       "    </tr>\n",
       "  </tbody>\n",
       "</table>\n",
       "</div>"
      ],
      "text/plain": [
       "   index   Name                                                                            info_url\n",
       "0      0    최형우  https://www.koreabaseball.com/Record/Player/HitterDetail/Basic.aspx?playerId=72443\n",
       "1      1    손아섭  https://www.koreabaseball.com/Record/Player/HitterDetail/Basic.aspx?playerId=77532\n",
       "2      3    박민우  https://www.koreabaseball.com/Record/Player/HitterDetail/Basic.aspx?playerId=62907\n",
       "3      4  페르난데스  https://www.koreabaseball.com/Record/Player/HitterDetail/Basic.aspx?playerId=69209\n",
       "4      5    이정후  https://www.koreabaseball.com/Record/Player/HitterDetail/Basic.aspx?playerId=67341\n",
       "5      6    허경민  https://www.koreabaseball.com/Record/Player/HitterDetail/Basic.aspx?playerId=79240\n",
       "6      7    김현수  https://www.koreabaseball.com/Record/Player/HitterDetail/Basic.aspx?playerId=76290\n",
       "7      8    강백호  https://www.koreabaseball.com/Record/Player/HitterDetail/Basic.aspx?playerId=68050\n",
       "8      9    양의지  https://www.koreabaseball.com/Record/Player/HitterDetail/Basic.aspx?playerId=76232"
      ]
     },
     "execution_count": 156,
     "metadata": {},
     "output_type": "execute_result"
    }
   ],
   "source": [
    "top10_hitter_url_df"
   ]
  },
  {
   "cell_type": "code",
   "execution_count": 168,
   "metadata": {},
   "outputs": [
    {
     "data": {
      "text/html": [
       "<div>\n",
       "<style scoped>\n",
       "    .dataframe tbody tr th:only-of-type {\n",
       "        vertical-align: middle;\n",
       "    }\n",
       "\n",
       "    .dataframe tbody tr th {\n",
       "        vertical-align: top;\n",
       "    }\n",
       "\n",
       "    .dataframe thead th {\n",
       "        text-align: right;\n",
       "    }\n",
       "</style>\n",
       "<table border=\"1\" class=\"dataframe\">\n",
       "  <thead>\n",
       "    <tr style=\"text-align: right;\">\n",
       "      <th></th>\n",
       "      <th>연도</th>\n",
       "      <th>팀명</th>\n",
       "      <th>타율</th>\n",
       "      <th>경기</th>\n",
       "      <th>타수</th>\n",
       "      <th>득점</th>\n",
       "      <th>안타</th>\n",
       "      <th>2루타</th>\n",
       "      <th>3루타</th>\n",
       "      <th>홈런</th>\n",
       "      <th>루타</th>\n",
       "      <th>타점</th>\n",
       "      <th>도루</th>\n",
       "      <th>도루실패</th>\n",
       "      <th>볼넷</th>\n",
       "      <th>사구</th>\n",
       "      <th>삼진</th>\n",
       "      <th>병살타</th>\n",
       "      <th>실책</th>\n",
       "    </tr>\n",
       "  </thead>\n",
       "  <tbody>\n",
       "    <tr>\n",
       "      <th>0</th>\n",
       "      <td>2006</td>\n",
       "      <td>현대</td>\n",
       "      <td>0.150</td>\n",
       "      <td>10</td>\n",
       "      <td>20</td>\n",
       "      <td>1</td>\n",
       "      <td>3</td>\n",
       "      <td>1</td>\n",
       "      <td>0</td>\n",
       "      <td>0</td>\n",
       "      <td>4</td>\n",
       "      <td>1</td>\n",
       "      <td>0</td>\n",
       "      <td>1</td>\n",
       "      <td>0</td>\n",
       "      <td>0</td>\n",
       "      <td>8</td>\n",
       "      <td>1</td>\n",
       "      <td>3</td>\n",
       "    </tr>\n",
       "    <tr>\n",
       "      <th>1</th>\n",
       "      <td>2007</td>\n",
       "      <td>현대</td>\n",
       "      <td>0.133</td>\n",
       "      <td>20</td>\n",
       "      <td>15</td>\n",
       "      <td>0</td>\n",
       "      <td>2</td>\n",
       "      <td>0</td>\n",
       "      <td>0</td>\n",
       "      <td>0</td>\n",
       "      <td>2</td>\n",
       "      <td>0</td>\n",
       "      <td>0</td>\n",
       "      <td>0</td>\n",
       "      <td>0</td>\n",
       "      <td>0</td>\n",
       "      <td>5</td>\n",
       "      <td>1</td>\n",
       "      <td>0</td>\n",
       "    </tr>\n",
       "    <tr>\n",
       "      <th>2</th>\n",
       "      <td>2008</td>\n",
       "      <td>우리</td>\n",
       "      <td>0.271</td>\n",
       "      <td>116</td>\n",
       "      <td>362</td>\n",
       "      <td>36</td>\n",
       "      <td>98</td>\n",
       "      <td>18</td>\n",
       "      <td>1</td>\n",
       "      <td>8</td>\n",
       "      <td>142</td>\n",
       "      <td>47</td>\n",
       "      <td>3</td>\n",
       "      <td>1</td>\n",
       "      <td>31</td>\n",
       "      <td>5</td>\n",
       "      <td>65</td>\n",
       "      <td>12</td>\n",
       "      <td>13</td>\n",
       "    </tr>\n",
       "    <tr>\n",
       "      <th>3</th>\n",
       "      <td>2009</td>\n",
       "      <td>히어로즈</td>\n",
       "      <td>0.286</td>\n",
       "      <td>133</td>\n",
       "      <td>476</td>\n",
       "      <td>73</td>\n",
       "      <td>136</td>\n",
       "      <td>33</td>\n",
       "      <td>2</td>\n",
       "      <td>23</td>\n",
       "      <td>242</td>\n",
       "      <td>81</td>\n",
       "      <td>3</td>\n",
       "      <td>2</td>\n",
       "      <td>45</td>\n",
       "      <td>4</td>\n",
       "      <td>81</td>\n",
       "      <td>18</td>\n",
       "      <td>15</td>\n",
       "    </tr>\n",
       "    <tr>\n",
       "      <th>4</th>\n",
       "      <td>2010</td>\n",
       "      <td>넥센</td>\n",
       "      <td>0.301</td>\n",
       "      <td>133</td>\n",
       "      <td>449</td>\n",
       "      <td>60</td>\n",
       "      <td>135</td>\n",
       "      <td>30</td>\n",
       "      <td>2</td>\n",
       "      <td>12</td>\n",
       "      <td>205</td>\n",
       "      <td>58</td>\n",
       "      <td>2</td>\n",
       "      <td>2</td>\n",
       "      <td>61</td>\n",
       "      <td>7</td>\n",
       "      <td>87</td>\n",
       "      <td>14</td>\n",
       "      <td>23</td>\n",
       "    </tr>\n",
       "    <tr>\n",
       "      <th>5</th>\n",
       "      <td>2011</td>\n",
       "      <td>넥센</td>\n",
       "      <td>0.282</td>\n",
       "      <td>123</td>\n",
       "      <td>444</td>\n",
       "      <td>53</td>\n",
       "      <td>125</td>\n",
       "      <td>22</td>\n",
       "      <td>2</td>\n",
       "      <td>9</td>\n",
       "      <td>178</td>\n",
       "      <td>63</td>\n",
       "      <td>4</td>\n",
       "      <td>6</td>\n",
       "      <td>43</td>\n",
       "      <td>9</td>\n",
       "      <td>62</td>\n",
       "      <td>12</td>\n",
       "      <td>13</td>\n",
       "    </tr>\n",
       "    <tr>\n",
       "      <th>6</th>\n",
       "      <td>2012</td>\n",
       "      <td>넥센</td>\n",
       "      <td>0.314</td>\n",
       "      <td>124</td>\n",
       "      <td>436</td>\n",
       "      <td>77</td>\n",
       "      <td>137</td>\n",
       "      <td>32</td>\n",
       "      <td>0</td>\n",
       "      <td>25</td>\n",
       "      <td>244</td>\n",
       "      <td>82</td>\n",
       "      <td>21</td>\n",
       "      <td>5</td>\n",
       "      <td>71</td>\n",
       "      <td>6</td>\n",
       "      <td>78</td>\n",
       "      <td>16</td>\n",
       "      <td>12</td>\n",
       "    </tr>\n",
       "    <tr>\n",
       "      <th>7</th>\n",
       "      <td>2013</td>\n",
       "      <td>넥센</td>\n",
       "      <td>0.291</td>\n",
       "      <td>126</td>\n",
       "      <td>450</td>\n",
       "      <td>67</td>\n",
       "      <td>131</td>\n",
       "      <td>21</td>\n",
       "      <td>1</td>\n",
       "      <td>22</td>\n",
       "      <td>220</td>\n",
       "      <td>96</td>\n",
       "      <td>15</td>\n",
       "      <td>8</td>\n",
       "      <td>68</td>\n",
       "      <td>6</td>\n",
       "      <td>109</td>\n",
       "      <td>18</td>\n",
       "      <td>15</td>\n",
       "    </tr>\n",
       "    <tr>\n",
       "      <th>8</th>\n",
       "      <td>2014</td>\n",
       "      <td>넥센</td>\n",
       "      <td>0.356</td>\n",
       "      <td>117</td>\n",
       "      <td>418</td>\n",
       "      <td>103</td>\n",
       "      <td>149</td>\n",
       "      <td>36</td>\n",
       "      <td>2</td>\n",
       "      <td>40</td>\n",
       "      <td>309</td>\n",
       "      <td>117</td>\n",
       "      <td>3</td>\n",
       "      <td>3</td>\n",
       "      <td>68</td>\n",
       "      <td>13</td>\n",
       "      <td>106</td>\n",
       "      <td>8</td>\n",
       "      <td>9</td>\n",
       "    </tr>\n",
       "    <tr>\n",
       "      <th>9</th>\n",
       "      <td>통산</td>\n",
       "      <td>통산</td>\n",
       "      <td>0.298</td>\n",
       "      <td>902</td>\n",
       "      <td>3070</td>\n",
       "      <td>470</td>\n",
       "      <td>916</td>\n",
       "      <td>193</td>\n",
       "      <td>10</td>\n",
       "      <td>139</td>\n",
       "      <td>1546</td>\n",
       "      <td>545</td>\n",
       "      <td>51</td>\n",
       "      <td>28</td>\n",
       "      <td>387</td>\n",
       "      <td>50</td>\n",
       "      <td>601</td>\n",
       "      <td>100</td>\n",
       "      <td>103</td>\n",
       "    </tr>\n",
       "  </tbody>\n",
       "</table>\n",
       "</div>"
      ],
      "text/plain": [
       "     연도    팀명     타율   경기    타수   득점   안타  2루타 3루타   홈런    루타   타점  도루 도루실패   볼넷  사구   삼진  병살타   실책\n",
       "0  2006    현대  0.150   10    20    1    3    1   0    0     4    1   0    1    0   0    8    1    3\n",
       "1  2007    현대  0.133   20    15    0    2    0   0    0     2    0   0    0    0   0    5    1    0\n",
       "2  2008    우리  0.271  116   362   36   98   18   1    8   142   47   3    1   31   5   65   12   13\n",
       "3  2009  히어로즈  0.286  133   476   73  136   33   2   23   242   81   3    2   45   4   81   18   15\n",
       "4  2010    넥센  0.301  133   449   60  135   30   2   12   205   58   2    2   61   7   87   14   23\n",
       "5  2011    넥센  0.282  123   444   53  125   22   2    9   178   63   4    6   43   9   62   12   13\n",
       "6  2012    넥센  0.314  124   436   77  137   32   0   25   244   82  21    5   71   6   78   16   12\n",
       "7  2013    넥센  0.291  126   450   67  131   21   1   22   220   96  15    8   68   6  109   18   15\n",
       "8  2014    넥센  0.356  117   418  103  149   36   2   40   309  117   3    3   68  13  106    8    9\n",
       "9    통산    통산  0.298  902  3070  470  916  193  10  139  1546  545  51   28  387  50  601  100  103"
      ]
     },
     "execution_count": 168,
     "metadata": {},
     "output_type": "execute_result"
    }
   ],
   "source": [
    "korean_majorleaguer_dict['강정호']"
   ]
  },
  {
   "cell_type": "code",
   "execution_count": 166,
   "metadata": {},
   "outputs": [
    {
     "data": {
      "application/vnd.plotly.v1+json": {
       "config": {
        "plotlyServerURL": "https://plot.ly"
       },
       "data": [
        {
         "marker": {
          "color": "blue"
         },
         "name": "한국인 메이저리거의 KBO시절 평균",
         "r": [
          0.58,
          1.04,
          0.19,
          0.01,
          0.16,
          1.75,
          0.65,
          0.07,
          0.03,
          0.46,
          0.06,
          0.66,
          0.09,
          0.08
         ],
         "theta": [
          "득점",
          "안타",
          "2루타",
          "3루타",
          "홈런",
          "루타",
          "타점",
          "도루",
          "도루실패",
          "볼넷",
          "사구",
          "삼진",
          "병살타",
          "실책"
         ],
         "type": "scatterpolar"
        },
        {
         "marker": {
          "color": "crimson"
         },
         "name": "2020년 KBO 상위10명의 타자 통산평균",
         "r": [
          0.63,
          1.17,
          0.22,
          0.02,
          0.11,
          1.75,
          0.57,
          0.07,
          0.03,
          0.41,
          0.06,
          0.5,
          0.09,
          0.04
         ],
         "theta": [
          "득점",
          "안타",
          "2루타",
          "3루타",
          "홈런",
          "루타",
          "타점",
          "도루",
          "도루실패",
          "볼넷",
          "사구",
          "삼진",
          "병살타",
          "실책"
         ],
         "type": "scatterpolar"
        }
       ],
       "layout": {
        "paper_bgcolor": "rgb(245, 245, 245)",
        "polar": {
         "angularaxis": {
          "linecolor": "black",
          "linewidth": 1,
          "showline": true,
          "ticks": ""
         },
         "radialaxis": {
          "linecolor": "Black",
          "linewidth": 1,
          "ticks": "",
          "visible": true
         }
        },
        "template": {},
        "title": {
         "text": "총 경기 수로 나눠진 데이터"
        }
       }
      },
      "text/html": [
       "<div>                            <div id=\"d8828d62-26d6-428a-aaf3-5ed0fd4f0fd9\" class=\"plotly-graph-div\" style=\"height:525px; width:100%;\"></div>            <script type=\"text/javascript\">                require([\"plotly\"], function(Plotly) {                    window.PLOTLYENV=window.PLOTLYENV || {};                                    if (document.getElementById(\"d8828d62-26d6-428a-aaf3-5ed0fd4f0fd9\")) {                    Plotly.newPlot(                        \"d8828d62-26d6-428a-aaf3-5ed0fd4f0fd9\",                        [{\"marker\": {\"color\": \"blue\"}, \"name\": \"\\ud55c\\uad6d\\uc778 \\uba54\\uc774\\uc800\\ub9ac\\uac70\\uc758 KBO\\uc2dc\\uc808 \\ud3c9\\uade0\", \"r\": [0.58, 1.04, 0.19, 0.01, 0.16, 1.75, 0.65, 0.07, 0.03, 0.46, 0.06, 0.66, 0.09, 0.08], \"theta\": [\"\\ub4dd\\uc810\", \"\\uc548\\ud0c0\", \"2\\ub8e8\\ud0c0\", \"3\\ub8e8\\ud0c0\", \"\\ud648\\ub7f0\", \"\\ub8e8\\ud0c0\", \"\\ud0c0\\uc810\", \"\\ub3c4\\ub8e8\", \"\\ub3c4\\ub8e8\\uc2e4\\ud328\", \"\\ubcfc\\ub137\", \"\\uc0ac\\uad6c\", \"\\uc0bc\\uc9c4\", \"\\ubcd1\\uc0b4\\ud0c0\", \"\\uc2e4\\ucc45\"], \"type\": \"scatterpolar\"}, {\"marker\": {\"color\": \"crimson\"}, \"name\": \"2020\\ub144 KBO \\uc0c1\\uc70410\\uba85\\uc758 \\ud0c0\\uc790 \\ud1b5\\uc0b0\\ud3c9\\uade0\", \"r\": [0.63, 1.17, 0.22, 0.02, 0.11, 1.75, 0.57, 0.07, 0.03, 0.41, 0.06, 0.5, 0.09, 0.04], \"theta\": [\"\\ub4dd\\uc810\", \"\\uc548\\ud0c0\", \"2\\ub8e8\\ud0c0\", \"3\\ub8e8\\ud0c0\", \"\\ud648\\ub7f0\", \"\\ub8e8\\ud0c0\", \"\\ud0c0\\uc810\", \"\\ub3c4\\ub8e8\", \"\\ub3c4\\ub8e8\\uc2e4\\ud328\", \"\\ubcfc\\ub137\", \"\\uc0ac\\uad6c\", \"\\uc0bc\\uc9c4\", \"\\ubcd1\\uc0b4\\ud0c0\", \"\\uc2e4\\ucc45\"], \"type\": \"scatterpolar\"}],                        {\"paper_bgcolor\": \"rgb(245, 245, 245)\", \"polar\": {\"angularaxis\": {\"linecolor\": \"black\", \"linewidth\": 1, \"showline\": true, \"ticks\": \"\"}, \"radialaxis\": {\"linecolor\": \"Black\", \"linewidth\": 1, \"ticks\": \"\", \"visible\": true}}, \"template\": {}, \"title\": {\"text\": \"\\ucd1d \\uacbd\\uae30 \\uc218\\ub85c \\ub098\\ub220\\uc9c4 \\ub370\\uc774\\ud130\"}},                        {\"responsive\": true}                    ).then(function(){\n",
       "                            \n",
       "var gd = document.getElementById('d8828d62-26d6-428a-aaf3-5ed0fd4f0fd9');\n",
       "var x = new MutationObserver(function (mutations, observer) {{\n",
       "        var display = window.getComputedStyle(gd).display;\n",
       "        if (!display || display === 'none') {{\n",
       "            console.log([gd, 'removed!']);\n",
       "            Plotly.purge(gd);\n",
       "            observer.disconnect();\n",
       "        }}\n",
       "}});\n",
       "\n",
       "// Listen for the removal of the full notebook cells\n",
       "var notebookContainer = gd.closest('#notebook-container');\n",
       "if (notebookContainer) {{\n",
       "    x.observe(notebookContainer, {childList: true});\n",
       "}}\n",
       "\n",
       "// Listen for the clearing of the current output cell\n",
       "var outputEl = gd.closest('.output');\n",
       "if (outputEl) {{\n",
       "    x.observe(outputEl, {childList: true});\n",
       "}}\n",
       "\n",
       "                        })                };                });            </script>        </div>"
      ]
     },
     "metadata": {},
     "output_type": "display_data"
    }
   ],
   "source": [
    "majorleaguer_avg = []\n",
    "top10_hitter_avg = []\n",
    "\n",
    "for col in korean_majorleaguer_dict[list(korean_majorleaguer_dict.keys())[0]].columns[2:]:\n",
    "    if col != '타율':\n",
    "        temp_majorleaguer_ls = [float(korean_majorleaguer_dict[name].iloc[korean_majorleaguer_dict[name].shape[0]-1][col])/float(korean_majorleaguer_dict[name].iloc[korean_majorleaguer_dict[name].shape[0]-1]['경기']) for name in hitter_majorleaguer['Name']]\n",
    "        temp_majorleaguer_np = np.array(temp_majorleaguer_ls)\n",
    "        majorleaguer_avg.append(round(temp_majorleaguer_np.mean(), 2))\n",
    "    else:\n",
    "        temp_majorleaguer_ls = [float(korean_majorleaguer_dict[name].iloc[korean_majorleaguer_dict[name].shape[0]-1][col]) for name in hitter_majorleaguer['Name']]\n",
    "        temp_majorleaguer_np = np.array(temp_majorleaguer_ls)\n",
    "        majorleaguer_avg.append(round(temp_majorleaguer_np.mean(), 2))\n",
    "    \n",
    "for col in top10_hitter_dict[list(top10_hitter_dict.keys())[0]].columns[2:]:\n",
    "    if col != '타율':\n",
    "        temp_top10_hitter_ls = [float(top10_hitter_dict[name].iloc[top10_hitter_dict[name].shape[0]-1][col])/float(top10_hitter_dict[name].iloc[top10_hitter_dict[name].shape[0]-1]['경기']) for name in top10_hitter_url_df['Name']]\n",
    "        temp_top10_hitter_np = np.array(temp_top10_hitter_ls)\n",
    "        top10_hitter_avg.append(round(temp_top10_hitter_np.mean(), 2))\n",
    "    else:\n",
    "        temp_top10_hitter_ls = [float(top10_hitter_dict[name].iloc[top10_hitter_dict[name].shape[0]-1][col]) for name in top10_hitter_url_df['Name']]\n",
    "        temp_top10_hitter_np = np.array(temp_top10_hitter_ls)\n",
    "        top10_hitter_avg.append(round(temp_top10_hitter_np.mean(), 2))\n",
    "\n",
    "\n",
    "theta_ = top10_hitter_dict[list(top10_hitter_dict.keys())[0]].columns[6:-3].to_list() # 득점 ~ 병살타 index\n",
    "theta_.insert(len(theta_), top10_hitter_dict[list(top10_hitter_dict.keys())[0]].columns[-1]) # 실책 index 추가\n",
    "r_ = top10_hitter_avg[4:-3] # 득점 ~ 병살타 값들(전체 경기 수로 나눠진)\n",
    "r_.insert(len(r_), top10_hitter_avg[-1]) # 실책값 추가(전체 경기 수로 나눠진)\n",
    "\n",
    "fig = go.Figure()\n",
    "fig.add_trace(go.Scatterpolar(r=majorleaguer_avg[3:],\n",
    "                              theta=korean_majorleaguer_dict['강정호'].columns[5:],\n",
    "                              name='한국인 메이저리거의 KBO시절 평균',\n",
    "                              marker_color='blue'))\n",
    "fig.add_trace(go.Scatterpolar(r=r_,\n",
    "                             theta=theta_,\n",
    "                             name='2020년 KBO 상위10명의 타자 통산평균',\n",
    "                             marker_color='crimson'))\n",
    "\n",
    "fig.update_layout(template=None,\n",
    "                  paper_bgcolor='rgb(245, 245, 245)',\n",
    "                  polar=dict(radialaxis=dict(visible=True, linewidth=1, linecolor='Black', ticks=''),\n",
    "                            angularaxis=dict(showline=True, linewidth=1, linecolor='black', ticks='')),\n",
    "                 title='총 경기 수로 나눠진 데이터')\n",
    "fig.show()"
   ]
  },
  {
   "cell_type": "markdown",
   "metadata": {},
   "source": [
    "- <h3>야구 분석에서 많이 쓰이는 레이더 차트를 통해 한국인 메이저리거와 KBO top10 선수를 비교하려고 했지만, 전체 경기에서 각 통산기록을 나눈 값들의 차이가 거의 없어 분석하기 어렵다...</h3>"
   ]
  },
  {
   "cell_type": "code",
   "execution_count": 167,
   "metadata": {},
   "outputs": [
    {
     "data": {
      "application/vnd.plotly.v1+json": {
       "config": {
        "plotlyServerURL": "https://plot.ly"
       },
       "data": [
        {
         "marker": {
          "color": "blue"
         },
         "name": "한국인 메이저리거의 KBO시절 통산평균",
         "type": "bar",
         "x": [
          "득점",
          "안타",
          "2루타",
          "3루타",
          "홈런",
          "루타",
          "타점",
          "도루",
          "도루실패",
          "볼넷",
          "사구",
          "삼진",
          "병살타",
          "실책"
         ],
         "xaxis": "x2",
         "y": [
          0.58,
          1.04,
          0.19,
          0.01,
          0.16,
          1.75,
          0.65,
          0.07,
          0.03,
          0.46,
          0.06,
          0.66,
          0.09,
          0.08
         ],
         "yaxis": "y2"
        },
        {
         "marker": {
          "color": "red"
         },
         "name": "2020년 KBO 상위10명 통산평균",
         "type": "bar",
         "x": [
          "득점",
          "안타",
          "2루타",
          "3루타",
          "홈런",
          "루타",
          "타점",
          "도루",
          "도루실패",
          "볼넷",
          "사구",
          "삼진",
          "병살타",
          "실책"
         ],
         "xaxis": "x2",
         "y": [
          0.63,
          1.17,
          0.22,
          0.02,
          0.11,
          1.75,
          0.57,
          0.07,
          0.03,
          0.41,
          0.06,
          0.5,
          0.09,
          0.04
         ],
         "yaxis": "y2"
        },
        {
         "marker": {
          "color": "blue"
         },
         "showlegend": false,
         "type": "bar",
         "x": [
          "타율"
         ],
         "xaxis": "x",
         "y": [
          0.3
         ],
         "yaxis": "y"
        },
        {
         "marker": {
          "color": "red"
         },
         "showlegend": false,
         "type": "bar",
         "x": [
          "타율"
         ],
         "xaxis": "x",
         "y": [
          0.32
         ],
         "yaxis": "y"
        }
       ],
       "layout": {
        "bargap": 0.3,
        "legend": {
         "orientation": "v",
         "x": 0.998,
         "xanchor": "right",
         "y": 0.79,
         "yanchor": "top"
        },
        "plot_bgcolor": "rgb(245, 245, 245)",
        "template": {
         "data": {
          "bar": [
           {
            "error_x": {
             "color": "#2a3f5f"
            },
            "error_y": {
             "color": "#2a3f5f"
            },
            "marker": {
             "line": {
              "color": "#E5ECF6",
              "width": 0.5
             }
            },
            "type": "bar"
           }
          ],
          "barpolar": [
           {
            "marker": {
             "line": {
              "color": "#E5ECF6",
              "width": 0.5
             }
            },
            "type": "barpolar"
           }
          ],
          "carpet": [
           {
            "aaxis": {
             "endlinecolor": "#2a3f5f",
             "gridcolor": "white",
             "linecolor": "white",
             "minorgridcolor": "white",
             "startlinecolor": "#2a3f5f"
            },
            "baxis": {
             "endlinecolor": "#2a3f5f",
             "gridcolor": "white",
             "linecolor": "white",
             "minorgridcolor": "white",
             "startlinecolor": "#2a3f5f"
            },
            "type": "carpet"
           }
          ],
          "choropleth": [
           {
            "colorbar": {
             "outlinewidth": 0,
             "ticks": ""
            },
            "type": "choropleth"
           }
          ],
          "contour": [
           {
            "colorbar": {
             "outlinewidth": 0,
             "ticks": ""
            },
            "colorscale": [
             [
              0,
              "#0d0887"
             ],
             [
              0.1111111111111111,
              "#46039f"
             ],
             [
              0.2222222222222222,
              "#7201a8"
             ],
             [
              0.3333333333333333,
              "#9c179e"
             ],
             [
              0.4444444444444444,
              "#bd3786"
             ],
             [
              0.5555555555555556,
              "#d8576b"
             ],
             [
              0.6666666666666666,
              "#ed7953"
             ],
             [
              0.7777777777777778,
              "#fb9f3a"
             ],
             [
              0.8888888888888888,
              "#fdca26"
             ],
             [
              1,
              "#f0f921"
             ]
            ],
            "type": "contour"
           }
          ],
          "contourcarpet": [
           {
            "colorbar": {
             "outlinewidth": 0,
             "ticks": ""
            },
            "type": "contourcarpet"
           }
          ],
          "heatmap": [
           {
            "colorbar": {
             "outlinewidth": 0,
             "ticks": ""
            },
            "colorscale": [
             [
              0,
              "#0d0887"
             ],
             [
              0.1111111111111111,
              "#46039f"
             ],
             [
              0.2222222222222222,
              "#7201a8"
             ],
             [
              0.3333333333333333,
              "#9c179e"
             ],
             [
              0.4444444444444444,
              "#bd3786"
             ],
             [
              0.5555555555555556,
              "#d8576b"
             ],
             [
              0.6666666666666666,
              "#ed7953"
             ],
             [
              0.7777777777777778,
              "#fb9f3a"
             ],
             [
              0.8888888888888888,
              "#fdca26"
             ],
             [
              1,
              "#f0f921"
             ]
            ],
            "type": "heatmap"
           }
          ],
          "heatmapgl": [
           {
            "colorbar": {
             "outlinewidth": 0,
             "ticks": ""
            },
            "colorscale": [
             [
              0,
              "#0d0887"
             ],
             [
              0.1111111111111111,
              "#46039f"
             ],
             [
              0.2222222222222222,
              "#7201a8"
             ],
             [
              0.3333333333333333,
              "#9c179e"
             ],
             [
              0.4444444444444444,
              "#bd3786"
             ],
             [
              0.5555555555555556,
              "#d8576b"
             ],
             [
              0.6666666666666666,
              "#ed7953"
             ],
             [
              0.7777777777777778,
              "#fb9f3a"
             ],
             [
              0.8888888888888888,
              "#fdca26"
             ],
             [
              1,
              "#f0f921"
             ]
            ],
            "type": "heatmapgl"
           }
          ],
          "histogram": [
           {
            "marker": {
             "colorbar": {
              "outlinewidth": 0,
              "ticks": ""
             }
            },
            "type": "histogram"
           }
          ],
          "histogram2d": [
           {
            "colorbar": {
             "outlinewidth": 0,
             "ticks": ""
            },
            "colorscale": [
             [
              0,
              "#0d0887"
             ],
             [
              0.1111111111111111,
              "#46039f"
             ],
             [
              0.2222222222222222,
              "#7201a8"
             ],
             [
              0.3333333333333333,
              "#9c179e"
             ],
             [
              0.4444444444444444,
              "#bd3786"
             ],
             [
              0.5555555555555556,
              "#d8576b"
             ],
             [
              0.6666666666666666,
              "#ed7953"
             ],
             [
              0.7777777777777778,
              "#fb9f3a"
             ],
             [
              0.8888888888888888,
              "#fdca26"
             ],
             [
              1,
              "#f0f921"
             ]
            ],
            "type": "histogram2d"
           }
          ],
          "histogram2dcontour": [
           {
            "colorbar": {
             "outlinewidth": 0,
             "ticks": ""
            },
            "colorscale": [
             [
              0,
              "#0d0887"
             ],
             [
              0.1111111111111111,
              "#46039f"
             ],
             [
              0.2222222222222222,
              "#7201a8"
             ],
             [
              0.3333333333333333,
              "#9c179e"
             ],
             [
              0.4444444444444444,
              "#bd3786"
             ],
             [
              0.5555555555555556,
              "#d8576b"
             ],
             [
              0.6666666666666666,
              "#ed7953"
             ],
             [
              0.7777777777777778,
              "#fb9f3a"
             ],
             [
              0.8888888888888888,
              "#fdca26"
             ],
             [
              1,
              "#f0f921"
             ]
            ],
            "type": "histogram2dcontour"
           }
          ],
          "mesh3d": [
           {
            "colorbar": {
             "outlinewidth": 0,
             "ticks": ""
            },
            "type": "mesh3d"
           }
          ],
          "parcoords": [
           {
            "line": {
             "colorbar": {
              "outlinewidth": 0,
              "ticks": ""
             }
            },
            "type": "parcoords"
           }
          ],
          "pie": [
           {
            "automargin": true,
            "type": "pie"
           }
          ],
          "scatter": [
           {
            "marker": {
             "colorbar": {
              "outlinewidth": 0,
              "ticks": ""
             }
            },
            "type": "scatter"
           }
          ],
          "scatter3d": [
           {
            "line": {
             "colorbar": {
              "outlinewidth": 0,
              "ticks": ""
             }
            },
            "marker": {
             "colorbar": {
              "outlinewidth": 0,
              "ticks": ""
             }
            },
            "type": "scatter3d"
           }
          ],
          "scattercarpet": [
           {
            "marker": {
             "colorbar": {
              "outlinewidth": 0,
              "ticks": ""
             }
            },
            "type": "scattercarpet"
           }
          ],
          "scattergeo": [
           {
            "marker": {
             "colorbar": {
              "outlinewidth": 0,
              "ticks": ""
             }
            },
            "type": "scattergeo"
           }
          ],
          "scattergl": [
           {
            "marker": {
             "colorbar": {
              "outlinewidth": 0,
              "ticks": ""
             }
            },
            "type": "scattergl"
           }
          ],
          "scattermapbox": [
           {
            "marker": {
             "colorbar": {
              "outlinewidth": 0,
              "ticks": ""
             }
            },
            "type": "scattermapbox"
           }
          ],
          "scatterpolar": [
           {
            "marker": {
             "colorbar": {
              "outlinewidth": 0,
              "ticks": ""
             }
            },
            "type": "scatterpolar"
           }
          ],
          "scatterpolargl": [
           {
            "marker": {
             "colorbar": {
              "outlinewidth": 0,
              "ticks": ""
             }
            },
            "type": "scatterpolargl"
           }
          ],
          "scatterternary": [
           {
            "marker": {
             "colorbar": {
              "outlinewidth": 0,
              "ticks": ""
             }
            },
            "type": "scatterternary"
           }
          ],
          "surface": [
           {
            "colorbar": {
             "outlinewidth": 0,
             "ticks": ""
            },
            "colorscale": [
             [
              0,
              "#0d0887"
             ],
             [
              0.1111111111111111,
              "#46039f"
             ],
             [
              0.2222222222222222,
              "#7201a8"
             ],
             [
              0.3333333333333333,
              "#9c179e"
             ],
             [
              0.4444444444444444,
              "#bd3786"
             ],
             [
              0.5555555555555556,
              "#d8576b"
             ],
             [
              0.6666666666666666,
              "#ed7953"
             ],
             [
              0.7777777777777778,
              "#fb9f3a"
             ],
             [
              0.8888888888888888,
              "#fdca26"
             ],
             [
              1,
              "#f0f921"
             ]
            ],
            "type": "surface"
           }
          ],
          "table": [
           {
            "cells": {
             "fill": {
              "color": "#EBF0F8"
             },
             "line": {
              "color": "white"
             }
            },
            "header": {
             "fill": {
              "color": "#C8D4E3"
             },
             "line": {
              "color": "white"
             }
            },
            "type": "table"
           }
          ]
         },
         "layout": {
          "annotationdefaults": {
           "arrowcolor": "#2a3f5f",
           "arrowhead": 0,
           "arrowwidth": 1
          },
          "autotypenumbers": "strict",
          "coloraxis": {
           "colorbar": {
            "outlinewidth": 0,
            "ticks": ""
           }
          },
          "colorscale": {
           "diverging": [
            [
             0,
             "#8e0152"
            ],
            [
             0.1,
             "#c51b7d"
            ],
            [
             0.2,
             "#de77ae"
            ],
            [
             0.3,
             "#f1b6da"
            ],
            [
             0.4,
             "#fde0ef"
            ],
            [
             0.5,
             "#f7f7f7"
            ],
            [
             0.6,
             "#e6f5d0"
            ],
            [
             0.7,
             "#b8e186"
            ],
            [
             0.8,
             "#7fbc41"
            ],
            [
             0.9,
             "#4d9221"
            ],
            [
             1,
             "#276419"
            ]
           ],
           "sequential": [
            [
             0,
             "#0d0887"
            ],
            [
             0.1111111111111111,
             "#46039f"
            ],
            [
             0.2222222222222222,
             "#7201a8"
            ],
            [
             0.3333333333333333,
             "#9c179e"
            ],
            [
             0.4444444444444444,
             "#bd3786"
            ],
            [
             0.5555555555555556,
             "#d8576b"
            ],
            [
             0.6666666666666666,
             "#ed7953"
            ],
            [
             0.7777777777777778,
             "#fb9f3a"
            ],
            [
             0.8888888888888888,
             "#fdca26"
            ],
            [
             1,
             "#f0f921"
            ]
           ],
           "sequentialminus": [
            [
             0,
             "#0d0887"
            ],
            [
             0.1111111111111111,
             "#46039f"
            ],
            [
             0.2222222222222222,
             "#7201a8"
            ],
            [
             0.3333333333333333,
             "#9c179e"
            ],
            [
             0.4444444444444444,
             "#bd3786"
            ],
            [
             0.5555555555555556,
             "#d8576b"
            ],
            [
             0.6666666666666666,
             "#ed7953"
            ],
            [
             0.7777777777777778,
             "#fb9f3a"
            ],
            [
             0.8888888888888888,
             "#fdca26"
            ],
            [
             1,
             "#f0f921"
            ]
           ]
          },
          "colorway": [
           "#636efa",
           "#EF553B",
           "#00cc96",
           "#ab63fa",
           "#FFA15A",
           "#19d3f3",
           "#FF6692",
           "#B6E880",
           "#FF97FF",
           "#FECB52"
          ],
          "font": {
           "color": "#2a3f5f"
          },
          "geo": {
           "bgcolor": "white",
           "lakecolor": "white",
           "landcolor": "#E5ECF6",
           "showlakes": true,
           "showland": true,
           "subunitcolor": "white"
          },
          "hoverlabel": {
           "align": "left"
          },
          "hovermode": "closest",
          "mapbox": {
           "style": "light"
          },
          "paper_bgcolor": "white",
          "plot_bgcolor": "#E5ECF6",
          "polar": {
           "angularaxis": {
            "gridcolor": "white",
            "linecolor": "white",
            "ticks": ""
           },
           "bgcolor": "#E5ECF6",
           "radialaxis": {
            "gridcolor": "white",
            "linecolor": "white",
            "ticks": ""
           }
          },
          "scene": {
           "xaxis": {
            "backgroundcolor": "#E5ECF6",
            "gridcolor": "white",
            "gridwidth": 2,
            "linecolor": "white",
            "showbackground": true,
            "ticks": "",
            "zerolinecolor": "white"
           },
           "yaxis": {
            "backgroundcolor": "#E5ECF6",
            "gridcolor": "white",
            "gridwidth": 2,
            "linecolor": "white",
            "showbackground": true,
            "ticks": "",
            "zerolinecolor": "white"
           },
           "zaxis": {
            "backgroundcolor": "#E5ECF6",
            "gridcolor": "white",
            "gridwidth": 2,
            "linecolor": "white",
            "showbackground": true,
            "ticks": "",
            "zerolinecolor": "white"
           }
          },
          "shapedefaults": {
           "line": {
            "color": "#2a3f5f"
           }
          },
          "ternary": {
           "aaxis": {
            "gridcolor": "white",
            "linecolor": "white",
            "ticks": ""
           },
           "baxis": {
            "gridcolor": "white",
            "linecolor": "white",
            "ticks": ""
           },
           "bgcolor": "#E5ECF6",
           "caxis": {
            "gridcolor": "white",
            "linecolor": "white",
            "ticks": ""
           }
          },
          "title": {
           "x": 0.05
          },
          "xaxis": {
           "automargin": true,
           "gridcolor": "white",
           "linecolor": "white",
           "ticks": "",
           "title": {
            "standoff": 15
           },
           "zerolinecolor": "white",
           "zerolinewidth": 2
          },
          "yaxis": {
           "automargin": true,
           "gridcolor": "white",
           "linecolor": "white",
           "ticks": "",
           "title": {
            "standoff": 15
           },
           "zerolinecolor": "white",
           "zerolinewidth": 2
          }
         }
        },
        "xaxis": {
         "anchor": "y",
         "domain": [
          0,
          0.45
         ]
        },
        "xaxis2": {
         "anchor": "y2",
         "domain": [
          0.55,
          1
         ]
        },
        "yaxis": {
         "anchor": "x",
         "domain": [
          0,
          1
         ],
         "showgrid": false,
         "zeroline": false
        },
        "yaxis2": {
         "anchor": "x2",
         "domain": [
          0,
          1
         ],
         "showgrid": false,
         "zeroline": false
        }
       }
      },
      "text/html": [
       "<div>                            <div id=\"07f2ef82-8fcd-4604-860d-ccb97c699f6a\" class=\"plotly-graph-div\" style=\"height:525px; width:100%;\"></div>            <script type=\"text/javascript\">                require([\"plotly\"], function(Plotly) {                    window.PLOTLYENV=window.PLOTLYENV || {};                                    if (document.getElementById(\"07f2ef82-8fcd-4604-860d-ccb97c699f6a\")) {                    Plotly.newPlot(                        \"07f2ef82-8fcd-4604-860d-ccb97c699f6a\",                        [{\"marker\": {\"color\": \"blue\"}, \"name\": \"\\ud55c\\uad6d\\uc778 \\uba54\\uc774\\uc800\\ub9ac\\uac70\\uc758 KBO\\uc2dc\\uc808 \\ud1b5\\uc0b0\\ud3c9\\uade0\", \"type\": \"bar\", \"x\": [\"\\ub4dd\\uc810\", \"\\uc548\\ud0c0\", \"2\\ub8e8\\ud0c0\", \"3\\ub8e8\\ud0c0\", \"\\ud648\\ub7f0\", \"\\ub8e8\\ud0c0\", \"\\ud0c0\\uc810\", \"\\ub3c4\\ub8e8\", \"\\ub3c4\\ub8e8\\uc2e4\\ud328\", \"\\ubcfc\\ub137\", \"\\uc0ac\\uad6c\", \"\\uc0bc\\uc9c4\", \"\\ubcd1\\uc0b4\\ud0c0\", \"\\uc2e4\\ucc45\"], \"xaxis\": \"x2\", \"y\": [0.58, 1.04, 0.19, 0.01, 0.16, 1.75, 0.65, 0.07, 0.03, 0.46, 0.06, 0.66, 0.09, 0.08], \"yaxis\": \"y2\"}, {\"marker\": {\"color\": \"red\"}, \"name\": \"2020\\ub144 KBO \\uc0c1\\uc70410\\uba85 \\ud1b5\\uc0b0\\ud3c9\\uade0\", \"type\": \"bar\", \"x\": [\"\\ub4dd\\uc810\", \"\\uc548\\ud0c0\", \"2\\ub8e8\\ud0c0\", \"3\\ub8e8\\ud0c0\", \"\\ud648\\ub7f0\", \"\\ub8e8\\ud0c0\", \"\\ud0c0\\uc810\", \"\\ub3c4\\ub8e8\", \"\\ub3c4\\ub8e8\\uc2e4\\ud328\", \"\\ubcfc\\ub137\", \"\\uc0ac\\uad6c\", \"\\uc0bc\\uc9c4\", \"\\ubcd1\\uc0b4\\ud0c0\", \"\\uc2e4\\ucc45\"], \"xaxis\": \"x2\", \"y\": [0.63, 1.17, 0.22, 0.02, 0.11, 1.75, 0.57, 0.07, 0.03, 0.41, 0.06, 0.5, 0.09, 0.04], \"yaxis\": \"y2\"}, {\"marker\": {\"color\": \"blue\"}, \"showlegend\": false, \"type\": \"bar\", \"x\": [\"\\ud0c0\\uc728\"], \"xaxis\": \"x\", \"y\": [0.3], \"yaxis\": \"y\"}, {\"marker\": {\"color\": \"red\"}, \"showlegend\": false, \"type\": \"bar\", \"x\": [\"\\ud0c0\\uc728\"], \"xaxis\": \"x\", \"y\": [0.32], \"yaxis\": \"y\"}],                        {\"bargap\": 0.3, \"legend\": {\"orientation\": \"v\", \"x\": 0.998, \"xanchor\": \"right\", \"y\": 0.79, \"yanchor\": \"top\"}, \"plot_bgcolor\": \"rgb(245, 245, 245)\", \"template\": {\"data\": {\"bar\": [{\"error_x\": {\"color\": \"#2a3f5f\"}, \"error_y\": {\"color\": \"#2a3f5f\"}, \"marker\": {\"line\": {\"color\": \"#E5ECF6\", \"width\": 0.5}}, \"type\": \"bar\"}], \"barpolar\": [{\"marker\": {\"line\": {\"color\": \"#E5ECF6\", \"width\": 0.5}}, \"type\": \"barpolar\"}], \"carpet\": [{\"aaxis\": {\"endlinecolor\": \"#2a3f5f\", \"gridcolor\": \"white\", \"linecolor\": \"white\", \"minorgridcolor\": \"white\", \"startlinecolor\": \"#2a3f5f\"}, \"baxis\": {\"endlinecolor\": \"#2a3f5f\", \"gridcolor\": \"white\", \"linecolor\": \"white\", \"minorgridcolor\": \"white\", \"startlinecolor\": \"#2a3f5f\"}, \"type\": \"carpet\"}], \"choropleth\": [{\"colorbar\": {\"outlinewidth\": 0, \"ticks\": \"\"}, \"type\": \"choropleth\"}], \"contour\": [{\"colorbar\": {\"outlinewidth\": 0, \"ticks\": \"\"}, \"colorscale\": [[0.0, \"#0d0887\"], [0.1111111111111111, \"#46039f\"], [0.2222222222222222, \"#7201a8\"], [0.3333333333333333, \"#9c179e\"], [0.4444444444444444, \"#bd3786\"], [0.5555555555555556, \"#d8576b\"], [0.6666666666666666, \"#ed7953\"], [0.7777777777777778, \"#fb9f3a\"], [0.8888888888888888, \"#fdca26\"], [1.0, \"#f0f921\"]], \"type\": \"contour\"}], \"contourcarpet\": [{\"colorbar\": {\"outlinewidth\": 0, \"ticks\": \"\"}, \"type\": \"contourcarpet\"}], \"heatmap\": [{\"colorbar\": {\"outlinewidth\": 0, \"ticks\": \"\"}, \"colorscale\": [[0.0, \"#0d0887\"], [0.1111111111111111, \"#46039f\"], [0.2222222222222222, \"#7201a8\"], [0.3333333333333333, \"#9c179e\"], [0.4444444444444444, \"#bd3786\"], [0.5555555555555556, \"#d8576b\"], [0.6666666666666666, \"#ed7953\"], [0.7777777777777778, \"#fb9f3a\"], [0.8888888888888888, \"#fdca26\"], [1.0, \"#f0f921\"]], \"type\": \"heatmap\"}], \"heatmapgl\": [{\"colorbar\": {\"outlinewidth\": 0, \"ticks\": \"\"}, \"colorscale\": [[0.0, \"#0d0887\"], [0.1111111111111111, \"#46039f\"], [0.2222222222222222, \"#7201a8\"], [0.3333333333333333, \"#9c179e\"], [0.4444444444444444, \"#bd3786\"], [0.5555555555555556, \"#d8576b\"], [0.6666666666666666, \"#ed7953\"], [0.7777777777777778, \"#fb9f3a\"], [0.8888888888888888, \"#fdca26\"], [1.0, \"#f0f921\"]], \"type\": \"heatmapgl\"}], \"histogram\": [{\"marker\": {\"colorbar\": {\"outlinewidth\": 0, \"ticks\": \"\"}}, \"type\": \"histogram\"}], \"histogram2d\": [{\"colorbar\": {\"outlinewidth\": 0, \"ticks\": \"\"}, \"colorscale\": [[0.0, \"#0d0887\"], [0.1111111111111111, \"#46039f\"], [0.2222222222222222, \"#7201a8\"], [0.3333333333333333, \"#9c179e\"], [0.4444444444444444, \"#bd3786\"], [0.5555555555555556, \"#d8576b\"], [0.6666666666666666, \"#ed7953\"], [0.7777777777777778, \"#fb9f3a\"], [0.8888888888888888, \"#fdca26\"], [1.0, \"#f0f921\"]], \"type\": \"histogram2d\"}], \"histogram2dcontour\": [{\"colorbar\": {\"outlinewidth\": 0, \"ticks\": \"\"}, \"colorscale\": [[0.0, \"#0d0887\"], [0.1111111111111111, \"#46039f\"], [0.2222222222222222, \"#7201a8\"], [0.3333333333333333, \"#9c179e\"], [0.4444444444444444, \"#bd3786\"], [0.5555555555555556, \"#d8576b\"], [0.6666666666666666, \"#ed7953\"], [0.7777777777777778, \"#fb9f3a\"], [0.8888888888888888, \"#fdca26\"], [1.0, \"#f0f921\"]], \"type\": \"histogram2dcontour\"}], \"mesh3d\": [{\"colorbar\": {\"outlinewidth\": 0, \"ticks\": \"\"}, \"type\": \"mesh3d\"}], \"parcoords\": [{\"line\": {\"colorbar\": {\"outlinewidth\": 0, \"ticks\": \"\"}}, \"type\": \"parcoords\"}], \"pie\": [{\"automargin\": true, \"type\": \"pie\"}], \"scatter\": [{\"marker\": {\"colorbar\": {\"outlinewidth\": 0, \"ticks\": \"\"}}, \"type\": \"scatter\"}], \"scatter3d\": [{\"line\": {\"colorbar\": {\"outlinewidth\": 0, \"ticks\": \"\"}}, \"marker\": {\"colorbar\": {\"outlinewidth\": 0, \"ticks\": \"\"}}, \"type\": \"scatter3d\"}], \"scattercarpet\": [{\"marker\": {\"colorbar\": {\"outlinewidth\": 0, \"ticks\": \"\"}}, \"type\": \"scattercarpet\"}], \"scattergeo\": [{\"marker\": {\"colorbar\": {\"outlinewidth\": 0, \"ticks\": \"\"}}, \"type\": \"scattergeo\"}], \"scattergl\": [{\"marker\": {\"colorbar\": {\"outlinewidth\": 0, \"ticks\": \"\"}}, \"type\": \"scattergl\"}], \"scattermapbox\": [{\"marker\": {\"colorbar\": {\"outlinewidth\": 0, \"ticks\": \"\"}}, \"type\": \"scattermapbox\"}], \"scatterpolar\": [{\"marker\": {\"colorbar\": {\"outlinewidth\": 0, \"ticks\": \"\"}}, \"type\": \"scatterpolar\"}], \"scatterpolargl\": [{\"marker\": {\"colorbar\": {\"outlinewidth\": 0, \"ticks\": \"\"}}, \"type\": \"scatterpolargl\"}], \"scatterternary\": [{\"marker\": {\"colorbar\": {\"outlinewidth\": 0, \"ticks\": \"\"}}, \"type\": \"scatterternary\"}], \"surface\": [{\"colorbar\": {\"outlinewidth\": 0, \"ticks\": \"\"}, \"colorscale\": [[0.0, \"#0d0887\"], [0.1111111111111111, \"#46039f\"], [0.2222222222222222, \"#7201a8\"], [0.3333333333333333, \"#9c179e\"], [0.4444444444444444, \"#bd3786\"], [0.5555555555555556, \"#d8576b\"], [0.6666666666666666, \"#ed7953\"], [0.7777777777777778, \"#fb9f3a\"], [0.8888888888888888, \"#fdca26\"], [1.0, \"#f0f921\"]], \"type\": \"surface\"}], \"table\": [{\"cells\": {\"fill\": {\"color\": \"#EBF0F8\"}, \"line\": {\"color\": \"white\"}}, \"header\": {\"fill\": {\"color\": \"#C8D4E3\"}, \"line\": {\"color\": \"white\"}}, \"type\": \"table\"}]}, \"layout\": {\"annotationdefaults\": {\"arrowcolor\": \"#2a3f5f\", \"arrowhead\": 0, \"arrowwidth\": 1}, \"autotypenumbers\": \"strict\", \"coloraxis\": {\"colorbar\": {\"outlinewidth\": 0, \"ticks\": \"\"}}, \"colorscale\": {\"diverging\": [[0, \"#8e0152\"], [0.1, \"#c51b7d\"], [0.2, \"#de77ae\"], [0.3, \"#f1b6da\"], [0.4, \"#fde0ef\"], [0.5, \"#f7f7f7\"], [0.6, \"#e6f5d0\"], [0.7, \"#b8e186\"], [0.8, \"#7fbc41\"], [0.9, \"#4d9221\"], [1, \"#276419\"]], \"sequential\": [[0.0, \"#0d0887\"], [0.1111111111111111, \"#46039f\"], [0.2222222222222222, \"#7201a8\"], [0.3333333333333333, \"#9c179e\"], [0.4444444444444444, \"#bd3786\"], [0.5555555555555556, \"#d8576b\"], [0.6666666666666666, \"#ed7953\"], [0.7777777777777778, \"#fb9f3a\"], [0.8888888888888888, \"#fdca26\"], [1.0, \"#f0f921\"]], \"sequentialminus\": [[0.0, \"#0d0887\"], [0.1111111111111111, \"#46039f\"], [0.2222222222222222, \"#7201a8\"], [0.3333333333333333, \"#9c179e\"], [0.4444444444444444, \"#bd3786\"], [0.5555555555555556, \"#d8576b\"], [0.6666666666666666, \"#ed7953\"], [0.7777777777777778, \"#fb9f3a\"], [0.8888888888888888, \"#fdca26\"], [1.0, \"#f0f921\"]]}, \"colorway\": [\"#636efa\", \"#EF553B\", \"#00cc96\", \"#ab63fa\", \"#FFA15A\", \"#19d3f3\", \"#FF6692\", \"#B6E880\", \"#FF97FF\", \"#FECB52\"], \"font\": {\"color\": \"#2a3f5f\"}, \"geo\": {\"bgcolor\": \"white\", \"lakecolor\": \"white\", \"landcolor\": \"#E5ECF6\", \"showlakes\": true, \"showland\": true, \"subunitcolor\": \"white\"}, \"hoverlabel\": {\"align\": \"left\"}, \"hovermode\": \"closest\", \"mapbox\": {\"style\": \"light\"}, \"paper_bgcolor\": \"white\", \"plot_bgcolor\": \"#E5ECF6\", \"polar\": {\"angularaxis\": {\"gridcolor\": \"white\", \"linecolor\": \"white\", \"ticks\": \"\"}, \"bgcolor\": \"#E5ECF6\", \"radialaxis\": {\"gridcolor\": \"white\", \"linecolor\": \"white\", \"ticks\": \"\"}}, \"scene\": {\"xaxis\": {\"backgroundcolor\": \"#E5ECF6\", \"gridcolor\": \"white\", \"gridwidth\": 2, \"linecolor\": \"white\", \"showbackground\": true, \"ticks\": \"\", \"zerolinecolor\": \"white\"}, \"yaxis\": {\"backgroundcolor\": \"#E5ECF6\", \"gridcolor\": \"white\", \"gridwidth\": 2, \"linecolor\": \"white\", \"showbackground\": true, \"ticks\": \"\", \"zerolinecolor\": \"white\"}, \"zaxis\": {\"backgroundcolor\": \"#E5ECF6\", \"gridcolor\": \"white\", \"gridwidth\": 2, \"linecolor\": \"white\", \"showbackground\": true, \"ticks\": \"\", \"zerolinecolor\": \"white\"}}, \"shapedefaults\": {\"line\": {\"color\": \"#2a3f5f\"}}, \"ternary\": {\"aaxis\": {\"gridcolor\": \"white\", \"linecolor\": \"white\", \"ticks\": \"\"}, \"baxis\": {\"gridcolor\": \"white\", \"linecolor\": \"white\", \"ticks\": \"\"}, \"bgcolor\": \"#E5ECF6\", \"caxis\": {\"gridcolor\": \"white\", \"linecolor\": \"white\", \"ticks\": \"\"}}, \"title\": {\"x\": 0.05}, \"xaxis\": {\"automargin\": true, \"gridcolor\": \"white\", \"linecolor\": \"white\", \"ticks\": \"\", \"title\": {\"standoff\": 15}, \"zerolinecolor\": \"white\", \"zerolinewidth\": 2}, \"yaxis\": {\"automargin\": true, \"gridcolor\": \"white\", \"linecolor\": \"white\", \"ticks\": \"\", \"title\": {\"standoff\": 15}, \"zerolinecolor\": \"white\", \"zerolinewidth\": 2}}}, \"xaxis\": {\"anchor\": \"y\", \"domain\": [0.0, 0.45]}, \"xaxis2\": {\"anchor\": \"y2\", \"domain\": [0.55, 1.0]}, \"yaxis\": {\"anchor\": \"x\", \"domain\": [0.0, 1.0], \"showgrid\": false, \"zeroline\": false}, \"yaxis2\": {\"anchor\": \"x2\", \"domain\": [0.0, 1.0], \"showgrid\": false, \"zeroline\": false}},                        {\"responsive\": true}                    ).then(function(){\n",
       "                            \n",
       "var gd = document.getElementById('07f2ef82-8fcd-4604-860d-ccb97c699f6a');\n",
       "var x = new MutationObserver(function (mutations, observer) {{\n",
       "        var display = window.getComputedStyle(gd).display;\n",
       "        if (!display || display === 'none') {{\n",
       "            console.log([gd, 'removed!']);\n",
       "            Plotly.purge(gd);\n",
       "            observer.disconnect();\n",
       "        }}\n",
       "}});\n",
       "\n",
       "// Listen for the removal of the full notebook cells\n",
       "var notebookContainer = gd.closest('#notebook-container');\n",
       "if (notebookContainer) {{\n",
       "    x.observe(notebookContainer, {childList: true});\n",
       "}}\n",
       "\n",
       "// Listen for the clearing of the current output cell\n",
       "var outputEl = gd.closest('.output');\n",
       "if (outputEl) {{\n",
       "    x.observe(outputEl, {childList: true});\n",
       "}}\n",
       "\n",
       "                        })                };                });            </script>        </div>"
      ]
     },
     "metadata": {},
     "output_type": "display_data"
    }
   ],
   "source": [
    "fig = make_subplots(rows=1, cols=2)\n",
    "\n",
    "fig.add_trace(go.Bar(x=korean_majorleaguer_dict[list(korean_majorleaguer_dict.keys())[0]].columns[5:],\n",
    "                    y=majorleaguer_avg[3:],\n",
    "                    name='한국인 메이저리거의 KBO시절 통산평균',\n",
    "                    marker_color='blue'), 1, 2)\n",
    "fig.add_trace(go.Bar(x=theta_,\n",
    "                    y=r_,\n",
    "                    name='2020년 KBO 상위10명 통산평균',\n",
    "                    marker_color='red'), 1, 2)\n",
    "fig.add_trace(go.Bar(x=[korean_majorleaguer_dict[list(korean_majorleaguer_dict.keys())[0]].columns[2]],\n",
    "                    y=[majorleaguer_avg[0]],\n",
    "                    marker_color='blue',\n",
    "                    showlegend=False), 1, 1)\n",
    "fig.add_trace(go.Bar(x=[korean_majorleaguer_dict[list(korean_majorleaguer_dict.keys())[0]].columns[2]],\n",
    "                    y=[top10_hitter_avg[0]],\n",
    "                    marker_color='red',\n",
    "                    showlegend=False), 1, 1)\n",
    "\n",
    "fig.update_yaxes(showgrid=False, zeroline=False, row=1, col=1)\n",
    "fig.update_yaxes(showgrid=False, zeroline=False, row=1, col=2)\n",
    "\n",
    "fig.update_layout(legend=dict(orientation='v',\n",
    "                             yanchor='top', xanchor='right',\n",
    "                             y=0.79, x=0.998),\n",
    "                  plot_bgcolor='rgb(245, 245, 245)',\n",
    "                 bargap=0.3)\n",
    "fig.show()"
   ]
  },
  {
   "cell_type": "markdown",
   "metadata": {},
   "source": [
    "- <h3>한국인 메이저리거 선수들의 KBO시절 타율이 예상외로 KBO 상위 10명의 평균보다 낮았다.</h3>\n",
    "- <h3>경기당 홈런, 타점, 볼넷, 삼진, 실책은 한국인 메이저리거 선수들이 더 높았지만 득점, 안타, 2루타는 KBO 상위 10명의 선수들의 값이 더 높았다.</h3>\n",
    "- <h3>한국인 메이저리거 선수들와 KBO 상위 10명 선수들 사이에 두드러진 차이가 없어 다른 방법으로 접근해봐야 할 것 같다.</h3>"
   ]
  },
  {
   "cell_type": "code",
   "execution_count": 169,
   "metadata": {},
   "outputs": [
    {
     "data": {
      "application/vnd.plotly.v1+json": {
       "config": {
        "plotlyServerURL": "https://plot.ly"
       },
       "data": [
        {
         "boxpoints": "all",
         "name": "한국인 메이저리거의 KBO 시절 통산타율",
         "text": [
          "이름: 강정호<br>타율: 0.298",
          "이름: 김하성<br>타율: 0.294",
          "이름: 김현수<br>타율: 0.322",
          "이름: 박병호<br>타율: 0.283",
          "이름: 이대호<br>타율: 0.309",
          "이름: 최희섭<br>타율: 0.281",
          "이름: 황재균<br>타율: 0.289"
         ],
         "type": "box",
         "y": [
          0.298,
          0.294,
          0.322,
          0.283,
          0.309,
          0.281,
          0.289
         ]
        },
        {
         "boxpoints": "all",
         "name": "2020년 상위 10명의 타자 통산타율",
         "text": [
          "이름: 최형우<br>타율: 0.321",
          "이름: 손아섭<br>타율: 0.325",
          "이름: 박민우<br>타율: 0.33",
          "이름: 페르난데스<br>타율: 0.342",
          "이름: 이정후<br>타율: 0.336",
          "이름: 허경민<br>타율: 0.296",
          "이름: 김현수<br>타율: 0.322",
          "이름: 강백호<br>타율: 0.317",
          "이름: 양의지<br>타율: 0.307"
         ],
         "type": "box",
         "y": [
          0.321,
          0.325,
          0.33,
          0.342,
          0.336,
          0.296,
          0.322,
          0.317,
          0.307
         ]
        }
       ],
       "layout": {
        "plot_bgcolor": "rgb(245, 245, 245)",
        "template": {
         "data": {
          "bar": [
           {
            "error_x": {
             "color": "#2a3f5f"
            },
            "error_y": {
             "color": "#2a3f5f"
            },
            "marker": {
             "line": {
              "color": "#E5ECF6",
              "width": 0.5
             }
            },
            "type": "bar"
           }
          ],
          "barpolar": [
           {
            "marker": {
             "line": {
              "color": "#E5ECF6",
              "width": 0.5
             }
            },
            "type": "barpolar"
           }
          ],
          "carpet": [
           {
            "aaxis": {
             "endlinecolor": "#2a3f5f",
             "gridcolor": "white",
             "linecolor": "white",
             "minorgridcolor": "white",
             "startlinecolor": "#2a3f5f"
            },
            "baxis": {
             "endlinecolor": "#2a3f5f",
             "gridcolor": "white",
             "linecolor": "white",
             "minorgridcolor": "white",
             "startlinecolor": "#2a3f5f"
            },
            "type": "carpet"
           }
          ],
          "choropleth": [
           {
            "colorbar": {
             "outlinewidth": 0,
             "ticks": ""
            },
            "type": "choropleth"
           }
          ],
          "contour": [
           {
            "colorbar": {
             "outlinewidth": 0,
             "ticks": ""
            },
            "colorscale": [
             [
              0,
              "#0d0887"
             ],
             [
              0.1111111111111111,
              "#46039f"
             ],
             [
              0.2222222222222222,
              "#7201a8"
             ],
             [
              0.3333333333333333,
              "#9c179e"
             ],
             [
              0.4444444444444444,
              "#bd3786"
             ],
             [
              0.5555555555555556,
              "#d8576b"
             ],
             [
              0.6666666666666666,
              "#ed7953"
             ],
             [
              0.7777777777777778,
              "#fb9f3a"
             ],
             [
              0.8888888888888888,
              "#fdca26"
             ],
             [
              1,
              "#f0f921"
             ]
            ],
            "type": "contour"
           }
          ],
          "contourcarpet": [
           {
            "colorbar": {
             "outlinewidth": 0,
             "ticks": ""
            },
            "type": "contourcarpet"
           }
          ],
          "heatmap": [
           {
            "colorbar": {
             "outlinewidth": 0,
             "ticks": ""
            },
            "colorscale": [
             [
              0,
              "#0d0887"
             ],
             [
              0.1111111111111111,
              "#46039f"
             ],
             [
              0.2222222222222222,
              "#7201a8"
             ],
             [
              0.3333333333333333,
              "#9c179e"
             ],
             [
              0.4444444444444444,
              "#bd3786"
             ],
             [
              0.5555555555555556,
              "#d8576b"
             ],
             [
              0.6666666666666666,
              "#ed7953"
             ],
             [
              0.7777777777777778,
              "#fb9f3a"
             ],
             [
              0.8888888888888888,
              "#fdca26"
             ],
             [
              1,
              "#f0f921"
             ]
            ],
            "type": "heatmap"
           }
          ],
          "heatmapgl": [
           {
            "colorbar": {
             "outlinewidth": 0,
             "ticks": ""
            },
            "colorscale": [
             [
              0,
              "#0d0887"
             ],
             [
              0.1111111111111111,
              "#46039f"
             ],
             [
              0.2222222222222222,
              "#7201a8"
             ],
             [
              0.3333333333333333,
              "#9c179e"
             ],
             [
              0.4444444444444444,
              "#bd3786"
             ],
             [
              0.5555555555555556,
              "#d8576b"
             ],
             [
              0.6666666666666666,
              "#ed7953"
             ],
             [
              0.7777777777777778,
              "#fb9f3a"
             ],
             [
              0.8888888888888888,
              "#fdca26"
             ],
             [
              1,
              "#f0f921"
             ]
            ],
            "type": "heatmapgl"
           }
          ],
          "histogram": [
           {
            "marker": {
             "colorbar": {
              "outlinewidth": 0,
              "ticks": ""
             }
            },
            "type": "histogram"
           }
          ],
          "histogram2d": [
           {
            "colorbar": {
             "outlinewidth": 0,
             "ticks": ""
            },
            "colorscale": [
             [
              0,
              "#0d0887"
             ],
             [
              0.1111111111111111,
              "#46039f"
             ],
             [
              0.2222222222222222,
              "#7201a8"
             ],
             [
              0.3333333333333333,
              "#9c179e"
             ],
             [
              0.4444444444444444,
              "#bd3786"
             ],
             [
              0.5555555555555556,
              "#d8576b"
             ],
             [
              0.6666666666666666,
              "#ed7953"
             ],
             [
              0.7777777777777778,
              "#fb9f3a"
             ],
             [
              0.8888888888888888,
              "#fdca26"
             ],
             [
              1,
              "#f0f921"
             ]
            ],
            "type": "histogram2d"
           }
          ],
          "histogram2dcontour": [
           {
            "colorbar": {
             "outlinewidth": 0,
             "ticks": ""
            },
            "colorscale": [
             [
              0,
              "#0d0887"
             ],
             [
              0.1111111111111111,
              "#46039f"
             ],
             [
              0.2222222222222222,
              "#7201a8"
             ],
             [
              0.3333333333333333,
              "#9c179e"
             ],
             [
              0.4444444444444444,
              "#bd3786"
             ],
             [
              0.5555555555555556,
              "#d8576b"
             ],
             [
              0.6666666666666666,
              "#ed7953"
             ],
             [
              0.7777777777777778,
              "#fb9f3a"
             ],
             [
              0.8888888888888888,
              "#fdca26"
             ],
             [
              1,
              "#f0f921"
             ]
            ],
            "type": "histogram2dcontour"
           }
          ],
          "mesh3d": [
           {
            "colorbar": {
             "outlinewidth": 0,
             "ticks": ""
            },
            "type": "mesh3d"
           }
          ],
          "parcoords": [
           {
            "line": {
             "colorbar": {
              "outlinewidth": 0,
              "ticks": ""
             }
            },
            "type": "parcoords"
           }
          ],
          "pie": [
           {
            "automargin": true,
            "type": "pie"
           }
          ],
          "scatter": [
           {
            "marker": {
             "colorbar": {
              "outlinewidth": 0,
              "ticks": ""
             }
            },
            "type": "scatter"
           }
          ],
          "scatter3d": [
           {
            "line": {
             "colorbar": {
              "outlinewidth": 0,
              "ticks": ""
             }
            },
            "marker": {
             "colorbar": {
              "outlinewidth": 0,
              "ticks": ""
             }
            },
            "type": "scatter3d"
           }
          ],
          "scattercarpet": [
           {
            "marker": {
             "colorbar": {
              "outlinewidth": 0,
              "ticks": ""
             }
            },
            "type": "scattercarpet"
           }
          ],
          "scattergeo": [
           {
            "marker": {
             "colorbar": {
              "outlinewidth": 0,
              "ticks": ""
             }
            },
            "type": "scattergeo"
           }
          ],
          "scattergl": [
           {
            "marker": {
             "colorbar": {
              "outlinewidth": 0,
              "ticks": ""
             }
            },
            "type": "scattergl"
           }
          ],
          "scattermapbox": [
           {
            "marker": {
             "colorbar": {
              "outlinewidth": 0,
              "ticks": ""
             }
            },
            "type": "scattermapbox"
           }
          ],
          "scatterpolar": [
           {
            "marker": {
             "colorbar": {
              "outlinewidth": 0,
              "ticks": ""
             }
            },
            "type": "scatterpolar"
           }
          ],
          "scatterpolargl": [
           {
            "marker": {
             "colorbar": {
              "outlinewidth": 0,
              "ticks": ""
             }
            },
            "type": "scatterpolargl"
           }
          ],
          "scatterternary": [
           {
            "marker": {
             "colorbar": {
              "outlinewidth": 0,
              "ticks": ""
             }
            },
            "type": "scatterternary"
           }
          ],
          "surface": [
           {
            "colorbar": {
             "outlinewidth": 0,
             "ticks": ""
            },
            "colorscale": [
             [
              0,
              "#0d0887"
             ],
             [
              0.1111111111111111,
              "#46039f"
             ],
             [
              0.2222222222222222,
              "#7201a8"
             ],
             [
              0.3333333333333333,
              "#9c179e"
             ],
             [
              0.4444444444444444,
              "#bd3786"
             ],
             [
              0.5555555555555556,
              "#d8576b"
             ],
             [
              0.6666666666666666,
              "#ed7953"
             ],
             [
              0.7777777777777778,
              "#fb9f3a"
             ],
             [
              0.8888888888888888,
              "#fdca26"
             ],
             [
              1,
              "#f0f921"
             ]
            ],
            "type": "surface"
           }
          ],
          "table": [
           {
            "cells": {
             "fill": {
              "color": "#EBF0F8"
             },
             "line": {
              "color": "white"
             }
            },
            "header": {
             "fill": {
              "color": "#C8D4E3"
             },
             "line": {
              "color": "white"
             }
            },
            "type": "table"
           }
          ]
         },
         "layout": {
          "annotationdefaults": {
           "arrowcolor": "#2a3f5f",
           "arrowhead": 0,
           "arrowwidth": 1
          },
          "autotypenumbers": "strict",
          "coloraxis": {
           "colorbar": {
            "outlinewidth": 0,
            "ticks": ""
           }
          },
          "colorscale": {
           "diverging": [
            [
             0,
             "#8e0152"
            ],
            [
             0.1,
             "#c51b7d"
            ],
            [
             0.2,
             "#de77ae"
            ],
            [
             0.3,
             "#f1b6da"
            ],
            [
             0.4,
             "#fde0ef"
            ],
            [
             0.5,
             "#f7f7f7"
            ],
            [
             0.6,
             "#e6f5d0"
            ],
            [
             0.7,
             "#b8e186"
            ],
            [
             0.8,
             "#7fbc41"
            ],
            [
             0.9,
             "#4d9221"
            ],
            [
             1,
             "#276419"
            ]
           ],
           "sequential": [
            [
             0,
             "#0d0887"
            ],
            [
             0.1111111111111111,
             "#46039f"
            ],
            [
             0.2222222222222222,
             "#7201a8"
            ],
            [
             0.3333333333333333,
             "#9c179e"
            ],
            [
             0.4444444444444444,
             "#bd3786"
            ],
            [
             0.5555555555555556,
             "#d8576b"
            ],
            [
             0.6666666666666666,
             "#ed7953"
            ],
            [
             0.7777777777777778,
             "#fb9f3a"
            ],
            [
             0.8888888888888888,
             "#fdca26"
            ],
            [
             1,
             "#f0f921"
            ]
           ],
           "sequentialminus": [
            [
             0,
             "#0d0887"
            ],
            [
             0.1111111111111111,
             "#46039f"
            ],
            [
             0.2222222222222222,
             "#7201a8"
            ],
            [
             0.3333333333333333,
             "#9c179e"
            ],
            [
             0.4444444444444444,
             "#bd3786"
            ],
            [
             0.5555555555555556,
             "#d8576b"
            ],
            [
             0.6666666666666666,
             "#ed7953"
            ],
            [
             0.7777777777777778,
             "#fb9f3a"
            ],
            [
             0.8888888888888888,
             "#fdca26"
            ],
            [
             1,
             "#f0f921"
            ]
           ]
          },
          "colorway": [
           "#636efa",
           "#EF553B",
           "#00cc96",
           "#ab63fa",
           "#FFA15A",
           "#19d3f3",
           "#FF6692",
           "#B6E880",
           "#FF97FF",
           "#FECB52"
          ],
          "font": {
           "color": "#2a3f5f"
          },
          "geo": {
           "bgcolor": "white",
           "lakecolor": "white",
           "landcolor": "#E5ECF6",
           "showlakes": true,
           "showland": true,
           "subunitcolor": "white"
          },
          "hoverlabel": {
           "align": "left"
          },
          "hovermode": "closest",
          "mapbox": {
           "style": "light"
          },
          "paper_bgcolor": "white",
          "plot_bgcolor": "#E5ECF6",
          "polar": {
           "angularaxis": {
            "gridcolor": "white",
            "linecolor": "white",
            "ticks": ""
           },
           "bgcolor": "#E5ECF6",
           "radialaxis": {
            "gridcolor": "white",
            "linecolor": "white",
            "ticks": ""
           }
          },
          "scene": {
           "xaxis": {
            "backgroundcolor": "#E5ECF6",
            "gridcolor": "white",
            "gridwidth": 2,
            "linecolor": "white",
            "showbackground": true,
            "ticks": "",
            "zerolinecolor": "white"
           },
           "yaxis": {
            "backgroundcolor": "#E5ECF6",
            "gridcolor": "white",
            "gridwidth": 2,
            "linecolor": "white",
            "showbackground": true,
            "ticks": "",
            "zerolinecolor": "white"
           },
           "zaxis": {
            "backgroundcolor": "#E5ECF6",
            "gridcolor": "white",
            "gridwidth": 2,
            "linecolor": "white",
            "showbackground": true,
            "ticks": "",
            "zerolinecolor": "white"
           }
          },
          "shapedefaults": {
           "line": {
            "color": "#2a3f5f"
           }
          },
          "ternary": {
           "aaxis": {
            "gridcolor": "white",
            "linecolor": "white",
            "ticks": ""
           },
           "baxis": {
            "gridcolor": "white",
            "linecolor": "white",
            "ticks": ""
           },
           "bgcolor": "#E5ECF6",
           "caxis": {
            "gridcolor": "white",
            "linecolor": "white",
            "ticks": ""
           }
          },
          "title": {
           "x": 0.05
          },
          "xaxis": {
           "automargin": true,
           "gridcolor": "white",
           "linecolor": "white",
           "ticks": "",
           "title": {
            "standoff": 15
           },
           "zerolinecolor": "white",
           "zerolinewidth": 2
          },
          "yaxis": {
           "automargin": true,
           "gridcolor": "white",
           "linecolor": "white",
           "ticks": "",
           "title": {
            "standoff": 15
           },
           "zerolinecolor": "white",
           "zerolinewidth": 2
          }
         }
        },
        "yaxis": {
         "showgrid": false,
         "zeroline": false
        }
       }
      },
      "text/html": [
       "<div>                            <div id=\"d5f672f0-ba47-42cb-a530-7a632e2ac177\" class=\"plotly-graph-div\" style=\"height:525px; width:100%;\"></div>            <script type=\"text/javascript\">                require([\"plotly\"], function(Plotly) {                    window.PLOTLYENV=window.PLOTLYENV || {};                                    if (document.getElementById(\"d5f672f0-ba47-42cb-a530-7a632e2ac177\")) {                    Plotly.newPlot(                        \"d5f672f0-ba47-42cb-a530-7a632e2ac177\",                        [{\"boxpoints\": \"all\", \"name\": \"\\ud55c\\uad6d\\uc778 \\uba54\\uc774\\uc800\\ub9ac\\uac70\\uc758 KBO \\uc2dc\\uc808 \\ud1b5\\uc0b0\\ud0c0\\uc728\", \"text\": [\"\\uc774\\ub984: \\uac15\\uc815\\ud638<br>\\ud0c0\\uc728: 0.298\", \"\\uc774\\ub984: \\uae40\\ud558\\uc131<br>\\ud0c0\\uc728: 0.294\", \"\\uc774\\ub984: \\uae40\\ud604\\uc218<br>\\ud0c0\\uc728: 0.322\", \"\\uc774\\ub984: \\ubc15\\ubcd1\\ud638<br>\\ud0c0\\uc728: 0.283\", \"\\uc774\\ub984: \\uc774\\ub300\\ud638<br>\\ud0c0\\uc728: 0.309\", \"\\uc774\\ub984: \\ucd5c\\ud76c\\uc12d<br>\\ud0c0\\uc728: 0.281\", \"\\uc774\\ub984: \\ud669\\uc7ac\\uade0<br>\\ud0c0\\uc728: 0.289\"], \"type\": \"box\", \"y\": [0.298, 0.294, 0.322, 0.283, 0.309, 0.281, 0.289]}, {\"boxpoints\": \"all\", \"name\": \"2020\\ub144 \\uc0c1\\uc704 10\\uba85\\uc758 \\ud0c0\\uc790 \\ud1b5\\uc0b0\\ud0c0\\uc728\", \"text\": [\"\\uc774\\ub984: \\ucd5c\\ud615\\uc6b0<br>\\ud0c0\\uc728: 0.321\", \"\\uc774\\ub984: \\uc190\\uc544\\uc12d<br>\\ud0c0\\uc728: 0.325\", \"\\uc774\\ub984: \\ubc15\\ubbfc\\uc6b0<br>\\ud0c0\\uc728: 0.33\", \"\\uc774\\ub984: \\ud398\\ub974\\ub09c\\ub370\\uc2a4<br>\\ud0c0\\uc728: 0.342\", \"\\uc774\\ub984: \\uc774\\uc815\\ud6c4<br>\\ud0c0\\uc728: 0.336\", \"\\uc774\\ub984: \\ud5c8\\uacbd\\ubbfc<br>\\ud0c0\\uc728: 0.296\", \"\\uc774\\ub984: \\uae40\\ud604\\uc218<br>\\ud0c0\\uc728: 0.322\", \"\\uc774\\ub984: \\uac15\\ubc31\\ud638<br>\\ud0c0\\uc728: 0.317\", \"\\uc774\\ub984: \\uc591\\uc758\\uc9c0<br>\\ud0c0\\uc728: 0.307\"], \"type\": \"box\", \"y\": [0.321, 0.325, 0.33, 0.342, 0.336, 0.296, 0.322, 0.317, 0.307]}],                        {\"plot_bgcolor\": \"rgb(245, 245, 245)\", \"template\": {\"data\": {\"bar\": [{\"error_x\": {\"color\": \"#2a3f5f\"}, \"error_y\": {\"color\": \"#2a3f5f\"}, \"marker\": {\"line\": {\"color\": \"#E5ECF6\", \"width\": 0.5}}, \"type\": \"bar\"}], \"barpolar\": [{\"marker\": {\"line\": {\"color\": \"#E5ECF6\", \"width\": 0.5}}, \"type\": \"barpolar\"}], \"carpet\": [{\"aaxis\": {\"endlinecolor\": \"#2a3f5f\", \"gridcolor\": \"white\", \"linecolor\": \"white\", \"minorgridcolor\": \"white\", \"startlinecolor\": \"#2a3f5f\"}, \"baxis\": {\"endlinecolor\": \"#2a3f5f\", \"gridcolor\": \"white\", \"linecolor\": \"white\", \"minorgridcolor\": \"white\", \"startlinecolor\": \"#2a3f5f\"}, \"type\": \"carpet\"}], \"choropleth\": [{\"colorbar\": {\"outlinewidth\": 0, \"ticks\": \"\"}, \"type\": \"choropleth\"}], \"contour\": [{\"colorbar\": {\"outlinewidth\": 0, \"ticks\": \"\"}, \"colorscale\": [[0.0, \"#0d0887\"], [0.1111111111111111, \"#46039f\"], [0.2222222222222222, \"#7201a8\"], [0.3333333333333333, \"#9c179e\"], [0.4444444444444444, \"#bd3786\"], [0.5555555555555556, \"#d8576b\"], [0.6666666666666666, \"#ed7953\"], [0.7777777777777778, \"#fb9f3a\"], [0.8888888888888888, \"#fdca26\"], [1.0, \"#f0f921\"]], \"type\": \"contour\"}], \"contourcarpet\": [{\"colorbar\": {\"outlinewidth\": 0, \"ticks\": \"\"}, \"type\": \"contourcarpet\"}], \"heatmap\": [{\"colorbar\": {\"outlinewidth\": 0, \"ticks\": \"\"}, \"colorscale\": [[0.0, \"#0d0887\"], [0.1111111111111111, \"#46039f\"], [0.2222222222222222, \"#7201a8\"], [0.3333333333333333, \"#9c179e\"], [0.4444444444444444, \"#bd3786\"], [0.5555555555555556, \"#d8576b\"], [0.6666666666666666, \"#ed7953\"], [0.7777777777777778, \"#fb9f3a\"], [0.8888888888888888, \"#fdca26\"], [1.0, \"#f0f921\"]], \"type\": \"heatmap\"}], \"heatmapgl\": [{\"colorbar\": {\"outlinewidth\": 0, \"ticks\": \"\"}, \"colorscale\": [[0.0, \"#0d0887\"], [0.1111111111111111, \"#46039f\"], [0.2222222222222222, \"#7201a8\"], [0.3333333333333333, \"#9c179e\"], [0.4444444444444444, \"#bd3786\"], [0.5555555555555556, \"#d8576b\"], [0.6666666666666666, \"#ed7953\"], [0.7777777777777778, \"#fb9f3a\"], [0.8888888888888888, \"#fdca26\"], [1.0, \"#f0f921\"]], \"type\": \"heatmapgl\"}], \"histogram\": [{\"marker\": {\"colorbar\": {\"outlinewidth\": 0, \"ticks\": \"\"}}, \"type\": \"histogram\"}], \"histogram2d\": [{\"colorbar\": {\"outlinewidth\": 0, \"ticks\": \"\"}, \"colorscale\": [[0.0, \"#0d0887\"], [0.1111111111111111, \"#46039f\"], [0.2222222222222222, \"#7201a8\"], [0.3333333333333333, \"#9c179e\"], [0.4444444444444444, \"#bd3786\"], [0.5555555555555556, \"#d8576b\"], [0.6666666666666666, \"#ed7953\"], [0.7777777777777778, \"#fb9f3a\"], [0.8888888888888888, \"#fdca26\"], [1.0, \"#f0f921\"]], \"type\": \"histogram2d\"}], \"histogram2dcontour\": [{\"colorbar\": {\"outlinewidth\": 0, \"ticks\": \"\"}, \"colorscale\": [[0.0, \"#0d0887\"], [0.1111111111111111, \"#46039f\"], [0.2222222222222222, \"#7201a8\"], [0.3333333333333333, \"#9c179e\"], [0.4444444444444444, \"#bd3786\"], [0.5555555555555556, \"#d8576b\"], [0.6666666666666666, \"#ed7953\"], [0.7777777777777778, \"#fb9f3a\"], [0.8888888888888888, \"#fdca26\"], [1.0, \"#f0f921\"]], \"type\": \"histogram2dcontour\"}], \"mesh3d\": [{\"colorbar\": {\"outlinewidth\": 0, \"ticks\": \"\"}, \"type\": \"mesh3d\"}], \"parcoords\": [{\"line\": {\"colorbar\": {\"outlinewidth\": 0, \"ticks\": \"\"}}, \"type\": \"parcoords\"}], \"pie\": [{\"automargin\": true, \"type\": \"pie\"}], \"scatter\": [{\"marker\": {\"colorbar\": {\"outlinewidth\": 0, \"ticks\": \"\"}}, \"type\": \"scatter\"}], \"scatter3d\": [{\"line\": {\"colorbar\": {\"outlinewidth\": 0, \"ticks\": \"\"}}, \"marker\": {\"colorbar\": {\"outlinewidth\": 0, \"ticks\": \"\"}}, \"type\": \"scatter3d\"}], \"scattercarpet\": [{\"marker\": {\"colorbar\": {\"outlinewidth\": 0, \"ticks\": \"\"}}, \"type\": \"scattercarpet\"}], \"scattergeo\": [{\"marker\": {\"colorbar\": {\"outlinewidth\": 0, \"ticks\": \"\"}}, \"type\": \"scattergeo\"}], \"scattergl\": [{\"marker\": {\"colorbar\": {\"outlinewidth\": 0, \"ticks\": \"\"}}, \"type\": \"scattergl\"}], \"scattermapbox\": [{\"marker\": {\"colorbar\": {\"outlinewidth\": 0, \"ticks\": \"\"}}, \"type\": \"scattermapbox\"}], \"scatterpolar\": [{\"marker\": {\"colorbar\": {\"outlinewidth\": 0, \"ticks\": \"\"}}, \"type\": \"scatterpolar\"}], \"scatterpolargl\": [{\"marker\": {\"colorbar\": {\"outlinewidth\": 0, \"ticks\": \"\"}}, \"type\": \"scatterpolargl\"}], \"scatterternary\": [{\"marker\": {\"colorbar\": {\"outlinewidth\": 0, \"ticks\": \"\"}}, \"type\": \"scatterternary\"}], \"surface\": [{\"colorbar\": {\"outlinewidth\": 0, \"ticks\": \"\"}, \"colorscale\": [[0.0, \"#0d0887\"], [0.1111111111111111, \"#46039f\"], [0.2222222222222222, \"#7201a8\"], [0.3333333333333333, \"#9c179e\"], [0.4444444444444444, \"#bd3786\"], [0.5555555555555556, \"#d8576b\"], [0.6666666666666666, \"#ed7953\"], [0.7777777777777778, \"#fb9f3a\"], [0.8888888888888888, \"#fdca26\"], [1.0, \"#f0f921\"]], \"type\": \"surface\"}], \"table\": [{\"cells\": {\"fill\": {\"color\": \"#EBF0F8\"}, \"line\": {\"color\": \"white\"}}, \"header\": {\"fill\": {\"color\": \"#C8D4E3\"}, \"line\": {\"color\": \"white\"}}, \"type\": \"table\"}]}, \"layout\": {\"annotationdefaults\": {\"arrowcolor\": \"#2a3f5f\", \"arrowhead\": 0, \"arrowwidth\": 1}, \"autotypenumbers\": \"strict\", \"coloraxis\": {\"colorbar\": {\"outlinewidth\": 0, \"ticks\": \"\"}}, \"colorscale\": {\"diverging\": [[0, \"#8e0152\"], [0.1, \"#c51b7d\"], [0.2, \"#de77ae\"], [0.3, \"#f1b6da\"], [0.4, \"#fde0ef\"], [0.5, \"#f7f7f7\"], [0.6, \"#e6f5d0\"], [0.7, \"#b8e186\"], [0.8, \"#7fbc41\"], [0.9, \"#4d9221\"], [1, \"#276419\"]], \"sequential\": [[0.0, \"#0d0887\"], [0.1111111111111111, \"#46039f\"], [0.2222222222222222, \"#7201a8\"], [0.3333333333333333, \"#9c179e\"], [0.4444444444444444, \"#bd3786\"], [0.5555555555555556, \"#d8576b\"], [0.6666666666666666, \"#ed7953\"], [0.7777777777777778, \"#fb9f3a\"], [0.8888888888888888, \"#fdca26\"], [1.0, \"#f0f921\"]], \"sequentialminus\": [[0.0, \"#0d0887\"], [0.1111111111111111, \"#46039f\"], [0.2222222222222222, \"#7201a8\"], [0.3333333333333333, \"#9c179e\"], [0.4444444444444444, \"#bd3786\"], [0.5555555555555556, \"#d8576b\"], [0.6666666666666666, \"#ed7953\"], [0.7777777777777778, \"#fb9f3a\"], [0.8888888888888888, \"#fdca26\"], [1.0, \"#f0f921\"]]}, \"colorway\": [\"#636efa\", \"#EF553B\", \"#00cc96\", \"#ab63fa\", \"#FFA15A\", \"#19d3f3\", \"#FF6692\", \"#B6E880\", \"#FF97FF\", \"#FECB52\"], \"font\": {\"color\": \"#2a3f5f\"}, \"geo\": {\"bgcolor\": \"white\", \"lakecolor\": \"white\", \"landcolor\": \"#E5ECF6\", \"showlakes\": true, \"showland\": true, \"subunitcolor\": \"white\"}, \"hoverlabel\": {\"align\": \"left\"}, \"hovermode\": \"closest\", \"mapbox\": {\"style\": \"light\"}, \"paper_bgcolor\": \"white\", \"plot_bgcolor\": \"#E5ECF6\", \"polar\": {\"angularaxis\": {\"gridcolor\": \"white\", \"linecolor\": \"white\", \"ticks\": \"\"}, \"bgcolor\": \"#E5ECF6\", \"radialaxis\": {\"gridcolor\": \"white\", \"linecolor\": \"white\", \"ticks\": \"\"}}, \"scene\": {\"xaxis\": {\"backgroundcolor\": \"#E5ECF6\", \"gridcolor\": \"white\", \"gridwidth\": 2, \"linecolor\": \"white\", \"showbackground\": true, \"ticks\": \"\", \"zerolinecolor\": \"white\"}, \"yaxis\": {\"backgroundcolor\": \"#E5ECF6\", \"gridcolor\": \"white\", \"gridwidth\": 2, \"linecolor\": \"white\", \"showbackground\": true, \"ticks\": \"\", \"zerolinecolor\": \"white\"}, \"zaxis\": {\"backgroundcolor\": \"#E5ECF6\", \"gridcolor\": \"white\", \"gridwidth\": 2, \"linecolor\": \"white\", \"showbackground\": true, \"ticks\": \"\", \"zerolinecolor\": \"white\"}}, \"shapedefaults\": {\"line\": {\"color\": \"#2a3f5f\"}}, \"ternary\": {\"aaxis\": {\"gridcolor\": \"white\", \"linecolor\": \"white\", \"ticks\": \"\"}, \"baxis\": {\"gridcolor\": \"white\", \"linecolor\": \"white\", \"ticks\": \"\"}, \"bgcolor\": \"#E5ECF6\", \"caxis\": {\"gridcolor\": \"white\", \"linecolor\": \"white\", \"ticks\": \"\"}}, \"title\": {\"x\": 0.05}, \"xaxis\": {\"automargin\": true, \"gridcolor\": \"white\", \"linecolor\": \"white\", \"ticks\": \"\", \"title\": {\"standoff\": 15}, \"zerolinecolor\": \"white\", \"zerolinewidth\": 2}, \"yaxis\": {\"automargin\": true, \"gridcolor\": \"white\", \"linecolor\": \"white\", \"ticks\": \"\", \"title\": {\"standoff\": 15}, \"zerolinecolor\": \"white\", \"zerolinewidth\": 2}}}, \"yaxis\": {\"showgrid\": false, \"zeroline\": false}},                        {\"responsive\": true}                    ).then(function(){\n",
       "                            \n",
       "var gd = document.getElementById('d5f672f0-ba47-42cb-a530-7a632e2ac177');\n",
       "var x = new MutationObserver(function (mutations, observer) {{\n",
       "        var display = window.getComputedStyle(gd).display;\n",
       "        if (!display || display === 'none') {{\n",
       "            console.log([gd, 'removed!']);\n",
       "            Plotly.purge(gd);\n",
       "            observer.disconnect();\n",
       "        }}\n",
       "}});\n",
       "\n",
       "// Listen for the removal of the full notebook cells\n",
       "var notebookContainer = gd.closest('#notebook-container');\n",
       "if (notebookContainer) {{\n",
       "    x.observe(notebookContainer, {childList: true});\n",
       "}}\n",
       "\n",
       "// Listen for the clearing of the current output cell\n",
       "var outputEl = gd.closest('.output');\n",
       "if (outputEl) {{\n",
       "    x.observe(outputEl, {childList: true});\n",
       "}}\n",
       "\n",
       "                        })                };                });            </script>        </div>"
      ]
     },
     "metadata": {},
     "output_type": "display_data"
    }
   ],
   "source": [
    "hitter_majorleaguer_df_by_career = pd.DataFrame(columns=['이름', '타율'])\n",
    "top10_hitter_df_by_career = pd.DataFrame(columns=['이름', '타율'])\n",
    "\n",
    "for idx, name in enumerate(hitter_majorleaguer['Name']):\n",
    "    #print(korean_majorleaguer_dict[name])\n",
    "    temp_data = [name, float(korean_majorleaguer_dict[name].iloc[korean_majorleaguer_dict[name].shape[0]-1]['타율'])]\n",
    "    hitter_majorleaguer_df_by_career.loc[idx] = temp_data\n",
    "    \n",
    "for idx, name in enumerate(top10_hitter_dict.keys()):\n",
    "    temp_data = [name, float(top10_hitter_dict[name].iloc[top10_hitter_dict[name].shape[0]-1]['타율'])]\n",
    "    top10_hitter_df_by_career.loc[idx] = temp_data\n",
    "    \n",
    "hovertemplate_ = hitter_majorleaguer_df_by_career['이름'].to_list()\n",
    "\n",
    "fig = go.Figure()\n",
    "fig.add_trace(go.Box(y=hitter_majorleaguer_df_by_career['타율'],\n",
    "                     boxpoints='all',\n",
    "                    name='한국인 메이저리거의 KBO 시절 통산타율',\n",
    "                     text=['이름: {}<br>타율: {}'.format(x, y) for x, y in zip(hitter_majorleaguer_df_by_career['이름'],\n",
    "                                                                           hitter_majorleaguer_df_by_career['타율'])]))\n",
    "fig.add_trace(go.Box(y=top10_hitter_df_by_career['타율'],\n",
    "                     boxpoints='all',\n",
    "                    name='2020년 상위 10명의 타자 통산타율',\n",
    "                    text=['이름: {}<br>타율: {}'.format(x, y) for x, y in zip(top10_hitter_df_by_career['이름'],\n",
    "                                                                          top10_hitter_df_by_career['타율'])]))\n",
    "\n",
    "fig.update_yaxes(showgrid=False, zeroline=False)\n",
    "fig.update_layout(plot_bgcolor='rgb(245, 245, 245)')\n",
    "fig.show()"
   ]
  },
  {
   "cell_type": "code",
   "execution_count": 170,
   "metadata": {},
   "outputs": [
    {
     "data": {
      "application/vnd.plotly.v1+json": {
       "config": {
        "plotlyServerURL": "https://plot.ly"
       },
       "data": [
        {
         "marker": {
          "color": "blue"
         },
         "mode": "markers",
         "name": "강정호",
         "type": "scatter",
         "x": [
          2006,
          2007,
          2008,
          2009,
          2010,
          2011,
          2012,
          2013,
          2014
         ],
         "y": [
          0.15,
          0.133,
          0.271,
          0.286,
          0.301,
          0.282,
          0.314,
          0.291,
          0.356
         ]
        },
        {
         "marker": {
          "color": "blue"
         },
         "mode": "markers",
         "name": "김하성",
         "type": "scatter",
         "x": [
          2014,
          2015,
          2016,
          2017,
          2018,
          2019,
          2020
         ],
         "y": [
          0.188,
          0.29,
          0.281,
          0.302,
          0.288,
          0.307,
          0.306
         ]
        },
        {
         "marker": {
          "color": "blue"
         },
         "mode": "markers",
         "name": "김현수",
         "type": "scatter",
         "x": [
          2006,
          2007,
          2008,
          2009,
          2010,
          2011,
          2012,
          2013,
          2014,
          2015,
          2018,
          2019,
          2020
         ],
         "y": [
          0,
          0.273,
          0.357,
          0.357,
          0.317,
          0.301,
          0.291,
          0.302,
          0.322,
          0.326,
          0.362,
          0.304,
          0.331
         ]
        },
        {
         "marker": {
          "color": "blue"
         },
         "mode": "markers",
         "name": "박병호",
         "type": "scatter",
         "x": [
          2005,
          2006,
          2009,
          2010,
          2011,
          2012,
          2013,
          2014,
          2015,
          2018,
          2019,
          2020
         ],
         "y": [
          0.19,
          0.162,
          0.218,
          0.188,
          0.254,
          0.29,
          0.318,
          0.303,
          0.343,
          0.345,
          0.28,
          0.223
         ]
        },
        {
         "marker": {
          "color": "blue"
         },
         "mode": "markers",
         "name": "이대호",
         "type": "scatter",
         "x": [
          2001,
          2002,
          2003,
          2004,
          2005,
          2006,
          2007,
          2008,
          2009,
          2010,
          2011,
          2017,
          2018,
          2019,
          2020
         ],
         "y": [
          0.5,
          0.278,
          0.243,
          0.248,
          0.266,
          0.336,
          0.335,
          0.301,
          0.293,
          0.364,
          0.357,
          0.32,
          0.333,
          0.285,
          0.292
         ]
        },
        {
         "marker": {
          "color": "blue"
         },
         "mode": "markers",
         "name": "최희섭",
         "type": "scatter",
         "x": [
          2007,
          2008,
          2009,
          2010,
          2011,
          2012,
          2013,
          2015
         ],
         "y": [
          0.337,
          0.229,
          0.308,
          0.286,
          0.281,
          0.252,
          0.258,
          0.256
         ]
        },
        {
         "marker": {
          "color": "blue"
         },
         "mode": "markers",
         "name": "황재균",
         "type": "scatter",
         "x": [
          2007,
          2008,
          2009,
          2010,
          2011,
          2012,
          2013,
          2014,
          2015,
          2016,
          2018,
          2019,
          2020
         ],
         "y": [
          0.3,
          0.239,
          0.284,
          0.225,
          0.289,
          0.272,
          0.274,
          0.321,
          0.29,
          0.335,
          0.296,
          0.283,
          0.312
         ]
        },
        {
         "marker": {
          "color": "red"
         },
         "mode": "markers",
         "name": "최형우",
         "type": "scatter",
         "x": [
          2002,
          2004,
          2008,
          2009,
          2010,
          2011,
          2012,
          2013,
          2014,
          2015,
          2016,
          2017,
          2018,
          2019,
          2020
         ],
         "y": [
          0.4,
          0,
          0.276,
          0.284,
          0.279,
          0.34,
          0.271,
          0.305,
          0.356,
          0.318,
          0.376,
          0.342,
          0.339,
          0.3,
          0.354
         ]
        },
        {
         "marker": {
          "color": "red"
         },
         "mode": "markers",
         "name": "손아섭",
         "type": "scatter",
         "x": [
          2007,
          2008,
          2009,
          2010,
          2011,
          2012,
          2013,
          2014,
          2015,
          2016,
          2017,
          2018,
          2019,
          2020
         ],
         "y": [
          0.167,
          0.303,
          0.186,
          0.306,
          0.326,
          0.314,
          0.345,
          0.362,
          0.317,
          0.323,
          0.335,
          0.329,
          0.295,
          0.352
         ]
        },
        {
         "marker": {
          "color": "red"
         },
         "mode": "markers",
         "name": "박민우",
         "type": "scatter",
         "x": [
          2013,
          2014,
          2015,
          2016,
          2017,
          2018,
          2019,
          2020
         ],
         "y": [
          0.268,
          0.298,
          0.304,
          0.343,
          0.363,
          0.324,
          0.344,
          0.345
         ]
        },
        {
         "marker": {
          "color": "red"
         },
         "mode": "markers",
         "name": "페르난데스",
         "type": "scatter",
         "x": [
          2019,
          2020
         ],
         "y": [
          0.344,
          0.34
         ]
        },
        {
         "marker": {
          "color": "red"
         },
         "mode": "markers",
         "name": "이정후",
         "type": "scatter",
         "x": [
          2017,
          2018,
          2019,
          2020
         ],
         "y": [
          0.324,
          0.355,
          0.336,
          0.333
         ]
        },
        {
         "marker": {
          "color": "red"
         },
         "mode": "markers",
         "name": "허경민",
         "type": "scatter",
         "x": [
          2012,
          2013,
          2014,
          2015,
          2016,
          2017,
          2018,
          2019,
          2020
         ],
         "y": [
          0.266,
          0.298,
          0.247,
          0.317,
          0.286,
          0.257,
          0.324,
          0.288,
          0.332
         ]
        },
        {
         "marker": {
          "color": "red"
         },
         "mode": "markers",
         "name": "김현수",
         "type": "scatter",
         "x": [
          2006,
          2007,
          2008,
          2009,
          2010,
          2011,
          2012,
          2013,
          2014,
          2015,
          2018,
          2019,
          2020
         ],
         "y": [
          0,
          0.273,
          0.357,
          0.357,
          0.317,
          0.301,
          0.291,
          0.302,
          0.322,
          0.326,
          0.362,
          0.304,
          0.331
         ]
        },
        {
         "marker": {
          "color": "red"
         },
         "mode": "markers",
         "name": "강백호",
         "type": "scatter",
         "x": [
          2018,
          2019,
          2020
         ],
         "y": [
          0.29,
          0.336,
          0.33
         ]
        },
        {
         "marker": {
          "color": "red"
         },
         "mode": "markers",
         "name": "양의지",
         "type": "scatter",
         "x": [
          2007,
          2010,
          2011,
          2012,
          2013,
          2014,
          2015,
          2016,
          2017,
          2018,
          2019,
          2020
         ],
         "y": [
          0,
          0.267,
          0.301,
          0.279,
          0.248,
          0.294,
          0.326,
          0.319,
          0.277,
          0.358,
          0.354,
          0.328
         ]
        }
       ],
       "layout": {
        "plot_bgcolor": "rgb(245, 245, 245)",
        "showlegend": false,
        "template": {
         "data": {
          "bar": [
           {
            "error_x": {
             "color": "#2a3f5f"
            },
            "error_y": {
             "color": "#2a3f5f"
            },
            "marker": {
             "line": {
              "color": "#E5ECF6",
              "width": 0.5
             }
            },
            "type": "bar"
           }
          ],
          "barpolar": [
           {
            "marker": {
             "line": {
              "color": "#E5ECF6",
              "width": 0.5
             }
            },
            "type": "barpolar"
           }
          ],
          "carpet": [
           {
            "aaxis": {
             "endlinecolor": "#2a3f5f",
             "gridcolor": "white",
             "linecolor": "white",
             "minorgridcolor": "white",
             "startlinecolor": "#2a3f5f"
            },
            "baxis": {
             "endlinecolor": "#2a3f5f",
             "gridcolor": "white",
             "linecolor": "white",
             "minorgridcolor": "white",
             "startlinecolor": "#2a3f5f"
            },
            "type": "carpet"
           }
          ],
          "choropleth": [
           {
            "colorbar": {
             "outlinewidth": 0,
             "ticks": ""
            },
            "type": "choropleth"
           }
          ],
          "contour": [
           {
            "colorbar": {
             "outlinewidth": 0,
             "ticks": ""
            },
            "colorscale": [
             [
              0,
              "#0d0887"
             ],
             [
              0.1111111111111111,
              "#46039f"
             ],
             [
              0.2222222222222222,
              "#7201a8"
             ],
             [
              0.3333333333333333,
              "#9c179e"
             ],
             [
              0.4444444444444444,
              "#bd3786"
             ],
             [
              0.5555555555555556,
              "#d8576b"
             ],
             [
              0.6666666666666666,
              "#ed7953"
             ],
             [
              0.7777777777777778,
              "#fb9f3a"
             ],
             [
              0.8888888888888888,
              "#fdca26"
             ],
             [
              1,
              "#f0f921"
             ]
            ],
            "type": "contour"
           }
          ],
          "contourcarpet": [
           {
            "colorbar": {
             "outlinewidth": 0,
             "ticks": ""
            },
            "type": "contourcarpet"
           }
          ],
          "heatmap": [
           {
            "colorbar": {
             "outlinewidth": 0,
             "ticks": ""
            },
            "colorscale": [
             [
              0,
              "#0d0887"
             ],
             [
              0.1111111111111111,
              "#46039f"
             ],
             [
              0.2222222222222222,
              "#7201a8"
             ],
             [
              0.3333333333333333,
              "#9c179e"
             ],
             [
              0.4444444444444444,
              "#bd3786"
             ],
             [
              0.5555555555555556,
              "#d8576b"
             ],
             [
              0.6666666666666666,
              "#ed7953"
             ],
             [
              0.7777777777777778,
              "#fb9f3a"
             ],
             [
              0.8888888888888888,
              "#fdca26"
             ],
             [
              1,
              "#f0f921"
             ]
            ],
            "type": "heatmap"
           }
          ],
          "heatmapgl": [
           {
            "colorbar": {
             "outlinewidth": 0,
             "ticks": ""
            },
            "colorscale": [
             [
              0,
              "#0d0887"
             ],
             [
              0.1111111111111111,
              "#46039f"
             ],
             [
              0.2222222222222222,
              "#7201a8"
             ],
             [
              0.3333333333333333,
              "#9c179e"
             ],
             [
              0.4444444444444444,
              "#bd3786"
             ],
             [
              0.5555555555555556,
              "#d8576b"
             ],
             [
              0.6666666666666666,
              "#ed7953"
             ],
             [
              0.7777777777777778,
              "#fb9f3a"
             ],
             [
              0.8888888888888888,
              "#fdca26"
             ],
             [
              1,
              "#f0f921"
             ]
            ],
            "type": "heatmapgl"
           }
          ],
          "histogram": [
           {
            "marker": {
             "colorbar": {
              "outlinewidth": 0,
              "ticks": ""
             }
            },
            "type": "histogram"
           }
          ],
          "histogram2d": [
           {
            "colorbar": {
             "outlinewidth": 0,
             "ticks": ""
            },
            "colorscale": [
             [
              0,
              "#0d0887"
             ],
             [
              0.1111111111111111,
              "#46039f"
             ],
             [
              0.2222222222222222,
              "#7201a8"
             ],
             [
              0.3333333333333333,
              "#9c179e"
             ],
             [
              0.4444444444444444,
              "#bd3786"
             ],
             [
              0.5555555555555556,
              "#d8576b"
             ],
             [
              0.6666666666666666,
              "#ed7953"
             ],
             [
              0.7777777777777778,
              "#fb9f3a"
             ],
             [
              0.8888888888888888,
              "#fdca26"
             ],
             [
              1,
              "#f0f921"
             ]
            ],
            "type": "histogram2d"
           }
          ],
          "histogram2dcontour": [
           {
            "colorbar": {
             "outlinewidth": 0,
             "ticks": ""
            },
            "colorscale": [
             [
              0,
              "#0d0887"
             ],
             [
              0.1111111111111111,
              "#46039f"
             ],
             [
              0.2222222222222222,
              "#7201a8"
             ],
             [
              0.3333333333333333,
              "#9c179e"
             ],
             [
              0.4444444444444444,
              "#bd3786"
             ],
             [
              0.5555555555555556,
              "#d8576b"
             ],
             [
              0.6666666666666666,
              "#ed7953"
             ],
             [
              0.7777777777777778,
              "#fb9f3a"
             ],
             [
              0.8888888888888888,
              "#fdca26"
             ],
             [
              1,
              "#f0f921"
             ]
            ],
            "type": "histogram2dcontour"
           }
          ],
          "mesh3d": [
           {
            "colorbar": {
             "outlinewidth": 0,
             "ticks": ""
            },
            "type": "mesh3d"
           }
          ],
          "parcoords": [
           {
            "line": {
             "colorbar": {
              "outlinewidth": 0,
              "ticks": ""
             }
            },
            "type": "parcoords"
           }
          ],
          "pie": [
           {
            "automargin": true,
            "type": "pie"
           }
          ],
          "scatter": [
           {
            "marker": {
             "colorbar": {
              "outlinewidth": 0,
              "ticks": ""
             }
            },
            "type": "scatter"
           }
          ],
          "scatter3d": [
           {
            "line": {
             "colorbar": {
              "outlinewidth": 0,
              "ticks": ""
             }
            },
            "marker": {
             "colorbar": {
              "outlinewidth": 0,
              "ticks": ""
             }
            },
            "type": "scatter3d"
           }
          ],
          "scattercarpet": [
           {
            "marker": {
             "colorbar": {
              "outlinewidth": 0,
              "ticks": ""
             }
            },
            "type": "scattercarpet"
           }
          ],
          "scattergeo": [
           {
            "marker": {
             "colorbar": {
              "outlinewidth": 0,
              "ticks": ""
             }
            },
            "type": "scattergeo"
           }
          ],
          "scattergl": [
           {
            "marker": {
             "colorbar": {
              "outlinewidth": 0,
              "ticks": ""
             }
            },
            "type": "scattergl"
           }
          ],
          "scattermapbox": [
           {
            "marker": {
             "colorbar": {
              "outlinewidth": 0,
              "ticks": ""
             }
            },
            "type": "scattermapbox"
           }
          ],
          "scatterpolar": [
           {
            "marker": {
             "colorbar": {
              "outlinewidth": 0,
              "ticks": ""
             }
            },
            "type": "scatterpolar"
           }
          ],
          "scatterpolargl": [
           {
            "marker": {
             "colorbar": {
              "outlinewidth": 0,
              "ticks": ""
             }
            },
            "type": "scatterpolargl"
           }
          ],
          "scatterternary": [
           {
            "marker": {
             "colorbar": {
              "outlinewidth": 0,
              "ticks": ""
             }
            },
            "type": "scatterternary"
           }
          ],
          "surface": [
           {
            "colorbar": {
             "outlinewidth": 0,
             "ticks": ""
            },
            "colorscale": [
             [
              0,
              "#0d0887"
             ],
             [
              0.1111111111111111,
              "#46039f"
             ],
             [
              0.2222222222222222,
              "#7201a8"
             ],
             [
              0.3333333333333333,
              "#9c179e"
             ],
             [
              0.4444444444444444,
              "#bd3786"
             ],
             [
              0.5555555555555556,
              "#d8576b"
             ],
             [
              0.6666666666666666,
              "#ed7953"
             ],
             [
              0.7777777777777778,
              "#fb9f3a"
             ],
             [
              0.8888888888888888,
              "#fdca26"
             ],
             [
              1,
              "#f0f921"
             ]
            ],
            "type": "surface"
           }
          ],
          "table": [
           {
            "cells": {
             "fill": {
              "color": "#EBF0F8"
             },
             "line": {
              "color": "white"
             }
            },
            "header": {
             "fill": {
              "color": "#C8D4E3"
             },
             "line": {
              "color": "white"
             }
            },
            "type": "table"
           }
          ]
         },
         "layout": {
          "annotationdefaults": {
           "arrowcolor": "#2a3f5f",
           "arrowhead": 0,
           "arrowwidth": 1
          },
          "autotypenumbers": "strict",
          "coloraxis": {
           "colorbar": {
            "outlinewidth": 0,
            "ticks": ""
           }
          },
          "colorscale": {
           "diverging": [
            [
             0,
             "#8e0152"
            ],
            [
             0.1,
             "#c51b7d"
            ],
            [
             0.2,
             "#de77ae"
            ],
            [
             0.3,
             "#f1b6da"
            ],
            [
             0.4,
             "#fde0ef"
            ],
            [
             0.5,
             "#f7f7f7"
            ],
            [
             0.6,
             "#e6f5d0"
            ],
            [
             0.7,
             "#b8e186"
            ],
            [
             0.8,
             "#7fbc41"
            ],
            [
             0.9,
             "#4d9221"
            ],
            [
             1,
             "#276419"
            ]
           ],
           "sequential": [
            [
             0,
             "#0d0887"
            ],
            [
             0.1111111111111111,
             "#46039f"
            ],
            [
             0.2222222222222222,
             "#7201a8"
            ],
            [
             0.3333333333333333,
             "#9c179e"
            ],
            [
             0.4444444444444444,
             "#bd3786"
            ],
            [
             0.5555555555555556,
             "#d8576b"
            ],
            [
             0.6666666666666666,
             "#ed7953"
            ],
            [
             0.7777777777777778,
             "#fb9f3a"
            ],
            [
             0.8888888888888888,
             "#fdca26"
            ],
            [
             1,
             "#f0f921"
            ]
           ],
           "sequentialminus": [
            [
             0,
             "#0d0887"
            ],
            [
             0.1111111111111111,
             "#46039f"
            ],
            [
             0.2222222222222222,
             "#7201a8"
            ],
            [
             0.3333333333333333,
             "#9c179e"
            ],
            [
             0.4444444444444444,
             "#bd3786"
            ],
            [
             0.5555555555555556,
             "#d8576b"
            ],
            [
             0.6666666666666666,
             "#ed7953"
            ],
            [
             0.7777777777777778,
             "#fb9f3a"
            ],
            [
             0.8888888888888888,
             "#fdca26"
            ],
            [
             1,
             "#f0f921"
            ]
           ]
          },
          "colorway": [
           "#636efa",
           "#EF553B",
           "#00cc96",
           "#ab63fa",
           "#FFA15A",
           "#19d3f3",
           "#FF6692",
           "#B6E880",
           "#FF97FF",
           "#FECB52"
          ],
          "font": {
           "color": "#2a3f5f"
          },
          "geo": {
           "bgcolor": "white",
           "lakecolor": "white",
           "landcolor": "#E5ECF6",
           "showlakes": true,
           "showland": true,
           "subunitcolor": "white"
          },
          "hoverlabel": {
           "align": "left"
          },
          "hovermode": "closest",
          "mapbox": {
           "style": "light"
          },
          "paper_bgcolor": "white",
          "plot_bgcolor": "#E5ECF6",
          "polar": {
           "angularaxis": {
            "gridcolor": "white",
            "linecolor": "white",
            "ticks": ""
           },
           "bgcolor": "#E5ECF6",
           "radialaxis": {
            "gridcolor": "white",
            "linecolor": "white",
            "ticks": ""
           }
          },
          "scene": {
           "xaxis": {
            "backgroundcolor": "#E5ECF6",
            "gridcolor": "white",
            "gridwidth": 2,
            "linecolor": "white",
            "showbackground": true,
            "ticks": "",
            "zerolinecolor": "white"
           },
           "yaxis": {
            "backgroundcolor": "#E5ECF6",
            "gridcolor": "white",
            "gridwidth": 2,
            "linecolor": "white",
            "showbackground": true,
            "ticks": "",
            "zerolinecolor": "white"
           },
           "zaxis": {
            "backgroundcolor": "#E5ECF6",
            "gridcolor": "white",
            "gridwidth": 2,
            "linecolor": "white",
            "showbackground": true,
            "ticks": "",
            "zerolinecolor": "white"
           }
          },
          "shapedefaults": {
           "line": {
            "color": "#2a3f5f"
           }
          },
          "ternary": {
           "aaxis": {
            "gridcolor": "white",
            "linecolor": "white",
            "ticks": ""
           },
           "baxis": {
            "gridcolor": "white",
            "linecolor": "white",
            "ticks": ""
           },
           "bgcolor": "#E5ECF6",
           "caxis": {
            "gridcolor": "white",
            "linecolor": "white",
            "ticks": ""
           }
          },
          "title": {
           "x": 0.05
          },
          "xaxis": {
           "automargin": true,
           "gridcolor": "white",
           "linecolor": "white",
           "ticks": "",
           "title": {
            "standoff": 15
           },
           "zerolinecolor": "white",
           "zerolinewidth": 2
          },
          "yaxis": {
           "automargin": true,
           "gridcolor": "white",
           "linecolor": "white",
           "ticks": "",
           "title": {
            "standoff": 15
           },
           "zerolinecolor": "white",
           "zerolinewidth": 2
          }
         }
        },
        "xaxis": {
         "showgrid": false,
         "zeroline": false
        },
        "yaxis": {
         "showgrid": false,
         "zeroline": false
        }
       }
      },
      "text/html": [
       "<div>                            <div id=\"8b77dd4f-32eb-4bbe-b49d-f058a81d9065\" class=\"plotly-graph-div\" style=\"height:525px; width:100%;\"></div>            <script type=\"text/javascript\">                require([\"plotly\"], function(Plotly) {                    window.PLOTLYENV=window.PLOTLYENV || {};                                    if (document.getElementById(\"8b77dd4f-32eb-4bbe-b49d-f058a81d9065\")) {                    Plotly.newPlot(                        \"8b77dd4f-32eb-4bbe-b49d-f058a81d9065\",                        [{\"marker\": {\"color\": \"blue\"}, \"mode\": \"markers\", \"name\": \"\\uac15\\uc815\\ud638\", \"type\": \"scatter\", \"x\": [2006, 2007, 2008, 2009, 2010, 2011, 2012, 2013, 2014], \"y\": [0.15, 0.133, 0.271, 0.286, 0.301, 0.282, 0.314, 0.291, 0.356]}, {\"marker\": {\"color\": \"blue\"}, \"mode\": \"markers\", \"name\": \"\\uae40\\ud558\\uc131\", \"type\": \"scatter\", \"x\": [2014, 2015, 2016, 2017, 2018, 2019, 2020], \"y\": [0.188, 0.29, 0.281, 0.302, 0.288, 0.307, 0.306]}, {\"marker\": {\"color\": \"blue\"}, \"mode\": \"markers\", \"name\": \"\\uae40\\ud604\\uc218\", \"type\": \"scatter\", \"x\": [2006, 2007, 2008, 2009, 2010, 2011, 2012, 2013, 2014, 2015, 2018, 2019, 2020], \"y\": [0.0, 0.273, 0.357, 0.357, 0.317, 0.301, 0.291, 0.302, 0.322, 0.326, 0.362, 0.304, 0.331]}, {\"marker\": {\"color\": \"blue\"}, \"mode\": \"markers\", \"name\": \"\\ubc15\\ubcd1\\ud638\", \"type\": \"scatter\", \"x\": [2005, 2006, 2009, 2010, 2011, 2012, 2013, 2014, 2015, 2018, 2019, 2020], \"y\": [0.19, 0.162, 0.218, 0.188, 0.254, 0.29, 0.318, 0.303, 0.343, 0.345, 0.28, 0.223]}, {\"marker\": {\"color\": \"blue\"}, \"mode\": \"markers\", \"name\": \"\\uc774\\ub300\\ud638\", \"type\": \"scatter\", \"x\": [2001, 2002, 2003, 2004, 2005, 2006, 2007, 2008, 2009, 2010, 2011, 2017, 2018, 2019, 2020], \"y\": [0.5, 0.278, 0.243, 0.248, 0.266, 0.336, 0.335, 0.301, 0.293, 0.364, 0.357, 0.32, 0.333, 0.285, 0.292]}, {\"marker\": {\"color\": \"blue\"}, \"mode\": \"markers\", \"name\": \"\\ucd5c\\ud76c\\uc12d\", \"type\": \"scatter\", \"x\": [2007, 2008, 2009, 2010, 2011, 2012, 2013, 2015], \"y\": [0.337, 0.229, 0.308, 0.286, 0.281, 0.252, 0.258, 0.256]}, {\"marker\": {\"color\": \"blue\"}, \"mode\": \"markers\", \"name\": \"\\ud669\\uc7ac\\uade0\", \"type\": \"scatter\", \"x\": [2007, 2008, 2009, 2010, 2011, 2012, 2013, 2014, 2015, 2016, 2018, 2019, 2020], \"y\": [0.3, 0.239, 0.284, 0.225, 0.289, 0.272, 0.274, 0.321, 0.29, 0.335, 0.296, 0.283, 0.312]}, {\"marker\": {\"color\": \"red\"}, \"mode\": \"markers\", \"name\": \"\\ucd5c\\ud615\\uc6b0\", \"type\": \"scatter\", \"x\": [2002, 2004, 2008, 2009, 2010, 2011, 2012, 2013, 2014, 2015, 2016, 2017, 2018, 2019, 2020], \"y\": [0.4, 0.0, 0.276, 0.284, 0.279, 0.34, 0.271, 0.305, 0.356, 0.318, 0.376, 0.342, 0.339, 0.3, 0.354]}, {\"marker\": {\"color\": \"red\"}, \"mode\": \"markers\", \"name\": \"\\uc190\\uc544\\uc12d\", \"type\": \"scatter\", \"x\": [2007, 2008, 2009, 2010, 2011, 2012, 2013, 2014, 2015, 2016, 2017, 2018, 2019, 2020], \"y\": [0.167, 0.303, 0.186, 0.306, 0.326, 0.314, 0.345, 0.362, 0.317, 0.323, 0.335, 0.329, 0.295, 0.352]}, {\"marker\": {\"color\": \"red\"}, \"mode\": \"markers\", \"name\": \"\\ubc15\\ubbfc\\uc6b0\", \"type\": \"scatter\", \"x\": [2013, 2014, 2015, 2016, 2017, 2018, 2019, 2020], \"y\": [0.268, 0.298, 0.304, 0.343, 0.363, 0.324, 0.344, 0.345]}, {\"marker\": {\"color\": \"red\"}, \"mode\": \"markers\", \"name\": \"\\ud398\\ub974\\ub09c\\ub370\\uc2a4\", \"type\": \"scatter\", \"x\": [2019, 2020], \"y\": [0.344, 0.34]}, {\"marker\": {\"color\": \"red\"}, \"mode\": \"markers\", \"name\": \"\\uc774\\uc815\\ud6c4\", \"type\": \"scatter\", \"x\": [2017, 2018, 2019, 2020], \"y\": [0.324, 0.355, 0.336, 0.333]}, {\"marker\": {\"color\": \"red\"}, \"mode\": \"markers\", \"name\": \"\\ud5c8\\uacbd\\ubbfc\", \"type\": \"scatter\", \"x\": [2012, 2013, 2014, 2015, 2016, 2017, 2018, 2019, 2020], \"y\": [0.266, 0.298, 0.247, 0.317, 0.286, 0.257, 0.324, 0.288, 0.332]}, {\"marker\": {\"color\": \"red\"}, \"mode\": \"markers\", \"name\": \"\\uae40\\ud604\\uc218\", \"type\": \"scatter\", \"x\": [2006, 2007, 2008, 2009, 2010, 2011, 2012, 2013, 2014, 2015, 2018, 2019, 2020], \"y\": [0.0, 0.273, 0.357, 0.357, 0.317, 0.301, 0.291, 0.302, 0.322, 0.326, 0.362, 0.304, 0.331]}, {\"marker\": {\"color\": \"red\"}, \"mode\": \"markers\", \"name\": \"\\uac15\\ubc31\\ud638\", \"type\": \"scatter\", \"x\": [2018, 2019, 2020], \"y\": [0.29, 0.336, 0.33]}, {\"marker\": {\"color\": \"red\"}, \"mode\": \"markers\", \"name\": \"\\uc591\\uc758\\uc9c0\", \"type\": \"scatter\", \"x\": [2007, 2010, 2011, 2012, 2013, 2014, 2015, 2016, 2017, 2018, 2019, 2020], \"y\": [0.0, 0.267, 0.301, 0.279, 0.248, 0.294, 0.326, 0.319, 0.277, 0.358, 0.354, 0.328]}],                        {\"plot_bgcolor\": \"rgb(245, 245, 245)\", \"showlegend\": false, \"template\": {\"data\": {\"bar\": [{\"error_x\": {\"color\": \"#2a3f5f\"}, \"error_y\": {\"color\": \"#2a3f5f\"}, \"marker\": {\"line\": {\"color\": \"#E5ECF6\", \"width\": 0.5}}, \"type\": \"bar\"}], \"barpolar\": [{\"marker\": {\"line\": {\"color\": \"#E5ECF6\", \"width\": 0.5}}, \"type\": \"barpolar\"}], \"carpet\": [{\"aaxis\": {\"endlinecolor\": \"#2a3f5f\", \"gridcolor\": \"white\", \"linecolor\": \"white\", \"minorgridcolor\": \"white\", \"startlinecolor\": \"#2a3f5f\"}, \"baxis\": {\"endlinecolor\": \"#2a3f5f\", \"gridcolor\": \"white\", \"linecolor\": \"white\", \"minorgridcolor\": \"white\", \"startlinecolor\": \"#2a3f5f\"}, \"type\": \"carpet\"}], \"choropleth\": [{\"colorbar\": {\"outlinewidth\": 0, \"ticks\": \"\"}, \"type\": \"choropleth\"}], \"contour\": [{\"colorbar\": {\"outlinewidth\": 0, \"ticks\": \"\"}, \"colorscale\": [[0.0, \"#0d0887\"], [0.1111111111111111, \"#46039f\"], [0.2222222222222222, \"#7201a8\"], [0.3333333333333333, \"#9c179e\"], [0.4444444444444444, \"#bd3786\"], [0.5555555555555556, \"#d8576b\"], [0.6666666666666666, \"#ed7953\"], [0.7777777777777778, \"#fb9f3a\"], [0.8888888888888888, \"#fdca26\"], [1.0, \"#f0f921\"]], \"type\": \"contour\"}], \"contourcarpet\": [{\"colorbar\": {\"outlinewidth\": 0, \"ticks\": \"\"}, \"type\": \"contourcarpet\"}], \"heatmap\": [{\"colorbar\": {\"outlinewidth\": 0, \"ticks\": \"\"}, \"colorscale\": [[0.0, \"#0d0887\"], [0.1111111111111111, \"#46039f\"], [0.2222222222222222, \"#7201a8\"], [0.3333333333333333, \"#9c179e\"], [0.4444444444444444, \"#bd3786\"], [0.5555555555555556, \"#d8576b\"], [0.6666666666666666, \"#ed7953\"], [0.7777777777777778, \"#fb9f3a\"], [0.8888888888888888, \"#fdca26\"], [1.0, \"#f0f921\"]], \"type\": \"heatmap\"}], \"heatmapgl\": [{\"colorbar\": {\"outlinewidth\": 0, \"ticks\": \"\"}, \"colorscale\": [[0.0, \"#0d0887\"], [0.1111111111111111, \"#46039f\"], [0.2222222222222222, \"#7201a8\"], [0.3333333333333333, \"#9c179e\"], [0.4444444444444444, \"#bd3786\"], [0.5555555555555556, \"#d8576b\"], [0.6666666666666666, \"#ed7953\"], [0.7777777777777778, \"#fb9f3a\"], [0.8888888888888888, \"#fdca26\"], [1.0, \"#f0f921\"]], \"type\": \"heatmapgl\"}], \"histogram\": [{\"marker\": {\"colorbar\": {\"outlinewidth\": 0, \"ticks\": \"\"}}, \"type\": \"histogram\"}], \"histogram2d\": [{\"colorbar\": {\"outlinewidth\": 0, \"ticks\": \"\"}, \"colorscale\": [[0.0, \"#0d0887\"], [0.1111111111111111, \"#46039f\"], [0.2222222222222222, \"#7201a8\"], [0.3333333333333333, \"#9c179e\"], [0.4444444444444444, \"#bd3786\"], [0.5555555555555556, \"#d8576b\"], [0.6666666666666666, \"#ed7953\"], [0.7777777777777778, \"#fb9f3a\"], [0.8888888888888888, \"#fdca26\"], [1.0, \"#f0f921\"]], \"type\": \"histogram2d\"}], \"histogram2dcontour\": [{\"colorbar\": {\"outlinewidth\": 0, \"ticks\": \"\"}, \"colorscale\": [[0.0, \"#0d0887\"], [0.1111111111111111, \"#46039f\"], [0.2222222222222222, \"#7201a8\"], [0.3333333333333333, \"#9c179e\"], [0.4444444444444444, \"#bd3786\"], [0.5555555555555556, \"#d8576b\"], [0.6666666666666666, \"#ed7953\"], [0.7777777777777778, \"#fb9f3a\"], [0.8888888888888888, \"#fdca26\"], [1.0, \"#f0f921\"]], \"type\": \"histogram2dcontour\"}], \"mesh3d\": [{\"colorbar\": {\"outlinewidth\": 0, \"ticks\": \"\"}, \"type\": \"mesh3d\"}], \"parcoords\": [{\"line\": {\"colorbar\": {\"outlinewidth\": 0, \"ticks\": \"\"}}, \"type\": \"parcoords\"}], \"pie\": [{\"automargin\": true, \"type\": \"pie\"}], \"scatter\": [{\"marker\": {\"colorbar\": {\"outlinewidth\": 0, \"ticks\": \"\"}}, \"type\": \"scatter\"}], \"scatter3d\": [{\"line\": {\"colorbar\": {\"outlinewidth\": 0, \"ticks\": \"\"}}, \"marker\": {\"colorbar\": {\"outlinewidth\": 0, \"ticks\": \"\"}}, \"type\": \"scatter3d\"}], \"scattercarpet\": [{\"marker\": {\"colorbar\": {\"outlinewidth\": 0, \"ticks\": \"\"}}, \"type\": \"scattercarpet\"}], \"scattergeo\": [{\"marker\": {\"colorbar\": {\"outlinewidth\": 0, \"ticks\": \"\"}}, \"type\": \"scattergeo\"}], \"scattergl\": [{\"marker\": {\"colorbar\": {\"outlinewidth\": 0, \"ticks\": \"\"}}, \"type\": \"scattergl\"}], \"scattermapbox\": [{\"marker\": {\"colorbar\": {\"outlinewidth\": 0, \"ticks\": \"\"}}, \"type\": \"scattermapbox\"}], \"scatterpolar\": [{\"marker\": {\"colorbar\": {\"outlinewidth\": 0, \"ticks\": \"\"}}, \"type\": \"scatterpolar\"}], \"scatterpolargl\": [{\"marker\": {\"colorbar\": {\"outlinewidth\": 0, \"ticks\": \"\"}}, \"type\": \"scatterpolargl\"}], \"scatterternary\": [{\"marker\": {\"colorbar\": {\"outlinewidth\": 0, \"ticks\": \"\"}}, \"type\": \"scatterternary\"}], \"surface\": [{\"colorbar\": {\"outlinewidth\": 0, \"ticks\": \"\"}, \"colorscale\": [[0.0, \"#0d0887\"], [0.1111111111111111, \"#46039f\"], [0.2222222222222222, \"#7201a8\"], [0.3333333333333333, \"#9c179e\"], [0.4444444444444444, \"#bd3786\"], [0.5555555555555556, \"#d8576b\"], [0.6666666666666666, \"#ed7953\"], [0.7777777777777778, \"#fb9f3a\"], [0.8888888888888888, \"#fdca26\"], [1.0, \"#f0f921\"]], \"type\": \"surface\"}], \"table\": [{\"cells\": {\"fill\": {\"color\": \"#EBF0F8\"}, \"line\": {\"color\": \"white\"}}, \"header\": {\"fill\": {\"color\": \"#C8D4E3\"}, \"line\": {\"color\": \"white\"}}, \"type\": \"table\"}]}, \"layout\": {\"annotationdefaults\": {\"arrowcolor\": \"#2a3f5f\", \"arrowhead\": 0, \"arrowwidth\": 1}, \"autotypenumbers\": \"strict\", \"coloraxis\": {\"colorbar\": {\"outlinewidth\": 0, \"ticks\": \"\"}}, \"colorscale\": {\"diverging\": [[0, \"#8e0152\"], [0.1, \"#c51b7d\"], [0.2, \"#de77ae\"], [0.3, \"#f1b6da\"], [0.4, \"#fde0ef\"], [0.5, \"#f7f7f7\"], [0.6, \"#e6f5d0\"], [0.7, \"#b8e186\"], [0.8, \"#7fbc41\"], [0.9, \"#4d9221\"], [1, \"#276419\"]], \"sequential\": [[0.0, \"#0d0887\"], [0.1111111111111111, \"#46039f\"], [0.2222222222222222, \"#7201a8\"], [0.3333333333333333, \"#9c179e\"], [0.4444444444444444, \"#bd3786\"], [0.5555555555555556, \"#d8576b\"], [0.6666666666666666, \"#ed7953\"], [0.7777777777777778, \"#fb9f3a\"], [0.8888888888888888, \"#fdca26\"], [1.0, \"#f0f921\"]], \"sequentialminus\": [[0.0, \"#0d0887\"], [0.1111111111111111, \"#46039f\"], [0.2222222222222222, \"#7201a8\"], [0.3333333333333333, \"#9c179e\"], [0.4444444444444444, \"#bd3786\"], [0.5555555555555556, \"#d8576b\"], [0.6666666666666666, \"#ed7953\"], [0.7777777777777778, \"#fb9f3a\"], [0.8888888888888888, \"#fdca26\"], [1.0, \"#f0f921\"]]}, \"colorway\": [\"#636efa\", \"#EF553B\", \"#00cc96\", \"#ab63fa\", \"#FFA15A\", \"#19d3f3\", \"#FF6692\", \"#B6E880\", \"#FF97FF\", \"#FECB52\"], \"font\": {\"color\": \"#2a3f5f\"}, \"geo\": {\"bgcolor\": \"white\", \"lakecolor\": \"white\", \"landcolor\": \"#E5ECF6\", \"showlakes\": true, \"showland\": true, \"subunitcolor\": \"white\"}, \"hoverlabel\": {\"align\": \"left\"}, \"hovermode\": \"closest\", \"mapbox\": {\"style\": \"light\"}, \"paper_bgcolor\": \"white\", \"plot_bgcolor\": \"#E5ECF6\", \"polar\": {\"angularaxis\": {\"gridcolor\": \"white\", \"linecolor\": \"white\", \"ticks\": \"\"}, \"bgcolor\": \"#E5ECF6\", \"radialaxis\": {\"gridcolor\": \"white\", \"linecolor\": \"white\", \"ticks\": \"\"}}, \"scene\": {\"xaxis\": {\"backgroundcolor\": \"#E5ECF6\", \"gridcolor\": \"white\", \"gridwidth\": 2, \"linecolor\": \"white\", \"showbackground\": true, \"ticks\": \"\", \"zerolinecolor\": \"white\"}, \"yaxis\": {\"backgroundcolor\": \"#E5ECF6\", \"gridcolor\": \"white\", \"gridwidth\": 2, \"linecolor\": \"white\", \"showbackground\": true, \"ticks\": \"\", \"zerolinecolor\": \"white\"}, \"zaxis\": {\"backgroundcolor\": \"#E5ECF6\", \"gridcolor\": \"white\", \"gridwidth\": 2, \"linecolor\": \"white\", \"showbackground\": true, \"ticks\": \"\", \"zerolinecolor\": \"white\"}}, \"shapedefaults\": {\"line\": {\"color\": \"#2a3f5f\"}}, \"ternary\": {\"aaxis\": {\"gridcolor\": \"white\", \"linecolor\": \"white\", \"ticks\": \"\"}, \"baxis\": {\"gridcolor\": \"white\", \"linecolor\": \"white\", \"ticks\": \"\"}, \"bgcolor\": \"#E5ECF6\", \"caxis\": {\"gridcolor\": \"white\", \"linecolor\": \"white\", \"ticks\": \"\"}}, \"title\": {\"x\": 0.05}, \"xaxis\": {\"automargin\": true, \"gridcolor\": \"white\", \"linecolor\": \"white\", \"ticks\": \"\", \"title\": {\"standoff\": 15}, \"zerolinecolor\": \"white\", \"zerolinewidth\": 2}, \"yaxis\": {\"automargin\": true, \"gridcolor\": \"white\", \"linecolor\": \"white\", \"ticks\": \"\", \"title\": {\"standoff\": 15}, \"zerolinecolor\": \"white\", \"zerolinewidth\": 2}}}, \"xaxis\": {\"showgrid\": false, \"zeroline\": false}, \"yaxis\": {\"showgrid\": false, \"zeroline\": false}},                        {\"responsive\": true}                    ).then(function(){\n",
       "                            \n",
       "var gd = document.getElementById('8b77dd4f-32eb-4bbe-b49d-f058a81d9065');\n",
       "var x = new MutationObserver(function (mutations, observer) {{\n",
       "        var display = window.getComputedStyle(gd).display;\n",
       "        if (!display || display === 'none') {{\n",
       "            console.log([gd, 'removed!']);\n",
       "            Plotly.purge(gd);\n",
       "            observer.disconnect();\n",
       "        }}\n",
       "}});\n",
       "\n",
       "// Listen for the removal of the full notebook cells\n",
       "var notebookContainer = gd.closest('#notebook-container');\n",
       "if (notebookContainer) {{\n",
       "    x.observe(notebookContainer, {childList: true});\n",
       "}}\n",
       "\n",
       "// Listen for the clearing of the current output cell\n",
       "var outputEl = gd.closest('.output');\n",
       "if (outputEl) {{\n",
       "    x.observe(outputEl, {childList: true});\n",
       "}}\n",
       "\n",
       "                        })                };                });            </script>        </div>"
      ]
     },
     "metadata": {},
     "output_type": "display_data"
    }
   ],
   "source": [
    "x_data = []\n",
    "y_data = []\n",
    "\n",
    "fig = go.Figure()\n",
    "\n",
    "for idx, name in enumerate(hitter_majorleaguer['Name']):\n",
    "    fig.add_trace(go.Scatter(x=korean_majorleaguer_dict[name].iloc[:-1]['연도'].astype(int),\n",
    "                             y=korean_majorleaguer_dict[name].iloc[:-1]['타율'].astype(float),\n",
    "                             mode='markers',\n",
    "                             marker_color='blue',\n",
    "                            name='{}'.format(name)))\n",
    "    x_data.extend(korean_majorleaguer_dict[name].iloc[:-1]['연도'].astype(float).to_list())\n",
    "    y_data.extend(korean_majorleaguer_dict[name].iloc[:-1]['타율'].astype(float).to_list())\n",
    "    \n",
    "for idx, name in enumerate(top10_hitter_dict.keys()):\n",
    "    fig.add_trace(go.Scatter(x=top10_hitter_dict[name].iloc[:-1]['연도'].astype(int),\n",
    "                            y=top10_hitter_dict[name].iloc[:-1]['타율'].astype(float),\n",
    "                            mode='markers',\n",
    "                            marker_color='red',\n",
    "                            name='{}'.format(name)))\n",
    "    \n",
    "fig.update_yaxes(showgrid=False, zeroline=False)\n",
    "fig.update_xaxes(showgrid=False, zeroline=False)\n",
    "fig.update_layout(showlegend=False,\n",
    "                 plot_bgcolor='rgb(245, 245, 245)')\n",
    "fig.show()"
   ]
  },
  {
   "cell_type": "markdown",
   "metadata": {},
   "source": [
    "- <h3>타율에서는 메이저리거와 2020년 KBO 상위 10명의 타자 사이에서 뚜렷한 차이나 경향이 잘 파악되지 않는다...</h3>\n",
    "\n",
    "- <h3>'스마트 배이스볼'이라는 책에서 타율이 잘못된 지표로 심각한 결함을 가지고 있다고 하였는데 그 이유가 19세기에 타율이라는 용어가 만들어졌는데 그 당시 타자는 자신이 원하는 위치에 공을 던져달라고 요구할 수 있었고, 볼넷이 볼 네 개, 그리고 삼진이 스트라이크 세 개가 아니었던적도(1887년에는 스트라이크 네 개를 잡아야 아웃이었고, 1889년 이전까지는 볼 8~9개를 골라야 걸어나갈 수 있었다) 있었다고 한다. 즉, 그 당시 타자들은 홈런 보다는 볼을 맞추는 데 집중하였고 그에 따라 타율이 타자의 기량을 나타나는 데 충분했다. 그러나 현대 야구에서는 '출루율', '장타율' 등이 더 의미있는 지표라 할 수 있다.</h3>\n",
    "\n",
    "- <h3>출루율과 장타율로 비교해보자</h3>\n",
    "\n",
    "---"
   ]
  },
  {
   "cell_type": "markdown",
   "metadata": {},
   "source": [
    "<h2>출루율 비교</h2>\n",
    "<h3>한국인 메이저리거</h3>"
   ]
  },
  {
   "cell_type": "code",
   "execution_count": 171,
   "metadata": {},
   "outputs": [
    {
     "data": {
      "text/html": [
       "<div>\n",
       "<style scoped>\n",
       "    .dataframe tbody tr th:only-of-type {\n",
       "        vertical-align: middle;\n",
       "    }\n",
       "\n",
       "    .dataframe tbody tr th {\n",
       "        vertical-align: top;\n",
       "    }\n",
       "\n",
       "    .dataframe thead th {\n",
       "        text-align: right;\n",
       "    }\n",
       "</style>\n",
       "<table border=\"1\" class=\"dataframe\">\n",
       "  <thead>\n",
       "    <tr style=\"text-align: right;\">\n",
       "      <th></th>\n",
       "      <th>연도</th>\n",
       "      <th>팀명</th>\n",
       "      <th>타율</th>\n",
       "      <th>경기</th>\n",
       "      <th>타수</th>\n",
       "      <th>득점</th>\n",
       "      <th>안타</th>\n",
       "      <th>2루타</th>\n",
       "      <th>3루타</th>\n",
       "      <th>홈런</th>\n",
       "      <th>루타</th>\n",
       "      <th>타점</th>\n",
       "      <th>도루</th>\n",
       "      <th>도루실패</th>\n",
       "      <th>볼넷</th>\n",
       "      <th>사구</th>\n",
       "      <th>삼진</th>\n",
       "      <th>병살타</th>\n",
       "      <th>실책</th>\n",
       "    </tr>\n",
       "  </thead>\n",
       "  <tbody>\n",
       "    <tr>\n",
       "      <th>0</th>\n",
       "      <td>2006</td>\n",
       "      <td>현대</td>\n",
       "      <td>0.150</td>\n",
       "      <td>10</td>\n",
       "      <td>20</td>\n",
       "      <td>1</td>\n",
       "      <td>3</td>\n",
       "      <td>1</td>\n",
       "      <td>0</td>\n",
       "      <td>0</td>\n",
       "      <td>4</td>\n",
       "      <td>1</td>\n",
       "      <td>0</td>\n",
       "      <td>1</td>\n",
       "      <td>0</td>\n",
       "      <td>0</td>\n",
       "      <td>8</td>\n",
       "      <td>1</td>\n",
       "      <td>3</td>\n",
       "    </tr>\n",
       "    <tr>\n",
       "      <th>1</th>\n",
       "      <td>2007</td>\n",
       "      <td>현대</td>\n",
       "      <td>0.133</td>\n",
       "      <td>20</td>\n",
       "      <td>15</td>\n",
       "      <td>0</td>\n",
       "      <td>2</td>\n",
       "      <td>0</td>\n",
       "      <td>0</td>\n",
       "      <td>0</td>\n",
       "      <td>2</td>\n",
       "      <td>0</td>\n",
       "      <td>0</td>\n",
       "      <td>0</td>\n",
       "      <td>0</td>\n",
       "      <td>0</td>\n",
       "      <td>5</td>\n",
       "      <td>1</td>\n",
       "      <td>0</td>\n",
       "    </tr>\n",
       "    <tr>\n",
       "      <th>2</th>\n",
       "      <td>2008</td>\n",
       "      <td>우리</td>\n",
       "      <td>0.271</td>\n",
       "      <td>116</td>\n",
       "      <td>362</td>\n",
       "      <td>36</td>\n",
       "      <td>98</td>\n",
       "      <td>18</td>\n",
       "      <td>1</td>\n",
       "      <td>8</td>\n",
       "      <td>142</td>\n",
       "      <td>47</td>\n",
       "      <td>3</td>\n",
       "      <td>1</td>\n",
       "      <td>31</td>\n",
       "      <td>5</td>\n",
       "      <td>65</td>\n",
       "      <td>12</td>\n",
       "      <td>13</td>\n",
       "    </tr>\n",
       "    <tr>\n",
       "      <th>3</th>\n",
       "      <td>2009</td>\n",
       "      <td>히어로즈</td>\n",
       "      <td>0.286</td>\n",
       "      <td>133</td>\n",
       "      <td>476</td>\n",
       "      <td>73</td>\n",
       "      <td>136</td>\n",
       "      <td>33</td>\n",
       "      <td>2</td>\n",
       "      <td>23</td>\n",
       "      <td>242</td>\n",
       "      <td>81</td>\n",
       "      <td>3</td>\n",
       "      <td>2</td>\n",
       "      <td>45</td>\n",
       "      <td>4</td>\n",
       "      <td>81</td>\n",
       "      <td>18</td>\n",
       "      <td>15</td>\n",
       "    </tr>\n",
       "    <tr>\n",
       "      <th>4</th>\n",
       "      <td>2010</td>\n",
       "      <td>넥센</td>\n",
       "      <td>0.301</td>\n",
       "      <td>133</td>\n",
       "      <td>449</td>\n",
       "      <td>60</td>\n",
       "      <td>135</td>\n",
       "      <td>30</td>\n",
       "      <td>2</td>\n",
       "      <td>12</td>\n",
       "      <td>205</td>\n",
       "      <td>58</td>\n",
       "      <td>2</td>\n",
       "      <td>2</td>\n",
       "      <td>61</td>\n",
       "      <td>7</td>\n",
       "      <td>87</td>\n",
       "      <td>14</td>\n",
       "      <td>23</td>\n",
       "    </tr>\n",
       "    <tr>\n",
       "      <th>5</th>\n",
       "      <td>2011</td>\n",
       "      <td>넥센</td>\n",
       "      <td>0.282</td>\n",
       "      <td>123</td>\n",
       "      <td>444</td>\n",
       "      <td>53</td>\n",
       "      <td>125</td>\n",
       "      <td>22</td>\n",
       "      <td>2</td>\n",
       "      <td>9</td>\n",
       "      <td>178</td>\n",
       "      <td>63</td>\n",
       "      <td>4</td>\n",
       "      <td>6</td>\n",
       "      <td>43</td>\n",
       "      <td>9</td>\n",
       "      <td>62</td>\n",
       "      <td>12</td>\n",
       "      <td>13</td>\n",
       "    </tr>\n",
       "    <tr>\n",
       "      <th>6</th>\n",
       "      <td>2012</td>\n",
       "      <td>넥센</td>\n",
       "      <td>0.314</td>\n",
       "      <td>124</td>\n",
       "      <td>436</td>\n",
       "      <td>77</td>\n",
       "      <td>137</td>\n",
       "      <td>32</td>\n",
       "      <td>0</td>\n",
       "      <td>25</td>\n",
       "      <td>244</td>\n",
       "      <td>82</td>\n",
       "      <td>21</td>\n",
       "      <td>5</td>\n",
       "      <td>71</td>\n",
       "      <td>6</td>\n",
       "      <td>78</td>\n",
       "      <td>16</td>\n",
       "      <td>12</td>\n",
       "    </tr>\n",
       "    <tr>\n",
       "      <th>7</th>\n",
       "      <td>2013</td>\n",
       "      <td>넥센</td>\n",
       "      <td>0.291</td>\n",
       "      <td>126</td>\n",
       "      <td>450</td>\n",
       "      <td>67</td>\n",
       "      <td>131</td>\n",
       "      <td>21</td>\n",
       "      <td>1</td>\n",
       "      <td>22</td>\n",
       "      <td>220</td>\n",
       "      <td>96</td>\n",
       "      <td>15</td>\n",
       "      <td>8</td>\n",
       "      <td>68</td>\n",
       "      <td>6</td>\n",
       "      <td>109</td>\n",
       "      <td>18</td>\n",
       "      <td>15</td>\n",
       "    </tr>\n",
       "    <tr>\n",
       "      <th>8</th>\n",
       "      <td>2014</td>\n",
       "      <td>넥센</td>\n",
       "      <td>0.356</td>\n",
       "      <td>117</td>\n",
       "      <td>418</td>\n",
       "      <td>103</td>\n",
       "      <td>149</td>\n",
       "      <td>36</td>\n",
       "      <td>2</td>\n",
       "      <td>40</td>\n",
       "      <td>309</td>\n",
       "      <td>117</td>\n",
       "      <td>3</td>\n",
       "      <td>3</td>\n",
       "      <td>68</td>\n",
       "      <td>13</td>\n",
       "      <td>106</td>\n",
       "      <td>8</td>\n",
       "      <td>9</td>\n",
       "    </tr>\n",
       "    <tr>\n",
       "      <th>9</th>\n",
       "      <td>통산</td>\n",
       "      <td>통산</td>\n",
       "      <td>0.298</td>\n",
       "      <td>902</td>\n",
       "      <td>3070</td>\n",
       "      <td>470</td>\n",
       "      <td>916</td>\n",
       "      <td>193</td>\n",
       "      <td>10</td>\n",
       "      <td>139</td>\n",
       "      <td>1546</td>\n",
       "      <td>545</td>\n",
       "      <td>51</td>\n",
       "      <td>28</td>\n",
       "      <td>387</td>\n",
       "      <td>50</td>\n",
       "      <td>601</td>\n",
       "      <td>100</td>\n",
       "      <td>103</td>\n",
       "    </tr>\n",
       "  </tbody>\n",
       "</table>\n",
       "</div>"
      ],
      "text/plain": [
       "     연도    팀명     타율   경기    타수   득점   안타  2루타 3루타   홈런    루타   타점  도루 도루실패   볼넷  사구   삼진  병살타   실책\n",
       "0  2006    현대  0.150   10    20    1    3    1   0    0     4    1   0    1    0   0    8    1    3\n",
       "1  2007    현대  0.133   20    15    0    2    0   0    0     2    0   0    0    0   0    5    1    0\n",
       "2  2008    우리  0.271  116   362   36   98   18   1    8   142   47   3    1   31   5   65   12   13\n",
       "3  2009  히어로즈  0.286  133   476   73  136   33   2   23   242   81   3    2   45   4   81   18   15\n",
       "4  2010    넥센  0.301  133   449   60  135   30   2   12   205   58   2    2   61   7   87   14   23\n",
       "5  2011    넥센  0.282  123   444   53  125   22   2    9   178   63   4    6   43   9   62   12   13\n",
       "6  2012    넥센  0.314  124   436   77  137   32   0   25   244   82  21    5   71   6   78   16   12\n",
       "7  2013    넥센  0.291  126   450   67  131   21   1   22   220   96  15    8   68   6  109   18   15\n",
       "8  2014    넥센  0.356  117   418  103  149   36   2   40   309  117   3    3   68  13  106    8    9\n",
       "9    통산    통산  0.298  902  3070  470  916  193  10  139  1546  545  51   28  387  50  601  100  103"
      ]
     },
     "execution_count": 171,
     "metadata": {},
     "output_type": "execute_result"
    }
   ],
   "source": [
    "korean_majorleaguer_dict['강정호']"
   ]
  },
  {
   "cell_type": "code",
   "execution_count": 172,
   "metadata": {},
   "outputs": [
    {
     "data": {
      "text/html": [
       "<div>\n",
       "<style scoped>\n",
       "    .dataframe tbody tr th:only-of-type {\n",
       "        vertical-align: middle;\n",
       "    }\n",
       "\n",
       "    .dataframe tbody tr th {\n",
       "        vertical-align: top;\n",
       "    }\n",
       "\n",
       "    .dataframe thead th {\n",
       "        text-align: right;\n",
       "    }\n",
       "</style>\n",
       "<table border=\"1\" class=\"dataframe\">\n",
       "  <thead>\n",
       "    <tr style=\"text-align: right;\">\n",
       "      <th></th>\n",
       "      <th>연도</th>\n",
       "      <th>안타</th>\n",
       "      <th>볼넷</th>\n",
       "      <th>사구</th>\n",
       "      <th>타수</th>\n",
       "    </tr>\n",
       "  </thead>\n",
       "  <tbody>\n",
       "    <tr>\n",
       "      <th>0</th>\n",
       "      <td>2006</td>\n",
       "      <td>3</td>\n",
       "      <td>0</td>\n",
       "      <td>0</td>\n",
       "      <td>20</td>\n",
       "    </tr>\n",
       "    <tr>\n",
       "      <th>1</th>\n",
       "      <td>2007</td>\n",
       "      <td>2</td>\n",
       "      <td>0</td>\n",
       "      <td>0</td>\n",
       "      <td>15</td>\n",
       "    </tr>\n",
       "    <tr>\n",
       "      <th>2</th>\n",
       "      <td>2008</td>\n",
       "      <td>98</td>\n",
       "      <td>31</td>\n",
       "      <td>5</td>\n",
       "      <td>362</td>\n",
       "    </tr>\n",
       "    <tr>\n",
       "      <th>3</th>\n",
       "      <td>2009</td>\n",
       "      <td>136</td>\n",
       "      <td>45</td>\n",
       "      <td>4</td>\n",
       "      <td>476</td>\n",
       "    </tr>\n",
       "    <tr>\n",
       "      <th>4</th>\n",
       "      <td>2010</td>\n",
       "      <td>135</td>\n",
       "      <td>61</td>\n",
       "      <td>7</td>\n",
       "      <td>449</td>\n",
       "    </tr>\n",
       "    <tr>\n",
       "      <th>5</th>\n",
       "      <td>2011</td>\n",
       "      <td>125</td>\n",
       "      <td>43</td>\n",
       "      <td>9</td>\n",
       "      <td>444</td>\n",
       "    </tr>\n",
       "    <tr>\n",
       "      <th>6</th>\n",
       "      <td>2012</td>\n",
       "      <td>137</td>\n",
       "      <td>71</td>\n",
       "      <td>6</td>\n",
       "      <td>436</td>\n",
       "    </tr>\n",
       "    <tr>\n",
       "      <th>7</th>\n",
       "      <td>2013</td>\n",
       "      <td>131</td>\n",
       "      <td>68</td>\n",
       "      <td>6</td>\n",
       "      <td>450</td>\n",
       "    </tr>\n",
       "    <tr>\n",
       "      <th>8</th>\n",
       "      <td>2014</td>\n",
       "      <td>149</td>\n",
       "      <td>68</td>\n",
       "      <td>13</td>\n",
       "      <td>418</td>\n",
       "    </tr>\n",
       "    <tr>\n",
       "      <th>9</th>\n",
       "      <td>통산</td>\n",
       "      <td>916</td>\n",
       "      <td>387</td>\n",
       "      <td>50</td>\n",
       "      <td>3070</td>\n",
       "    </tr>\n",
       "  </tbody>\n",
       "</table>\n",
       "</div>"
      ],
      "text/plain": [
       "     연도   안타   볼넷  사구    타수\n",
       "0  2006    3    0   0    20\n",
       "1  2007    2    0   0    15\n",
       "2  2008   98   31   5   362\n",
       "3  2009  136   45   4   476\n",
       "4  2010  135   61   7   449\n",
       "5  2011  125   43   9   444\n",
       "6  2012  137   71   6   436\n",
       "7  2013  131   68   6   450\n",
       "8  2014  149   68  13   418\n",
       "9    통산  916  387  50  3070"
      ]
     },
     "execution_count": 172,
     "metadata": {},
     "output_type": "execute_result"
    }
   ],
   "source": [
    "columns = ['연도', '안타', '볼넷', '사구', '타수']\n",
    "player = korean_majorleaguer_dict['강정호'][columns]\n",
    "player"
   ]
  },
  {
   "cell_type": "code",
   "execution_count": 173,
   "metadata": {},
   "outputs": [
    {
     "data": {
      "text/plain": [
       "0    강정호\n",
       "1    김하성\n",
       "2    김현수\n",
       "3    박병호\n",
       "4    이대호\n",
       "5    최희섭\n",
       "6    황재균\n",
       "Name: Name, dtype: object"
      ]
     },
     "execution_count": 173,
     "metadata": {},
     "output_type": "execute_result"
    }
   ],
   "source": [
    "hitter_majorleaguer['Name']"
   ]
  },
  {
   "cell_type": "code",
   "execution_count": 187,
   "metadata": {},
   "outputs": [
    {
     "data": {
      "application/vnd.plotly.v1+json": {
       "config": {
        "plotlyServerURL": "https://plot.ly"
       },
       "data": [
        {
         "hovertemplate": "강정호(%{y})",
         "name": "강정호",
         "type": "scatter",
         "x": [
          2006,
          2007,
          2008,
          2009,
          2010,
          2011,
          2012,
          2013,
          2014
         ],
         "y": [
          0.15,
          0.133,
          0.337,
          0.352,
          0.393,
          0.357,
          0.417,
          0.391,
          0.461
         ]
        },
        {
         "hovertemplate": "김하성(%{y})",
         "name": "김하성",
         "type": "scatter",
         "x": [
          2014,
          2015,
          2016,
          2017,
          2018,
          2019,
          2020
         ],
         "y": [
          0.304,
          0.365,
          0.361,
          0.38,
          0.361,
          0.394,
          0.399
         ]
        },
        {
         "hovertemplate": "김현수(%{y})",
         "name": "김현수",
         "type": "scatter",
         "x": [
          2006,
          2007,
          2008,
          2009,
          2010,
          2011,
          2012,
          2013,
          2014,
          2015,
          2018,
          2019,
          2020
         ],
         "y": [
          0,
          0.337,
          0.456,
          0.452,
          0.42,
          0.399,
          0.362,
          0.392,
          0.4,
          0.444,
          0.423,
          0.375,
          0.402
         ]
        },
        {
         "hovertemplate": "박병호(%{y})",
         "name": "박병호",
         "type": "scatter",
         "x": [
          2005,
          2006,
          2009,
          2010,
          2011,
          2012,
          2013,
          2014,
          2015,
          2018,
          2019,
          2020
         ],
         "y": [
          0.271,
          0.227,
          0.307,
          0.309,
          0.345,
          0.398,
          0.442,
          0.436,
          0.439,
          0.46,
          0.405,
          0.36
         ]
        },
        {
         "hovertemplate": "이대호(%{y})",
         "name": "이대호",
         "type": "scatter",
         "x": [
          2001,
          2002,
          2003,
          2004,
          2005,
          2006,
          2007,
          2008,
          2009,
          2010,
          2011,
          2017,
          2018,
          2019,
          2020
         ],
         "y": [
          0.556,
          0.345,
          0.327,
          0.335,
          0.356,
          0.41,
          0.458,
          0.41,
          0.38,
          0.446,
          0.438,
          0.393,
          0.397,
          0.36,
          0.36
         ]
        },
        {
         "hovertemplate": "최희섭(%{y})",
         "name": "최희섭",
         "type": "scatter",
         "x": [
          2007,
          2008,
          2009,
          2010,
          2011,
          2012,
          2013,
          2015
         ],
         "y": [
          0.392,
          0.296,
          0.441,
          0.401,
          0.381,
          0.383,
          0.383,
          0.372
         ]
        },
        {
         "hovertemplate": "황재균(%{y})",
         "name": "황재균",
         "type": "scatter",
         "x": [
          2007,
          2008,
          2009,
          2010,
          2011,
          2012,
          2013,
          2014,
          2015,
          2016,
          2018,
          2019,
          2020
         ],
         "y": [
          0.325,
          0.281,
          0.354,
          0.307,
          0.367,
          0.336,
          0.352,
          0.391,
          0.353,
          0.399,
          0.36,
          0.361,
          0.373
         ]
        }
       ],
       "layout": {
        "plot_bgcolor": "rgb(245, 245, 245) ",
        "template": {
         "data": {
          "bar": [
           {
            "error_x": {
             "color": "#2a3f5f"
            },
            "error_y": {
             "color": "#2a3f5f"
            },
            "marker": {
             "line": {
              "color": "#E5ECF6",
              "width": 0.5
             }
            },
            "type": "bar"
           }
          ],
          "barpolar": [
           {
            "marker": {
             "line": {
              "color": "#E5ECF6",
              "width": 0.5
             }
            },
            "type": "barpolar"
           }
          ],
          "carpet": [
           {
            "aaxis": {
             "endlinecolor": "#2a3f5f",
             "gridcolor": "white",
             "linecolor": "white",
             "minorgridcolor": "white",
             "startlinecolor": "#2a3f5f"
            },
            "baxis": {
             "endlinecolor": "#2a3f5f",
             "gridcolor": "white",
             "linecolor": "white",
             "minorgridcolor": "white",
             "startlinecolor": "#2a3f5f"
            },
            "type": "carpet"
           }
          ],
          "choropleth": [
           {
            "colorbar": {
             "outlinewidth": 0,
             "ticks": ""
            },
            "type": "choropleth"
           }
          ],
          "contour": [
           {
            "colorbar": {
             "outlinewidth": 0,
             "ticks": ""
            },
            "colorscale": [
             [
              0,
              "#0d0887"
             ],
             [
              0.1111111111111111,
              "#46039f"
             ],
             [
              0.2222222222222222,
              "#7201a8"
             ],
             [
              0.3333333333333333,
              "#9c179e"
             ],
             [
              0.4444444444444444,
              "#bd3786"
             ],
             [
              0.5555555555555556,
              "#d8576b"
             ],
             [
              0.6666666666666666,
              "#ed7953"
             ],
             [
              0.7777777777777778,
              "#fb9f3a"
             ],
             [
              0.8888888888888888,
              "#fdca26"
             ],
             [
              1,
              "#f0f921"
             ]
            ],
            "type": "contour"
           }
          ],
          "contourcarpet": [
           {
            "colorbar": {
             "outlinewidth": 0,
             "ticks": ""
            },
            "type": "contourcarpet"
           }
          ],
          "heatmap": [
           {
            "colorbar": {
             "outlinewidth": 0,
             "ticks": ""
            },
            "colorscale": [
             [
              0,
              "#0d0887"
             ],
             [
              0.1111111111111111,
              "#46039f"
             ],
             [
              0.2222222222222222,
              "#7201a8"
             ],
             [
              0.3333333333333333,
              "#9c179e"
             ],
             [
              0.4444444444444444,
              "#bd3786"
             ],
             [
              0.5555555555555556,
              "#d8576b"
             ],
             [
              0.6666666666666666,
              "#ed7953"
             ],
             [
              0.7777777777777778,
              "#fb9f3a"
             ],
             [
              0.8888888888888888,
              "#fdca26"
             ],
             [
              1,
              "#f0f921"
             ]
            ],
            "type": "heatmap"
           }
          ],
          "heatmapgl": [
           {
            "colorbar": {
             "outlinewidth": 0,
             "ticks": ""
            },
            "colorscale": [
             [
              0,
              "#0d0887"
             ],
             [
              0.1111111111111111,
              "#46039f"
             ],
             [
              0.2222222222222222,
              "#7201a8"
             ],
             [
              0.3333333333333333,
              "#9c179e"
             ],
             [
              0.4444444444444444,
              "#bd3786"
             ],
             [
              0.5555555555555556,
              "#d8576b"
             ],
             [
              0.6666666666666666,
              "#ed7953"
             ],
             [
              0.7777777777777778,
              "#fb9f3a"
             ],
             [
              0.8888888888888888,
              "#fdca26"
             ],
             [
              1,
              "#f0f921"
             ]
            ],
            "type": "heatmapgl"
           }
          ],
          "histogram": [
           {
            "marker": {
             "colorbar": {
              "outlinewidth": 0,
              "ticks": ""
             }
            },
            "type": "histogram"
           }
          ],
          "histogram2d": [
           {
            "colorbar": {
             "outlinewidth": 0,
             "ticks": ""
            },
            "colorscale": [
             [
              0,
              "#0d0887"
             ],
             [
              0.1111111111111111,
              "#46039f"
             ],
             [
              0.2222222222222222,
              "#7201a8"
             ],
             [
              0.3333333333333333,
              "#9c179e"
             ],
             [
              0.4444444444444444,
              "#bd3786"
             ],
             [
              0.5555555555555556,
              "#d8576b"
             ],
             [
              0.6666666666666666,
              "#ed7953"
             ],
             [
              0.7777777777777778,
              "#fb9f3a"
             ],
             [
              0.8888888888888888,
              "#fdca26"
             ],
             [
              1,
              "#f0f921"
             ]
            ],
            "type": "histogram2d"
           }
          ],
          "histogram2dcontour": [
           {
            "colorbar": {
             "outlinewidth": 0,
             "ticks": ""
            },
            "colorscale": [
             [
              0,
              "#0d0887"
             ],
             [
              0.1111111111111111,
              "#46039f"
             ],
             [
              0.2222222222222222,
              "#7201a8"
             ],
             [
              0.3333333333333333,
              "#9c179e"
             ],
             [
              0.4444444444444444,
              "#bd3786"
             ],
             [
              0.5555555555555556,
              "#d8576b"
             ],
             [
              0.6666666666666666,
              "#ed7953"
             ],
             [
              0.7777777777777778,
              "#fb9f3a"
             ],
             [
              0.8888888888888888,
              "#fdca26"
             ],
             [
              1,
              "#f0f921"
             ]
            ],
            "type": "histogram2dcontour"
           }
          ],
          "mesh3d": [
           {
            "colorbar": {
             "outlinewidth": 0,
             "ticks": ""
            },
            "type": "mesh3d"
           }
          ],
          "parcoords": [
           {
            "line": {
             "colorbar": {
              "outlinewidth": 0,
              "ticks": ""
             }
            },
            "type": "parcoords"
           }
          ],
          "pie": [
           {
            "automargin": true,
            "type": "pie"
           }
          ],
          "scatter": [
           {
            "marker": {
             "colorbar": {
              "outlinewidth": 0,
              "ticks": ""
             }
            },
            "type": "scatter"
           }
          ],
          "scatter3d": [
           {
            "line": {
             "colorbar": {
              "outlinewidth": 0,
              "ticks": ""
             }
            },
            "marker": {
             "colorbar": {
              "outlinewidth": 0,
              "ticks": ""
             }
            },
            "type": "scatter3d"
           }
          ],
          "scattercarpet": [
           {
            "marker": {
             "colorbar": {
              "outlinewidth": 0,
              "ticks": ""
             }
            },
            "type": "scattercarpet"
           }
          ],
          "scattergeo": [
           {
            "marker": {
             "colorbar": {
              "outlinewidth": 0,
              "ticks": ""
             }
            },
            "type": "scattergeo"
           }
          ],
          "scattergl": [
           {
            "marker": {
             "colorbar": {
              "outlinewidth": 0,
              "ticks": ""
             }
            },
            "type": "scattergl"
           }
          ],
          "scattermapbox": [
           {
            "marker": {
             "colorbar": {
              "outlinewidth": 0,
              "ticks": ""
             }
            },
            "type": "scattermapbox"
           }
          ],
          "scatterpolar": [
           {
            "marker": {
             "colorbar": {
              "outlinewidth": 0,
              "ticks": ""
             }
            },
            "type": "scatterpolar"
           }
          ],
          "scatterpolargl": [
           {
            "marker": {
             "colorbar": {
              "outlinewidth": 0,
              "ticks": ""
             }
            },
            "type": "scatterpolargl"
           }
          ],
          "scatterternary": [
           {
            "marker": {
             "colorbar": {
              "outlinewidth": 0,
              "ticks": ""
             }
            },
            "type": "scatterternary"
           }
          ],
          "surface": [
           {
            "colorbar": {
             "outlinewidth": 0,
             "ticks": ""
            },
            "colorscale": [
             [
              0,
              "#0d0887"
             ],
             [
              0.1111111111111111,
              "#46039f"
             ],
             [
              0.2222222222222222,
              "#7201a8"
             ],
             [
              0.3333333333333333,
              "#9c179e"
             ],
             [
              0.4444444444444444,
              "#bd3786"
             ],
             [
              0.5555555555555556,
              "#d8576b"
             ],
             [
              0.6666666666666666,
              "#ed7953"
             ],
             [
              0.7777777777777778,
              "#fb9f3a"
             ],
             [
              0.8888888888888888,
              "#fdca26"
             ],
             [
              1,
              "#f0f921"
             ]
            ],
            "type": "surface"
           }
          ],
          "table": [
           {
            "cells": {
             "fill": {
              "color": "#EBF0F8"
             },
             "line": {
              "color": "white"
             }
            },
            "header": {
             "fill": {
              "color": "#C8D4E3"
             },
             "line": {
              "color": "white"
             }
            },
            "type": "table"
           }
          ]
         },
         "layout": {
          "annotationdefaults": {
           "arrowcolor": "#2a3f5f",
           "arrowhead": 0,
           "arrowwidth": 1
          },
          "autotypenumbers": "strict",
          "coloraxis": {
           "colorbar": {
            "outlinewidth": 0,
            "ticks": ""
           }
          },
          "colorscale": {
           "diverging": [
            [
             0,
             "#8e0152"
            ],
            [
             0.1,
             "#c51b7d"
            ],
            [
             0.2,
             "#de77ae"
            ],
            [
             0.3,
             "#f1b6da"
            ],
            [
             0.4,
             "#fde0ef"
            ],
            [
             0.5,
             "#f7f7f7"
            ],
            [
             0.6,
             "#e6f5d0"
            ],
            [
             0.7,
             "#b8e186"
            ],
            [
             0.8,
             "#7fbc41"
            ],
            [
             0.9,
             "#4d9221"
            ],
            [
             1,
             "#276419"
            ]
           ],
           "sequential": [
            [
             0,
             "#0d0887"
            ],
            [
             0.1111111111111111,
             "#46039f"
            ],
            [
             0.2222222222222222,
             "#7201a8"
            ],
            [
             0.3333333333333333,
             "#9c179e"
            ],
            [
             0.4444444444444444,
             "#bd3786"
            ],
            [
             0.5555555555555556,
             "#d8576b"
            ],
            [
             0.6666666666666666,
             "#ed7953"
            ],
            [
             0.7777777777777778,
             "#fb9f3a"
            ],
            [
             0.8888888888888888,
             "#fdca26"
            ],
            [
             1,
             "#f0f921"
            ]
           ],
           "sequentialminus": [
            [
             0,
             "#0d0887"
            ],
            [
             0.1111111111111111,
             "#46039f"
            ],
            [
             0.2222222222222222,
             "#7201a8"
            ],
            [
             0.3333333333333333,
             "#9c179e"
            ],
            [
             0.4444444444444444,
             "#bd3786"
            ],
            [
             0.5555555555555556,
             "#d8576b"
            ],
            [
             0.6666666666666666,
             "#ed7953"
            ],
            [
             0.7777777777777778,
             "#fb9f3a"
            ],
            [
             0.8888888888888888,
             "#fdca26"
            ],
            [
             1,
             "#f0f921"
            ]
           ]
          },
          "colorway": [
           "#636efa",
           "#EF553B",
           "#00cc96",
           "#ab63fa",
           "#FFA15A",
           "#19d3f3",
           "#FF6692",
           "#B6E880",
           "#FF97FF",
           "#FECB52"
          ],
          "font": {
           "color": "#2a3f5f"
          },
          "geo": {
           "bgcolor": "white",
           "lakecolor": "white",
           "landcolor": "#E5ECF6",
           "showlakes": true,
           "showland": true,
           "subunitcolor": "white"
          },
          "hoverlabel": {
           "align": "left"
          },
          "hovermode": "closest",
          "mapbox": {
           "style": "light"
          },
          "paper_bgcolor": "white",
          "plot_bgcolor": "#E5ECF6",
          "polar": {
           "angularaxis": {
            "gridcolor": "white",
            "linecolor": "white",
            "ticks": ""
           },
           "bgcolor": "#E5ECF6",
           "radialaxis": {
            "gridcolor": "white",
            "linecolor": "white",
            "ticks": ""
           }
          },
          "scene": {
           "xaxis": {
            "backgroundcolor": "#E5ECF6",
            "gridcolor": "white",
            "gridwidth": 2,
            "linecolor": "white",
            "showbackground": true,
            "ticks": "",
            "zerolinecolor": "white"
           },
           "yaxis": {
            "backgroundcolor": "#E5ECF6",
            "gridcolor": "white",
            "gridwidth": 2,
            "linecolor": "white",
            "showbackground": true,
            "ticks": "",
            "zerolinecolor": "white"
           },
           "zaxis": {
            "backgroundcolor": "#E5ECF6",
            "gridcolor": "white",
            "gridwidth": 2,
            "linecolor": "white",
            "showbackground": true,
            "ticks": "",
            "zerolinecolor": "white"
           }
          },
          "shapedefaults": {
           "line": {
            "color": "#2a3f5f"
           }
          },
          "ternary": {
           "aaxis": {
            "gridcolor": "white",
            "linecolor": "white",
            "ticks": ""
           },
           "baxis": {
            "gridcolor": "white",
            "linecolor": "white",
            "ticks": ""
           },
           "bgcolor": "#E5ECF6",
           "caxis": {
            "gridcolor": "white",
            "linecolor": "white",
            "ticks": ""
           }
          },
          "title": {
           "x": 0.05
          },
          "xaxis": {
           "automargin": true,
           "gridcolor": "white",
           "linecolor": "white",
           "ticks": "",
           "title": {
            "standoff": 15
           },
           "zerolinecolor": "white",
           "zerolinewidth": 2
          },
          "yaxis": {
           "automargin": true,
           "gridcolor": "white",
           "linecolor": "white",
           "ticks": "",
           "title": {
            "standoff": 15
           },
           "zerolinecolor": "white",
           "zerolinewidth": 2
          }
         }
        },
        "title": {
         "text": "메이저리거 출루율(희생플라이제외)"
        },
        "xaxis": {
         "showgrid": false,
         "zeroline": false
        },
        "yaxis": {
         "showgrid": false,
         "zeroline": false
        }
       }
      },
      "text/html": [
       "<div>                            <div id=\"ab8db41d-baa8-4940-82ca-a7dcb0bbfc16\" class=\"plotly-graph-div\" style=\"height:525px; width:100%;\"></div>            <script type=\"text/javascript\">                require([\"plotly\"], function(Plotly) {                    window.PLOTLYENV=window.PLOTLYENV || {};                                    if (document.getElementById(\"ab8db41d-baa8-4940-82ca-a7dcb0bbfc16\")) {                    Plotly.newPlot(                        \"ab8db41d-baa8-4940-82ca-a7dcb0bbfc16\",                        [{\"hovertemplate\": \"\\uac15\\uc815\\ud638(%{y})\", \"name\": \"\\uac15\\uc815\\ud638\", \"type\": \"scatter\", \"x\": [2006, 2007, 2008, 2009, 2010, 2011, 2012, 2013, 2014], \"y\": [0.15, 0.133, 0.337, 0.352, 0.393, 0.357, 0.417, 0.391, 0.461]}, {\"hovertemplate\": \"\\uae40\\ud558\\uc131(%{y})\", \"name\": \"\\uae40\\ud558\\uc131\", \"type\": \"scatter\", \"x\": [2014, 2015, 2016, 2017, 2018, 2019, 2020], \"y\": [0.304, 0.365, 0.361, 0.38, 0.361, 0.394, 0.399]}, {\"hovertemplate\": \"\\uae40\\ud604\\uc218(%{y})\", \"name\": \"\\uae40\\ud604\\uc218\", \"type\": \"scatter\", \"x\": [2006, 2007, 2008, 2009, 2010, 2011, 2012, 2013, 2014, 2015, 2018, 2019, 2020], \"y\": [0.0, 0.337, 0.456, 0.452, 0.42, 0.399, 0.362, 0.392, 0.4, 0.444, 0.423, 0.375, 0.402]}, {\"hovertemplate\": \"\\ubc15\\ubcd1\\ud638(%{y})\", \"name\": \"\\ubc15\\ubcd1\\ud638\", \"type\": \"scatter\", \"x\": [2005, 2006, 2009, 2010, 2011, 2012, 2013, 2014, 2015, 2018, 2019, 2020], \"y\": [0.271, 0.227, 0.307, 0.309, 0.345, 0.398, 0.442, 0.436, 0.439, 0.46, 0.405, 0.36]}, {\"hovertemplate\": \"\\uc774\\ub300\\ud638(%{y})\", \"name\": \"\\uc774\\ub300\\ud638\", \"type\": \"scatter\", \"x\": [2001, 2002, 2003, 2004, 2005, 2006, 2007, 2008, 2009, 2010, 2011, 2017, 2018, 2019, 2020], \"y\": [0.556, 0.345, 0.327, 0.335, 0.356, 0.41, 0.458, 0.41, 0.38, 0.446, 0.438, 0.393, 0.397, 0.36, 0.36]}, {\"hovertemplate\": \"\\ucd5c\\ud76c\\uc12d(%{y})\", \"name\": \"\\ucd5c\\ud76c\\uc12d\", \"type\": \"scatter\", \"x\": [2007, 2008, 2009, 2010, 2011, 2012, 2013, 2015], \"y\": [0.392, 0.296, 0.441, 0.401, 0.381, 0.383, 0.383, 0.372]}, {\"hovertemplate\": \"\\ud669\\uc7ac\\uade0(%{y})\", \"name\": \"\\ud669\\uc7ac\\uade0\", \"type\": \"scatter\", \"x\": [2007, 2008, 2009, 2010, 2011, 2012, 2013, 2014, 2015, 2016, 2018, 2019, 2020], \"y\": [0.325, 0.281, 0.354, 0.307, 0.367, 0.336, 0.352, 0.391, 0.353, 0.399, 0.36, 0.361, 0.373]}],                        {\"plot_bgcolor\": \"rgb(245, 245, 245) \", \"template\": {\"data\": {\"bar\": [{\"error_x\": {\"color\": \"#2a3f5f\"}, \"error_y\": {\"color\": \"#2a3f5f\"}, \"marker\": {\"line\": {\"color\": \"#E5ECF6\", \"width\": 0.5}}, \"type\": \"bar\"}], \"barpolar\": [{\"marker\": {\"line\": {\"color\": \"#E5ECF6\", \"width\": 0.5}}, \"type\": \"barpolar\"}], \"carpet\": [{\"aaxis\": {\"endlinecolor\": \"#2a3f5f\", \"gridcolor\": \"white\", \"linecolor\": \"white\", \"minorgridcolor\": \"white\", \"startlinecolor\": \"#2a3f5f\"}, \"baxis\": {\"endlinecolor\": \"#2a3f5f\", \"gridcolor\": \"white\", \"linecolor\": \"white\", \"minorgridcolor\": \"white\", \"startlinecolor\": \"#2a3f5f\"}, \"type\": \"carpet\"}], \"choropleth\": [{\"colorbar\": {\"outlinewidth\": 0, \"ticks\": \"\"}, \"type\": \"choropleth\"}], \"contour\": [{\"colorbar\": {\"outlinewidth\": 0, \"ticks\": \"\"}, \"colorscale\": [[0.0, \"#0d0887\"], [0.1111111111111111, \"#46039f\"], [0.2222222222222222, \"#7201a8\"], [0.3333333333333333, \"#9c179e\"], [0.4444444444444444, \"#bd3786\"], [0.5555555555555556, \"#d8576b\"], [0.6666666666666666, \"#ed7953\"], [0.7777777777777778, \"#fb9f3a\"], [0.8888888888888888, \"#fdca26\"], [1.0, \"#f0f921\"]], \"type\": \"contour\"}], \"contourcarpet\": [{\"colorbar\": {\"outlinewidth\": 0, \"ticks\": \"\"}, \"type\": \"contourcarpet\"}], \"heatmap\": [{\"colorbar\": {\"outlinewidth\": 0, \"ticks\": \"\"}, \"colorscale\": [[0.0, \"#0d0887\"], [0.1111111111111111, \"#46039f\"], [0.2222222222222222, \"#7201a8\"], [0.3333333333333333, \"#9c179e\"], [0.4444444444444444, \"#bd3786\"], [0.5555555555555556, \"#d8576b\"], [0.6666666666666666, \"#ed7953\"], [0.7777777777777778, \"#fb9f3a\"], [0.8888888888888888, \"#fdca26\"], [1.0, \"#f0f921\"]], \"type\": \"heatmap\"}], \"heatmapgl\": [{\"colorbar\": {\"outlinewidth\": 0, \"ticks\": \"\"}, \"colorscale\": [[0.0, \"#0d0887\"], [0.1111111111111111, \"#46039f\"], [0.2222222222222222, \"#7201a8\"], [0.3333333333333333, \"#9c179e\"], [0.4444444444444444, \"#bd3786\"], [0.5555555555555556, \"#d8576b\"], [0.6666666666666666, \"#ed7953\"], [0.7777777777777778, \"#fb9f3a\"], [0.8888888888888888, \"#fdca26\"], [1.0, \"#f0f921\"]], \"type\": \"heatmapgl\"}], \"histogram\": [{\"marker\": {\"colorbar\": {\"outlinewidth\": 0, \"ticks\": \"\"}}, \"type\": \"histogram\"}], \"histogram2d\": [{\"colorbar\": {\"outlinewidth\": 0, \"ticks\": \"\"}, \"colorscale\": [[0.0, \"#0d0887\"], [0.1111111111111111, \"#46039f\"], [0.2222222222222222, \"#7201a8\"], [0.3333333333333333, \"#9c179e\"], [0.4444444444444444, \"#bd3786\"], [0.5555555555555556, \"#d8576b\"], [0.6666666666666666, \"#ed7953\"], [0.7777777777777778, \"#fb9f3a\"], [0.8888888888888888, \"#fdca26\"], [1.0, \"#f0f921\"]], \"type\": \"histogram2d\"}], \"histogram2dcontour\": [{\"colorbar\": {\"outlinewidth\": 0, \"ticks\": \"\"}, \"colorscale\": [[0.0, \"#0d0887\"], [0.1111111111111111, \"#46039f\"], [0.2222222222222222, \"#7201a8\"], [0.3333333333333333, \"#9c179e\"], [0.4444444444444444, \"#bd3786\"], [0.5555555555555556, \"#d8576b\"], [0.6666666666666666, \"#ed7953\"], [0.7777777777777778, \"#fb9f3a\"], [0.8888888888888888, \"#fdca26\"], [1.0, \"#f0f921\"]], \"type\": \"histogram2dcontour\"}], \"mesh3d\": [{\"colorbar\": {\"outlinewidth\": 0, \"ticks\": \"\"}, \"type\": \"mesh3d\"}], \"parcoords\": [{\"line\": {\"colorbar\": {\"outlinewidth\": 0, \"ticks\": \"\"}}, \"type\": \"parcoords\"}], \"pie\": [{\"automargin\": true, \"type\": \"pie\"}], \"scatter\": [{\"marker\": {\"colorbar\": {\"outlinewidth\": 0, \"ticks\": \"\"}}, \"type\": \"scatter\"}], \"scatter3d\": [{\"line\": {\"colorbar\": {\"outlinewidth\": 0, \"ticks\": \"\"}}, \"marker\": {\"colorbar\": {\"outlinewidth\": 0, \"ticks\": \"\"}}, \"type\": \"scatter3d\"}], \"scattercarpet\": [{\"marker\": {\"colorbar\": {\"outlinewidth\": 0, \"ticks\": \"\"}}, \"type\": \"scattercarpet\"}], \"scattergeo\": [{\"marker\": {\"colorbar\": {\"outlinewidth\": 0, \"ticks\": \"\"}}, \"type\": \"scattergeo\"}], \"scattergl\": [{\"marker\": {\"colorbar\": {\"outlinewidth\": 0, \"ticks\": \"\"}}, \"type\": \"scattergl\"}], \"scattermapbox\": [{\"marker\": {\"colorbar\": {\"outlinewidth\": 0, \"ticks\": \"\"}}, \"type\": \"scattermapbox\"}], \"scatterpolar\": [{\"marker\": {\"colorbar\": {\"outlinewidth\": 0, \"ticks\": \"\"}}, \"type\": \"scatterpolar\"}], \"scatterpolargl\": [{\"marker\": {\"colorbar\": {\"outlinewidth\": 0, \"ticks\": \"\"}}, \"type\": \"scatterpolargl\"}], \"scatterternary\": [{\"marker\": {\"colorbar\": {\"outlinewidth\": 0, \"ticks\": \"\"}}, \"type\": \"scatterternary\"}], \"surface\": [{\"colorbar\": {\"outlinewidth\": 0, \"ticks\": \"\"}, \"colorscale\": [[0.0, \"#0d0887\"], [0.1111111111111111, \"#46039f\"], [0.2222222222222222, \"#7201a8\"], [0.3333333333333333, \"#9c179e\"], [0.4444444444444444, \"#bd3786\"], [0.5555555555555556, \"#d8576b\"], [0.6666666666666666, \"#ed7953\"], [0.7777777777777778, \"#fb9f3a\"], [0.8888888888888888, \"#fdca26\"], [1.0, \"#f0f921\"]], \"type\": \"surface\"}], \"table\": [{\"cells\": {\"fill\": {\"color\": \"#EBF0F8\"}, \"line\": {\"color\": \"white\"}}, \"header\": {\"fill\": {\"color\": \"#C8D4E3\"}, \"line\": {\"color\": \"white\"}}, \"type\": \"table\"}]}, \"layout\": {\"annotationdefaults\": {\"arrowcolor\": \"#2a3f5f\", \"arrowhead\": 0, \"arrowwidth\": 1}, \"autotypenumbers\": \"strict\", \"coloraxis\": {\"colorbar\": {\"outlinewidth\": 0, \"ticks\": \"\"}}, \"colorscale\": {\"diverging\": [[0, \"#8e0152\"], [0.1, \"#c51b7d\"], [0.2, \"#de77ae\"], [0.3, \"#f1b6da\"], [0.4, \"#fde0ef\"], [0.5, \"#f7f7f7\"], [0.6, \"#e6f5d0\"], [0.7, \"#b8e186\"], [0.8, \"#7fbc41\"], [0.9, \"#4d9221\"], [1, \"#276419\"]], \"sequential\": [[0.0, \"#0d0887\"], [0.1111111111111111, \"#46039f\"], [0.2222222222222222, \"#7201a8\"], [0.3333333333333333, \"#9c179e\"], [0.4444444444444444, \"#bd3786\"], [0.5555555555555556, \"#d8576b\"], [0.6666666666666666, \"#ed7953\"], [0.7777777777777778, \"#fb9f3a\"], [0.8888888888888888, \"#fdca26\"], [1.0, \"#f0f921\"]], \"sequentialminus\": [[0.0, \"#0d0887\"], [0.1111111111111111, \"#46039f\"], [0.2222222222222222, \"#7201a8\"], [0.3333333333333333, \"#9c179e\"], [0.4444444444444444, \"#bd3786\"], [0.5555555555555556, \"#d8576b\"], [0.6666666666666666, \"#ed7953\"], [0.7777777777777778, \"#fb9f3a\"], [0.8888888888888888, \"#fdca26\"], [1.0, \"#f0f921\"]]}, \"colorway\": [\"#636efa\", \"#EF553B\", \"#00cc96\", \"#ab63fa\", \"#FFA15A\", \"#19d3f3\", \"#FF6692\", \"#B6E880\", \"#FF97FF\", \"#FECB52\"], \"font\": {\"color\": \"#2a3f5f\"}, \"geo\": {\"bgcolor\": \"white\", \"lakecolor\": \"white\", \"landcolor\": \"#E5ECF6\", \"showlakes\": true, \"showland\": true, \"subunitcolor\": \"white\"}, \"hoverlabel\": {\"align\": \"left\"}, \"hovermode\": \"closest\", \"mapbox\": {\"style\": \"light\"}, \"paper_bgcolor\": \"white\", \"plot_bgcolor\": \"#E5ECF6\", \"polar\": {\"angularaxis\": {\"gridcolor\": \"white\", \"linecolor\": \"white\", \"ticks\": \"\"}, \"bgcolor\": \"#E5ECF6\", \"radialaxis\": {\"gridcolor\": \"white\", \"linecolor\": \"white\", \"ticks\": \"\"}}, \"scene\": {\"xaxis\": {\"backgroundcolor\": \"#E5ECF6\", \"gridcolor\": \"white\", \"gridwidth\": 2, \"linecolor\": \"white\", \"showbackground\": true, \"ticks\": \"\", \"zerolinecolor\": \"white\"}, \"yaxis\": {\"backgroundcolor\": \"#E5ECF6\", \"gridcolor\": \"white\", \"gridwidth\": 2, \"linecolor\": \"white\", \"showbackground\": true, \"ticks\": \"\", \"zerolinecolor\": \"white\"}, \"zaxis\": {\"backgroundcolor\": \"#E5ECF6\", \"gridcolor\": \"white\", \"gridwidth\": 2, \"linecolor\": \"white\", \"showbackground\": true, \"ticks\": \"\", \"zerolinecolor\": \"white\"}}, \"shapedefaults\": {\"line\": {\"color\": \"#2a3f5f\"}}, \"ternary\": {\"aaxis\": {\"gridcolor\": \"white\", \"linecolor\": \"white\", \"ticks\": \"\"}, \"baxis\": {\"gridcolor\": \"white\", \"linecolor\": \"white\", \"ticks\": \"\"}, \"bgcolor\": \"#E5ECF6\", \"caxis\": {\"gridcolor\": \"white\", \"linecolor\": \"white\", \"ticks\": \"\"}}, \"title\": {\"x\": 0.05}, \"xaxis\": {\"automargin\": true, \"gridcolor\": \"white\", \"linecolor\": \"white\", \"ticks\": \"\", \"title\": {\"standoff\": 15}, \"zerolinecolor\": \"white\", \"zerolinewidth\": 2}, \"yaxis\": {\"automargin\": true, \"gridcolor\": \"white\", \"linecolor\": \"white\", \"ticks\": \"\", \"title\": {\"standoff\": 15}, \"zerolinecolor\": \"white\", \"zerolinewidth\": 2}}}, \"title\": {\"text\": \"\\uba54\\uc774\\uc800\\ub9ac\\uac70 \\ucd9c\\ub8e8\\uc728(\\ud76c\\uc0dd\\ud50c\\ub77c\\uc774\\uc81c\\uc678)\"}, \"xaxis\": {\"showgrid\": false, \"zeroline\": false}, \"yaxis\": {\"showgrid\": false, \"zeroline\": false}},                        {\"responsive\": true}                    ).then(function(){\n",
       "                            \n",
       "var gd = document.getElementById('ab8db41d-baa8-4940-82ca-a7dcb0bbfc16');\n",
       "var x = new MutationObserver(function (mutations, observer) {{\n",
       "        var display = window.getComputedStyle(gd).display;\n",
       "        if (!display || display === 'none') {{\n",
       "            console.log([gd, 'removed!']);\n",
       "            Plotly.purge(gd);\n",
       "            observer.disconnect();\n",
       "        }}\n",
       "}});\n",
       "\n",
       "// Listen for the removal of the full notebook cells\n",
       "var notebookContainer = gd.closest('#notebook-container');\n",
       "if (notebookContainer) {{\n",
       "    x.observe(notebookContainer, {childList: true});\n",
       "}}\n",
       "\n",
       "// Listen for the clearing of the current output cell\n",
       "var outputEl = gd.closest('.output');\n",
       "if (outputEl) {{\n",
       "    x.observe(outputEl, {childList: true});\n",
       "}}\n",
       "\n",
       "                        })                };                });            </script>        </div>"
      ]
     },
     "metadata": {},
     "output_type": "display_data"
    }
   ],
   "source": [
    "# 출루율 = (안타 + 볼넷 + 몸에맞는볼) / (타수 + 볼넷 + 몸에맞는볼 + 희생플라이)\n",
    "# 희생플라이 데이터가 없다.... (일단 제외하고 계산)\n",
    "\n",
    "fig = go.Figure()\n",
    "avg = []\n",
    "years = []\n",
    "columns = ['연도', '안타', '볼넷', '사구', '타수']\n",
    "\n",
    "for idx, name in enumerate(hitter_majorleaguer['Name']):\n",
    "    player = korean_majorleaguer_dict[name][columns]\n",
    "    y_ = [round((int(player.iloc[idx]['안타'])+int(player.iloc[idx]['볼넷'])+int(player.iloc[idx]['사구'])) /\n",
    "                               (int(player.iloc[idx]['타수'])+int(player.iloc[idx]['볼넷'])+int(player.iloc[idx]['사구'])), 3) for idx in range(player.shape[0]-1)]\n",
    "    \n",
    "    fig.add_trace(go.Scatter(x=player['연도'][:-1].astype(int),\n",
    "                            y=y_,\n",
    "                            hovertemplate=name + '(%{y})',\n",
    "                            name=name))\n",
    "    \n",
    "    years += player['연도'][:-1].to_list()\n",
    "    \n",
    "years = sorted(list(set(years)))\n",
    "\n",
    "# for name in hitter_majorleaguer['Name']:\n",
    "#     for year in years:\n",
    "#         if year in korean_majorleaguer_df[name]['연도'].to_list():\n",
    "            \n",
    "        \n",
    "\n",
    "fig.update_yaxes(showgrid=False, zeroline=False)\n",
    "fig.update_xaxes(showgrid=False, zeroline=False)\n",
    "fig.update_layout(title='메이저리거 출루율(희생플라이제외)',\n",
    "                 plot_bgcolor='rgb(245, 245, 245) ')\n",
    "fig.show()"
   ]
  },
  {
   "cell_type": "code",
   "execution_count": 188,
   "metadata": {},
   "outputs": [
    {
     "data": {
      "text/plain": [
       "str"
      ]
     },
     "execution_count": 188,
     "metadata": {},
     "output_type": "execute_result"
    }
   ],
   "source": [
    "type(korean_majorleaguer_dict['강정호']['연도'][0])"
   ]
  },
  {
   "cell_type": "code",
   "execution_count": 189,
   "metadata": {},
   "outputs": [
    {
     "data": {
      "text/html": [
       "<div>\n",
       "<style scoped>\n",
       "    .dataframe tbody tr th:only-of-type {\n",
       "        vertical-align: middle;\n",
       "    }\n",
       "\n",
       "    .dataframe tbody tr th {\n",
       "        vertical-align: top;\n",
       "    }\n",
       "\n",
       "    .dataframe thead th {\n",
       "        text-align: right;\n",
       "    }\n",
       "</style>\n",
       "<table border=\"1\" class=\"dataframe\">\n",
       "  <thead>\n",
       "    <tr style=\"text-align: right;\">\n",
       "      <th></th>\n",
       "      <th>Name</th>\n",
       "      <th>Birth_year</th>\n",
       "      <th>Position</th>\n",
       "      <th>info_url</th>\n",
       "    </tr>\n",
       "  </thead>\n",
       "  <tbody>\n",
       "    <tr>\n",
       "      <th>0</th>\n",
       "      <td>강정호</td>\n",
       "      <td>1987</td>\n",
       "      <td>내야수</td>\n",
       "      <td>https://www.koreabaseball.com/Record/Retire/Hitter.aspx?playerId=76325</td>\n",
       "    </tr>\n",
       "    <tr>\n",
       "      <th>1</th>\n",
       "      <td>김하성</td>\n",
       "      <td>1995</td>\n",
       "      <td>내야수</td>\n",
       "      <td>https://www.koreabaseball.com/Record/Retire/Hitter.aspx?playerId=64300</td>\n",
       "    </tr>\n",
       "    <tr>\n",
       "      <th>2</th>\n",
       "      <td>김현수</td>\n",
       "      <td>1988</td>\n",
       "      <td>외야수</td>\n",
       "      <td>https://www.koreabaseball.com/Record/Player/HitterDetail/Basic.aspx?playerId=76290</td>\n",
       "    </tr>\n",
       "    <tr>\n",
       "      <th>3</th>\n",
       "      <td>박병호</td>\n",
       "      <td>1986</td>\n",
       "      <td>내야수</td>\n",
       "      <td>https://www.koreabaseball.com/Record/Player/HitterDetail/Basic.aspx?playerId=75125</td>\n",
       "    </tr>\n",
       "    <tr>\n",
       "      <th>4</th>\n",
       "      <td>이대호</td>\n",
       "      <td>1982</td>\n",
       "      <td>내야수</td>\n",
       "      <td>https://www.koreabaseball.com/Record/Player/HitterDetail/Basic.aspx?playerId=71564</td>\n",
       "    </tr>\n",
       "    <tr>\n",
       "      <th>5</th>\n",
       "      <td>최희섭</td>\n",
       "      <td>1979</td>\n",
       "      <td>내야수</td>\n",
       "      <td>https://www.koreabaseball.com/Record/Retire/Hitter.aspx?playerId=77623</td>\n",
       "    </tr>\n",
       "    <tr>\n",
       "      <th>6</th>\n",
       "      <td>황재균</td>\n",
       "      <td>1987</td>\n",
       "      <td>내야수</td>\n",
       "      <td>https://www.koreabaseball.com/Record/Player/HitterDetail/Basic.aspx?playerId=76313</td>\n",
       "    </tr>\n",
       "  </tbody>\n",
       "</table>\n",
       "</div>"
      ],
      "text/plain": [
       "  Name Birth_year Position                                                                            info_url\n",
       "0  강정호       1987      내야수              https://www.koreabaseball.com/Record/Retire/Hitter.aspx?playerId=76325\n",
       "1  김하성       1995      내야수              https://www.koreabaseball.com/Record/Retire/Hitter.aspx?playerId=64300\n",
       "2  김현수       1988      외야수  https://www.koreabaseball.com/Record/Player/HitterDetail/Basic.aspx?playerId=76290\n",
       "3  박병호       1986      내야수  https://www.koreabaseball.com/Record/Player/HitterDetail/Basic.aspx?playerId=75125\n",
       "4  이대호       1982      내야수  https://www.koreabaseball.com/Record/Player/HitterDetail/Basic.aspx?playerId=71564\n",
       "5  최희섭       1979      내야수              https://www.koreabaseball.com/Record/Retire/Hitter.aspx?playerId=77623\n",
       "6  황재균       1987      내야수  https://www.koreabaseball.com/Record/Player/HitterDetail/Basic.aspx?playerId=76313"
      ]
     },
     "execution_count": 189,
     "metadata": {},
     "output_type": "execute_result"
    }
   ],
   "source": [
    "hitter_majorleaguer"
   ]
  },
  {
   "cell_type": "code",
   "execution_count": 190,
   "metadata": {},
   "outputs": [
    {
     "data": {
      "text/html": [
       "<div>\n",
       "<style scoped>\n",
       "    .dataframe tbody tr th:only-of-type {\n",
       "        vertical-align: middle;\n",
       "    }\n",
       "\n",
       "    .dataframe tbody tr th {\n",
       "        vertical-align: top;\n",
       "    }\n",
       "\n",
       "    .dataframe thead th {\n",
       "        text-align: right;\n",
       "    }\n",
       "</style>\n",
       "<table border=\"1\" class=\"dataframe\">\n",
       "  <thead>\n",
       "    <tr style=\"text-align: right;\">\n",
       "      <th></th>\n",
       "      <th>Name</th>\n",
       "      <th>Birth_year</th>\n",
       "      <th>Position</th>\n",
       "      <th>info_url</th>\n",
       "    </tr>\n",
       "  </thead>\n",
       "  <tbody>\n",
       "    <tr>\n",
       "      <th>0</th>\n",
       "      <td>강정호</td>\n",
       "      <td>1987</td>\n",
       "      <td>내야수</td>\n",
       "      <td>https://www.koreabaseball.com/Record/Retire/Hitter.aspx?playerId=76325</td>\n",
       "    </tr>\n",
       "    <tr>\n",
       "      <th>1</th>\n",
       "      <td>구대성</td>\n",
       "      <td>1969</td>\n",
       "      <td>투수</td>\n",
       "      <td>https://www.koreabaseball.com/Record/Retire/Pitcher.aspx?playerId=93715</td>\n",
       "    </tr>\n",
       "    <tr>\n",
       "      <th>2</th>\n",
       "      <td>김광현</td>\n",
       "      <td>1988</td>\n",
       "      <td>투수</td>\n",
       "      <td>https://www.koreabaseball.com/Record/Retire/Pitcher.aspx?playerId=77829</td>\n",
       "    </tr>\n",
       "    <tr>\n",
       "      <th>3</th>\n",
       "      <td>김병현</td>\n",
       "      <td>1979</td>\n",
       "      <td>투수</td>\n",
       "      <td>https://www.koreabaseball.com/Record/Retire/Pitcher.aspx?playerId=62349</td>\n",
       "    </tr>\n",
       "    <tr>\n",
       "      <th>4</th>\n",
       "      <td>김선우</td>\n",
       "      <td>1977</td>\n",
       "      <td>투수</td>\n",
       "      <td>https://www.koreabaseball.com/Record/Retire/Pitcher.aspx?playerId=78232</td>\n",
       "    </tr>\n",
       "    <tr>\n",
       "      <th>5</th>\n",
       "      <td>김하성</td>\n",
       "      <td>1995</td>\n",
       "      <td>내야수</td>\n",
       "      <td>https://www.koreabaseball.com/Record/Retire/Hitter.aspx?playerId=64300</td>\n",
       "    </tr>\n",
       "    <tr>\n",
       "      <th>6</th>\n",
       "      <td>김현수</td>\n",
       "      <td>1988</td>\n",
       "      <td>외야수</td>\n",
       "      <td>https://www.koreabaseball.com/Record/Player/HitterDetail/Basic.aspx?playerId=76290</td>\n",
       "    </tr>\n",
       "    <tr>\n",
       "      <th>7</th>\n",
       "      <td>류제국</td>\n",
       "      <td>1983</td>\n",
       "      <td>투수</td>\n",
       "      <td>https://www.koreabaseball.com/Record/Retire/Pitcher.aspx?playerId=63111</td>\n",
       "    </tr>\n",
       "    <tr>\n",
       "      <th>8</th>\n",
       "      <td>류현진</td>\n",
       "      <td>1987</td>\n",
       "      <td>투수</td>\n",
       "      <td>https://www.koreabaseball.com/Record/Retire/Pitcher.aspx?playerId=76715</td>\n",
       "    </tr>\n",
       "    <tr>\n",
       "      <th>9</th>\n",
       "      <td>박병호</td>\n",
       "      <td>1986</td>\n",
       "      <td>내야수</td>\n",
       "      <td>https://www.koreabaseball.com/Record/Player/HitterDetail/Basic.aspx?playerId=75125</td>\n",
       "    </tr>\n",
       "    <tr>\n",
       "      <th>10</th>\n",
       "      <td>박찬호</td>\n",
       "      <td>1973</td>\n",
       "      <td>투수</td>\n",
       "      <td>https://www.koreabaseball.com/Record/Retire/Pitcher.aspx?playerId=62761</td>\n",
       "    </tr>\n",
       "    <tr>\n",
       "      <th>11</th>\n",
       "      <td>백차승</td>\n",
       "      <td>1980</td>\n",
       "      <td>투수</td>\n",
       "      <td></td>\n",
       "    </tr>\n",
       "    <tr>\n",
       "      <th>12</th>\n",
       "      <td>봉중근</td>\n",
       "      <td>1980</td>\n",
       "      <td>투수</td>\n",
       "      <td>https://www.koreabaseball.com/Record/Retire/Pitcher.aspx?playerId=77147</td>\n",
       "    </tr>\n",
       "    <tr>\n",
       "      <th>13</th>\n",
       "      <td>서재응</td>\n",
       "      <td>1977</td>\n",
       "      <td>투수</td>\n",
       "      <td>https://www.koreabaseball.com/Record/Retire/Pitcher.aspx?playerId=78640</td>\n",
       "    </tr>\n",
       "    <tr>\n",
       "      <th>14</th>\n",
       "      <td>오승환</td>\n",
       "      <td>1982</td>\n",
       "      <td>투수</td>\n",
       "      <td>https://www.koreabaseball.com/Record/Player/PitcherDetail/Basic.aspx?playerId=75421</td>\n",
       "    </tr>\n",
       "    <tr>\n",
       "      <th>15</th>\n",
       "      <td>이대호</td>\n",
       "      <td>1982</td>\n",
       "      <td>내야수</td>\n",
       "      <td>https://www.koreabaseball.com/Record/Player/HitterDetail/Basic.aspx?playerId=71564</td>\n",
       "    </tr>\n",
       "    <tr>\n",
       "      <th>16</th>\n",
       "      <td>이상훈</td>\n",
       "      <td>1971</td>\n",
       "      <td>투수</td>\n",
       "      <td>https://www.koreabaseball.com/Record/Retire/Pitcher.aspx?playerId=93147</td>\n",
       "    </tr>\n",
       "    <tr>\n",
       "      <th>17</th>\n",
       "      <td>임창용</td>\n",
       "      <td>1976</td>\n",
       "      <td>투수</td>\n",
       "      <td>https://www.koreabaseball.com/Record/Retire/Pitcher.aspx?playerId=95657</td>\n",
       "    </tr>\n",
       "    <tr>\n",
       "      <th>18</th>\n",
       "      <td>조진호</td>\n",
       "      <td>1975</td>\n",
       "      <td>투수</td>\n",
       "      <td>https://www.koreabaseball.com/Record/Retire/Pitcher.aspx?playerId=73830</td>\n",
       "    </tr>\n",
       "    <tr>\n",
       "      <th>19</th>\n",
       "      <td>최지만</td>\n",
       "      <td>1991</td>\n",
       "      <td>내야수</td>\n",
       "      <td></td>\n",
       "    </tr>\n",
       "    <tr>\n",
       "      <th>20</th>\n",
       "      <td>최희섭</td>\n",
       "      <td>1979</td>\n",
       "      <td>내야수</td>\n",
       "      <td>https://www.koreabaseball.com/Record/Retire/Hitter.aspx?playerId=77623</td>\n",
       "    </tr>\n",
       "    <tr>\n",
       "      <th>21</th>\n",
       "      <td>추신수</td>\n",
       "      <td>1982</td>\n",
       "      <td>외야수</td>\n",
       "      <td></td>\n",
       "    </tr>\n",
       "    <tr>\n",
       "      <th>22</th>\n",
       "      <td>황재균</td>\n",
       "      <td>1987</td>\n",
       "      <td>내야수</td>\n",
       "      <td>https://www.koreabaseball.com/Record/Player/HitterDetail/Basic.aspx?playerId=76313</td>\n",
       "    </tr>\n",
       "  </tbody>\n",
       "</table>\n",
       "</div>"
      ],
      "text/plain": [
       "   Name Birth_year Position                                                                             info_url\n",
       "0   강정호       1987      내야수               https://www.koreabaseball.com/Record/Retire/Hitter.aspx?playerId=76325\n",
       "1   구대성       1969       투수              https://www.koreabaseball.com/Record/Retire/Pitcher.aspx?playerId=93715\n",
       "2   김광현       1988       투수              https://www.koreabaseball.com/Record/Retire/Pitcher.aspx?playerId=77829\n",
       "3   김병현       1979       투수              https://www.koreabaseball.com/Record/Retire/Pitcher.aspx?playerId=62349\n",
       "4   김선우       1977       투수              https://www.koreabaseball.com/Record/Retire/Pitcher.aspx?playerId=78232\n",
       "5   김하성       1995      내야수               https://www.koreabaseball.com/Record/Retire/Hitter.aspx?playerId=64300\n",
       "6   김현수       1988      외야수   https://www.koreabaseball.com/Record/Player/HitterDetail/Basic.aspx?playerId=76290\n",
       "7   류제국       1983       투수              https://www.koreabaseball.com/Record/Retire/Pitcher.aspx?playerId=63111\n",
       "8   류현진       1987       투수              https://www.koreabaseball.com/Record/Retire/Pitcher.aspx?playerId=76715\n",
       "9   박병호       1986      내야수   https://www.koreabaseball.com/Record/Player/HitterDetail/Basic.aspx?playerId=75125\n",
       "10  박찬호       1973       투수              https://www.koreabaseball.com/Record/Retire/Pitcher.aspx?playerId=62761\n",
       "11  백차승       1980       투수                                                                                     \n",
       "12  봉중근       1980       투수              https://www.koreabaseball.com/Record/Retire/Pitcher.aspx?playerId=77147\n",
       "13  서재응       1977       투수              https://www.koreabaseball.com/Record/Retire/Pitcher.aspx?playerId=78640\n",
       "14  오승환       1982       투수  https://www.koreabaseball.com/Record/Player/PitcherDetail/Basic.aspx?playerId=75421\n",
       "15  이대호       1982      내야수   https://www.koreabaseball.com/Record/Player/HitterDetail/Basic.aspx?playerId=71564\n",
       "16  이상훈       1971       투수              https://www.koreabaseball.com/Record/Retire/Pitcher.aspx?playerId=93147\n",
       "17  임창용       1976       투수              https://www.koreabaseball.com/Record/Retire/Pitcher.aspx?playerId=95657\n",
       "18  조진호       1975       투수              https://www.koreabaseball.com/Record/Retire/Pitcher.aspx?playerId=73830\n",
       "19  최지만       1991      내야수                                                                                     \n",
       "20  최희섭       1979      내야수               https://www.koreabaseball.com/Record/Retire/Hitter.aspx?playerId=77623\n",
       "21  추신수       1982      외야수                                                                                     \n",
       "22  황재균       1987      내야수   https://www.koreabaseball.com/Record/Player/HitterDetail/Basic.aspx?playerId=76313"
      ]
     },
     "execution_count": 190,
     "metadata": {},
     "output_type": "execute_result"
    }
   ],
   "source": [
    "korean_majorleaguer_df"
   ]
  },
  {
   "cell_type": "markdown",
   "metadata": {},
   "source": [
    "<h2>$출루율 = \\frac{안타 + 볼넷 + 몸에맞는볼}{타수 + 볼넷 + 몸에맞는볼 + 희생플라이}$</h2>\n",
    "<h3>하지만 희생플라이 데이터가 없어 제외시키고 출루율을 구하였더니, 2010년~2020년 동안 0.3에서 0.5사이에 출루율(희생플라이 제외)이 분포해 있는 것을 알 수 있다.</h3>"
   ]
  },
  {
   "cell_type": "markdown",
   "metadata": {},
   "source": [
    "<h3>KBO</h3>"
   ]
  },
  {
   "cell_type": "code",
   "execution_count": 191,
   "metadata": {},
   "outputs": [
    {
     "data": {
      "application/vnd.plotly.v1+json": {
       "config": {
        "plotlyServerURL": "https://plot.ly"
       },
       "data": [
        {
         "hovertemplate": "최형우(%{y})",
         "name": "최형우",
         "type": "scatter",
         "x": [
          2002,
          2004,
          2008,
          2009,
          2010,
          2011,
          2012,
          2013,
          2014,
          2015,
          2016,
          2017,
          2018,
          2019,
          2020
         ],
         "y": [
          0.4,
          0,
          0.364,
          0.375,
          0.389,
          0.427,
          0.348,
          0.366,
          0.426,
          0.402,
          0.464,
          0.45,
          0.414,
          0.413,
          0.433
         ]
        },
        {
         "hovertemplate": "손아섭(%{y})",
         "name": "손아섭",
         "type": "scatter",
         "x": [
          2007,
          2008,
          2009,
          2010,
          2011,
          2012,
          2013,
          2014,
          2015,
          2016,
          2017,
          2018,
          2019,
          2020
         ],
         "y": [
          0.167,
          0.387,
          0.263,
          0.377,
          0.385,
          0.37,
          0.421,
          0.456,
          0.406,
          0.418,
          0.42,
          0.404,
          0.36,
          0.415
         ]
        },
        {
         "hovertemplate": "박민우(%{y})",
         "name": "박민우",
         "type": "scatter",
         "x": [
          2013,
          2014,
          2015,
          2016,
          2017,
          2018,
          2019,
          2020
         ],
         "y": [
          0.34,
          0.392,
          0.399,
          0.42,
          0.441,
          0.383,
          0.403,
          0.402
         ]
        },
        {
         "hovertemplate": "페르난데스(%{y})",
         "name": "페르난데스",
         "type": "scatter",
         "x": [
          2019,
          2020
         ],
         "y": [
          0.409,
          0.404
         ]
        },
        {
         "hovertemplate": "이정후(%{y})",
         "name": "이정후",
         "type": "scatter",
         "x": [
          2017,
          2018,
          2019,
          2020
         ],
         "y": [
          0.395,
          0.412,
          0.386,
          0.397
         ]
        },
        {
         "hovertemplate": "허경민(%{y})",
         "name": "허경민",
         "type": "scatter",
         "x": [
          2012,
          2013,
          2014,
          2015,
          2016,
          2017,
          2018,
          2019,
          2020
         ],
         "y": [
          0.317,
          0.387,
          0.335,
          0.373,
          0.36,
          0.327,
          0.376,
          0.35,
          0.382
         ]
        },
        {
         "hovertemplate": "김현수(%{y})",
         "name": "김현수",
         "type": "scatter",
         "x": [
          2006,
          2007,
          2008,
          2009,
          2010,
          2011,
          2012,
          2013,
          2014,
          2015,
          2018,
          2019,
          2020
         ],
         "y": [
          0,
          0.335,
          0.454,
          0.448,
          0.414,
          0.392,
          0.358,
          0.382,
          0.396,
          0.438,
          0.415,
          0.37,
          0.397
         ]
        },
        {
         "hovertemplate": "강백호(%{y})",
         "name": "강백호",
         "type": "scatter",
         "x": [
          2018,
          2019,
          2020
         ],
         "y": [
          0.356,
          0.416,
          0.411
         ]
        },
        {
         "hovertemplate": "양의지(%{y})",
         "name": "양의지",
         "type": "scatter",
         "x": [
          2007,
          2010,
          2011,
          2012,
          2013,
          2014,
          2015,
          2016,
          2017,
          2018,
          2019,
          2020
         ],
         "y": [
          0,
          0.348,
          0.375,
          0.361,
          0.338,
          0.36,
          0.405,
          0.404,
          0.373,
          0.427,
          0.438,
          0.4
         ]
        }
       ],
       "layout": {
        "plot_bgcolor": "rgb(245, 245, 245)",
        "template": {
         "data": {
          "bar": [
           {
            "error_x": {
             "color": "#2a3f5f"
            },
            "error_y": {
             "color": "#2a3f5f"
            },
            "marker": {
             "line": {
              "color": "#E5ECF6",
              "width": 0.5
             }
            },
            "type": "bar"
           }
          ],
          "barpolar": [
           {
            "marker": {
             "line": {
              "color": "#E5ECF6",
              "width": 0.5
             }
            },
            "type": "barpolar"
           }
          ],
          "carpet": [
           {
            "aaxis": {
             "endlinecolor": "#2a3f5f",
             "gridcolor": "white",
             "linecolor": "white",
             "minorgridcolor": "white",
             "startlinecolor": "#2a3f5f"
            },
            "baxis": {
             "endlinecolor": "#2a3f5f",
             "gridcolor": "white",
             "linecolor": "white",
             "minorgridcolor": "white",
             "startlinecolor": "#2a3f5f"
            },
            "type": "carpet"
           }
          ],
          "choropleth": [
           {
            "colorbar": {
             "outlinewidth": 0,
             "ticks": ""
            },
            "type": "choropleth"
           }
          ],
          "contour": [
           {
            "colorbar": {
             "outlinewidth": 0,
             "ticks": ""
            },
            "colorscale": [
             [
              0,
              "#0d0887"
             ],
             [
              0.1111111111111111,
              "#46039f"
             ],
             [
              0.2222222222222222,
              "#7201a8"
             ],
             [
              0.3333333333333333,
              "#9c179e"
             ],
             [
              0.4444444444444444,
              "#bd3786"
             ],
             [
              0.5555555555555556,
              "#d8576b"
             ],
             [
              0.6666666666666666,
              "#ed7953"
             ],
             [
              0.7777777777777778,
              "#fb9f3a"
             ],
             [
              0.8888888888888888,
              "#fdca26"
             ],
             [
              1,
              "#f0f921"
             ]
            ],
            "type": "contour"
           }
          ],
          "contourcarpet": [
           {
            "colorbar": {
             "outlinewidth": 0,
             "ticks": ""
            },
            "type": "contourcarpet"
           }
          ],
          "heatmap": [
           {
            "colorbar": {
             "outlinewidth": 0,
             "ticks": ""
            },
            "colorscale": [
             [
              0,
              "#0d0887"
             ],
             [
              0.1111111111111111,
              "#46039f"
             ],
             [
              0.2222222222222222,
              "#7201a8"
             ],
             [
              0.3333333333333333,
              "#9c179e"
             ],
             [
              0.4444444444444444,
              "#bd3786"
             ],
             [
              0.5555555555555556,
              "#d8576b"
             ],
             [
              0.6666666666666666,
              "#ed7953"
             ],
             [
              0.7777777777777778,
              "#fb9f3a"
             ],
             [
              0.8888888888888888,
              "#fdca26"
             ],
             [
              1,
              "#f0f921"
             ]
            ],
            "type": "heatmap"
           }
          ],
          "heatmapgl": [
           {
            "colorbar": {
             "outlinewidth": 0,
             "ticks": ""
            },
            "colorscale": [
             [
              0,
              "#0d0887"
             ],
             [
              0.1111111111111111,
              "#46039f"
             ],
             [
              0.2222222222222222,
              "#7201a8"
             ],
             [
              0.3333333333333333,
              "#9c179e"
             ],
             [
              0.4444444444444444,
              "#bd3786"
             ],
             [
              0.5555555555555556,
              "#d8576b"
             ],
             [
              0.6666666666666666,
              "#ed7953"
             ],
             [
              0.7777777777777778,
              "#fb9f3a"
             ],
             [
              0.8888888888888888,
              "#fdca26"
             ],
             [
              1,
              "#f0f921"
             ]
            ],
            "type": "heatmapgl"
           }
          ],
          "histogram": [
           {
            "marker": {
             "colorbar": {
              "outlinewidth": 0,
              "ticks": ""
             }
            },
            "type": "histogram"
           }
          ],
          "histogram2d": [
           {
            "colorbar": {
             "outlinewidth": 0,
             "ticks": ""
            },
            "colorscale": [
             [
              0,
              "#0d0887"
             ],
             [
              0.1111111111111111,
              "#46039f"
             ],
             [
              0.2222222222222222,
              "#7201a8"
             ],
             [
              0.3333333333333333,
              "#9c179e"
             ],
             [
              0.4444444444444444,
              "#bd3786"
             ],
             [
              0.5555555555555556,
              "#d8576b"
             ],
             [
              0.6666666666666666,
              "#ed7953"
             ],
             [
              0.7777777777777778,
              "#fb9f3a"
             ],
             [
              0.8888888888888888,
              "#fdca26"
             ],
             [
              1,
              "#f0f921"
             ]
            ],
            "type": "histogram2d"
           }
          ],
          "histogram2dcontour": [
           {
            "colorbar": {
             "outlinewidth": 0,
             "ticks": ""
            },
            "colorscale": [
             [
              0,
              "#0d0887"
             ],
             [
              0.1111111111111111,
              "#46039f"
             ],
             [
              0.2222222222222222,
              "#7201a8"
             ],
             [
              0.3333333333333333,
              "#9c179e"
             ],
             [
              0.4444444444444444,
              "#bd3786"
             ],
             [
              0.5555555555555556,
              "#d8576b"
             ],
             [
              0.6666666666666666,
              "#ed7953"
             ],
             [
              0.7777777777777778,
              "#fb9f3a"
             ],
             [
              0.8888888888888888,
              "#fdca26"
             ],
             [
              1,
              "#f0f921"
             ]
            ],
            "type": "histogram2dcontour"
           }
          ],
          "mesh3d": [
           {
            "colorbar": {
             "outlinewidth": 0,
             "ticks": ""
            },
            "type": "mesh3d"
           }
          ],
          "parcoords": [
           {
            "line": {
             "colorbar": {
              "outlinewidth": 0,
              "ticks": ""
             }
            },
            "type": "parcoords"
           }
          ],
          "pie": [
           {
            "automargin": true,
            "type": "pie"
           }
          ],
          "scatter": [
           {
            "marker": {
             "colorbar": {
              "outlinewidth": 0,
              "ticks": ""
             }
            },
            "type": "scatter"
           }
          ],
          "scatter3d": [
           {
            "line": {
             "colorbar": {
              "outlinewidth": 0,
              "ticks": ""
             }
            },
            "marker": {
             "colorbar": {
              "outlinewidth": 0,
              "ticks": ""
             }
            },
            "type": "scatter3d"
           }
          ],
          "scattercarpet": [
           {
            "marker": {
             "colorbar": {
              "outlinewidth": 0,
              "ticks": ""
             }
            },
            "type": "scattercarpet"
           }
          ],
          "scattergeo": [
           {
            "marker": {
             "colorbar": {
              "outlinewidth": 0,
              "ticks": ""
             }
            },
            "type": "scattergeo"
           }
          ],
          "scattergl": [
           {
            "marker": {
             "colorbar": {
              "outlinewidth": 0,
              "ticks": ""
             }
            },
            "type": "scattergl"
           }
          ],
          "scattermapbox": [
           {
            "marker": {
             "colorbar": {
              "outlinewidth": 0,
              "ticks": ""
             }
            },
            "type": "scattermapbox"
           }
          ],
          "scatterpolar": [
           {
            "marker": {
             "colorbar": {
              "outlinewidth": 0,
              "ticks": ""
             }
            },
            "type": "scatterpolar"
           }
          ],
          "scatterpolargl": [
           {
            "marker": {
             "colorbar": {
              "outlinewidth": 0,
              "ticks": ""
             }
            },
            "type": "scatterpolargl"
           }
          ],
          "scatterternary": [
           {
            "marker": {
             "colorbar": {
              "outlinewidth": 0,
              "ticks": ""
             }
            },
            "type": "scatterternary"
           }
          ],
          "surface": [
           {
            "colorbar": {
             "outlinewidth": 0,
             "ticks": ""
            },
            "colorscale": [
             [
              0,
              "#0d0887"
             ],
             [
              0.1111111111111111,
              "#46039f"
             ],
             [
              0.2222222222222222,
              "#7201a8"
             ],
             [
              0.3333333333333333,
              "#9c179e"
             ],
             [
              0.4444444444444444,
              "#bd3786"
             ],
             [
              0.5555555555555556,
              "#d8576b"
             ],
             [
              0.6666666666666666,
              "#ed7953"
             ],
             [
              0.7777777777777778,
              "#fb9f3a"
             ],
             [
              0.8888888888888888,
              "#fdca26"
             ],
             [
              1,
              "#f0f921"
             ]
            ],
            "type": "surface"
           }
          ],
          "table": [
           {
            "cells": {
             "fill": {
              "color": "#EBF0F8"
             },
             "line": {
              "color": "white"
             }
            },
            "header": {
             "fill": {
              "color": "#C8D4E3"
             },
             "line": {
              "color": "white"
             }
            },
            "type": "table"
           }
          ]
         },
         "layout": {
          "annotationdefaults": {
           "arrowcolor": "#2a3f5f",
           "arrowhead": 0,
           "arrowwidth": 1
          },
          "autotypenumbers": "strict",
          "coloraxis": {
           "colorbar": {
            "outlinewidth": 0,
            "ticks": ""
           }
          },
          "colorscale": {
           "diverging": [
            [
             0,
             "#8e0152"
            ],
            [
             0.1,
             "#c51b7d"
            ],
            [
             0.2,
             "#de77ae"
            ],
            [
             0.3,
             "#f1b6da"
            ],
            [
             0.4,
             "#fde0ef"
            ],
            [
             0.5,
             "#f7f7f7"
            ],
            [
             0.6,
             "#e6f5d0"
            ],
            [
             0.7,
             "#b8e186"
            ],
            [
             0.8,
             "#7fbc41"
            ],
            [
             0.9,
             "#4d9221"
            ],
            [
             1,
             "#276419"
            ]
           ],
           "sequential": [
            [
             0,
             "#0d0887"
            ],
            [
             0.1111111111111111,
             "#46039f"
            ],
            [
             0.2222222222222222,
             "#7201a8"
            ],
            [
             0.3333333333333333,
             "#9c179e"
            ],
            [
             0.4444444444444444,
             "#bd3786"
            ],
            [
             0.5555555555555556,
             "#d8576b"
            ],
            [
             0.6666666666666666,
             "#ed7953"
            ],
            [
             0.7777777777777778,
             "#fb9f3a"
            ],
            [
             0.8888888888888888,
             "#fdca26"
            ],
            [
             1,
             "#f0f921"
            ]
           ],
           "sequentialminus": [
            [
             0,
             "#0d0887"
            ],
            [
             0.1111111111111111,
             "#46039f"
            ],
            [
             0.2222222222222222,
             "#7201a8"
            ],
            [
             0.3333333333333333,
             "#9c179e"
            ],
            [
             0.4444444444444444,
             "#bd3786"
            ],
            [
             0.5555555555555556,
             "#d8576b"
            ],
            [
             0.6666666666666666,
             "#ed7953"
            ],
            [
             0.7777777777777778,
             "#fb9f3a"
            ],
            [
             0.8888888888888888,
             "#fdca26"
            ],
            [
             1,
             "#f0f921"
            ]
           ]
          },
          "colorway": [
           "#636efa",
           "#EF553B",
           "#00cc96",
           "#ab63fa",
           "#FFA15A",
           "#19d3f3",
           "#FF6692",
           "#B6E880",
           "#FF97FF",
           "#FECB52"
          ],
          "font": {
           "color": "#2a3f5f"
          },
          "geo": {
           "bgcolor": "white",
           "lakecolor": "white",
           "landcolor": "#E5ECF6",
           "showlakes": true,
           "showland": true,
           "subunitcolor": "white"
          },
          "hoverlabel": {
           "align": "left"
          },
          "hovermode": "closest",
          "mapbox": {
           "style": "light"
          },
          "paper_bgcolor": "white",
          "plot_bgcolor": "#E5ECF6",
          "polar": {
           "angularaxis": {
            "gridcolor": "white",
            "linecolor": "white",
            "ticks": ""
           },
           "bgcolor": "#E5ECF6",
           "radialaxis": {
            "gridcolor": "white",
            "linecolor": "white",
            "ticks": ""
           }
          },
          "scene": {
           "xaxis": {
            "backgroundcolor": "#E5ECF6",
            "gridcolor": "white",
            "gridwidth": 2,
            "linecolor": "white",
            "showbackground": true,
            "ticks": "",
            "zerolinecolor": "white"
           },
           "yaxis": {
            "backgroundcolor": "#E5ECF6",
            "gridcolor": "white",
            "gridwidth": 2,
            "linecolor": "white",
            "showbackground": true,
            "ticks": "",
            "zerolinecolor": "white"
           },
           "zaxis": {
            "backgroundcolor": "#E5ECF6",
            "gridcolor": "white",
            "gridwidth": 2,
            "linecolor": "white",
            "showbackground": true,
            "ticks": "",
            "zerolinecolor": "white"
           }
          },
          "shapedefaults": {
           "line": {
            "color": "#2a3f5f"
           }
          },
          "ternary": {
           "aaxis": {
            "gridcolor": "white",
            "linecolor": "white",
            "ticks": ""
           },
           "baxis": {
            "gridcolor": "white",
            "linecolor": "white",
            "ticks": ""
           },
           "bgcolor": "#E5ECF6",
           "caxis": {
            "gridcolor": "white",
            "linecolor": "white",
            "ticks": ""
           }
          },
          "title": {
           "x": 0.05
          },
          "xaxis": {
           "automargin": true,
           "gridcolor": "white",
           "linecolor": "white",
           "ticks": "",
           "title": {
            "standoff": 15
           },
           "zerolinecolor": "white",
           "zerolinewidth": 2
          },
          "yaxis": {
           "automargin": true,
           "gridcolor": "white",
           "linecolor": "white",
           "ticks": "",
           "title": {
            "standoff": 15
           },
           "zerolinecolor": "white",
           "zerolinewidth": 2
          }
         }
        },
        "title": {
         "text": "KBO top10 출루율"
        },
        "xaxis": {
         "showgrid": false,
         "zeroline": false
        },
        "yaxis": {
         "showgrid": false,
         "zeroline": false
        }
       }
      },
      "text/html": [
       "<div>                            <div id=\"fa4319cb-25f3-48e0-a2ad-58c8ebd112a0\" class=\"plotly-graph-div\" style=\"height:525px; width:100%;\"></div>            <script type=\"text/javascript\">                require([\"plotly\"], function(Plotly) {                    window.PLOTLYENV=window.PLOTLYENV || {};                                    if (document.getElementById(\"fa4319cb-25f3-48e0-a2ad-58c8ebd112a0\")) {                    Plotly.newPlot(                        \"fa4319cb-25f3-48e0-a2ad-58c8ebd112a0\",                        [{\"hovertemplate\": \"\\ucd5c\\ud615\\uc6b0(%{y})\", \"name\": \"\\ucd5c\\ud615\\uc6b0\", \"type\": \"scatter\", \"x\": [2002, 2004, 2008, 2009, 2010, 2011, 2012, 2013, 2014, 2015, 2016, 2017, 2018, 2019, 2020], \"y\": [0.4, 0.0, 0.364, 0.375, 0.389, 0.427, 0.348, 0.366, 0.426, 0.402, 0.464, 0.45, 0.414, 0.413, 0.433]}, {\"hovertemplate\": \"\\uc190\\uc544\\uc12d(%{y})\", \"name\": \"\\uc190\\uc544\\uc12d\", \"type\": \"scatter\", \"x\": [2007, 2008, 2009, 2010, 2011, 2012, 2013, 2014, 2015, 2016, 2017, 2018, 2019, 2020], \"y\": [0.167, 0.387, 0.263, 0.377, 0.385, 0.37, 0.421, 0.456, 0.406, 0.418, 0.42, 0.404, 0.36, 0.415]}, {\"hovertemplate\": \"\\ubc15\\ubbfc\\uc6b0(%{y})\", \"name\": \"\\ubc15\\ubbfc\\uc6b0\", \"type\": \"scatter\", \"x\": [2013, 2014, 2015, 2016, 2017, 2018, 2019, 2020], \"y\": [0.34, 0.392, 0.399, 0.42, 0.441, 0.383, 0.403, 0.402]}, {\"hovertemplate\": \"\\ud398\\ub974\\ub09c\\ub370\\uc2a4(%{y})\", \"name\": \"\\ud398\\ub974\\ub09c\\ub370\\uc2a4\", \"type\": \"scatter\", \"x\": [2019, 2020], \"y\": [0.409, 0.404]}, {\"hovertemplate\": \"\\uc774\\uc815\\ud6c4(%{y})\", \"name\": \"\\uc774\\uc815\\ud6c4\", \"type\": \"scatter\", \"x\": [2017, 2018, 2019, 2020], \"y\": [0.395, 0.412, 0.386, 0.397]}, {\"hovertemplate\": \"\\ud5c8\\uacbd\\ubbfc(%{y})\", \"name\": \"\\ud5c8\\uacbd\\ubbfc\", \"type\": \"scatter\", \"x\": [2012, 2013, 2014, 2015, 2016, 2017, 2018, 2019, 2020], \"y\": [0.317, 0.387, 0.335, 0.373, 0.36, 0.327, 0.376, 0.35, 0.382]}, {\"hovertemplate\": \"\\uae40\\ud604\\uc218(%{y})\", \"name\": \"\\uae40\\ud604\\uc218\", \"type\": \"scatter\", \"x\": [2006, 2007, 2008, 2009, 2010, 2011, 2012, 2013, 2014, 2015, 2018, 2019, 2020], \"y\": [0.0, 0.335, 0.454, 0.448, 0.414, 0.392, 0.358, 0.382, 0.396, 0.438, 0.415, 0.37, 0.397]}, {\"hovertemplate\": \"\\uac15\\ubc31\\ud638(%{y})\", \"name\": \"\\uac15\\ubc31\\ud638\", \"type\": \"scatter\", \"x\": [2018, 2019, 2020], \"y\": [0.356, 0.416, 0.411]}, {\"hovertemplate\": \"\\uc591\\uc758\\uc9c0(%{y})\", \"name\": \"\\uc591\\uc758\\uc9c0\", \"type\": \"scatter\", \"x\": [2007, 2010, 2011, 2012, 2013, 2014, 2015, 2016, 2017, 2018, 2019, 2020], \"y\": [0.0, 0.348, 0.375, 0.361, 0.338, 0.36, 0.405, 0.404, 0.373, 0.427, 0.438, 0.4]}],                        {\"plot_bgcolor\": \"rgb(245, 245, 245)\", \"template\": {\"data\": {\"bar\": [{\"error_x\": {\"color\": \"#2a3f5f\"}, \"error_y\": {\"color\": \"#2a3f5f\"}, \"marker\": {\"line\": {\"color\": \"#E5ECF6\", \"width\": 0.5}}, \"type\": \"bar\"}], \"barpolar\": [{\"marker\": {\"line\": {\"color\": \"#E5ECF6\", \"width\": 0.5}}, \"type\": \"barpolar\"}], \"carpet\": [{\"aaxis\": {\"endlinecolor\": \"#2a3f5f\", \"gridcolor\": \"white\", \"linecolor\": \"white\", \"minorgridcolor\": \"white\", \"startlinecolor\": \"#2a3f5f\"}, \"baxis\": {\"endlinecolor\": \"#2a3f5f\", \"gridcolor\": \"white\", \"linecolor\": \"white\", \"minorgridcolor\": \"white\", \"startlinecolor\": \"#2a3f5f\"}, \"type\": \"carpet\"}], \"choropleth\": [{\"colorbar\": {\"outlinewidth\": 0, \"ticks\": \"\"}, \"type\": \"choropleth\"}], \"contour\": [{\"colorbar\": {\"outlinewidth\": 0, \"ticks\": \"\"}, \"colorscale\": [[0.0, \"#0d0887\"], [0.1111111111111111, \"#46039f\"], [0.2222222222222222, \"#7201a8\"], [0.3333333333333333, \"#9c179e\"], [0.4444444444444444, \"#bd3786\"], [0.5555555555555556, \"#d8576b\"], [0.6666666666666666, \"#ed7953\"], [0.7777777777777778, \"#fb9f3a\"], [0.8888888888888888, \"#fdca26\"], [1.0, \"#f0f921\"]], \"type\": \"contour\"}], \"contourcarpet\": [{\"colorbar\": {\"outlinewidth\": 0, \"ticks\": \"\"}, \"type\": \"contourcarpet\"}], \"heatmap\": [{\"colorbar\": {\"outlinewidth\": 0, \"ticks\": \"\"}, \"colorscale\": [[0.0, \"#0d0887\"], [0.1111111111111111, \"#46039f\"], [0.2222222222222222, \"#7201a8\"], [0.3333333333333333, \"#9c179e\"], [0.4444444444444444, \"#bd3786\"], [0.5555555555555556, \"#d8576b\"], [0.6666666666666666, \"#ed7953\"], [0.7777777777777778, \"#fb9f3a\"], [0.8888888888888888, \"#fdca26\"], [1.0, \"#f0f921\"]], \"type\": \"heatmap\"}], \"heatmapgl\": [{\"colorbar\": {\"outlinewidth\": 0, \"ticks\": \"\"}, \"colorscale\": [[0.0, \"#0d0887\"], [0.1111111111111111, \"#46039f\"], [0.2222222222222222, \"#7201a8\"], [0.3333333333333333, \"#9c179e\"], [0.4444444444444444, \"#bd3786\"], [0.5555555555555556, \"#d8576b\"], [0.6666666666666666, \"#ed7953\"], [0.7777777777777778, \"#fb9f3a\"], [0.8888888888888888, \"#fdca26\"], [1.0, \"#f0f921\"]], \"type\": \"heatmapgl\"}], \"histogram\": [{\"marker\": {\"colorbar\": {\"outlinewidth\": 0, \"ticks\": \"\"}}, \"type\": \"histogram\"}], \"histogram2d\": [{\"colorbar\": {\"outlinewidth\": 0, \"ticks\": \"\"}, \"colorscale\": [[0.0, \"#0d0887\"], [0.1111111111111111, \"#46039f\"], [0.2222222222222222, \"#7201a8\"], [0.3333333333333333, \"#9c179e\"], [0.4444444444444444, \"#bd3786\"], [0.5555555555555556, \"#d8576b\"], [0.6666666666666666, \"#ed7953\"], [0.7777777777777778, \"#fb9f3a\"], [0.8888888888888888, \"#fdca26\"], [1.0, \"#f0f921\"]], \"type\": \"histogram2d\"}], \"histogram2dcontour\": [{\"colorbar\": {\"outlinewidth\": 0, \"ticks\": \"\"}, \"colorscale\": [[0.0, \"#0d0887\"], [0.1111111111111111, \"#46039f\"], [0.2222222222222222, \"#7201a8\"], [0.3333333333333333, \"#9c179e\"], [0.4444444444444444, \"#bd3786\"], [0.5555555555555556, \"#d8576b\"], [0.6666666666666666, \"#ed7953\"], [0.7777777777777778, \"#fb9f3a\"], [0.8888888888888888, \"#fdca26\"], [1.0, \"#f0f921\"]], \"type\": \"histogram2dcontour\"}], \"mesh3d\": [{\"colorbar\": {\"outlinewidth\": 0, \"ticks\": \"\"}, \"type\": \"mesh3d\"}], \"parcoords\": [{\"line\": {\"colorbar\": {\"outlinewidth\": 0, \"ticks\": \"\"}}, \"type\": \"parcoords\"}], \"pie\": [{\"automargin\": true, \"type\": \"pie\"}], \"scatter\": [{\"marker\": {\"colorbar\": {\"outlinewidth\": 0, \"ticks\": \"\"}}, \"type\": \"scatter\"}], \"scatter3d\": [{\"line\": {\"colorbar\": {\"outlinewidth\": 0, \"ticks\": \"\"}}, \"marker\": {\"colorbar\": {\"outlinewidth\": 0, \"ticks\": \"\"}}, \"type\": \"scatter3d\"}], \"scattercarpet\": [{\"marker\": {\"colorbar\": {\"outlinewidth\": 0, \"ticks\": \"\"}}, \"type\": \"scattercarpet\"}], \"scattergeo\": [{\"marker\": {\"colorbar\": {\"outlinewidth\": 0, \"ticks\": \"\"}}, \"type\": \"scattergeo\"}], \"scattergl\": [{\"marker\": {\"colorbar\": {\"outlinewidth\": 0, \"ticks\": \"\"}}, \"type\": \"scattergl\"}], \"scattermapbox\": [{\"marker\": {\"colorbar\": {\"outlinewidth\": 0, \"ticks\": \"\"}}, \"type\": \"scattermapbox\"}], \"scatterpolar\": [{\"marker\": {\"colorbar\": {\"outlinewidth\": 0, \"ticks\": \"\"}}, \"type\": \"scatterpolar\"}], \"scatterpolargl\": [{\"marker\": {\"colorbar\": {\"outlinewidth\": 0, \"ticks\": \"\"}}, \"type\": \"scatterpolargl\"}], \"scatterternary\": [{\"marker\": {\"colorbar\": {\"outlinewidth\": 0, \"ticks\": \"\"}}, \"type\": \"scatterternary\"}], \"surface\": [{\"colorbar\": {\"outlinewidth\": 0, \"ticks\": \"\"}, \"colorscale\": [[0.0, \"#0d0887\"], [0.1111111111111111, \"#46039f\"], [0.2222222222222222, \"#7201a8\"], [0.3333333333333333, \"#9c179e\"], [0.4444444444444444, \"#bd3786\"], [0.5555555555555556, \"#d8576b\"], [0.6666666666666666, \"#ed7953\"], [0.7777777777777778, \"#fb9f3a\"], [0.8888888888888888, \"#fdca26\"], [1.0, \"#f0f921\"]], \"type\": \"surface\"}], \"table\": [{\"cells\": {\"fill\": {\"color\": \"#EBF0F8\"}, \"line\": {\"color\": \"white\"}}, \"header\": {\"fill\": {\"color\": \"#C8D4E3\"}, \"line\": {\"color\": \"white\"}}, \"type\": \"table\"}]}, \"layout\": {\"annotationdefaults\": {\"arrowcolor\": \"#2a3f5f\", \"arrowhead\": 0, \"arrowwidth\": 1}, \"autotypenumbers\": \"strict\", \"coloraxis\": {\"colorbar\": {\"outlinewidth\": 0, \"ticks\": \"\"}}, \"colorscale\": {\"diverging\": [[0, \"#8e0152\"], [0.1, \"#c51b7d\"], [0.2, \"#de77ae\"], [0.3, \"#f1b6da\"], [0.4, \"#fde0ef\"], [0.5, \"#f7f7f7\"], [0.6, \"#e6f5d0\"], [0.7, \"#b8e186\"], [0.8, \"#7fbc41\"], [0.9, \"#4d9221\"], [1, \"#276419\"]], \"sequential\": [[0.0, \"#0d0887\"], [0.1111111111111111, \"#46039f\"], [0.2222222222222222, \"#7201a8\"], [0.3333333333333333, \"#9c179e\"], [0.4444444444444444, \"#bd3786\"], [0.5555555555555556, \"#d8576b\"], [0.6666666666666666, \"#ed7953\"], [0.7777777777777778, \"#fb9f3a\"], [0.8888888888888888, \"#fdca26\"], [1.0, \"#f0f921\"]], \"sequentialminus\": [[0.0, \"#0d0887\"], [0.1111111111111111, \"#46039f\"], [0.2222222222222222, \"#7201a8\"], [0.3333333333333333, \"#9c179e\"], [0.4444444444444444, \"#bd3786\"], [0.5555555555555556, \"#d8576b\"], [0.6666666666666666, \"#ed7953\"], [0.7777777777777778, \"#fb9f3a\"], [0.8888888888888888, \"#fdca26\"], [1.0, \"#f0f921\"]]}, \"colorway\": [\"#636efa\", \"#EF553B\", \"#00cc96\", \"#ab63fa\", \"#FFA15A\", \"#19d3f3\", \"#FF6692\", \"#B6E880\", \"#FF97FF\", \"#FECB52\"], \"font\": {\"color\": \"#2a3f5f\"}, \"geo\": {\"bgcolor\": \"white\", \"lakecolor\": \"white\", \"landcolor\": \"#E5ECF6\", \"showlakes\": true, \"showland\": true, \"subunitcolor\": \"white\"}, \"hoverlabel\": {\"align\": \"left\"}, \"hovermode\": \"closest\", \"mapbox\": {\"style\": \"light\"}, \"paper_bgcolor\": \"white\", \"plot_bgcolor\": \"#E5ECF6\", \"polar\": {\"angularaxis\": {\"gridcolor\": \"white\", \"linecolor\": \"white\", \"ticks\": \"\"}, \"bgcolor\": \"#E5ECF6\", \"radialaxis\": {\"gridcolor\": \"white\", \"linecolor\": \"white\", \"ticks\": \"\"}}, \"scene\": {\"xaxis\": {\"backgroundcolor\": \"#E5ECF6\", \"gridcolor\": \"white\", \"gridwidth\": 2, \"linecolor\": \"white\", \"showbackground\": true, \"ticks\": \"\", \"zerolinecolor\": \"white\"}, \"yaxis\": {\"backgroundcolor\": \"#E5ECF6\", \"gridcolor\": \"white\", \"gridwidth\": 2, \"linecolor\": \"white\", \"showbackground\": true, \"ticks\": \"\", \"zerolinecolor\": \"white\"}, \"zaxis\": {\"backgroundcolor\": \"#E5ECF6\", \"gridcolor\": \"white\", \"gridwidth\": 2, \"linecolor\": \"white\", \"showbackground\": true, \"ticks\": \"\", \"zerolinecolor\": \"white\"}}, \"shapedefaults\": {\"line\": {\"color\": \"#2a3f5f\"}}, \"ternary\": {\"aaxis\": {\"gridcolor\": \"white\", \"linecolor\": \"white\", \"ticks\": \"\"}, \"baxis\": {\"gridcolor\": \"white\", \"linecolor\": \"white\", \"ticks\": \"\"}, \"bgcolor\": \"#E5ECF6\", \"caxis\": {\"gridcolor\": \"white\", \"linecolor\": \"white\", \"ticks\": \"\"}}, \"title\": {\"x\": 0.05}, \"xaxis\": {\"automargin\": true, \"gridcolor\": \"white\", \"linecolor\": \"white\", \"ticks\": \"\", \"title\": {\"standoff\": 15}, \"zerolinecolor\": \"white\", \"zerolinewidth\": 2}, \"yaxis\": {\"automargin\": true, \"gridcolor\": \"white\", \"linecolor\": \"white\", \"ticks\": \"\", \"title\": {\"standoff\": 15}, \"zerolinecolor\": \"white\", \"zerolinewidth\": 2}}}, \"title\": {\"text\": \"KBO top10 \\ucd9c\\ub8e8\\uc728\"}, \"xaxis\": {\"showgrid\": false, \"zeroline\": false}, \"yaxis\": {\"showgrid\": false, \"zeroline\": false}},                        {\"responsive\": true}                    ).then(function(){\n",
       "                            \n",
       "var gd = document.getElementById('fa4319cb-25f3-48e0-a2ad-58c8ebd112a0');\n",
       "var x = new MutationObserver(function (mutations, observer) {{\n",
       "        var display = window.getComputedStyle(gd).display;\n",
       "        if (!display || display === 'none') {{\n",
       "            console.log([gd, 'removed!']);\n",
       "            Plotly.purge(gd);\n",
       "            observer.disconnect();\n",
       "        }}\n",
       "}});\n",
       "\n",
       "// Listen for the removal of the full notebook cells\n",
       "var notebookContainer = gd.closest('#notebook-container');\n",
       "if (notebookContainer) {{\n",
       "    x.observe(notebookContainer, {childList: true});\n",
       "}}\n",
       "\n",
       "// Listen for the clearing of the current output cell\n",
       "var outputEl = gd.closest('.output');\n",
       "if (outputEl) {{\n",
       "    x.observe(outputEl, {childList: true});\n",
       "}}\n",
       "\n",
       "                        })                };                });            </script>        </div>"
      ]
     },
     "metadata": {},
     "output_type": "display_data"
    }
   ],
   "source": [
    "fig = go.Figure()\n",
    "\n",
    "for name in top10_hitter_dict.keys():\n",
    "    player = top10_hitter_dict[name][['연도', '출루율']]\n",
    "    fig.add_trace(go.Scatter(x=player['연도'][:-1].astype(int),\n",
    "                            y=player['출루율'][:-1].astype(float),\n",
    "                            hovertemplate=name+'(%{y})',\n",
    "                            name=name))\n",
    "\n",
    "fig.update_yaxes(showgrid=False, zeroline=False)\n",
    "fig.update_xaxes(showgrid=False, zeroline=False)\n",
    "fig.update_layout(title='KBO top10 출루율',\n",
    "                 plot_bgcolor='rgb(245, 245, 245)')\n",
    "fig.show()"
   ]
  },
  {
   "cell_type": "markdown",
   "metadata": {},
   "source": [
    "<h2>$출루율 = \\frac{안타 + 볼넷 + 몸에맞는볼}{타수 + 볼넷 + 몸에맞는볼 + 희생플라이}$</h2>\n",
    "<h3>2010년~2020년 동안 0.3에서 0.5 사이에 출루율이 분포하고 있다. 메이저리그 진출 선수들은 희생플라이 데이터를 제외하고 계산한 출루율이라 KBO top10 선수들의 출루율이 더 높은 것을 알 수 있다.</h3>"
   ]
  },
  {
   "cell_type": "code",
   "execution_count": 192,
   "metadata": {},
   "outputs": [],
   "source": [
    "from sklearn.linear_model import LinearRegression"
   ]
  },
  {
   "cell_type": "code",
   "execution_count": 205,
   "metadata": {},
   "outputs": [],
   "source": [
    "def compare_func(category):\n",
    "    x_data = []\n",
    "    y_data = []\n",
    "    df = pd.DataFrame(columns=['year', 'category'])\n",
    "    \n",
    "    for name in hitter_majorleaguer['Name']:\n",
    "        x_data.extend(korean_majorleaguer_dict[name].iloc[:-1]['연도'].astype(int).to_list())\n",
    "        y_data.extend(korean_majorleaguer_dict[name].iloc[:-1][category].astype(float).to_list())\n",
    "    \n",
    "    for idx in range(len(x_data)):\n",
    "        df.loc[idx] = [x_data[idx], y_data[idx]]\n",
    "        \n",
    "    X = df['year']\n",
    "    y = df['category']\n",
    "    \n",
    "    line_fitter = LinearRegression()\n",
    "    line_fitter.fit(X.values.reshape(-1,1), y)\n",
    "    \n",
    "    fig1 = go.Figure()\n",
    "    fig1.add_trace(go.Scatter(x=X, \n",
    "                              y=y, \n",
    "                              mode='markers',\n",
    "                              name='메이저리거 선수들의 KBO시절 ' + category + ' 데이터',\n",
    "                              marker_color='crimson'))\n",
    "    fig1.add_trace(go.Scatter(x=X, \n",
    "                              y=line_fitter.predict(X.values.reshape(-1,1)),\n",
    "                              mode='lines',\n",
    "                              name='선형회귀 선',\n",
    "                              marker_color='black'))\n",
    "    \n",
    "    fig1.update_yaxes(showgrid=False, zeroline=False)\n",
    "    fig1.update_xaxes(showgrid=False, zeroline=False)\n",
    "    fig1.update_layout(title='메이저리거 선수들의 KBO시절 ' + category + ' 선형회귀',\n",
    "                      plot_bgcolor='rgb(245, 245, 245)')\n",
    "    \n",
    "    top10_hitter_player_name = []\n",
    "\n",
    "    for name in top10_hitter_dict.keys():\n",
    "        top10_hitter_player_name.append(name)\n",
    "\n",
    "    rows_ = 2\n",
    "    cols_ = 5\n",
    "    i = 0\n",
    "\n",
    "    fig2 = make_subplots(rows=rows_, cols=cols_)\n",
    "\n",
    "    for r in range(1, rows_+1):\n",
    "        for c in range(1, cols_+1):\n",
    "            fig2.add_trace(go.Scatter(x=x_data,\n",
    "                                    y=line_fitter.predict(X.values.reshape(-1,1)),\n",
    "                                    mode='lines',\n",
    "                                    marker_color='black',\n",
    "                                    name='선형회귀 선',\n",
    "                                    showlegend=False), r, c)\n",
    "            fig2.add_trace(go.Scatter(x=top10_hitter_dict[top10_hitter_player_name[i]]['연도'][:-1].astype(int),\n",
    "                                    y=top10_hitter_dict[top10_hitter_player_name[i]][category][:-1].astype(float),\n",
    "                                    hovertemplate='%{x}년 (%{y})',\n",
    "                                    mode='markers',\n",
    "                                    marker_color='red',\n",
    "                                    showlegend=False), r, c)\n",
    "            fig2.update_yaxes(showgrid=False, zeroline=False, row=r, col=c)\n",
    "            fig2.update_xaxes(showgrid=False, title_text=top10_hitter_player_name[i], row=r, col=c)\n",
    "            i += 1\n",
    "\n",
    "    fig2.update_layout(title='2020년 KBO top10 타자 ' + category + ' 데이터 vs 한국인 메이저리거',\n",
    "                      plot_bgcolor='rgb(245, 245, 245)')\n",
    "    fig1.show()\n",
    "    fig2.show()"
   ]
  },
  {
   "cell_type": "code",
   "execution_count": 206,
   "metadata": {},
   "outputs": [
    {
     "data": {
      "text/plain": [
       "Index(['연도', '팀명', '타율', '경기', '타석', '타수', '득점', '안타', '2루타', '3루타', '홈런', '루타', '타점', '도루', '도루실패', '볼넷', '사구', '삼진', '병살타', '장타율', '출루율', '실책'], dtype='object')"
      ]
     },
     "execution_count": 206,
     "metadata": {},
     "output_type": "execute_result"
    }
   ],
   "source": [
    "top10_hitter_dict['최형우'].columns"
   ]
  },
  {
   "cell_type": "code",
   "execution_count": 207,
   "metadata": {},
   "outputs": [
    {
     "data": {
      "text/plain": [
       "Index(['연도', '팀명', '타율', '경기', '타수', '득점', '안타', '2루타', '3루타', '홈런', '루타', '타점', '도루', '도루실패', '볼넷', '사구', '삼진', '병살타', '실책'], dtype='object')"
      ]
     },
     "execution_count": 207,
     "metadata": {},
     "output_type": "execute_result"
    }
   ],
   "source": [
    "korean_majorleaguer_dict['강정호'].columns"
   ]
  },
  {
   "cell_type": "code",
   "execution_count": 208,
   "metadata": {},
   "outputs": [
    {
     "ename": "IndexError",
     "evalue": "list index out of range",
     "output_type": "error",
     "traceback": [
      "\u001b[0;31m---------------------------------------------------------------------------\u001b[0m",
      "\u001b[0;31mIndexError\u001b[0m                                Traceback (most recent call last)",
      "\u001b[0;32m<ipython-input-208-c553ecf5401d>\u001b[0m in \u001b[0;36m<module>\u001b[0;34m\u001b[0m\n\u001b[1;32m      3\u001b[0m \u001b[0;31m#  insert above categories into compare_func()\u001b[0m\u001b[0;34m\u001b[0m\u001b[0;34m\u001b[0m\u001b[0;34m\u001b[0m\u001b[0m\n\u001b[1;32m      4\u001b[0m \u001b[0;34m\u001b[0m\u001b[0m\n\u001b[0;32m----> 5\u001b[0;31m \u001b[0mcompare_func\u001b[0m\u001b[0;34m(\u001b[0m\u001b[0;34m'타율'\u001b[0m\u001b[0;34m)\u001b[0m\u001b[0;34m\u001b[0m\u001b[0;34m\u001b[0m\u001b[0m\n\u001b[0m",
      "\u001b[0;32m<ipython-input-205-73b1d186091f>\u001b[0m in \u001b[0;36mcompare_func\u001b[0;34m(category)\u001b[0m\n\u001b[1;32m     53\u001b[0m                                     \u001b[0mname\u001b[0m\u001b[0;34m=\u001b[0m\u001b[0;34m'선형회귀 선'\u001b[0m\u001b[0;34m,\u001b[0m\u001b[0;34m\u001b[0m\u001b[0;34m\u001b[0m\u001b[0m\n\u001b[1;32m     54\u001b[0m                                     showlegend=False), r, c)\n\u001b[0;32m---> 55\u001b[0;31m             fig2.add_trace(go.Scatter(x=top10_hitter_dict[top10_hitter_player_name[i]]['연도'][:-1].astype(int),\n\u001b[0m\u001b[1;32m     56\u001b[0m                                     \u001b[0my\u001b[0m\u001b[0;34m=\u001b[0m\u001b[0mtop10_hitter_dict\u001b[0m\u001b[0;34m[\u001b[0m\u001b[0mtop10_hitter_player_name\u001b[0m\u001b[0;34m[\u001b[0m\u001b[0mi\u001b[0m\u001b[0;34m]\u001b[0m\u001b[0;34m]\u001b[0m\u001b[0;34m[\u001b[0m\u001b[0mcategory\u001b[0m\u001b[0;34m]\u001b[0m\u001b[0;34m[\u001b[0m\u001b[0;34m:\u001b[0m\u001b[0;34m-\u001b[0m\u001b[0;36m1\u001b[0m\u001b[0;34m]\u001b[0m\u001b[0;34m.\u001b[0m\u001b[0mastype\u001b[0m\u001b[0;34m(\u001b[0m\u001b[0mfloat\u001b[0m\u001b[0;34m)\u001b[0m\u001b[0;34m,\u001b[0m\u001b[0;34m\u001b[0m\u001b[0;34m\u001b[0m\u001b[0m\n\u001b[1;32m     57\u001b[0m                                     \u001b[0mhovertemplate\u001b[0m\u001b[0;34m=\u001b[0m\u001b[0;34m'%{x}년 (%{y})'\u001b[0m\u001b[0;34m,\u001b[0m\u001b[0;34m\u001b[0m\u001b[0;34m\u001b[0m\u001b[0m\n",
      "\u001b[0;31mIndexError\u001b[0m: list index out of range"
     ]
    }
   ],
   "source": [
    "# '연도', '팀명', '타율', '경기', '타수', '득점', '안타', '2루타', '3루타', '홈런', \n",
    "# '루타','타점', '도루', '도루실패', '볼넷', '사구', '삼진', '병살타', '실책'\n",
    "#  insert above categories into compare_func()\n",
    "\n",
    "compare_func('타율')"
   ]
  },
  {
   "cell_type": "code",
   "execution_count": 209,
   "metadata": {},
   "outputs": [
    {
     "ename": "IndexError",
     "evalue": "list index out of range",
     "output_type": "error",
     "traceback": [
      "\u001b[0;31m---------------------------------------------------------------------------\u001b[0m",
      "\u001b[0;31mIndexError\u001b[0m                                Traceback (most recent call last)",
      "\u001b[0;32m<ipython-input-209-d0bffe900b58>\u001b[0m in \u001b[0;36m<module>\u001b[0;34m\u001b[0m\n\u001b[0;32m----> 1\u001b[0;31m \u001b[0mcompare_func\u001b[0m\u001b[0;34m(\u001b[0m\u001b[0;34m'득점'\u001b[0m\u001b[0;34m)\u001b[0m\u001b[0;34m\u001b[0m\u001b[0;34m\u001b[0m\u001b[0m\n\u001b[0m",
      "\u001b[0;32m<ipython-input-205-73b1d186091f>\u001b[0m in \u001b[0;36mcompare_func\u001b[0;34m(category)\u001b[0m\n\u001b[1;32m     53\u001b[0m                                     \u001b[0mname\u001b[0m\u001b[0;34m=\u001b[0m\u001b[0;34m'선형회귀 선'\u001b[0m\u001b[0;34m,\u001b[0m\u001b[0;34m\u001b[0m\u001b[0;34m\u001b[0m\u001b[0m\n\u001b[1;32m     54\u001b[0m                                     showlegend=False), r, c)\n\u001b[0;32m---> 55\u001b[0;31m             fig2.add_trace(go.Scatter(x=top10_hitter_dict[top10_hitter_player_name[i]]['연도'][:-1].astype(int),\n\u001b[0m\u001b[1;32m     56\u001b[0m                                     \u001b[0my\u001b[0m\u001b[0;34m=\u001b[0m\u001b[0mtop10_hitter_dict\u001b[0m\u001b[0;34m[\u001b[0m\u001b[0mtop10_hitter_player_name\u001b[0m\u001b[0;34m[\u001b[0m\u001b[0mi\u001b[0m\u001b[0;34m]\u001b[0m\u001b[0;34m]\u001b[0m\u001b[0;34m[\u001b[0m\u001b[0mcategory\u001b[0m\u001b[0;34m]\u001b[0m\u001b[0;34m[\u001b[0m\u001b[0;34m:\u001b[0m\u001b[0;34m-\u001b[0m\u001b[0;36m1\u001b[0m\u001b[0;34m]\u001b[0m\u001b[0;34m.\u001b[0m\u001b[0mastype\u001b[0m\u001b[0;34m(\u001b[0m\u001b[0mfloat\u001b[0m\u001b[0;34m)\u001b[0m\u001b[0;34m,\u001b[0m\u001b[0;34m\u001b[0m\u001b[0;34m\u001b[0m\u001b[0m\n\u001b[1;32m     57\u001b[0m                                     \u001b[0mhovertemplate\u001b[0m\u001b[0;34m=\u001b[0m\u001b[0;34m'%{x}년 (%{y})'\u001b[0m\u001b[0;34m,\u001b[0m\u001b[0;34m\u001b[0m\u001b[0;34m\u001b[0m\u001b[0m\n",
      "\u001b[0;31mIndexError\u001b[0m: list index out of range"
     ]
    }
   ],
   "source": [
    "compare_func('득점')"
   ]
  },
  {
   "cell_type": "code",
   "execution_count": 210,
   "metadata": {},
   "outputs": [
    {
     "ename": "IndexError",
     "evalue": "list index out of range",
     "output_type": "error",
     "traceback": [
      "\u001b[0;31m---------------------------------------------------------------------------\u001b[0m",
      "\u001b[0;31mIndexError\u001b[0m                                Traceback (most recent call last)",
      "\u001b[0;32m<ipython-input-210-9208c9243412>\u001b[0m in \u001b[0;36m<module>\u001b[0;34m\u001b[0m\n\u001b[0;32m----> 1\u001b[0;31m \u001b[0mcompare_func\u001b[0m\u001b[0;34m(\u001b[0m\u001b[0;34m'사구'\u001b[0m\u001b[0;34m)\u001b[0m\u001b[0;34m\u001b[0m\u001b[0;34m\u001b[0m\u001b[0m\n\u001b[0m",
      "\u001b[0;32m<ipython-input-205-73b1d186091f>\u001b[0m in \u001b[0;36mcompare_func\u001b[0;34m(category)\u001b[0m\n\u001b[1;32m     53\u001b[0m                                     \u001b[0mname\u001b[0m\u001b[0;34m=\u001b[0m\u001b[0;34m'선형회귀 선'\u001b[0m\u001b[0;34m,\u001b[0m\u001b[0;34m\u001b[0m\u001b[0;34m\u001b[0m\u001b[0m\n\u001b[1;32m     54\u001b[0m                                     showlegend=False), r, c)\n\u001b[0;32m---> 55\u001b[0;31m             fig2.add_trace(go.Scatter(x=top10_hitter_dict[top10_hitter_player_name[i]]['연도'][:-1].astype(int),\n\u001b[0m\u001b[1;32m     56\u001b[0m                                     \u001b[0my\u001b[0m\u001b[0;34m=\u001b[0m\u001b[0mtop10_hitter_dict\u001b[0m\u001b[0;34m[\u001b[0m\u001b[0mtop10_hitter_player_name\u001b[0m\u001b[0;34m[\u001b[0m\u001b[0mi\u001b[0m\u001b[0;34m]\u001b[0m\u001b[0;34m]\u001b[0m\u001b[0;34m[\u001b[0m\u001b[0mcategory\u001b[0m\u001b[0;34m]\u001b[0m\u001b[0;34m[\u001b[0m\u001b[0;34m:\u001b[0m\u001b[0;34m-\u001b[0m\u001b[0;36m1\u001b[0m\u001b[0;34m]\u001b[0m\u001b[0;34m.\u001b[0m\u001b[0mastype\u001b[0m\u001b[0;34m(\u001b[0m\u001b[0mfloat\u001b[0m\u001b[0;34m)\u001b[0m\u001b[0;34m,\u001b[0m\u001b[0;34m\u001b[0m\u001b[0;34m\u001b[0m\u001b[0m\n\u001b[1;32m     57\u001b[0m                                     \u001b[0mhovertemplate\u001b[0m\u001b[0;34m=\u001b[0m\u001b[0;34m'%{x}년 (%{y})'\u001b[0m\u001b[0;34m,\u001b[0m\u001b[0;34m\u001b[0m\u001b[0;34m\u001b[0m\u001b[0m\n",
      "\u001b[0;31mIndexError\u001b[0m: list index out of range"
     ]
    }
   ],
   "source": [
    "compare_func('사구')"
   ]
  },
  {
   "cell_type": "code",
   "execution_count": 211,
   "metadata": {},
   "outputs": [
    {
     "ename": "IndexError",
     "evalue": "list index out of range",
     "output_type": "error",
     "traceback": [
      "\u001b[0;31m---------------------------------------------------------------------------\u001b[0m",
      "\u001b[0;31mIndexError\u001b[0m                                Traceback (most recent call last)",
      "\u001b[0;32m<ipython-input-211-5c7977c83c14>\u001b[0m in \u001b[0;36m<module>\u001b[0;34m\u001b[0m\n\u001b[1;32m     67\u001b[0m                                 \u001b[0mname\u001b[0m\u001b[0;34m=\u001b[0m\u001b[0;34m'선형회귀 선'\u001b[0m\u001b[0;34m,\u001b[0m\u001b[0;34m\u001b[0m\u001b[0;34m\u001b[0m\u001b[0m\n\u001b[1;32m     68\u001b[0m                                 showlegend=False), r, c)\n\u001b[0;32m---> 69\u001b[0;31m         fig2.add_trace(go.Scatter(x=top10_hitter_dict[top10_hitter_player_name[i]]['연도'][:-1].astype(int),\n\u001b[0m\u001b[1;32m     70\u001b[0m                                 \u001b[0my\u001b[0m\u001b[0;34m=\u001b[0m\u001b[0mtop10_hitter_dict\u001b[0m\u001b[0;34m[\u001b[0m\u001b[0mtop10_hitter_player_name\u001b[0m\u001b[0;34m[\u001b[0m\u001b[0mi\u001b[0m\u001b[0;34m]\u001b[0m\u001b[0;34m]\u001b[0m\u001b[0;34m[\u001b[0m\u001b[0;34m'출루율'\u001b[0m\u001b[0;34m]\u001b[0m\u001b[0;34m[\u001b[0m\u001b[0;34m:\u001b[0m\u001b[0;34m-\u001b[0m\u001b[0;36m1\u001b[0m\u001b[0;34m]\u001b[0m\u001b[0;34m.\u001b[0m\u001b[0mastype\u001b[0m\u001b[0;34m(\u001b[0m\u001b[0mfloat\u001b[0m\u001b[0;34m)\u001b[0m\u001b[0;34m,\u001b[0m\u001b[0;34m\u001b[0m\u001b[0;34m\u001b[0m\u001b[0m\n\u001b[1;32m     71\u001b[0m                                 \u001b[0mhovertemplate\u001b[0m\u001b[0;34m=\u001b[0m\u001b[0;34m'%{x}년 (%{y})'\u001b[0m\u001b[0;34m,\u001b[0m\u001b[0;34m\u001b[0m\u001b[0;34m\u001b[0m\u001b[0m\n",
      "\u001b[0;31mIndexError\u001b[0m: list index out of range"
     ]
    }
   ],
   "source": [
    "# 출루율 = (안타 + 볼넷 + 몸에맞는볼) / (타수 + 볼넷 + 몸에맞는볼 + 희생플라이)\n",
    "# 희생플라이 데이터가 없다.... (일단 제외하고 계산)\n",
    "\n",
    "x_data = []\n",
    "y_data = []\n",
    "\n",
    "fig = go.Figure()\n",
    "columns = ['연도', '안타', '볼넷', '사구', '타수']\n",
    "\n",
    "for idx, name in enumerate(hitter_majorleaguer['Name']):\n",
    "    player = korean_majorleaguer_dict[name][columns]\n",
    "    y_ = [round((int(player.iloc[idx]['안타'])+int(player.iloc[idx]['볼넷'])+int(player.iloc[idx]['사구'])) /\n",
    "                               (int(player.iloc[idx]['타수'])+int(player.iloc[idx]['볼넷'])+int(player.iloc[idx]['사구'])), 3) for idx in range(player.shape[0]-1)]\n",
    "    \n",
    "    fig.add_trace(go.Scatter(x=player['연도'][:-1].astype(int),\n",
    "                            y=y_,\n",
    "                            hovertemplate=name+'(%{y})',\n",
    "                            name=name))\n",
    "    \n",
    "    for i in range(0, player.shape[0]-1):\n",
    "        x_data.append(int(player.iloc[i]['연도']))\n",
    "        y_data.append(y_[i])\n",
    "\n",
    "df = pd.DataFrame(columns=['year', 'on-base_rate'])\n",
    "\n",
    "for idx in range(len(x_data)):\n",
    "    df.loc[idx] = [x_data[idx], y_data[idx]]\n",
    "\n",
    "X = df['year']\n",
    "y = df['on-base_rate']\n",
    "\n",
    "line_fitter = LinearRegression()\n",
    "line_fitter.fit(X.values.reshape(-1, 1), y)\n",
    "\n",
    "fig1 = go.Figure()\n",
    "fig1.add_trace(go.Scatter(x=X,\n",
    "                        y=y,\n",
    "                        mode='markers',\n",
    "                        marker_color='crimson',\n",
    "                        name='메이저리거 선수들의 KBO시절 출루율 데이터'))\n",
    "fig1.add_trace(go.Scatter(x=X,\n",
    "                        y=line_fitter.predict(X.values.reshape(-1, 1)),\n",
    "                        mode='lines',\n",
    "                        marker_color='black',\n",
    "                        name='선형회귀 선'))\n",
    "fig1.update_yaxes(showgrid=False, zeroline=False)\n",
    "fig1.update_xaxes(showgrid=False, zeroline=False)\n",
    "fig1.update_layout(title='메이저리거 선수들의 KBO시절 출루율 선형회귀',\n",
    "                   plot_bgcolor='rgb(245, 245, 245)')\n",
    "top10_hitter_player_name = []\n",
    "\n",
    "for name in top10_hitter_dict.keys():\n",
    "    top10_hitter_player_name.append(name)\n",
    "\n",
    "rows_ = 2\n",
    "cols_ = 5\n",
    "i = 0\n",
    "\n",
    "fig2 = make_subplots(rows=rows_, cols=cols_)\n",
    "\n",
    "for r in range(1, rows_+1):\n",
    "    for c in range(1, cols_+1):\n",
    "        fig2.add_trace(go.Scatter(x=x_data,\n",
    "                                y=line_fitter.predict(X.values.reshape(-1,1)),\n",
    "                                mode='lines',\n",
    "                                marker_color='black',\n",
    "                                name='선형회귀 선',\n",
    "                                showlegend=False), r, c)\n",
    "        fig2.add_trace(go.Scatter(x=top10_hitter_dict[top10_hitter_player_name[i]]['연도'][:-1].astype(int),\n",
    "                                y=top10_hitter_dict[top10_hitter_player_name[i]]['출루율'][:-1].astype(float),\n",
    "                                hovertemplate='%{x}년 (%{y})',\n",
    "                                mode='markers',\n",
    "                                marker_color='red',\n",
    "                                showlegend=False), r, c)\n",
    "        fig2.update_yaxes(showgrid=False, zeroline=False, row=r, col=c)\n",
    "        fig2.update_xaxes(showgrid=False, title_text=top10_hitter_player_name[i], row=r, col=c)\n",
    "        i += 1\n",
    "\n",
    "fig2.update_layout(title='2020년 KBO top10 타자 출루율 데이터 vs 한국인 메이저리거',\n",
    "                  plot_bgcolor='rgb(245, 245, 245)')\n",
    "fig1.show()\n",
    "fig2.show()"
   ]
  },
  {
   "cell_type": "code",
   "execution_count": 212,
   "metadata": {},
   "outputs": [
    {
     "ename": "IndexError",
     "evalue": "list index out of range",
     "output_type": "error",
     "traceback": [
      "\u001b[0;31m---------------------------------------------------------------------------\u001b[0m",
      "\u001b[0;31mIndexError\u001b[0m                                Traceback (most recent call last)",
      "\u001b[0;32m<ipython-input-212-32fa842ef76c>\u001b[0m in \u001b[0;36m<module>\u001b[0;34m\u001b[0m\n\u001b[1;32m     67\u001b[0m                                 \u001b[0mname\u001b[0m\u001b[0;34m=\u001b[0m\u001b[0;34m'선형회귀 선'\u001b[0m\u001b[0;34m,\u001b[0m\u001b[0;34m\u001b[0m\u001b[0;34m\u001b[0m\u001b[0m\n\u001b[1;32m     68\u001b[0m                                 showlegend=False), r, c)\n\u001b[0;32m---> 69\u001b[0;31m         fig2.add_trace(go.Scatter(x=top10_hitter_dict[top10_hitter_player_name[i]]['연도'][:-1].astype(int),\n\u001b[0m\u001b[1;32m     70\u001b[0m                                 \u001b[0my\u001b[0m\u001b[0;34m=\u001b[0m\u001b[0mtop10_hitter_dict\u001b[0m\u001b[0;34m[\u001b[0m\u001b[0mtop10_hitter_player_name\u001b[0m\u001b[0;34m[\u001b[0m\u001b[0mi\u001b[0m\u001b[0;34m]\u001b[0m\u001b[0;34m]\u001b[0m\u001b[0;34m[\u001b[0m\u001b[0;34m'장타율'\u001b[0m\u001b[0;34m]\u001b[0m\u001b[0;34m[\u001b[0m\u001b[0;34m:\u001b[0m\u001b[0;34m-\u001b[0m\u001b[0;36m1\u001b[0m\u001b[0;34m]\u001b[0m\u001b[0;34m.\u001b[0m\u001b[0mastype\u001b[0m\u001b[0;34m(\u001b[0m\u001b[0mfloat\u001b[0m\u001b[0;34m)\u001b[0m\u001b[0;34m,\u001b[0m\u001b[0;34m\u001b[0m\u001b[0;34m\u001b[0m\u001b[0m\n\u001b[1;32m     71\u001b[0m                                 \u001b[0mhovertemplate\u001b[0m\u001b[0;34m=\u001b[0m\u001b[0;34m'%{x}년 (%{y})'\u001b[0m\u001b[0;34m,\u001b[0m\u001b[0;34m\u001b[0m\u001b[0;34m\u001b[0m\u001b[0m\n",
      "\u001b[0;31mIndexError\u001b[0m: list index out of range"
     ]
    }
   ],
   "source": [
    "# 출루율 = (안타 + 볼넷 + 몸에맞는볼) / (타수 + 볼넷 + 몸에맞는볼 + 희생플라이)\n",
    "# 희생플라이 데이터가 없다.... (일단 제외하고 계산)\n",
    "\n",
    "x_data = []\n",
    "y_data = []\n",
    "\n",
    "fig = go.Figure()\n",
    "columns = ['연도', '안타', '2루타', '3루타', '홈런', '타수']\n",
    "\n",
    "for idx, name in enumerate(hitter_majorleaguer['Name']):\n",
    "    player = korean_majorleaguer_dict[name][columns]\n",
    "    y_ = [(int(player.iloc[idx]['안타'])+int(player.iloc[idx]['2루타'])*2+int(player.iloc[idx]['3루타'])*3+ int(player.iloc[idx]['홈런'])*4)/\n",
    "                               int(player.iloc[idx]['타수']) for idx in range(player.shape[0]-1)]\n",
    "    \n",
    "    fig.add_trace(go.Scatter(x=player['연도'][:-1].astype(int),\n",
    "                            y=y_,\n",
    "                            hovertemplate=name+'(%{y})',\n",
    "                            name=name))\n",
    "    \n",
    "    for i in range(0, player.shape[0]-1):\n",
    "        x_data.append(int(player.iloc[i]['연도']))\n",
    "        y_data.append(y_[i])\n",
    "\n",
    "df = pd.DataFrame(columns=['year', 'slugging_percentage'])\n",
    "\n",
    "for idx in range(len(x_data)):\n",
    "    df.loc[idx] = [x_data[idx], y_data[idx]]\n",
    "\n",
    "X = df['year']\n",
    "y = df['slugging_percentage']\n",
    "\n",
    "line_fitter = LinearRegression()\n",
    "line_fitter.fit(X.values.reshape(-1, 1), y)\n",
    "\n",
    "fig1 = go.Figure()\n",
    "fig1.add_trace(go.Scatter(x=X,\n",
    "                        y=y,\n",
    "                        mode='markers',\n",
    "                        marker_color='crimson',\n",
    "                        name='메이저리거 선수들의 KBO시절 장타율 데이터'))\n",
    "fig1.add_trace(go.Scatter(x=X,\n",
    "                        y=line_fitter.predict(X.values.reshape(-1, 1)),\n",
    "                        mode='lines',\n",
    "                        marker_color='black',\n",
    "                        name='선형회귀 선'))\n",
    "fig1.update_yaxes(showgrid=False, zeroline=False)\n",
    "fig1.update_xaxes(showgrid=False, zeroline=False)\n",
    "fig1.update_layout(title='메이저리거 선수들의 KBO시절 장타율 선형회귀',\n",
    "                   plot_bgcolor='rgb(245, 245, 245)')\n",
    "top10_hitter_player_name = []\n",
    "\n",
    "for name in top10_hitter_dict.keys():\n",
    "    top10_hitter_player_name.append(name)\n",
    "\n",
    "rows_ = 2\n",
    "cols_ = 5\n",
    "i = 0\n",
    "\n",
    "fig2 = make_subplots(rows=rows_, cols=cols_)\n",
    "\n",
    "for r in range(1, rows_+1):\n",
    "    for c in range(1, cols_+1):\n",
    "        fig2.add_trace(go.Scatter(x=x_data,\n",
    "                                y=line_fitter.predict(X.values.reshape(-1,1)),\n",
    "                                mode='lines',\n",
    "                                marker_color='black',\n",
    "                                name='선형회귀 선',\n",
    "                                showlegend=False), r, c)\n",
    "        fig2.add_trace(go.Scatter(x=top10_hitter_dict[top10_hitter_player_name[i]]['연도'][:-1].astype(int),\n",
    "                                y=top10_hitter_dict[top10_hitter_player_name[i]]['장타율'][:-1].astype(float),\n",
    "                                hovertemplate='%{x}년 (%{y})',\n",
    "                                mode='markers',\n",
    "                                marker_color='red',\n",
    "                                showlegend=False), r, c)\n",
    "        fig2.update_yaxes(showgrid=False, zeroline=False, row=r, col=c)\n",
    "        fig2.update_xaxes(showgrid=False, title_text=top10_hitter_player_name[i], row=r, col=c)\n",
    "        i += 1\n",
    "\n",
    "fig2.update_layout(title='2020년 KBO top10 타자 장타율 데이터 vs 한국인 메이저리거',\n",
    "                  plot_bgcolor='rgb(245, 245, 245)')\n",
    "fig1.show()\n",
    "fig2.show()"
   ]
  },
  {
   "cell_type": "code",
   "execution_count": null,
   "metadata": {},
   "outputs": [],
   "source": []
  }
 ],
 "metadata": {
  "hide_input": false,
  "kernelspec": {
   "display_name": "Python 3",
   "language": "python",
   "name": "python3"
  },
  "language_info": {
   "codemirror_mode": {
    "name": "ipython",
    "version": 3
   },
   "file_extension": ".py",
   "mimetype": "text/x-python",
   "name": "python",
   "nbconvert_exporter": "python",
   "pygments_lexer": "ipython3",
   "version": "3.8.5"
  },
  "toc": {
   "base_numbering": 1,
   "nav_menu": {},
   "number_sections": true,
   "sideBar": true,
   "skip_h1_title": false,
   "title_cell": "Table of Contents",
   "title_sidebar": "Contents",
   "toc_cell": false,
   "toc_position": {},
   "toc_section_display": true,
   "toc_window_display": false
  },
  "varInspector": {
   "cols": {
    "lenName": 16,
    "lenType": 16,
    "lenVar": 40
   },
   "kernels_config": {
    "python": {
     "delete_cmd_postfix": "",
     "delete_cmd_prefix": "del ",
     "library": "var_list.py",
     "varRefreshCmd": "print(var_dic_list())"
    },
    "r": {
     "delete_cmd_postfix": ") ",
     "delete_cmd_prefix": "rm(",
     "library": "var_list.r",
     "varRefreshCmd": "cat(var_dic_list()) "
    }
   },
   "types_to_exclude": [
    "module",
    "function",
    "builtin_function_or_method",
    "instance",
    "_Feature"
   ],
   "window_display": false
  }
 },
 "nbformat": 4,
 "nbformat_minor": 4
}
