{
 "cells": [
  {
   "cell_type": "code",
   "execution_count": null,
   "metadata": {},
   "outputs": [],
   "source": [
    "fig = make_subplots(rows=2, cols=1,\n",
    "                   shared_xaxes=True,\n",
    "                   vertical_spacing=0.02)\n",
    "\n",
    "fig.append_trace(go.Scatter(x=grouped_twitch_annual_data.index,\n",
    "                         y=grouped_twitch_annual_data.loc[:]['Hours_watched'],\n",
    "                            mode='lines+markers',\n",
    "                         name='전체 시청시간(모든게임)'), 2, 1)\n",
    "fig.append_trace(go.Scatter(x=grouped_twitch_annual_data.index,\n",
    "                         y=grouped_twitch_annual_data.loc[:]['Avg_viewers'],\n",
    "                            mode='lines+markers',\n",
    "                         name='평균 시청자수'), 1, 1)\n",
    "fig.append_trace(go.Scatter(x=grouped_twitch_game_data.index,\n",
    "                         y=grouped_twitch_game_data.loc[:]['Hours_Streamed'].mul(5000),\n",
    "                            mode='lines+markers',\n",
    "                         name='게임 스트리밍 시간 * 5000',\n",
    "                           hovertemplate='%{y}'), 2, 1)\n",
    "\n",
    "fig.update_yaxes(title_text='(명)', row=1, col=1)\n",
    "fig.update_yaxes(title_text='(시간)', row=2, col=1)\n",
    "fig.update_xaxes(title_text='(연도)', row=2, col=1)\n",
    "\n",
    "fig.update_layout(xaxis=dict(tickvals=[i for i in range(2016, 2021)]),\n",
    "                 hovermode='x unified',\n",
    "                 title='연도별 라이브 스트리밍 플랫폼(Twitch) 분석',\n",
    "                 height=700, width=800)\n",
    "fig.show()"
   ]
  }
 ],
 "metadata": {
  "hide_input": false,
  "kernelspec": {
   "display_name": "Python 3",
   "language": "python",
   "name": "python3"
  },
  "language_info": {
   "codemirror_mode": {
    "name": "ipython",
    "version": 3
   },
   "file_extension": ".py",
   "mimetype": "text/x-python",
   "name": "python",
   "nbconvert_exporter": "python",
   "pygments_lexer": "ipython3",
   "version": "3.8.5"
  },
  "toc": {
   "base_numbering": 1,
   "nav_menu": {},
   "number_sections": true,
   "sideBar": true,
   "skip_h1_title": false,
   "title_cell": "Table of Contents",
   "title_sidebar": "Contents",
   "toc_cell": false,
   "toc_position": {},
   "toc_section_display": true,
   "toc_window_display": false
  },
  "varInspector": {
   "cols": {
    "lenName": 16,
    "lenType": 16,
    "lenVar": 40
   },
   "kernels_config": {
    "python": {
     "delete_cmd_postfix": "",
     "delete_cmd_prefix": "del ",
     "library": "var_list.py",
     "varRefreshCmd": "print(var_dic_list())"
    },
    "r": {
     "delete_cmd_postfix": ") ",
     "delete_cmd_prefix": "rm(",
     "library": "var_list.r",
     "varRefreshCmd": "cat(var_dic_list()) "
    }
   },
   "types_to_exclude": [
    "module",
    "function",
    "builtin_function_or_method",
    "instance",
    "_Feature"
   ],
   "window_display": false
  }
 },
 "nbformat": 4,
 "nbformat_minor": 4
}
